{
 "cells": [
  {
   "cell_type": "code",
   "execution_count": 29,
   "metadata": {},
   "outputs": [
    {
     "name": "stdout",
     "output_type": "stream",
     "text": [
      "\u001b[32m\u001b[1m    Status\u001b[22m\u001b[39m `~/.julia/environments/v1.3/Project.toml`\n",
      " \u001b[90m [1537fe66]\u001b[39m\u001b[37m CALCEPH v1.1.0\u001b[39m\n",
      " \u001b[90m [2e2c70e5]\u001b[39m\u001b[37m DataFitting v0.1.0\u001b[39m\n",
      " \u001b[90m [a93c6f00]\u001b[39m\u001b[37m DataFrames v0.21.8\u001b[39m\n",
      " \u001b[90m [31c24e10]\u001b[39m\u001b[37m Distributions v0.23.12\u001b[39m\n",
      " \u001b[90m [c91e804a]\u001b[39m\u001b[37m Gadfly v1.3.1\u001b[39m\n",
      " \u001b[90m [7073ff75]\u001b[39m\u001b[37m IJulia v1.23.2\u001b[39m\n",
      " \u001b[90m [42fd0dbc]\u001b[39m\u001b[37m IterativeSolvers v0.8.4\u001b[39m\n",
      " \u001b[90m [033835bb]\u001b[39m\u001b[37m JLD2 v0.2.4\u001b[39m\n",
      " \u001b[90m [2fda8390]\u001b[39m\u001b[37m LsqFit v0.11.0\u001b[39m\n",
      " \u001b[90m [6e857e4b]\u001b[39m\u001b[37m MCMCDiagnostics v0.3.0\u001b[39m\n",
      " \u001b[90m [429524aa]\u001b[39m\u001b[37m Optim v1.2.0\u001b[39m\n",
      " \u001b[90m [c3e4b0f8]\u001b[39m\u001b[37m Pluto v0.14.9\u001b[39m\n",
      " \u001b[90m [438e738f]\u001b[39m\u001b[37m PyCall v1.92.1\u001b[39m\n",
      " \u001b[90m [d330b81b]\u001b[39m\u001b[37m PyPlot v2.9.0\u001b[39m\n",
      " \u001b[90m [2913bbd2]\u001b[39m\u001b[37m StatsBase v0.33.2\u001b[39m\n",
      " \u001b[90m [f3b207a7]\u001b[39m\u001b[37m StatsPlots v0.14.14\u001b[39m\n",
      " \u001b[90m [e979afde]\u001b[39m\u001b[37m TTVFaster v0.0.0 [`../../../work/washington/ttv_project/ttv_ss/TTVFaster`]\u001b[39m\n",
      " \u001b[90m [1986cc42]\u001b[39m\u001b[37m Unitful v1.4.1\u001b[39m\n",
      " \u001b[90m [6112ee07]\u001b[39m\u001b[37m UnitfulAstro v1.0.1\u001b[39m\n",
      " \u001b[90m [8bb1440f]\u001b[39m\u001b[37m DelimitedFiles \u001b[39m\n",
      " \u001b[90m [37e2e46d]\u001b[39m\u001b[37m LinearAlgebra \u001b[39m\n",
      " \u001b[90m [9a3f8284]\u001b[39m\u001b[37m Random \u001b[39m\n",
      " \u001b[90m [10745b16]\u001b[39m\u001b[37m Statistics \u001b[39m\n"
     ]
    }
   ],
   "source": [
    "using Pkg; Pkg.status()"
   ]
  },
  {
   "cell_type": "code",
   "execution_count": 39,
   "metadata": {},
   "outputs": [],
   "source": [
    "using TTVFaster,LsqFit"
   ]
  },
  {
   "cell_type": "code",
   "execution_count": 33,
   "metadata": {},
   "outputs": [
    {
     "data": {
      "text/plain": [
       "JLDFile /Users/bethleelindor/work/washington/ttv_project/ttv_ss/FITS/fromEMB/p2_fit10.0s30.0yrs.jld2 (read-only)\n",
       " ├─🔢 chi2\n",
       " ├─🔢 best_p2\n",
       " ├─🔢 lprob_best_p2\n",
       " ├─🔢 ntrans\n",
       " ├─🔢 nplanet\n",
       " ├─🔢 tt0\n",
       " ├─🔢 tt\n",
       " ├─🔢 ttmodel\n",
       " └─🔢 sigtt"
      ]
     },
     "execution_count": 33,
     "metadata": {},
     "output_type": "execute_result"
    }
   ],
   "source": [
    "sigma,nyear=10.0,30.0\n",
    "infile = string(\"FITS/fromEMB/p2_fit\",sigma,\"s\",nyear,\"yrs.jld2\")\n",
    "p = jldopen(String(infile),\"r\")"
   ]
  },
  {
   "cell_type": "code",
   "execution_count": 36,
   "metadata": {},
   "outputs": [
    {
     "name": "stdout",
     "output_type": "stream",
     "text": [
      "FITS/fromEMB/p2_fit10.0s30.0yrs.jld2 loaded.\n",
      "Previous model params: [2.861853821007559e-6, 224.70077531188355, 3503.765509048137, 0.034328155119923515, 0.006951416154433736, 3.2935957183068157e-6, 365.2564330932285, 3624.4026106116307, 0.040515594087824874, 0.0064489206515410125]\n"
     ]
    }
   ],
   "source": [
    "tt0,tt,ttmodel,sigtt=p[\"tt0\"],p[\"tt\"],p[\"ttmodel\"],p[\"sigtt\"]\n",
    "nt1,nt2 = p[\"ntrans\"][1],p[\"ntrans\"][2]\n",
    "best_p2=p[\"best_p2\"]\n",
    "Nobs = sum([nt1,nt2])\n",
    "jmax=5\n",
    "jd1=2.4332825e6\n",
    "tref=2430000\n",
    "tol=1e-5\n",
    "jd2 = nyear*365.25 + jd1\n",
    "weight = ones(nt1+nt2)./ sigtt.^2 #assigns each data point stat weight d.t. noise = 1/σ^2\n",
    "println(infile,\" loaded.\")\n",
    "println(\"Previous model params: \",best_p2)"
   ]
  },
  {
   "cell_type": "code",
   "execution_count": 53,
   "metadata": {},
   "outputs": [
    {
     "name": "stdout",
     "output_type": "stream",
     "text": [
      "Period: 3652.5000000000014 log Prob: -1.0e100 Param: [0.0, 0.0, 0.0, 0.0, 0.0, 0.0, 0.0, 0.0, 0.0, 0.0, 0.0, 0.0, 0.0, 0.0, 0.0]\n",
      "Period: 3672.1092973432073 log Prob: -1.0e100 Param: [0.0, 0.0, 0.0, 0.0, 0.0, 0.0, 0.0, 0.0, 0.0, 0.0, 0.0, 0.0, 0.0, 0.0, 0.0]\n",
      "Period: 3691.8238717684926 log Prob: -1.0e100 Param: [0.0, 0.0, 0.0, 0.0, 0.0, 0.0, 0.0, 0.0, 0.0, 0.0, 0.0, 0.0, 0.0, 0.0, 0.0]\n",
      "Period: 3711.644288480399 log Prob: -1.0e100 Param: [0.0, 0.0, 0.0, 0.0, 0.0, 0.0, 0.0, 0.0, 0.0, 0.0, 0.0, 0.0, 0.0, 0.0, 0.0]\n",
      "Period: 3731.5711157179144 log Prob: -1.0e100 Param: [0.0, 0.0, 0.0, 0.0, 0.0, 0.0, 0.0, 0.0, 0.0, 0.0, 0.0, 0.0, 0.0, 0.0, 0.0]\n",
      "Period: 3751.604924770736 log Prob: -1.0e100 Param: [0.0, 0.0, 0.0, 0.0, 0.0, 0.0, 0.0, 0.0, 0.0, 0.0, 0.0, 0.0, 0.0, 0.0, 0.0]\n",
      "Period: 3771.746289995668 log Prob: -1.0e100 Param: [0.0, 0.0, 0.0, 0.0, 0.0, 0.0, 0.0, 0.0, 0.0, 0.0, 0.0, 0.0, 0.0, 0.0, 0.0]\n",
      "Period: 3791.9957888330796 log Prob: -1.0e100 Param: [0.0, 0.0, 0.0, 0.0, 0.0, 0.0, 0.0, 0.0, 0.0, 0.0, 0.0, 0.0, 0.0, 0.0, 0.0]\n"
     ]
    },
    {
     "ename": "InterruptException",
     "evalue": "\u001b[91mInterruptException:\u001b[39m",
     "output_type": "error",
     "traceback": [
      "\u001b[91mInterruptException:\u001b[39m",
      "",
      "Stacktrace:",
      " [1] Array at ./boot.jl:404 [inlined]",
      " [2] vcat(::StepRangeLen{Float64,Base.TwicePrecision{Float64},Base.TwicePrecision{Float64}}) at ./range.jl:942",
      " [3] collect at ./range.jl:952 [inlined]",
      " [4] ttv_nplanet(::Int64, ::Int64, ::Array{Int64,1}, ::Array{Float64,1}) at /Users/bethleelindor/work/washington/ttv_project/ttv_ss/TTVFaster/src/ttv_nplanet.jl:47",
      " [5] ttv_wrapper(::Array{Float64,1}, ::Int64, ::Array{Int64,1}, ::Array{Float64,1}, ::Int64, ::Bool) at /Users/bethleelindor/work/washington/ttv_project/ttv_ss/TTVFaster/src/ttv_wrapper.jl:7",
      " [6] (::var\"#23#24\")(::Array{Float64,1}, ::Array{Float64,1}) at ./In[53]:28",
      " [7] (::LsqFit.var\"#32#34\"{var\"#23#24\",Array{Float64,1},Array{Float64,1},Array{Float64,1}})(::Array{Float64,1}) at /Users/bethleelindor/.julia/packages/LsqFit/LeVh7/src/curve_fit.jl:146",
      " [8] (::NLSolversBase.var\"#ff!#1\"{LsqFit.var\"#32#34\"{var\"#23#24\",Array{Float64,1},Array{Float64,1},Array{Float64,1}}})(::Array{Float64,1}, ::Array{Float64,1}) at /Users/bethleelindor/.julia/packages/NLSolversBase/QPnui/src/objective_types/inplace_factory.jl:11",
      " [9] #finite_difference_jacobian!#43(::Float64, ::Float64, ::UnitRange{Int64}, ::Nothing, ::Bool, ::typeof(FiniteDiff.finite_difference_jacobian!), ::Array{Float64,2}, ::NLSolversBase.var\"#ff!#1\"{LsqFit.var\"#32#34\"{var\"#23#24\",Array{Float64,1},Array{Float64,1},Array{Float64,1}}}, ::Array{Float64,1}, ::FiniteDiff.JacobianCache{Array{Float64,1},Array{Float64,1},Array{Float64,1},UnitRange{Int64},Nothing,Val{:central}(),Float64}, ::Nothing) at /Users/bethleelindor/.julia/packages/FiniteDiff/Syo0J/src/jacobians.jl:419",
      " [10] finite_difference_jacobian! at /Users/bethleelindor/.julia/packages/FiniteDiff/Syo0J/src/jacobians.jl:336 [inlined] (repeats 2 times)",
      " [11] fj_finitediff! at /Users/bethleelindor/.julia/packages/NLSolversBase/QPnui/src/objective_types/oncedifferentiable.jl:139 [inlined]",
      " [12] (::NLSolversBase.var\"#j_finitediff!#22\"{Array{Float64,1},NLSolversBase.var\"#fj_finitediff!#21\"{NLSolversBase.var\"#ff!#1\"{LsqFit.var\"#32#34\"{var\"#23#24\",Array{Float64,1},Array{Float64,1},Array{Float64,1}}},FiniteDiff.JacobianCache{Array{Float64,1},Array{Float64,1},Array{Float64,1},UnitRange{Int64},Nothing,Val{:central}(),Float64}}})(::Array{Float64,2}, ::Array{Float64,1}) at /Users/bethleelindor/.julia/packages/NLSolversBase/QPnui/src/objective_types/oncedifferentiable.jl:144",
      " [13] jacobian!!(::NLSolversBase.OnceDifferentiable{Array{Float64,1},Array{Float64,2},Array{Float64,1}}, ::Array{Float64,2}, ::Array{Float64,1}) at /Users/bethleelindor/.julia/packages/NLSolversBase/QPnui/src/interface.jl:142",
      " [14] jacobian!! at /Users/bethleelindor/.julia/packages/NLSolversBase/QPnui/src/interface.jl:140 [inlined]",
      " [15] jacobian! at /Users/bethleelindor/.julia/packages/NLSolversBase/QPnui/src/interface.jl:135 [inlined]",
      " [16] #levenberg_marquardt#10(::Float64, ::Float64, ::Int64, ::Float64, ::Float64, ::Float64, ::Float64, ::Float64, ::Float64, ::Bool, ::Array{Float64,1}, ::Array{Float64,1}, ::Nothing, ::typeof(LsqFit.levenberg_marquardt), ::NLSolversBase.OnceDifferentiable{Array{Float64,1},Array{Float64,2},Array{Float64,1}}, ::Array{Float64,1}) at /Users/bethleelindor/.julia/packages/LsqFit/LeVh7/src/levenberg_marquardt.jl:100",
      " [17] levenberg_marquardt at /Users/bethleelindor/.julia/packages/LsqFit/LeVh7/src/levenberg_marquardt.jl:42 [inlined]",
      " [18] #lmfit#15(::Symbol, ::Base.Iterators.Pairs{Union{},Union{},Tuple{},NamedTuple{(),Tuple{}}}, ::typeof(LsqFit.lmfit), ::NLSolversBase.OnceDifferentiable{Array{Float64,1},Array{Float64,2},Array{Float64,1}}, ::Array{Float64,1}, ::Array{Float64,1}) at /Users/bethleelindor/.julia/packages/LsqFit/LeVh7/src/curve_fit.jl:68",
      " [19] lmfit(::NLSolversBase.OnceDifferentiable{Array{Float64,1},Array{Float64,2},Array{Float64,1}}, ::Array{Float64,1}, ::Array{Float64,1}) at /Users/bethleelindor/.julia/packages/LsqFit/LeVh7/src/curve_fit.jl:68",
      " [20] #lmfit#14(::Symbol, ::Base.Iterators.Pairs{Union{},Union{},Tuple{},NamedTuple{(),Tuple{}}}, ::typeof(LsqFit.lmfit), ::LsqFit.var\"#32#34\"{var\"#23#24\",Array{Float64,1},Array{Float64,1},Array{Float64,1}}, ::Array{Float64,1}, ::Array{Float64,1}) at /Users/bethleelindor/.julia/packages/LsqFit/LeVh7/src/curve_fit.jl:64",
      " [21] lmfit at /Users/bethleelindor/.julia/packages/LsqFit/LeVh7/src/curve_fit.jl:61 [inlined]",
      " [22] #curve_fit#30(::Bool, ::Base.Iterators.Pairs{Union{},Union{},Tuple{},NamedTuple{(),Tuple{}}}, ::typeof(curve_fit), ::var\"#23#24\", ::Array{Float64,1}, ::Array{Float64,1}, ::Array{Float64,1}, ::Array{Float64,1}) at /Users/bethleelindor/.julia/packages/LsqFit/LeVh7/src/curve_fit.jl:147",
      " [23] curve_fit(::Function, ::Array{Float64,1}, ::Array{Float64,1}, ::Array{Float64,1}, ::Array{Float64,1}) at /Users/bethleelindor/.julia/packages/LsqFit/LeVh7/src/curve_fit.jl:137",
      " [24] top-level scope at In[53]:28"
     ]
    }
   ],
   "source": [
    "import Main.TTVFaster.ttv_wrapper\n",
    "p3in,p3out,np3,nphase=10*365.25,13*365.25,50,36\n",
    "# Now,let's add the 3rd planet:\n",
    "ntrans = [nt1,nt2,2] #requires at least 2 transits for each planet (even if it doesnt transit)\n",
    "nplanet = 3\n",
    "nparam = 15\n",
    "# Grid of periods to search over:\n",
    "p3 = 10 .^ range(log10(p3in),stop=log10(p3out),length=np3)\n",
    "lprob_p3 = zeros(np3)\n",
    "p3_cur = 11.86*365.25 #jupiter period in days,initial value\n",
    "param_p3 = zeros(nparam,np3)\n",
    "lprob_best = -1e100 #global best fit\n",
    "p3best = zeros(nparam)\n",
    "niter = 0\n",
    "for j=1:np3\n",
    "phase = p3[j]*range(0,stop=1,length=nphase) \n",
    "lprob_phase = zeros(nphase)\n",
    "lprob_p3[j] = -1e100\n",
    "# Loop over planet 3 phases:\n",
    "for i=1:nphase \n",
    " # p3 param_names: mass ratio,phase,ecosw,esinw\n",
    "  param_tmp = [log10(1e-3),phase[i],0.01,0.01] \n",
    "  param3 = [best_p2;param_tmp] #concatenate 2 planet model to 3 planet model params\n",
    "  p3_cur = p3[j] #sets jupiter period to global value\n",
    "  param1 = param3 .+ 100.0\n",
    "  while maximum(abs.(param1 .- param3)) > tol #&& niter < 20\n",
    "    param1 = param3\n",
    "    fit = curve_fit((tt0,param3) -> ttv_wrapper(tt0,nplanet,ntrans,[param3[1:10];10^param3[11];p3_cur;param3[12:end]],jmax,true),tt0,tt,weight,param3)\n",
    "    param3 = fit.param\n",
    "    niter+=1\n",
    "    # println(\"init_param: \",param3)\n",
    "    # println(\"New Initial chi-square: \",chisquare(tt0,nplanet,ntrans,param3,tt,sigtt,true,p3_cur))\n",
    "end\n",
    "  # ttmodel = ttv_wrapper(tt0,nplanet,ntrans,[param3[1:10];10^param3[11];p3_cur;param3[12:end]],jmax,true)\n",
    "  # lprob_phase[i]= (1 - Nobs/2) * log(sum((tt-ttmodel).^2 ./sigtt.^2))\n",
    "  # if lprob_phase[i] > lprob_best # check that best fit for period is better than global best fit\n",
    "  #   lprob_best = lprob_phase[i]\n",
    "  #   p3best = [fit.param[1:10];10^fit.param[11];p3_cur;fit.param[12:end]]\n",
    "  # end\n",
    "  # if lprob_phase[i] > lprob_p3[j] # checks best fit over all phases of jupiter for this particular period\n",
    "  #   lprob_p3[j] = lprob_phase[i]\n",
    "  #   param_p3[1:nparam,j] =  [fit.param[1:10];10^fit.param[11];p3_cur;fit.param[12:end]]\n",
    "  # end\n",
    "end\n",
    "println(\"Period: \",p3[j],\" log Prob: \",lprob_p3[j],\" Param: \",vec(param_p3[1:nparam,j]))\n",
    "end\n",
    "println(\"Finished 3-planet fit w/ fixed period: \",p3best,\" in \",niter,\" iterations\")"
   ]
  },
  {
   "cell_type": "code",
   "execution_count": 51,
   "metadata": {},
   "outputs": [
    {
     "ename": "UndefVarError",
     "evalue": "\u001b[91mUndefVarError: param3 not defined\u001b[39m",
     "output_type": "error",
     "traceback": [
      "\u001b[91mUndefVarError: param3 not defined\u001b[39m",
      "",
      "Stacktrace:",
      " [1] top-level scope at In[51]:1"
     ]
    }
   ],
   "source": [
    "# curve_fit(model_inplace, xdata, ydata, p0; inplace = true, maxIter=100);\n",
    "curve_fit((tt0,param3) -> ttv_wrapper(tt0,nplanet,ntrans,[param3[1:10];10^param3[11];p3_cur;param3[12:end]],jmax,true),tt0,tt,weight,param3)"
   ]
  },
  {
   "cell_type": "code",
   "execution_count": 1,
   "metadata": {},
   "outputs": [],
   "source": [
    "# using PyPlot,JLD2,Statistics,PyCall\n",
    "# rc(\"font\",family=\"serif\")\n",
    "# include(\"CGS.jl\")"
   ]
  },
  {
   "cell_type": "code",
   "execution_count": 2,
   "metadata": {},
   "outputs": [
    {
     "data": {
      "text/plain": [
       "PyObject <module 'matplotlib.animation' from '/Users/bethleelindor/.julia/conda/3/lib/python3.7/site-packages/matplotlib/animation.py'>"
      ]
     },
     "execution_count": 2,
     "metadata": {},
     "output_type": "execute_result"
    }
   ],
   "source": [
    "matplotlib.animation = pyimport(\"matplotlib.animation\")"
   ]
  },
  {
   "cell_type": "code",
   "execution_count": 3,
   "metadata": {
    "collapsed": true,
    "jupyter": {
     "outputs_hidden": true,
     "source_hidden": true
    },
    "tags": []
   },
   "outputs": [
    {
     "data": {
      "image/png": "[encoded data removed]",
      "text/plain": [
       "Figure(PyObject <Figure size 500x500 with 1 Axes>)"
      ]
     },
     "metadata": {},
     "output_type": "display_data"
    },
    {
     "data": {
      "text/plain": [
       "PyObject <matplotlib.animation.FuncAnimation object at 0x13dad2470>"
      ]
     },
     "execution_count": 3,
     "metadata": {},
     "output_type": "execute_result"
    }
   ],
   "source": [
    "function simData()\n",
    "    t_max = 10.0\n",
    "    dt = 0.05\n",
    "    x = 0.0\n",
    "    t = -dt\n",
    "\n",
    "    function it()\n",
    "        while t < t_max\n",
    "            x = sin(pi * t)\n",
    "            t = t + dt\n",
    "            produce(x, t)\n",
    "        end\n",
    "    end\n",
    "\n",
    "    Task(it)\n",
    "end\n",
    "\n",
    "function simPoints()\n",
    "    task = simData()\n",
    "\n",
    "    function points(frame_number)\n",
    "        x, t = consume(task)\n",
    "        line.set_data(t, x)\n",
    "        return(line, \"\")\n",
    "    end\n",
    "\n",
    "    points\n",
    "end\n",
    "\n",
    "fig = figure(figsize=(5,5))\n",
    "axis = fig.add_subplot(111)\n",
    "line = axis.plot([], [], \"bo\", ms = 10)[1]\n",
    "axis.set_ylim(-1, 1)\n",
    "axis.set_xlim(0, 10)\n",
    "\n",
    "ani = matplotlib.animation.FuncAnimation(fig, simPoints(), blit=false, interval=10, frames=200, repeat=false)"
   ]
  },
  {
   "cell_type": "code",
   "execution_count": 5,
   "metadata": {
    "collapsed": true,
    "jupyter": {
     "outputs_hidden": true,
     "source_hidden": true
    },
    "tags": []
   },
   "outputs": [
    {
     "name": "stderr",
     "output_type": "stream",
     "text": [
      "Traceback (most recent call last):\n",
      "  File \"/Users/bethleelindor/.julia/conda/3/lib/python3.7/site-packages/matplotlib/cbook/__init__.py\", line 215, in process\n",
      "    func(*args, **kwargs)\n",
      "  File \"/Users/bethleelindor/.julia/conda/3/lib/python3.7/site-packages/matplotlib/animation.py\", line 999, in _start\n",
      "    self._init_draw()\n",
      "  File \"/Users/bethleelindor/.julia/conda/3/lib/python3.7/site-packages/matplotlib/animation.py\", line 1740, in _init_draw\n",
      "    self._draw_frame(next(self.new_frame_seq()))\n",
      "  File \"/Users/bethleelindor/.julia/conda/3/lib/python3.7/site-packages/matplotlib/animation.py\", line 1762, in _draw_frame\n",
      "    self._drawn_artists = self._func(framedata, *self._args)\n",
      "RuntimeError: <PyCall.jlwrap (in a Julia function called from Python)\n",
      "JULIA: UndefVarError: consume not defined\n",
      "Stacktrace:\n",
      " [1] (::var\"#points#4\"{Task})(::Int64) at ./In[3]:22\n",
      " [2] #invokelatest#1(::Base.Iterators.Pairs{Union{},Union{},Tuple{},NamedTuple{(),Tuple{}}}, ::typeof(Base.invokelatest), ::Any, ::Any, ::Vararg{Any,N} where N) at ./essentials.jl:709\n",
      " [3] invokelatest(::Any, ::Any, ::Vararg{Any,N} where N) at ./essentials.jl:708\n",
      " [4] _pyjlwrap_call(::Function, ::Ptr{PyCall.PyObject_struct}, ::Ptr{PyCall.PyObject_struct}) at /Users/bethleelindor/.julia/packages/PyCall/3fwVL/src/callback.jl:28\n",
      " [5] pyjlwrap_call(::Ptr{PyCall.PyObject_struct}, ::Ptr{PyCall.PyObject_struct}, ::Ptr{PyCall.PyObject_struct}) at /Users/bethleelindor/.julia/packages/PyCall/3fwVL/src/callback.jl:44\n",
      " [6] macro expansion at /Users/bethleelindor/.julia/packages/PyCall/3fwVL/src/exception.jl:95 [inlined]\n",
      " [7] #107 at /Users/bethleelindor/.julia/packages/PyCall/3fwVL/src/pyfncall.jl:43 [inlined]\n",
      " [8] disable_sigint at ./c.jl:446 [inlined]\n",
      " [9] __pycall! at /Users/bethleelindor/.julia/packages/PyCall/3fwVL/src/pyfncall.jl:42 [inlined]\n",
      " [10] _pycall!(::PyObject, ::PyObject, ::Tuple{IOContext{Base64.Base64EncodePipe}}, ::Int64, ::PyObject) at /Users/bethleelindor/.julia/packages/PyCall/3fwVL/src/pyfncall.jl:29\n",
      " [11] _pycall!(::PyObject, ::PyObject, ::Tuple{IOContext{Base64.Base64EncodePipe}}, ::Base.Iterators.Pairs{Symbol,String,Tuple{Symbol,Symbol},NamedTuple{(:format, :bbox_inches),Tuple{String,String}}}) at /Users/bethleelindor/.julia/packages/PyCall/3fwVL/src/pyfncall.jl:11\n",
      " [12] #_#114 at /Users/bethleelindor/.julia/packages/PyCall/3fwVL/src/pyfncall.jl:86 [inlined]\n",
      " [13] Any at ./none:0 [inlined]\n",
      " [14] show(::IOContext{Base64.Base64EncodePipe}, ::MIME{Symbol(\"image/png\")}, ::Figure) at /Users/bethleelindor/.julia/packages/PyPlot/XaELc/src/PyPlot.jl:83\n",
      " [15] limitstringmime(::MIME{Symbol(\"image/png\")}, ::Figure) at /Users/bethleelindor/.julia/packages/IJulia/e8kqU/src/inline.jl:50\n",
      " [16] display_mimestring(::MIME{Symbol(\"image/png\")}, ::Figure) at /Users/bethleelindor/.julia/packages/IJulia/e8kqU/src/display.jl:67\n",
      " [17] display_mimestring(::Array{MIME,1}, ::Figure) at /Users/bethleelindor/.julia/packages/IJulia/e8kqU/src/display.jl:61\n",
      " [18] display_dict(::Figure) at /Users/bethleelindor/.julia/packages/IJulia/e8kqU/src/display.jl:102\n",
      " [19] display(::IJulia.InlineDisplay, ::Figure) at /Users/bethleelindor/.julia/packages/IJulia/e8kqU/src/inline.jl:95\n",
      " [20] display(::Any) at ./multimedia.jl:323\n",
      " [21] display_figs() at /Users/bethleelindor/.julia/packages/PyPlot/XaELc/src/PyPlot.jl:119\n",
      " [22] #invokelatest#1 at ./essentials.jl:709 [inlined]\n",
      " [23] invokelatest at ./essentials.jl:708 [inlined]\n",
      " [24] execute_request(::ZMQ.Socket, ::IJulia.Msg) at /Users/bethleelindor/.julia/packages/IJulia/e8kqU/src/execute_request.jl:101\n",
      " [25] #invokelatest#1 at ./essentials.jl:709 [inlined]\n",
      " [26] invokelatest at ./essentials.jl:708 [inlined]\n",
      " [27] eventloop(::ZMQ.Socket) at /Users/bethleelindor/.julia/packages/IJulia/e8kqU/src/eventloop.jl:8\n",
      " [28] (::IJulia.var\"#15#18\")() at ./task.jl:333>\n",
      "MovieWriter ffmpeg unavailable. Trying to use html instead.\n"
     ]
    },
    {
     "ename": "PyCall.PyError",
     "evalue": "\u001b[91mPyError ($(Expr(:escape, :(ccall(#= /Users/bethleelindor/.julia/packages/PyCall/3fwVL/src/pyfncall.jl:43 =# @pysym(:PyObject_Call), PyPtr, (PyPtr, PyPtr, PyPtr), o, pyargsptr, kw))))) <class 'ValueError'>\u001b[39m\n\u001b[91mValueError('outfile must be *.htm or *.html')\u001b[39m\n\u001b[91m  File \"/Users/bethleelindor/.julia/conda/3/lib/python3.7/site-packages/matplotlib/animation.py\", line 1166, in save\u001b[39m\n\u001b[91m    with writer.saving(self._fig, filename, dpi):\u001b[39m\n\u001b[91m  File \"/Users/bethleelindor/.julia/conda/3/lib/python3.7/contextlib.py\", line 112, in __enter__\u001b[39m\n\u001b[91m    return next(self.gen)\u001b[39m\n\u001b[91m  File \"/Users/bethleelindor/.julia/conda/3/lib/python3.7/site-packages/matplotlib/animation.py\", line 228, in saving\u001b[39m\n\u001b[91m    self.setup(fig, outfile, dpi, *args, **kwargs)\u001b[39m\n\u001b[91m  File \"/Users/bethleelindor/.julia/conda/3/lib/python3.7/site-packages/matplotlib/animation.py\", line 857, in setup\u001b[39m\n\u001b[91m    raise ValueError(\"outfile must be *.htm or *.html\")\u001b[39m\n",
     "output_type": "error",
     "traceback": [
      "\u001b[91mPyError ($(Expr(:escape, :(ccall(#= /Users/bethleelindor/.julia/packages/PyCall/3fwVL/src/pyfncall.jl:43 =# @pysym(:PyObject_Call), PyPtr, (PyPtr, PyPtr, PyPtr), o, pyargsptr, kw))))) <class 'ValueError'>\u001b[39m\n\u001b[91mValueError('outfile must be *.htm or *.html')\u001b[39m\n\u001b[91m  File \"/Users/bethleelindor/.julia/conda/3/lib/python3.7/site-packages/matplotlib/animation.py\", line 1166, in save\u001b[39m\n\u001b[91m    with writer.saving(self._fig, filename, dpi):\u001b[39m\n\u001b[91m  File \"/Users/bethleelindor/.julia/conda/3/lib/python3.7/contextlib.py\", line 112, in __enter__\u001b[39m\n\u001b[91m    return next(self.gen)\u001b[39m\n\u001b[91m  File \"/Users/bethleelindor/.julia/conda/3/lib/python3.7/site-packages/matplotlib/animation.py\", line 228, in saving\u001b[39m\n\u001b[91m    self.setup(fig, outfile, dpi, *args, **kwargs)\u001b[39m\n\u001b[91m  File \"/Users/bethleelindor/.julia/conda/3/lib/python3.7/site-packages/matplotlib/animation.py\", line 857, in setup\u001b[39m\n\u001b[91m    raise ValueError(\"outfile must be *.htm or *.html\")\u001b[39m\n",
      "",
      "Stacktrace:",
      " [1] pyerr_check at /Users/bethleelindor/.julia/packages/PyCall/3fwVL/src/exception.jl:62 [inlined]",
      " [2] pyerr_check at /Users/bethleelindor/.julia/packages/PyCall/3fwVL/src/exception.jl:66 [inlined]",
      " [3] _handle_error(::String) at /Users/bethleelindor/.julia/packages/PyCall/3fwVL/src/exception.jl:83",
      " [4] macro expansion at /Users/bethleelindor/.julia/packages/PyCall/3fwVL/src/exception.jl:97 [inlined]",
      " [5] #107 at /Users/bethleelindor/.julia/packages/PyCall/3fwVL/src/pyfncall.jl:43 [inlined]",
      " [6] disable_sigint at ./c.jl:446 [inlined]",
      " [7] __pycall! at /Users/bethleelindor/.julia/packages/PyCall/3fwVL/src/pyfncall.jl:42 [inlined]",
      " [8] _pycall!(::PyObject, ::PyObject, ::Tuple{String}, ::Int64, ::PyObject) at /Users/bethleelindor/.julia/packages/PyCall/3fwVL/src/pyfncall.jl:29",
      " [9] _pycall!(::PyObject, ::PyObject, ::Tuple{String}, ::Base.Iterators.Pairs{Symbol,Any,Tuple{Symbol,Symbol},NamedTuple{(:bitrate, :extra_args),Tuple{Int64,Array{String,1}}}}) at /Users/bethleelindor/.julia/packages/PyCall/3fwVL/src/pyfncall.jl:11",
      " [10] #_#114 at /Users/bethleelindor/.julia/packages/PyCall/3fwVL/src/pyfncall.jl:86 [inlined]",
      " [11] (::Core.var\"#kw#Any\")(::NamedTuple{(:bitrate, :extra_args),Tuple{Int64,Array{String,1}}}, ::PyObject, ::String) at ./none:0",
      " [12] top-level scope at In[5]:1"
     ]
    }
   ],
   "source": [
    "ani.save(\"test1.mp4\", bitrate=-1, extra_args=[\"-vcodec\", \"libx264\", \"-pix_fmt\", \"yuv420p\"])\n",
    "    \n",
    "# # Function for creating an embedded video given a filename\n",
    "# function html_video(filename)\n",
    "#     open(filename) do f\n",
    "#         base64_video = base64encode(f)\n",
    "#         \"\"\"<video controls src=\"data:video/x-m4v;base64,$base64_video\">\"\"\"\n",
    "#     end\n",
    "# end"
   ]
  },
  {
   "cell_type": "markdown",
   "metadata": {},
   "source": [
    "### Simulate obs"
   ]
  },
  {
   "cell_type": "code",
   "execution_count": 2,
   "metadata": {
    "tags": []
   },
   "outputs": [
    {
     "data": {
      "text/plain": [
       "1.0e-5"
      ]
     },
     "execution_count": 2,
     "metadata": {},
     "output_type": "execute_result"
    }
   ],
   "source": [
    "include(\"sim_times.jl\")\n",
    "jd1=2.4332825e6\n",
    "tref=2430000\n",
    "tol=1e-5\n",
    "# @time sim_times(jd1, 30, 30, true)"
   ]
  },
  {
   "cell_type": "code",
   "execution_count": null,
   "metadata": {},
   "outputs": [],
   "source": [
    "include(\"ttv_wrapper.jl\")"
   ]
  },
  {
   "cell_type": "markdown",
   "metadata": {},
   "source": [
    "## Fit 2 planets"
   ]
  },
  {
   "cell_type": "code",
   "execution_count": 22,
   "metadata": {
    "collapsed": true,
    "jupyter": {
     "outputs_hidden": true
    },
    "tags": []
   },
   "outputs": [
    {
     "name": "stdout",
     "output_type": "stream",
     "text": [
      "Loading.... INPUTS/tt_30sEMB30yrs.txt\n",
      "Initial parameters: [3.0e-6, 224.70077409575646, 3503.7654852567784, 0.01, 0.01, 3.0e-6, 365.25642665702384, 3624.4026384093218, 0.01, 0.01]\n",
      "Initial chi-square: 812.3590569057454\n",
      "New initial 2-planet fit: [2.9380153697129402e-6, 224.70077831626037, 3503.765429099878, 0.03081019305418419, 0.011457500858907978, 3.2595689949612584e-6, 365.25643295059126, 3624.402560434307, 0.038440262285722275, 0.010409974573520126]\n",
      "Finished 2-planet fit: [2.9380153697129402e-6, 224.70077831626037, 3503.765429099878, 0.03081019305418419, 0.011457500858907978, 3.2595689949612584e-6, 365.25643295059126, 3624.402560434307, 0.038440262285722275, 0.010409974573520126] 2\n",
      "New 2-planet chi-square: 582.8973442491646\n",
      "  0.925496 seconds (1.24 M allocations: 64.694 MiB)\n"
     ]
    }
   ],
   "source": [
    "include(\"fit_planet2.jl\")\n",
    "@time fit_planet2(jd1,30,30,2430000,1e-5,true)"
   ]
  },
  {
   "cell_type": "code",
   "execution_count": 23,
   "metadata": {
    "collapsed": true,
    "jupyter": {
     "outputs_hidden": true
    },
    "tags": []
   },
   "outputs": [
    {
     "name": "stdout",
     "output_type": "stream",
     "text": [
      "Loading.... INPUTS/tt_30snoEMB30yrs.txt\n",
      "Initial parameters: [3.0e-6, 224.70077409705425, 3503.768807440609, 0.01, 0.01, 3.0e-6, 365.25642931515705, 3624.4078769599423, 0.01, 0.01]\n",
      "Initial chi-square: 1116.9958037616166\n",
      "New initial 2-planet fit: [3.692278422763092e-6, 224.7007779333105, 3503.7687611729925, -0.09146264187762092, -0.051138878438349133, 2.572425291589571e-6, 365.25643886693337, 3624.407756798661, -0.055422768111622764, -0.03932115153591312]\n",
      "Finished 2-planet fit: [3.692278422763092e-6, 224.7007779333105, 3503.7687611729925, -0.09146264187762092, -0.051138878438349133, 2.572425291589571e-6, 365.25643886693337, 3624.407756798661, -0.055422768111622764, -0.03932115153591312] 2\n",
      "New 2-planet chi-square: 646.8498193209612\n",
      "  0.055315 seconds (8.27 k allocations: 1.975 MiB)\n"
     ]
    }
   ],
   "source": [
    "@time fit_planet2(jd1,30,30,2430000,1e-5,false)"
   ]
  },
  {
   "cell_type": "markdown",
   "metadata": {},
   "source": [
    "linear regression of times for each planet as a function of epochs, so find multiples ?"
   ]
  },
  {
   "cell_type": "markdown",
   "metadata": {},
   "source": [
    "## Fit 3 planets"
   ]
  },
  {
   "cell_type": "code",
   "execution_count": null,
   "metadata": {},
   "outputs": [],
   "source": [
    "include(\"fit_planet3.jl\")\n",
    "@time fit_planet3(\"INPUTS/tt_10.0sEMB30.0yrs.txt\", jd1, 10, 30, 2430000, 1e-5, 11.8*365.25, 12.2*365.25, 10,36)"
   ]
  },
  {
   "cell_type": "code",
   "execution_count": 24,
   "metadata": {
    "collapsed": true,
    "jupyter": {
     "outputs_hidden": true
    },
    "tags": []
   },
   "outputs": [
    {
     "name": "stdout",
     "output_type": "stream",
     "text": [
      "Planet 2 fit loaded.\n",
      "Finished 3-planet fit w/ fixed period: [2.5636449587818454e-6, 224.70077915499394, 3503.765371309062, -8.47766135727757e-5, 0.006696765903281945, 3.04555823363696e-6, 365.2564445366548, 3624.402316415585, 0.014223771433809894, 0.007967444503650058, 0.0008153343308685443, 4309.949999999998, 398.11271966035935, 0.01782379554006557, -0.04071679533979835] in 20 iterations\n",
      "Finished global 3-planet fit.\n",
      "New 3-planet chi-square: 109.62309162509258\n",
      "Maximum: -183.1848736509426 Param: [2.5422216286956403e-6, 224.70078014615882, 3503.76534735665, -0.0026337842281164846, 0.007070111985469569, 3.025608895705259e-6, 365.2564540131243, 3624.402170771069, 0.012059674661027565, 0.00829727159197438, 0.0007712306397113555, 4210.131993226086, 603.9755048375332, 0.016164431567252818, -0.04249204621169487]\n"
     ]
    },
    {
     "data": {
      "text/plain": [
       "15-element Array{Float64,1}:\n",
       "    2.5422216286956403e-6\n",
       "  224.70078014615882     \n",
       " 3503.76534735665        \n",
       "   -0.0026337842281164846\n",
       "    0.007070111985469569 \n",
       "    3.025608895705259e-6 \n",
       "  365.2564540131243      \n",
       " 3624.402170771069       \n",
       "    0.012059674661027565 \n",
       "    0.00829727159197438  \n",
       "    0.0007712306397113555\n",
       " 4210.131993226086       \n",
       "  603.9755048375332      \n",
       "    0.016164431567252818 \n",
       "   -0.04249204621169487  "
      ]
     },
     "execution_count": 24,
     "metadata": {},
     "output_type": "execute_result"
    }
   ],
   "source": [
    "include(\"fit_planet3.jl\")\n",
    "fit_planet3(jd1,30,30,2430000,1e-5,11.8*365.25,12.2*365.25,10,36,true)"
   ]
  },
  {
   "cell_type": "code",
   "execution_count": 25,
   "metadata": {
    "collapsed": true,
    "jupyter": {
     "outputs_hidden": true
    },
    "tags": []
   },
   "outputs": [
    {
     "name": "stdout",
     "output_type": "stream",
     "text": [
      "Planet 2 fit loaded.\n",
      "Finished 3-planet fit w/ fixed period: [3.952659740374452e-6, 224.70077782469306, 3503.7687322283437, -0.06316276127978955, -0.056474200909316374, 2.6701857105107112e-6, 365.2564513292232, 3624.4075023619616, -0.03344929126760719, -0.043254278761422384, 0.0004374762356276606, 4309.949999999998, 1232.4406792403076, -0.0722746772637546, 0.10238680566675712] in 20 iterations\n",
      "Finished global 3-planet fit.\n",
      "New 3-planet chi-square: 216.95718382951577\n",
      "Maximum: -209.8083009567078 Param: [3.9054143218903965e-6, 224.70078008469463, 3503.768675936336, -0.06713129085431972, -0.057465222100601364, 2.6456719043334846e-6, 365.25646164115346, 3624.40734259709, -0.03675516797288188, -0.043738317868158474, 0.00034969118061929096, 4187.244650961268, 1498.0946294769674, -0.1134873127886096, 0.12687238048733113]\n"
     ]
    },
    {
     "data": {
      "text/plain": [
       "15-element Array{Float64,1}:\n",
       "    3.9054143218903965e-6 \n",
       "  224.70078008469463      \n",
       " 3503.768675936336        \n",
       "   -0.06713129085431972   \n",
       "   -0.057465222100601364  \n",
       "    2.6456719043334846e-6 \n",
       "  365.25646164115346      \n",
       " 3624.40734259709         \n",
       "   -0.03675516797288188   \n",
       "   -0.043738317868158474  \n",
       "    0.00034969118061929096\n",
       " 4187.244650961268        \n",
       " 1498.0946294769674       \n",
       "   -0.1134873127886096    \n",
       "    0.12687238048733113   "
      ]
     },
     "execution_count": 25,
     "metadata": {},
     "output_type": "execute_result"
    }
   ],
   "source": [
    "fit_planet3(jd1,30,30,2430000,1e-5,11.8*365.25,12.2*365.25,10,36,false)"
   ]
  },
  {
   "cell_type": "markdown",
   "metadata": {},
   "source": [
    "if we change the linear regression to difference b/w current and first time/period estimate, same $\\chi^2$ values for Hpp and Hppp"
   ]
  },
  {
   "cell_type": "code",
   "execution_count": 14,
   "metadata": {
    "collapsed": true,
    "jupyter": {
     "outputs_hidden": true
    },
    "tags": []
   },
   "outputs": [
    {
     "name": "stdout",
     "output_type": "stream",
     "text": [
      "Parameters from fit: [2.5422216286956403e-6, 224.70078014615882, 3503.76534735665, -0.0026337842281164846, 0.007070111985469569, 3.025608895705259e-6, 365.2564540131243, 3624.402170771069, 0.012059674661027565, 0.00829727159197438, 0.0007712306397113555, 4210.131993226086, 603.9755048375332, 0.016164431567252818, -0.04249204621169487]\n",
      "Maximum log Prob from fit: -183.1848736509426\n",
      "Step: 232 Walker: 8 Trial Log Prob: 581.9421325158422 Prob: 0.5688380963534208 Frac: 0.34665729121592387\n",
      "Step: 307 Walker: 20 Trial Log Prob: 592.2992277017046 Prob: 2.3253722301980706 Frac: 0.34330612244897957\n",
      "Step: 399 Walker: 47 Trial Log Prob: 589.102007529864 Prob: 6.650041610453077 Frac: 0.3418007338413774\n",
      "Step: 971 Walker: 58 Trial Log Prob: 586.7983306941493 Prob: 0.5641225709022497 Frac: 0.3263025058590229\n",
      "Number of steps: 1000 Acceptance Rate: 0.326175\n",
      "Step: 1114 Walker: 62 Trial Log Prob: 592.423840639034 Prob: 0.0383361450205321 Frac: 0.3171830366952318\n",
      "Step: 1447 Walker: 29 Trial Log Prob: 575.8088628560716 Prob: 0.010971803175547181 Frac: 0.305917275756812\n",
      "Step: 1527 Walker: 78 Trial Log Prob: -Inf Prob: 0.0 Frac: 0.30603918591963564\n",
      "Step: 1621 Walker: 45 Trial Log Prob: 567.4799584353719 Prob: 6.380112085036587e-6 Frac: 0.3080672776714674\n",
      "Step: 1629 Walker: 48 Trial Log Prob: 541.952247024114 Prob: 1.8660884416858071e-16 Frac: 0.30826439707286035\n",
      "Step: 1654 Walker: 55 Trial Log Prob: 581.6619091160311 Prob: 0.165015704053749 Frac: 0.3091117697676642\n",
      "Step: 1877 Walker: 7 Trial Log Prob: 586.553379999482 Prob: 0.35201328696034395 Frac: 0.3100004280394367\n",
      "Number of steps: 2000 Acceptance Rate: 0.3121125\n",
      "Step: 2053 Walker: 29 Trial Log Prob: 588.7472449239522 Prob: 0.4238693146797085 Frac: 0.30962043447123416\n",
      "Step: 2152 Walker: 35 Trial Log Prob: 567.8154144392158 Prob: 9.199816335320529e-7 Frac: 0.30705736690053653\n",
      "Step: 2196 Walker: 28 Trial Log Prob: 584.5090258450716 Prob: 0.5558758631681263 Frac: 0.3061172254927054\n",
      "Step: 2324 Walker: 1 Trial Log Prob: 579.7344787490847 Prob: 0.41473898271105597 Frac: 0.3096629387407608\n",
      "Step: 2470 Walker: 9 Trial Log Prob: 595.215406332331 Prob: 0.07750640222116474 Frac: 0.3118654906872019\n",
      "Step: 2692 Walker: 16 Trial Log Prob: 571.6736656438529 Prob: 1.2664001501917293e-6 Frac: 0.3117404513888889\n",
      "Step: 2837 Walker: 38 Trial Log Prob: 565.1011394332631 Prob: 1.4067596904829058e-8 Frac: 0.3117995158253385\n",
      "Step: 2972 Walker: 59 Trial Log Prob: 584.9710040628368 Prob: 0.9907330665585948 Frac: 0.3100760236174893\n",
      "Number of steps: 3000 Acceptance Rate: 0.3100125\n",
      "Step: 3095 Walker: 78 Trial Log Prob: 590.9450959133676 Prob: 0.3036976290770492 Frac: 0.3106080547512503\n",
      "Step: 3111 Walker: 38 Trial Log Prob: 589.043685623325 Prob: 0.8943796845249736 Frac: 0.31251414347137363\n",
      "Step: 3154 Walker: 68 Trial Log Prob: 592.8968355178307 Prob: 0.23928068332377558 Frac: 0.3152421189470263\n",
      "Step: 3170 Walker: 44 Trial Log Prob: 565.3038412006586 Prob: 3.1691556914874934e-8 Frac: 0.3143615452668829\n",
      "Step: 3184 Walker: 20 Trial Log Prob: 581.8606116872962 Prob: 0.2305668624140204 Frac: 0.31432469304229194\n",
      "Step: 3188 Walker: 34 Trial Log Prob: 593.2027141195803 Prob: 0.028916948316568113 Frac: 0.31405895691609975\n",
      "Step: 3194 Walker: 2 Trial Log Prob: 568.1295902116649 Prob: 9.148486719692781e-7 Frac: 0.31453179639943013\n",
      "Step: 3217 Walker: 22 Trial Log Prob: 593.9733391639803 Prob: 0.0028112908165544904 Frac: 0.31424112819327243\n",
      "Step: 3329 Walker: 54 Trial Log Prob: 593.1776370941466 Prob: 0.021390942876099057 Frac: 0.31330341522780863\n",
      "Step: 3340 Walker: 32 Trial Log Prob: 577.7789859439293 Prob: 0.0009800012096879743 Frac: 0.3130524454920448\n",
      "Step: 3376 Walker: 34 Trial Log Prob: 565.4758580657071 Prob: 1.787912349279625e-6 Frac: 0.312745555037624\n",
      "Step: 3428 Walker: 55 Trial Log Prob: 578.1161311756068 Prob: 0.0012098409577435028 Frac: 0.313429782259243\n",
      "Step: 3660 Walker: 34 Trial Log Prob: 587.6736376825305 Prob: 0.6176242118121468 Frac: 0.31309474163096634\n",
      "Step: 3894 Walker: 1 Trial Log Prob: 593.2206457133663 Prob: 3.726055375668806 Frac: 0.3136154309150208\n",
      "Number of steps: 4000 Acceptance Rate: 0.3126875\n",
      "Step: 4071 Walker: 60 Trial Log Prob: 589.2927440805317 Prob: 0.0005357153829879582 Frac: 0.3010600706713781\n",
      "Step: 4250 Walker: 44 Trial Log Prob: 589.8374246494769 Prob: 0.021989566665056377 Frac: 0.2989881787216991\n",
      "Step: 4418 Walker: 58 Trial Log Prob: 591.2713928340129 Prob: 0.8730041370070738 Frac: 0.30058651026392963\n",
      "Step: 4444 Walker: 41 Trial Log Prob: 553.3777295808248 Prob: 1.427378463840268e-10 Frac: 0.30058341083960427\n",
      "Step: 4901 Walker: 15 Trial Log Prob: 586.2684706129105 Prob: 0.0016985721014317913 Frac: 0.3080052766784698\n",
      "Step: 4915 Walker: 51 Trial Log Prob: 561.1272111367576 Prob: 8.810817413873213e-10 Frac: 0.3076082054365801\n",
      "Step: 4965 Walker: 47 Trial Log Prob: 591.8381033465048 Prob: 4.379022477512415 Frac: 0.30773517177031634\n",
      "Number of steps: 5000 Acceptance Rate: 0.3074625\n",
      "Step: 5159 Walker: 58 Trial Log Prob: 556.9116995600501 Prob: 1.2029222141320426e-11 Frac: 0.30288234367616945\n",
      "Step: 5350 Walker: 52 Trial Log Prob: -Inf Prob: 0.0 Frac: 0.3077363077363077\n",
      "Step: 5478 Walker: 34 Trial Log Prob: 588.3708494539565 Prob: 0.78138510494974 Frac: 0.31099125517096926\n",
      "Step: 5598 Walker: 63 Trial Log Prob: 577.7022439495821 Prob: 6.159999244582567e-5 Frac: 0.31068732618196265\n",
      "Step: 5653 Walker: 12 Trial Log Prob: 590.8073498015187 Prob: 0.0005722904492860734 Frac: 0.3113164149352143\n",
      "Step: 5763 Walker: 79 Trial Log Prob: 582.9681186902754 Prob: 0.02229515499304874 Frac: 0.3109159717557627\n",
      "Number of steps: 6000 Acceptance Rate: 0.3101\n",
      "Step: 6046 Walker: 57 Trial Log Prob: 594.6588287450487 Prob: 0.02133011651401186 Frac: 0.3048947224500957\n",
      "Step: 6303 Walker: 63 Trial Log Prob: 591.8843219016817 Prob: 1.2407287579808686 Frac: 0.3048755315196301\n",
      "Step: 6351 Walker: 43 Trial Log Prob: 592.5491923355322 Prob: 0.13721697270402072 Frac: 0.30603002531826123\n",
      "Step: 6648 Walker: 25 Trial Log Prob: 588.9354422506233 Prob: 0.012583946898126861 Frac: 0.3103794535097036\n",
      "Step: 6650 Walker: 63 Trial Log Prob: 588.3914917185589 Prob: 1.6563800570008353 Frac: 0.31035146105457556\n",
      "Number of steps: 7000 Acceptance Rate: 0.3111625\n",
      "Step: 7071 Walker: 43 Trial Log Prob: 591.4070591534436 Prob: 0.0002734831073908979 Frac: 0.30480241006556796\n",
      "Step: 7086 Walker: 48 Trial Log Prob: 591.347720096917 Prob: 0.10717607690279603 Frac: 0.30315420560747663\n",
      "Step: 7114 Walker: 52 Trial Log Prob: 588.2436784891894 Prob: 1.011126058109295 Frac: 0.31038275406951166\n",
      "Step: 7240 Walker: 51 Trial Log Prob: -Inf Prob: 0.0 Frac: 0.31015596473840695\n",
      "Step: 7299 Walker: 53 Trial Log Prob: 594.1403603959832 Prob: 0.24871607037099436 Frac: 0.3091700498053823\n",
      "Step: 7319 Walker: 18 Trial Log Prob: 573.1798806952634 Prob: 0.012413183238347728 Frac: 0.30964726215727867\n",
      "Step: 7363 Walker: 72 Trial Log Prob: 592.7203618294096 Prob: 0.5497565413149598 Frac: 0.3108983190961697\n",
      "Step: 7517 Walker: 13 Trial Log Prob: 587.5652547967637 Prob: 0.46696126996089204 Frac: 0.3072433584384763\n",
      "Step: 7586 Walker: 7 Trial Log Prob: 564.7658162891233 Prob: 5.449564878718835e-5 Frac: 0.3075608349178542\n",
      "Step: 7641 Walker: 70 Trial Log Prob: 591.2535784724433 Prob: 0.0010217662834669846 Frac: 0.30764579676223913\n",
      "Step: 7754 Walker: 34 Trial Log Prob: 592.5932095976798 Prob: 0.005491401861656252 Frac: 0.30766167833560076\n",
      "Step: 7929 Walker: 49 Trial Log Prob: 587.5923717931765 Prob: 0.38376528053104186 Frac: 0.3091978624022399\n",
      "Number of steps: 8000 Acceptance Rate: 0.3093875\n",
      "Step: 8153 Walker: 6 Trial Log Prob: 578.8186739858078 Prob: 0.27200276022891784 Frac: 0.32081209929311194\n",
      "Step: 8451 Walker: 32 Trial Log Prob: 591.7775873766859 Prob: 0.02154495112457545 Frac: 0.3184391651865009\n",
      "Step: 8508 Walker: 13 Trial Log Prob: 591.9281953368376 Prob: 0.030957991119394856 Frac: 0.3170827890469031\n",
      "Step: 8755 Walker: 53 Trial Log Prob: 593.7893662256681 Prob: 0.0007289009565967724 Frac: 0.3135673231411393\n",
      "Step: 8819 Walker: 38 Trial Log Prob: 529.2024458959055 Prob: 2.699062326399036e-20 Frac: 0.3128226274473869\n",
      "Step: 8878 Walker: 50 Trial Log Prob: 591.7944054538715 Prob: 0.0028612443822164917 Frac: 0.3130893035180174\n",
      "Step: 8948 Walker: 22 Trial Log Prob: -Inf Prob: 0.0 Frac: 0.3128579346018844\n",
      "Number of steps: 9000 Acceptance Rate: 0.3135875\n",
      "Step: 9117 Walker: 21 Trial Log Prob: 596.1306783963543 Prob: 0.08569108856555532 Frac: 0.3030856897107838\n",
      "Step: 9181 Walker: 27 Trial Log Prob: 567.4141080120437 Prob: 1.2932776063437552e-6 Frac: 0.3073404034102724\n",
      "Step: 9238 Walker: 50 Trial Log Prob: 580.9700952553953 Prob: 1.478950009403713 Frac: 0.30668069437138346\n",
      "Step: 9241 Walker: 77 Trial Log Prob: 573.2643414693375 Prob: 0.00038402949278568507 Frac: 0.3064273486538362\n",
      "Step: 9480 Walker: 69 Trial Log Prob: 591.0000123605299 Prob: 0.13173407459414804 Frac: 0.3026387767329183\n",
      "Step: 9624 Walker: 76 Trial Log Prob: 558.858146498957 Prob: 5.55474190649471e-11 Frac: 0.3028287523038705\n",
      "Step: 9869 Walker: 49 Trial Log Prob: 587.179452038202 Prob: 2.9105640775012382 Frac: 0.305357682510901\n",
      "Step: 9912 Walker: 59 Trial Log Prob: 585.239119002067 Prob: 29.535511708485267 Frac: 0.3052687862460412\n",
      "Step: 9920 Walker: 68 Trial Log Prob: 586.0132984878638 Prob: 0.8350168736017911 Frac: 0.3053758765016035\n",
      "Number of steps: 10000 Acceptance Rate: 0.3055875\n",
      "Step: 10019 Walker: 36 Trial Log Prob: 591.9850977565354 Prob: 0.1877630608248456 Frac: 0.3319783197831978\n",
      "Step: 10067 Walker: 43 Trial Log Prob: 587.6379950295936 Prob: 0.9588491132204611 Frac: 0.3240653766672929\n",
      "Step: 10190 Walker: 6 Trial Log Prob: -Inf Prob: 0.0 Frac: 0.30900436334787784\n",
      "Step: 10328 Walker: 15 Trial Log Prob: 591.1915390866096 Prob: 0.9210942851294567 Frac: 0.30750716332378225\n",
      "Step: 10820 Walker: 58 Trial Log Prob: 590.5508635612541 Prob: 0.43927454461757215 Frac: 0.3046448504071487\n",
      "Step: 10955 Walker: 64 Trial Log Prob: 590.3986628396681 Prob: 0.06977343651943421 Frac: 0.3057315668202765\n",
      "Number of steps: 11000 Acceptance Rate: 0.305375\n",
      "Step: 11457 Walker: 32 Trial Log Prob: 589.9452604829637 Prob: 0.90844686136221 Frac: 0.3129656003505697\n",
      "Step: 11632 Walker: 11 Trial Log Prob: 589.5890151686565 Prob: 0.40759780565133397 Frac: 0.31134261551563647\n",
      "Step: 11679 Walker: 14 Trial Log Prob: 576.5786504335651 Prob: 0.06168316241460537 Frac: 0.3102075423010285\n",
      "Step: 11683 Walker: 7 Trial Log Prob: 591.1737889024135 Prob: 0.6251170040784738 Frac: 0.31013249766342293\n",
      "Step: 11719 Walker: 13 Trial Log Prob: 575.2762833596931 Prob: 0.0023790191775419868 Frac: 0.31027100412511094\n",
      "Step: 11722 Walker: 10 Trial Log Prob: 579.5985167035033 Prob: 0.0007975656151654095 Frac: 0.31020974172300225\n",
      "Step: 11772 Walker: 2 Trial Log Prob: 592.2664597041187 Prob: 0.34592630935791435 Frac: 0.30944197658960476\n",
      "Step: 11852 Walker: 5 Trial Log Prob: 566.307609324371 Prob: 6.797960096546052e-10 Frac: 0.3092457956965558\n",
      "Step: 11889 Walker: 71 Trial Log Prob: 583.1819343594011 Prob: 1.0975836385086866 Frac: 0.30930517078932934\n",
      "Step: 11897 Walker: 45 Trial Log Prob: -Inf Prob: 0.0 Frac: 0.3095015684907633\n",
      "Step: 11960 Walker: 72 Trial Log Prob: 578.6243366604476 Prob: 0.13406500609158445 Frac: 0.30968069590582353\n",
      "Number of steps: 12000 Acceptance Rate: 0.3102375\n",
      "Step: 12021 Walker: 23 Trial Log Prob: 588.9399626892566 Prob: 0.36856971195568805 Frac: 0.30745532963647565\n",
      "Step: 12100 Walker: 47 Trial Log Prob: 593.277940582778 Prob: 0.005384261666864902 Frac: 0.30613781850131794\n",
      "Step: 12116 Walker: 58 Trial Log Prob: 576.5199759701139 Prob: 0.003968382630107318 Frac: 0.30589760207388206\n",
      "Step: 12144 Walker: 61 Trial Log Prob: 584.1129579288362 Prob: 0.07751410403443366 Frac: 0.30675593426658554\n",
      "Step: 12148 Walker: 53 Trial Log Prob: 532.1290375948788 Prob: 7.90525196110487e-20 Frac: 0.3066113603656988\n",
      "Step: 12406 Walker: 55 Trial Log Prob: 592.8373244700311 Prob: 0.04081330204218673 Frac: 0.31449699584039437\n",
      "Step: 12420 Walker: 77 Trial Log Prob: 577.4041147220164 Prob: 0.000893893651464899 Frac: 0.3149685983867607\n",
      "Step: 12618 Walker: 34 Trial Log Prob: 577.6335455576474 Prob: 0.003098404339623177 Frac: 0.31439041179090577\n",
      "Step: 12651 Walker: 67 Trial Log Prob: 593.0141732537154 Prob: 8.908224786022124 Frac: 0.31363435573395815\n",
      "Step: 12688 Walker: 11 Trial Log Prob: 588.1774673249159 Prob: 0.0011342324563953377 Frac: 0.31314693201870075\n",
      "Step: 12715 Walker: 7 Trial Log Prob: 591.5951518236335 Prob: 0.0004005812173473353 Frac: 0.3123566789784165\n",
      "Step: 12744 Walker: 53 Trial Log Prob: 591.2655699374391 Prob: 0.07770206953409967 Frac: 0.3124737364059637\n",
      "Step: 12778 Walker: 34 Trial Log Prob: 515.0877355110797 Prob: 5.194568489751404e-29 Frac: 0.3119271955494099\n",
      "Number of steps: 13000 Acceptance Rate: 0.3126375\n",
      "Step: 13203 Walker: 16 Trial Log Prob: 580.2956527539508 Prob: 0.013216020582246064 Frac: 0.30897626112759646\n",
      "Step: 13498 Walker: 17 Trial Log Prob: 587.4648640470393 Prob: 0.41850978002386036 Frac: 0.3082937375870478\n",
      "Step: 13510 Walker: 8 Trial Log Prob: 591.3663422508102 Prob: 0.0006859153253755671 Frac: 0.3086328815556865\n",
      "Step: 13594 Walker: 19 Trial Log Prob: 589.9079168563117 Prob: 0.9319503032320097 Frac: 0.3081396573884827\n",
      "Step: 13792 Walker: 69 Trial Log Prob: 589.8725900240183 Prob: 0.003571782914478584 Frac: 0.3084815861339563\n",
      "Step: 13890 Walker: 8 Trial Log Prob: 582.4946209687464 Prob: 0.404166131298581 Frac: 0.30862670115847485\n",
      "Step: 13989 Walker: 47 Trial Log Prob: 589.5105106306977 Prob: 0.9177277044608356 Frac: 0.3083439756217836\n",
      "Number of steps: 14000 Acceptance Rate: 0.3081125\n",
      "Step: 14018 Walker: 42 Trial Log Prob: 562.727097333665 Prob: 5.2518428455839927e-11 Frac: 0.31098430813124106\n",
      "Step: 14228 Walker: 46 Trial Log Prob: 591.8765573331706 Prob: 0.00615539529696862 Frac: 0.2989673733933868\n",
      "Step: 14326 Walker: 22 Trial Log Prob: 587.0894341650046 Prob: 5.474402128681444 Frac: 0.3012835293213435\n",
      "Step: 14535 Walker: 24 Trial Log Prob: 581.6681863455348 Prob: 0.08216552529945516 Frac: 0.30298989331836046\n",
      "Step: 14646 Walker: 8 Trial Log Prob: 591.3875685409339 Prob: 0.17022078749465855 Frac: 0.3030150364284607\n",
      "Step: 14996 Walker: 39 Trial Log Prob: 578.7165361101079 Prob: 0.09185691992363501 Frac: 0.30603096472833663\n",
      "Number of steps: 15000 Acceptance Rate: 0.30595\n",
      "Step: 15245 Walker: 67 Trial Log Prob: 585.0271023365074 Prob: 0.1930383969710601 Frac: 0.3120947567264002\n",
      "Step: 15325 Walker: 8 Trial Log Prob: 590.3935074030366 Prob: 0.2688364934593041 Frac: 0.3072354211663067\n",
      "Step: 15374 Walker: 66 Trial Log Prob: 593.1581953376558 Prob: 0.5413941539348787 Frac: 0.3081655855012372\n",
      "Step: 15510 Walker: 63 Trial Log Prob: 593.0425357234152 Prob: 0.6731768703611294 Frac: 0.31054606085869113\n",
      "Step: 15686 Walker: 33 Trial Log Prob: 582.5274819694865 Prob: 0.18051535371864771 Frac: 0.3124395892984152\n",
      "Step: 15712 Walker: 38 Trial Log Prob: 560.796057944962 Prob: 7.556649073466831e-7 Frac: 0.3128008714290734\n",
      "Step: 15716 Walker: 31 Trial Log Prob: 591.2277190932858 Prob: 0.7244306707080618 Frac: 0.3127326099491534\n",
      "Step: 15905 Walker: 29 Trial Log Prob: 582.2309420969949 Prob: 0.09170327415428993 Frac: 0.3121121231806936\n",
      "Step: 15923 Walker: 79 Trial Log Prob: 585.6134511266969 Prob: 0.41178055671235037 Frac: 0.31213857175747234\n",
      "Number of steps: 16000 Acceptance Rate: 0.311525\n",
      "Step: 16060 Walker: 5 Trial Log Prob: 589.1029849961421 Prob: 0.23992673931450584 Frac: 0.2819047619047619\n",
      "Step: 16060 Walker: 27 Trial Log Prob: 448.9009231316843 Prob: 4.3477264293654337e-57 Frac: 0.2814409100484517\n",
      "Step: 16112 Walker: 37 Trial Log Prob: 595.7913276504466 Prob: 0.03515888827898294 Frac: 0.2847370191768532\n",
      "Step: 16240 Walker: 73 Trial Log Prob: 587.3233531642575 Prob: 0.4466800792486286 Frac: 0.2967227635075288\n",
      "Step: 16252 Walker: 40 Trial Log Prob: 570.0131288786089 Prob: 9.447009176002197e-5 Frac: 0.2974652087475149\n",
      "Step: 16277 Walker: 63 Trial Log Prob: 565.6130273690075 Prob: 7.63162186536325e-7 Frac: 0.29738517816014093\n",
      "Step: 16373 Walker: 28 Trial Log Prob: 586.5069798779814 Prob: 0.9688548353853046 Frac: 0.3030414932187458\n",
      "Step: 16664 Walker: 79 Trial Log Prob: 589.340985248047 Prob: 2.7095066594886146 Frac: 0.3047685385643555\n",
      "Step: 16704 Walker: 50 Trial Log Prob: 590.9092669388015 Prob: 0.30927361553485594 Frac: 0.30422810445905135\n",
      "Step: 16750 Walker: 55 Trial Log Prob: 580.6604160695935 Prob: 0.03723397207680994 Frac: 0.30384326802834516\n",
      "Step: 16916 Walker: 70 Trial Log Prob: 586.4663118027227 Prob: 1.1529399139281766 Frac: 0.3045721304763205\n",
      "Step: 16967 Walker: 75 Trial Log Prob: 562.855161328976 Prob: 4.3438918049062085e-9 Frac: 0.3054876866395191\n",
      "Number of steps: 17000 Acceptance Rate: 0.3061\n",
      "Step: 17091 Walker: 69 Trial Log Prob: 595.2539071703196 Prob: 0.007022999091060719 Frac: 0.30733250791030403\n",
      "Step: 17190 Walker: 18 Trial Log Prob: 591.1958474907361 Prob: 0.7009204929133227 Frac: 0.308957590170432\n",
      "Step: 17519 Walker: 63 Trial Log Prob: 590.7061719288449 Prob: 1.0294294976900304 Frac: 0.31323036888899597\n",
      "Step: 17853 Walker: 25 Trial Log Prob: 563.3969355617777 Prob: 5.715267730829647e-7 Frac: 0.311534795042898\n",
      "Number of steps: 18000 Acceptance Rate: 0.311175\n",
      "Step: 18039 Walker: 1 Trial Log Prob: 574.5202617506727 Prob: 0.00015950527402621822 Frac: 0.2936534034856955\n",
      "Step: 18045 Walker: 6 Trial Log Prob: 592.8822632280774 Prob: 0.0011072416727812505 Frac: 0.2935337492909813\n",
      "Step: 18213 Walker: 74 Trial Log Prob: 590.7087669959778 Prob: 0.013132279007465716 Frac: 0.3021016789949513\n",
      "Step: 18232 Walker: 9 Trial Log Prob: 575.5953749850531 Prob: 0.000637390489987863 Frac: 0.3015306398399048\n",
      "Step: 18532 Walker: 20 Trial Log Prob: 582.0923935423506 Prob: 0.03575820922626776 Frac: 0.3015294117647059\n",
      "Step: 18648 Walker: 48 Trial Log Prob: 593.7894776392449 Prob: 2.53009868756627e-5 Frac: 0.302212013588635\n",
      "Step: 18666 Walker: 47 Trial Log Prob: 588.1218644815291 Prob: 0.0890462138924201 Frac: 0.30251469566360545\n",
      "Step: 18681 Walker: 41 Trial Log Prob: 576.192620045567 Prob: 0.005182999407969297 Frac: 0.30227218456677873\n",
      "Step: 18749 Walker: 18 Trial Log Prob: 590.1552635680221 Prob: 0.7604598988831617 Frac: 0.30229877376457615\n",
      "Step: 18869 Walker: 26 Trial Log Prob: 570.5724233558495 Prob: 0.0005035413183661708 Frac: 0.3022773731033887\n",
      "Step: 18888 Walker: 71 Trial Log Prob: 588.2921719565867 Prob: 0.6689491709254867 Frac: 0.3020652954343878\n",
      "Step: 18925 Walker: 57 Trial Log Prob: 590.2167002815265 Prob: 0.17802658926925483 Frac: 0.3019992700433919\n",
      "Number of steps: 19000 Acceptance Rate: 0.302575\n",
      "Step: 19032 Walker: 74 Trial Log Prob: 589.6414757334678 Prob: 0.6651951493343481 Frac: 0.2846515270164448\n",
      "Step: 19378 Walker: 77 Trial Log Prob: 592.8777505511844 Prob: 0.006048679327316846 Frac: 0.30938915897741176\n",
      "Step: 19517 Walker: 11 Trial Log Prob: 575.5087549205724 Prob: 0.00030406081608418925 Frac: 0.30999491414593977\n",
      "Step: 19603 Walker: 28 Trial Log Prob: 594.0993571885347 Prob: 0.005986322885109458 Frac: 0.3098489250435793\n",
      "Step: 19658 Walker: 44 Trial Log Prob: 590.9280594812088 Prob: 0.008724652732678419 Frac: 0.31060375636833704\n",
      "Step: 19750 Walker: 58 Trial Log Prob: 577.674597565358 Prob: 0.04308888943324378 Frac: 0.30993030777951913\n",
      "Number of steps: 20000 Acceptance Rate: 0.30995\n",
      "Step: 20132 Walker: 52 Trial Log Prob: 588.5519008294452 Prob: 0.0005333030880013019 Frac: 0.3121914166350171\n",
      "Step: 20237 Walker: 22 Trial Log Prob: 557.3453743260688 Prob: 6.486329945039288e-11 Frac: 0.3139350333298064\n",
      "Step: 20308 Walker: 52 Trial Log Prob: 589.8447673701891 Prob: 0.05423810141714605 Frac: 0.3098082236307492\n",
      "Step: 20478 Walker: 56 Trial Log Prob: 586.2283650994616 Prob: 1.2880418671030553 Frac: 0.3084310236550136\n",
      "Step: 20615 Walker: 21 Trial Log Prob: 585.244080822514 Prob: 6.512024977309779e-7 Frac: 0.3082354856433528\n",
      "Step: 20742 Walker: 66 Trial Log Prob: 562.8859085388976 Prob: 1.1606124461011666e-9 Frac: 0.30895089812287263\n",
      "Step: 20865 Walker: 39 Trial Log Prob: 590.7592577586371 Prob: 0.04823657615765796 Frac: 0.3089836463800807\n",
      "Number of steps: 21000 Acceptance Rate: 0.3095125\n",
      "Step: 21136 Walker: 66 Trial Log Prob: 552.4174708632419 Prob: 1.071776965925586e-10 Frac: 0.3110620283452973\n",
      "Step: 21282 Walker: 63 Trial Log Prob: 577.2319269986291 Prob: 0.029058593550095515 Frac: 0.3066140265270816\n",
      "Step: 21540 Walker: 42 Trial Log Prob: 588.1121986642065 Prob: 1.0578681236618248 Frac: 0.3083731059728465\n",
      "Step: 21582 Walker: 21 Trial Log Prob: 589.1760148556818 Prob: 0.12661267512658195 Frac: 0.3090686221801682\n",
      "Step: 21603 Walker: 51 Trial Log Prob: 580.1034698946561 Prob: 0.14882502321806915 Frac: 0.3090788409284188\n",
      "Step: 21731 Walker: 68 Trial Log Prob: 590.8416900288597 Prob: 0.000557147304148625 Frac: 0.3093829103099131\n",
      "Step: 21790 Walker: 35 Trial Log Prob: 589.7774857424457 Prob: 1.281053437779815 Frac: 0.30984086770643654\n",
      "Step: 21824 Walker: 63 Trial Log Prob: 541.2632670934194 Prob: 5.607014744236049e-18 Frac: 0.3099251930868094\n",
      "Step: 21925 Walker: 22 Trial Log Prob: 575.2812530509401 Prob: 0.06533990676711994 Frac: 0.30895837277866434\n",
      "Number of steps: 22000 Acceptance Rate: 0.3089875\n",
      "Step: 22155 Walker: 16 Trial Log Prob: 558.2401091481728 Prob: 2.1111604752066137e-9 Frac: 0.30560959792477305\n",
      "Step: 22197 Walker: 78 Trial Log Prob: 583.8960594834112 Prob: 0.5466614706625612 Frac: 0.3063205990607945\n",
      "Step: 22329 Walker: 35 Trial Log Prob: 588.1127059412071 Prob: 0.9236079091131187 Frac: 0.3044719314938154\n",
      "Step: 22478 Walker: 8 Trial Log Prob: 564.3262333356138 Prob: 6.092195824244128e-5 Frac: 0.3056225110039824\n",
      "Step: 22528 Walker: 2 Trial Log Prob: 590.850744275339 Prob: 0.005416556785792521 Frac: 0.3045633508846829\n",
      "Step: 22597 Walker: 43 Trial Log Prob: 568.0080478276528 Prob: 1.6133478608950306e-5 Frac: 0.30444439787942923\n",
      "Step: 22757 Walker: 6 Trial Log Prob: 585.5495450118538 Prob: 0.5143227830153141 Frac: 0.3063353503290018\n",
      "Step: 22832 Walker: 35 Trial Log Prob: 577.4253096446251 Prob: 0.012100000848457198 Frac: 0.30608133503720963\n",
      "Number of steps: 23000 Acceptance Rate: 0.3069625\n",
      "Step: 23323 Walker: 66 Trial Log Prob: -Inf Prob: 0.0 Frac: 0.3159993804692945\n",
      "Step: 23474 Walker: 62 Trial Log Prob: 588.6158428257883 Prob: 1.103393296763815 Frac: 0.31325523719064957\n",
      "Step: 23646 Walker: 17 Trial Log Prob: 578.7334643444178 Prob: 0.0012040291350322665 Frac: 0.3104791057209834\n",
      "Step: 23823 Walker: 78 Trial Log Prob: 581.1606977902156 Prob: 0.705008668548738 Frac: 0.3100185303320271\n",
      "Step: 23975 Walker: 47 Trial Log Prob: 583.5021448982636 Prob: 0.6537267136866732 Frac: 0.3111188066746188\n",
      "Step: 23990 Walker: 76 Trial Log Prob: 580.5689457661434 Prob: 0.2719487262998564 Frac: 0.3114424970958129\n",
      "Number of steps: 24000 Acceptance Rate: 0.3114625\n",
      "Step: 24405 Walker: 66 Trial Log Prob: -Inf Prob: 0.0 Frac: 0.3161860062990181\n",
      "Step: 24422 Walker: 23 Trial Log Prob: 583.5051084555525 Prob: 0.07756112778134587 Frac: 0.3165000148354746\n",
      "Step: 24564 Walker: 66 Trial Log Prob: 595.0003303825197 Prob: 0.043927722433026714 Frac: 0.3150578636988427\n",
      "Step: 24589 Walker: 12 Trial Log Prob: 586.5824540714882 Prob: 0.7396568741189246 Frac: 0.3145456091133214\n",
      "Step: 24888 Walker: 80 Trial Log Prob: 581.7300350991035 Prob: 0.0783852534420791 Frac: 0.31314752252252254\n",
      "Step: 24898 Walker: 58 Trial Log Prob: 591.3288348053461 Prob: 0.00024840889512892317 Frac: 0.31315269152580133\n",
      "Number of steps: 25000 Acceptance Rate: 0.313675\n",
      "Step: 25117 Walker: 75 Trial Log Prob: 567.6107906813581 Prob: 0.0012573641587263196 Frac: 0.310529128808124\n",
      "Step: 25800 Walker: 80 Trial Log Prob: 565.7234934894476 Prob: 9.75306868429929e-6 Frac: 0.31234375\n",
      "Step: 25814 Walker: 41 Trial Log Prob: 586.7319903168005 Prob: 0.7045532937444771 Frac: 0.31239532275164794\n",
      "Step: 25862 Walker: 74 Trial Log Prob: 582.8830831877597 Prob: 0.02378191448396589 Frac: 0.31239667024393075\n",
      "Step: 25903 Walker: 38 Trial Log Prob: 577.3521021770725 Prob: 0.0009686273713538626 Frac: 0.31226626776364996\n",
      "Step: 25950 Walker: 69 Trial Log Prob: 590.7844241881184 Prob: 18.38136931961723 Frac: 0.3122557212228086\n",
      "Step: 25983 Walker: 76 Trial Log Prob: 586.4182364032002 Prob: 0.6025586176973421 Frac: 0.3120072231547892\n",
      "Step: 25997 Walker: 37 Trial Log Prob: 584.0284734458301 Prob: 0.309295652779605 Frac: 0.31201625751094497\n",
      "Number of steps: 26000 Acceptance Rate: 0.3119125\n",
      "Step: 26007 Walker: 58 Trial Log Prob: 593.2316781834642 Prob: 0.2863429437635464 Frac: 0.2936802973977695\n",
      "Step: 26273 Walker: 71 Trial Log Prob: 593.3616105646795 Prob: 0.06245042892688393 Frac: 0.3094681874398791\n",
      "Step: 26299 Walker: 33 Trial Log Prob: 592.6822674821807 Prob: 0.029576169570870014 Frac: 0.3105181585892012\n",
      "Step: 26337 Walker: 2 Trial Log Prob: 564.4558267528712 Prob: 4.511908810879848e-8 Frac: 0.3108771668774645\n",
      "Step: 26619 Walker: 1 Trial Log Prob: 591.0632441036981 Prob: 0.05098313817552121 Frac: 0.31570963370481986\n",
      "Number of steps: 27000 Acceptance Rate: 0.3146125\n",
      "Step: 27037 Walker: 14 Trial Log Prob: 590.1824048497567 Prob: 0.011867789895202518 Frac: 0.3261921216309606\n",
      "Step: 27041 Walker: 21 Trial Log Prob: 591.3672003741339 Prob: 1.0189342092642357 Frac: 0.3269171064886681\n",
      "Step: 27133 Walker: 9 Trial Log Prob: 592.0312968218634 Prob: 0.9956260202613892 Frac: 0.3226416879553411\n",
      "Step: 27142 Walker: 71 Trial Log Prob: -Inf Prob: 0.0 Frac: 0.3231433353889525\n",
      "Step: 27278 Walker: 28 Trial Log Prob: 592.2337359112912 Prob: 0.0020530995631063446 Frac: 0.3170632774472688\n",
      "Step: 27320 Walker: 22 Trial Log Prob: 563.2095363396787 Prob: 1.4905030379422832e-9 Frac: 0.3174379453449221\n",
      "Step: 27325 Walker: 58 Trial Log Prob: 565.6443652821579 Prob: 4.425718198023602e-7 Frac: 0.3175764108091462\n",
      "Step: 27362 Walker: 8 Trial Log Prob: 579.5912266568537 Prob: 0.04200602662333496 Frac: 0.3161174189975076\n",
      "Step: 27394 Walker: 12 Trial Log Prob: 589.2774366176765 Prob: 1.6467570994507397 Frac: 0.3161325193946331\n",
      "Step: 27492 Walker: 23 Trial Log Prob: 543.5969530725201 Prob: 6.389273628512227e-17 Frac: 0.31554843141744904\n",
      "Step: 27845 Walker: 77 Trial Log Prob: 591.8320602448218 Prob: 0.05556666441374488 Frac: 0.3133718952024498\n",
      "Number of steps: 28000 Acceptance Rate: 0.31445\n",
      "Step: 28032 Walker: 27 Trial Log Prob: 590.7288472394661 Prob: 0.3642228394976627 Frac: 0.30793777423214996\n",
      "Step: 28090 Walker: 17 Trial Log Prob: 582.7158724001422 Prob: 0.0887942882110674 Frac: 0.30615104385596187\n",
      "Step: 28140 Walker: 37 Trial Log Prob: 594.6976539780989 Prob: 0.000428534871825603 Frac: 0.3096710585282782\n",
      "Step: 28152 Walker: 2 Trial Log Prob: 595.6335739983277 Prob: 0.7096973758445522 Frac: 0.3080615792087403\n",
      "Step: 28178 Walker: 43 Trial Log Prob: 575.0439397403848 Prob: 0.005654872639802903 Frac: 0.3076110680842076\n",
      "Step: 28280 Walker: 5 Trial Log Prob: 587.0409462883198 Prob: 1.2012080707579231 Frac: 0.30924972004479284\n",
      "Step: 28637 Walker: 9 Trial Log Prob: 582.2891544905367 Prob: 0.06915952022591577 Frac: 0.31059757511446484\n",
      "Step: 28653 Walker: 77 Trial Log Prob: 592.210571395884 Prob: 5.506166422604303 Frac: 0.3108141738614392\n",
      "Step: 28744 Walker: 76 Trial Log Prob: 568.9902946663984 Prob: 2.8430259959212086e-6 Frac: 0.3113112440352174\n",
      "Number of steps: 29000 Acceptance Rate: 0.3132875\n",
      "Step: 29013 Walker: 19 Trial Log Prob: 487.16499238771485 Prob: 4.5593848634424746e-41 Frac: 0.30745658835546474\n",
      "Step: 29020 Walker: 5 Trial Log Prob: 560.7276931369048 Prob: 3.1225914457865496e-8 Frac: 0.3173770491803279\n",
      "Step: 29058 Walker: 62 Trial Log Prob: 463.78320763129057 Prob: 4.892009749763624e-52 Frac: 0.31977498918217223\n",
      "Step: 29141 Walker: 61 Trial Log Prob: 589.0148375555287 Prob: 0.018272686253094982 Frac: 0.31995382292869196\n",
      "Step: 29191 Walker: 30 Trial Log Prob: 581.0744471834166 Prob: 0.08799270476956648 Frac: 0.31779382797110967\n",
      "Step: 29318 Walker: 68 Trial Log Prob: 593.9857139651675 Prob: 0.42187090379120873 Frac: 0.316383514236275\n",
      "Step: 29463 Walker: 44 Trial Log Prob: 593.1432685116249 Prob: 0.03353684472692629 Frac: 0.31258782834288185\n",
      "Step: 29529 Walker: 28 Trial Log Prob: 549.5149367048356 Prob: 1.4527370397033053e-12 Frac: 0.3121273776852465\n",
      "Step: 29565 Walker: 60 Trial Log Prob: 565.348473679345 Prob: 1.0809416540486962e-5 Frac: 0.3128596724214254\n",
      "Step: 29651 Walker: 20 Trial Log Prob: 588.8916989108953 Prob: 1.0555881101996423 Frac: 0.3112072279892349\n",
      "Step: 29758 Walker: 45 Trial Log Prob: 561.3608410488479 Prob: 2.8900678920095647e-7 Frac: 0.309776421087369\n",
      "Step: 29794 Walker: 33 Trial Log Prob: 583.8772419483711 Prob: 1.0145819784518566 Frac: 0.309659225182361\n",
      "Step: 29937 Walker: 72 Trial Log Prob: -Inf Prob: 0.0 Frac: 0.3107455438147081\n",
      "Number of steps: 30000 Acceptance Rate: 0.3104875\n",
      "Burn-in Number (ends): 1835\n",
      "Independent Sample Size: 5482.417456052482\n",
      "759.664282 seconds (93.20 M allocations: 242.120 GiB, 5.00% gc time)\n"
     ]
    },
    {
     "data": {
      "text/plain": [
       "([169.40144817812612 169.40144817812612 … 587.271885068746 587.271885068746; 461.35238417096207 461.35238417096207 … 587.1830343615181 592.0702639687793; … ; 308.1155788869501 334.53641105079686 … 593.2521418370658 593.2521418370658; 89.14327711492933 89.14327711492933 … 590.1766462098168 590.1766462098168], [2.682892782118084e-6 2.682892782118084e-6 … 2.5338162325368666e-6 2.5338162325368666e-6; 2.4338066567293965e-6 2.4338066567293965e-6 … 2.625496599535467e-6 2.6896237435583953e-6; … ; 2.572313601936117e-6 2.497413053628608e-6 … 2.3416694101915787e-6 2.3416694101915787e-6; 2.466471761975643e-6 2.466471761975643e-6 … 2.6823605707043844e-6 2.6823605707043844e-6]\n",
       "\n",
       "[224.7007701289645 224.7007701289645 … 224.7007913866563 224.7007913866563; 224.70077808199323 224.70077808199323 … 224.70078477553702 224.70078156619593; … ; 224.70077168539868 224.70077348161837 … 224.7007768374927 224.7007768374927; 224.70077485287499 224.70077485287499 … 224.70078004487257 224.70078004487257]\n",
       "\n",
       "[3503.7653422213903 3503.7653422213903 … 3503.7651317302175 3503.7651317302175; 3503.7653480237564 3503.7653480237564 … 3503.7651792789766 3503.7652939944455; … ; 3503.7653430064347 3503.765349285134 … 3503.7654538217844 3503.7654538217844; 3503.765351915373 3503.765351915373 … 3503.765306591815 3503.765306591815]\n",
       "\n",
       "...\n",
       "\n",
       "[0.006585674588328778 0.006585674588328778 … 0.02845002515511149 0.02845002515511149; 0.0206522527059037 0.0206522527059037 … -0.0011892423460958283 -0.00424769441125183; … ; 0.013315998842568816 0.013344049619222888 … 0.032965890508966166 0.032965890508966166; 0.02869274745519496 0.02869274745519496 … 0.03337592753549669 0.03337592753549669]\n",
       "\n",
       "[-0.03987825923079658 -0.03987825923079658 … -0.058636680479761186 -0.058636680479761186; -0.04222914196143263 -0.04222914196143263 … -0.02296450134406247 -0.01564568989243525; … ; -0.03939494002954631 -0.04637131720749748 … -0.02896735349632976 -0.02896735349632976; -0.04313393428602042 -0.04313393428602042 … -0.0576163221525055 -0.0576163221525055]\n",
       "\n",
       "[3.6420099353468734e-9 3.6420099353468734e-9 … 9.036408406029748e-8 9.036408406029748e-8; 2.4325389631122425e-9 2.4325389631122425e-9 … 9.671397777645492e-8 9.728832034953255e-8; … ; 8.111134408027601e-9 6.94639484783463e-9 … 3.6272603912460206e-8 3.6272603912460206e-8; 1.3709170114853338e-8 1.3709170114853338e-8 … 1.2319765006081267e-7 1.2319765006081267e-7])"
      ]
     },
     "execution_count": 14,
     "metadata": {},
     "output_type": "execute_result"
    }
   ],
   "source": [
    "include(\"MCMC.jl\")\n",
    "foutput=string(\"MCMC/fromEMB/p\",3,\"_mcmc\",30,\"s\",30,\"yrs.jld2\")\n",
    "p=jldopen(\"FITS/fromEMB/p3_fit30s30yrs.jld2\",\"r\")\n",
    "@time MCMC(foutput,p[string(\"best_p\",3)],p[string(\"lprob_best_p\",3)],30000,80,3,p[\"ntrans\"][1:3],p[\"tt0\"],p[\"tt\"],p[\"sigtt\"],true,true)"
   ]
  },
  {
   "cell_type": "code",
   "execution_count": 16,
   "metadata": {},
   "outputs": [
    {
     "name": "stdout",
     "output_type": "stream",
     "text": [
      "Retrieved masses.\n",
      "[0.8425190719960819, 1.007486060929999, 236.7495788346493] +/- [0.06590501098325059, 0.04563773915654923, 50.09729854164013]\n",
      "Retrieved periods.\n",
      "[224.70078027605965, 365.2564541126595, 4204.494109655528] +/- [4.760203901121633e-6, 1.0727564492812934e-5, 59.80817119970429]\n",
      "Retrieved eccentricities.\n",
      "[0.009003743854717496, 0.01493392086511449, 0.04670464983661259] +/- [0.006982018475401733, 0.006460756901152726, 0.026555286607209138]\n",
      "Retrieved σ_tot.\n",
      "[40.01570832281971]\n"
     ]
    },
    {
     "data": {
      "text/plain": [
       "([0.8425190719960819, 1.007486060929999, 236.7495788346493], [0.06590501098325059, 0.04563773915654923, 50.09729854164013], [224.70078027605965, 365.2564541126595, 4204.494109655528], [4.760203901121633e-6, 1.0727564492812934e-5, 59.80817119970429], [40.01570832281971])"
      ]
     },
     "execution_count": 16,
     "metadata": {},
     "output_type": "execute_result"
    }
   ],
   "source": [
    "get_vals(30,30,\"EMB\",\"p3\") #new results"
   ]
  },
  {
   "cell_type": "code",
   "execution_count": 17,
   "metadata": {},
   "outputs": [
    {
     "name": "stdout",
     "output_type": "stream",
     "text": [
      "Retrieved masses.\n",
      "[0.7846710502401281, 1.0065207391353952, 244.3755395343793] +/- [0.13679758424267405, 0.045678000789704756, 50.1794266129493]\n",
      "Retrieved periods.\n",
      "[224.70078000075085, 365.25645261372506, 4218.172284568888] +/- [4.798818833751541e-6, 1.1221499868887634e-5, 61.324221873301624]\n",
      "Retrieved eccentricities.\n",
      "[0.008820366782207562, 0.0143431619478587, 0.0394397914007051] +/- [0.006862252476600565, 0.006125242665288864, 0.0247901131694526]\n",
      "Retrieved σ_tot.\n",
      "[40.68796455799439]\n"
     ]
    },
    {
     "data": {
      "text/plain": [
       "([0.7846710502401281, 1.0065207391353952, 244.3755395343793], [0.13679758424267405, 0.045678000789704756, 50.1794266129493], [224.70078000075085, 365.25645261372506, 4218.172284568888], [4.798818833751541e-6, 1.1221499868887634e-5, 61.324221873301624], [40.68796455799439])"
      ]
     },
     "execution_count": 17,
     "metadata": {},
     "output_type": "execute_result"
    }
   ],
   "source": [
    "get_vals(30,30,\"noEMB\",\"p3moon\")"
   ]
  },
  {
   "cell_type": "code",
   "execution_count": 28,
   "metadata": {},
   "outputs": [
    {
     "ename": "JLD2.InvalidDataException",
     "evalue": "\u001b[91mJLD2.InvalidDataException()\u001b[39m",
     "output_type": "error",
     "traceback": [
      "\u001b[91mJLD2.InvalidDataException()\u001b[39m",
      "",
      "Stacktrace:",
      " [1] read_obj_start(::JLD2.MmapIO) at /Users/bethleelindor/.julia/packages/JLD2/eU405/src/object_headers.jl:47",
      " [2] isgroup(::JLD2.JLDFile{JLD2.MmapIO}, ::JLD2.RelOffset) at /Users/bethleelindor/.julia/packages/JLD2/eU405/src/object_headers.jl:74",
      " [3] getindex(::JLD2.Group{JLD2.JLDFile{JLD2.MmapIO}}, ::String) at /Users/bethleelindor/.julia/packages/JLD2/eU405/src/groups.jl:103",
      " [4] getindex(::JLD2.JLDFile{JLD2.MmapIO}, ::String) at /Users/bethleelindor/.julia/packages/JLD2/eU405/src/JLD2.jl:342",
      " [5] top-level scope at In[28]:1"
     ]
    }
   ],
   "source": [
    "l=jldopen(\"FITS/p3_fit10.0s30.0yrs.jld2\",\"r\");l[\"best_p3\"]"
   ]
  },
  {
   "cell_type": "code",
   "execution_count": 22,
   "metadata": {},
   "outputs": [
    {
     "name": "stdout",
     "output_type": "stream",
     "text": [
      "3871.649999999999-276.5774874289421\n",
      "3928.7568520770733-339.62147473138464\n",
      "3986.706030437296-333.59056720457716\n",
      "4045.509959396515-327.04507759362735\n",
      "4105.181246529289-320.68509412175524\n",
      "4165.732685371933-314.5047926547916\n",
      "4227.177258165488-307.3752542362572\n",
      "4289.528138639092-301.58034049349607\n",
      "4352.798694834437-297.8492546887256\n",
      "4417.002491971883-296.5415026816816\n",
      "4482.153295358842-297.47249206867536\n",
      "4548.265073341053-300.05621302844133\n",
      "4615.352000297417-303.61150276988235\n",
      "4683.428459678977-307.58124087445754\n",
      "4752.509047092726-311.595135307827\n",
      "4822.608573430924-315.44241474784127\n",
      "4893.742068046544-319.0227176178231\n",
      "4965.924781975563-321.9440206445472\n",
      "5039.17219120681-324.66485808081626\n",
      "5113.499999999999-327.2475861517312\n"
     ]
    }
   ],
   "source": [
    "for i=1:20\n",
    "println(p3fit[\"p3\"][i],p3fit[\"lprob_p3\"][i]) \n",
    "end"
   ]
  },
  {
   "cell_type": "code",
   "execution_count": 10,
   "metadata": {},
   "outputs": [
    {
     "data": {
      "text/plain": [
       "Array{Float64,1}"
      ]
     },
     "execution_count": 10,
     "metadata": {},
     "output_type": "execute_result"
    }
   ],
   "source": [
    "typeof(p3fit[\"p3\"])"
   ]
  },
  {
   "cell_type": "code",
   "execution_count": 4,
   "metadata": {},
   "outputs": [
    {
     "data": {
      "text/plain": [
       "JLDFile /Users/bethleelindor/work/washington/ttv_project/ttv_ss/MCMC/p3_mcmc10.0s30.0yrs.jld2 (read-only)\n",
       " ├─🔢 par_mcmc\n",
       " ├─🔢 lprob_mcmc\n",
       " ├─🔢 param\n",
       " ├─🔢 nwalkers\n",
       " ├─🔢 nsteps\n",
       " ├─🔢 accept\n",
       " ├─🔢 iburn\n",
       " └─🔢 indepsamples"
      ]
     },
     "execution_count": 4,
     "metadata": {},
     "output_type": "execute_result"
    }
   ],
   "source": [
    "p3mcmc=jldopen(\"MCMC/p3_mcmc10.0s30.0yrs.jld2\",\"r\")"
   ]
  },
  {
   "cell_type": "code",
   "execution_count": null,
   "metadata": {},
   "outputs": [],
   "source": []
  },
  {
   "cell_type": "markdown",
   "metadata": {},
   "source": [
    "### Fit 3 planets with moon"
   ]
  },
  {
   "cell_type": "code",
   "execution_count": 7,
   "metadata": {
    "collapsed": true,
    "jupyter": {
     "outputs_hidden": true
    },
    "tags": []
   },
   "outputs": [
    {
     "name": "stdout",
     "output_type": "stream",
     "text": [
      "Initial parameters: [3.0e-6, 224.70077409575646, 3503.7654852567784, 0.01, 0.01, 3.0e-6, 365.25642665702384, 3624.4026384093218, 0.01, 0.01]\n",
      "Initial chi-square: 812.3590569057454\n",
      "Finished 2-planet fit in 2 iterations.\n",
      "New 2-planet chi-square: 582.8973442491646\n",
      "Param: [2.9380153697129402e-6, 224.70077831626037, 3503.765429099878, 0.03081019305418419, 0.011457500858907978, 3.2595689949612584e-6, 365.25643295059126, 3624.402560434307, 0.038440262285722275, 0.010409974573520126]\n",
      "Period: 4017.7500000000005 log Prob: -189.46601221816414 Param: [2.5291201524506193e-6, 224.700781748719, 3503.765315553172, -0.007524154721604066, 0.010310348089924117, 2.9904249311384083e-6, 365.2564682064298, 3624.401973096343, 0.007758608735543599, 0.010430703981311303, 0.0006103586520948597, 4017.7500000000005, 972.8355592397501, -0.002904010437680954, -0.05281346533802197]\n",
      "Period: 4056.781702757627 log Prob: -187.20238046950385 Param: [2.5281086994377596e-6, 224.70078146708605, 3503.765320065127, -0.006599849725811015, 0.009711242703153133, 2.9973746702777896e-6, 365.256465948805, 3624.402000797486, 0.00856714042230036, 0.010067341880232419, 0.000649377787207032, 4056.781702757627, 4956.402230292721, 0.0031396536154964395, -0.05011003220554601]\n",
      "Period: 4096.192591333222 log Prob: -185.41418601543853 Param: [2.5292991591729155e-6, 224.70078116161716, 3503.765325638571, -0.0056084236722740485, 0.008976156759774296, 3.0045280766476537e-6, 365.2564633118458, 3624.402035801624, 0.009440883635004069, 0.009592727120021039, 0.000685674904515442, 4096.192591333222, 4921.611735122075, 0.007913764596674156, -0.0476433840410263]\n",
      "Period: 4135.986349447318 log Prob: -184.13326215635314 Param: [2.5323193064726967e-6, 224.70078082848644, 3503.76533232898, -0.004576770011152452, 0.008210885620231204, 3.0118015531216205e-6, 365.25646032261517, 3624.402077713823, 0.010353246056765372, 0.009082582696305287, 0.0007190378407835929, 4135.986349447318, 4885.546652823912, 0.011639524093089448, -0.045480120068793047]\n",
      "Period: 4176.166696607103 log Prob: -183.3847410623799 Param: [2.5370173871897092e-6, 224.70078046755515, 3503.7653400972836, -0.003523372758538276, 0.007522752329747266, 3.0192185788636095e-6, 365.256457010112, 3624.4021259824267, 0.01128213551046753, 0.00861360461426161, 0.0007490656511201146, 4176.166696607103, 4847.607592260885, 0.014454776924826593, -0.04368456020533286]\n",
      "Period: 4216.737388454095 log Prob: -183.19247695685576 Param: [2.543357938406538e-6, 224.7007800822674, 3503.7653488324368, -0.002461915561507995, 0.006999212661053815, 3.0268677044292813e-6, 365.25645341257757, 3624.4021798423655, 0.012208869733820961, 0.008246568619797686, 0.0007751750589424476, 4216.737388454095, 4807.434005615941, 0.016429932218499664, -0.04229488134532674]\n",
      "Period: 4257.702217115189 log Prob: -183.57934879789877 Param: [2.5513357205631825e-6, 224.70077967873988, 3503.7653583769907, -0.0014036088965117984, 0.006703792209843927, 3.0348579772389144e-6, 365.2564495833558, 3624.4022382697467, 0.013117835654032092, 0.008023411007976928, 0.0007965735788720952, 4257.702217115189, 4764.884027738413, 0.017583474357286907, -0.04133082204580161]\n",
      "Period: 4299.065011557085 log Prob: -184.56048514940517 Param: [2.5608832735226847e-6, 224.70077926431966, 3503.765368560046, -0.0003576778043940682, 0.006664828748926994, 3.0432703403439154e-6, 365.25644559520424, 3624.402299940741, 0.013997588250231983, 0.007959056038619239, 0.0008123167479713188, 4299.065011557085, 421.03485143835934, 0.017893257888165967, -0.04078921222306382]\n",
      "Period: 4340.82963794419 log Prob: -186.1311184591181 Param: [2.572031110106982e-6, 224.7007788460194, 3503.765379219579, 0.0006834328213806198, 0.006880038119496777, 3.052202987937079e-6, 365.25644153889334, 3624.4023632665985, 0.014853045412432365, 0.008045642024665798, 0.0008210837904451023, 4340.82963794419, 4673.413347981261, 0.017269084106682674, -0.04067085887557196]\n",
      "Period: 4383.0 log Prob: -188.25417340461652 Param: [2.5850980272457727e-6, 224.70077842927293, 3503.765390216425, 0.0017518211507296735, 0.007330950480992764, 3.0617837252815036e-6, 365.25643751949093, 3624.402426460084, 0.015711322295287142, 0.008265261329565078, 0.000821189471862028, 4383.0, 4625.152661169301, 0.015547907794859702, -0.041007419700806624]\n",
      "Finished 3-planet fit w/ fixed period: [2.543357938406538e-6, 224.7007800822674, 3503.7653488324368, -0.002461915561507995, 0.006999212661053815, 3.0268677044292813e-6, 365.25645341257757, 3624.4021798423655, 0.012208869733820961, 0.008246568619797686, 0.0007751750589424476, 4216.737388454095, 4807.434005615941, 0.016429932218499664, -0.04229488134532674]\n",
      "Finished global 3-planet fit in 2 iterations.\n",
      "New 3-planet chi-square: 109.62309159252042\n",
      "Maximum: -183.18487363935458 Param: [2.54221325224715e-6, 224.70078014619605, 3503.7653473561827, -0.0026345136279696765, 0.007069730982741328, 3.0256043008594486e-6, 365.25645401372145, 3624.4021707620127, 0.012059105014406485, 0.008297004733231224, 0.0007712456797489318, 4210.127279427517, 4814.116162382293, 0.016166728775144693, -0.04249075208242041]\n",
      "deltaphi: 2.2 log Prob: -182.50761439274407 Param: [2.4591418675441334e-6, 224.70077996842682, 3503.7653534832216, -0.0015138696177299865, 0.002242521722878243, 3.03044297938773e-6, 365.25645316156186, 3624.402183255457, 0.013008556234075534, 0.0044624243631874, 0.0007827193201057049, 4218.097641175893, 4855.054228817874, 0.014917336195401538, -0.036197536422480366, -0.00010047924796663892, 0.00015525234334849285, 2.2]\n",
      "deltaphi: 2.2222222222222223 log Prob: -181.9617472028589 Param: [2.459144240401932e-6, 224.7007799684496, 3503.765353482608, -0.0015140160225403513, 0.00224283778197744, 3.0304419944342627e-6, 365.2564531617073, 3624.402183253202, 0.01300842824206382, 0.004462675856487452, 0.0007827188646389571, 4218.096249844645, 4855.0523331324175, 0.014917463112443526, -0.03619793873143059, -0.00010047469062985657, 0.00015525325848409193, 2.2222222222222223]\n",
      "deltaphi: 2.2444444444444445 log Prob: -181.9160005352842 Param: [2.4591388048307687e-6, 224.7007799684334, 3503.7653534832025, -0.001514107630042427, 0.0022424870697319043, 3.030441704227052e-6, 365.2564531616273, 3624.402183254602, 0.013008375107400468, 0.004462403097542493, 0.0007827241829945594, 4218.096958801271, 4855.056080147948, 0.01491806608993245, -0.03619711788408902, -0.00010047933773990092, 0.0001552525918543987, 2.2444444444444445]\n",
      "deltaphi: 2.2666666666666666 log Prob: -182.3462464465924 Param: [2.459139056983172e-6, 224.7007799684309, 3503.7653534831356, -0.0015143294518548014, 0.00224277606724104, 3.030440344461374e-6, 365.2564531616271, 3624.4021832545086, 0.0130081939783582, 0.004462648765811144, 0.000782728124253297, 4218.097458907056, 4855.0512673532185, 0.01491885573426368, -0.03619758829879436, -0.00010047908314717796, 0.00015525094067131803, 2.2666666666666666]\n",
      "deltaphi: 2.2888888888888888 log Prob: -183.08984139634154 Param: [2.4591333075211803e-6, 224.70077996840908, 3503.7653534839137, -0.0015141597089119287, 0.002242091836264093, 3.030441436541907e-6, 365.25645316157585, 3624.402183255514, 0.01300835313234931, 0.004462098299395355, 0.0007827295573927148, 4218.097810582235, 4855.058872138668, 0.014918714241588147, -0.036196524820950225, -0.00010048733536210807, 0.00015524963403732684, 2.2888888888888888]\n",
      "deltaphi: 2.311111111111111 log Prob: -183.93146254124864 Param: [2.459139528260353e-6, 224.70077996842508, 3503.7653534833594, -0.0015139807984002292, 0.002242409906593718, 3.030442408914338e-6, 365.25645316158307, 3624.4021832552257, 0.013008475264937447, 0.004462339235558189, 0.0007827222218606332, 4218.097624113853, 4855.055687605795, 0.014917754443503347, -0.0361972045325031, -0.00010048095668662861, 0.00015525185330011256, 2.311111111111111]\n",
      "deltaphi: 2.3333333333333335 log Prob: -185.794975346647 Param: [2.62599096075969e-6, 224.70078009678448, 3503.765346770256, -0.0035049384474838937, 0.009869845814574769, 3.026075917035405e-6, 365.2564528436166, 3624.402198731779, 0.011643960833027316, 0.010404859039115037, 0.0007776453618411114, 4220.741579738228, 4774.919806187765, 0.018176995381012303, -0.04493032953336457, -0.000247143363483737, -7.965386863461536e-5, 2.3333333333333335]\n",
      "deltaphi: 2.3555555555555556 log Prob: -185.9318787782085 Param: [2.626013481412943e-6, 224.7007800967871, 3503.765346769882, -0.003504780632791882, 0.009870082086295638, 3.026077302394163e-6, 365.2564528434618, 3624.402198733801, 0.011644110885423074, 0.010405010620332375, 0.0007776377427869337, 4220.742407964061, 4774.916234942813, 0.018175834246516236, -0.044931137173385115, -0.0002471496543664575, -7.964369954787148e-5, 2.3555555555555556]\n",
      "deltaphi: 2.3777777777777778 log Prob: -185.82286829680345 Param: [2.6260075078356456e-6, 224.7007800967836, 3503.765346770117, -0.003504943864271285, 0.009869970477841411, 3.026076251198519e-6, 365.2564528435085, 3624.402198733231, 0.011643977028022619, 0.010404942404362029, 0.0007776443451510217, 4220.742096993999, 4774.917783649655, 0.01817686828960376, -0.044930587352866425, -0.0002471508507601391, -7.963755202330197e-5, 2.3777777777777778]\n",
      "deltaphi: 2.4 log Prob: -185.2438600985282 Param: [2.625993348541555e-6, 224.700780096792, 3503.7653467699756, -0.0035049803692421442, 0.00987005864555743, 3.0260758304834787e-6, 365.25645284361116, 3624.4021987317838, 0.011643926604910822, 0.010405020551217363, 0.000777643199223874, 4220.741863827221, 4774.917811768278, 0.018176681504790897, -0.044930627670427596, -0.00024714483637784033, -7.96511320040835e-5, 2.4]\n",
      "Finished global lunar fit in 2 iterations.\n",
      "3-planet lunar chi-square: 105.9925066775661\n",
      "Maximum: -181.8713675957964 Param: [2.459137568961616e-6, 224.7007799684284, 3503.765353483366, -0.001514266148458868, 0.0022424477277027846, 3.030440781073223e-6, 365.2564531616774, 3624.4021832537937, 0.013008255820559226, 0.00446238274600374, 0.0007827285087471828, 4218.096902213769, 4855.056186383757, 0.01491875009236496, -0.036196969357057865, -0.00010047923994553857, 0.00015525262477382573, 2.235196526904218]\n",
      " 14.686920 seconds (9.08 M allocations: 649.371 MiB, 2.02% gc time)\n"
     ]
    },
    {
     "data": {
      "text/plain": [
       "([2.54221325224715e-6, 224.70078014619605, 3503.7653473561827, -0.0026345136279696765, 0.007069730982741328, 3.0256043008594486e-6, 365.25645401372145, 3624.4021707620127, 0.012059105014406485, 0.008297004733231224, 0.0007712456797489318, 4210.127279427517, 4814.116162382293, 0.016166728775144693, -0.04249075208242041], [2.459137568961616e-6, 224.7007799684284, 3503.765353483366, -0.001514266148458868, 0.0022424477277027846, 3.030440781073223e-6, 365.2564531616774, 3624.4021832537937, 0.013008255820559226, 0.00446238274600374, 0.0007827285087471828, 4218.096902213769, 4855.056186383757, 0.01491875009236496, -0.036196969357057865, -0.00010047923994553857, 0.00015525262477382573, 2.235196526904218])"
      ]
     },
     "execution_count": 7,
     "metadata": {},
     "output_type": "execute_result"
    }
   ],
   "source": [
    "include(\"fit_moon.jl\")\n",
    "@time fit_moon(\"INPUTS/tt_30.0sEMB30.0yrs.txt\", jd1, 30, 30, 2430000, 1e-5, 11*365.25, 12*365.25, 10,2,2.2,2.4,10)"
   ]
  },
  {
   "cell_type": "code",
   "execution_count": 27,
   "metadata": {
    "collapsed": true,
    "jupyter": {
     "outputs_hidden": true
    },
    "tags": []
   },
   "outputs": [
    {
     "name": "stdout",
     "output_type": "stream",
     "text": [
      "Loading.... FITS/p3_fit30s30yrs.jld2\n",
      "Previous model params: [3.9054143218903965e-6, 224.70078008469463, 3503.768675936336, -0.06713129085431972, -0.057465222100601364, 2.6456719043334846e-6, 365.25646164115346, 3624.40734259709, -0.03675516797288188, -0.043738317868158474, 0.00034969118061929096, 4187.244650961268, 1498.0946294769674, -0.1134873127886096, 0.12687238048733113]\n",
      "Finished lunar search: [2.3844520331435646e-6, 224.70077994566037, 3503.768678133486, -0.0007783380263909741, 0.0021738287415496837, 3.0322030524457964e-6, 365.2564518574759, 3624.4074914709117, 0.013218145402848224, 0.004282806404613346, 0.00078685555354462, 4227.19195270933, 619.1203942883191, 0.01397547862577287, -0.034429446381108446, -1.5301800832127586e-5, -0.0018231262500707942, 2.311111111111111] in 20 iterations\n",
      "Finished global moon fit.\n",
      "Lunar chi-square: 108.28194173979914\n",
      "Maximum: -182.70479748946045 Param: [2.384424432392215e-6, 224.7007799456815, 3503.768678133689, -0.0007783247539810868, 0.0021727247987452162, 3.0322029402257203e-6, 365.25645185796003, 3624.407491463483, 0.013218159190585116, 0.004281927757742217, 0.0007868596724091433, 4227.186843338152, 619.1468842361991, 0.013975790714605026, -0.03442714789237476, -1.530082935088796e-5, -0.0018231379967262153, 2.3129311609831533]\n",
      "  3.790509 seconds (1.92 M allocations: 190.510 MiB, 2.36% gc time)\n"
     ]
    },
    {
     "data": {
      "text/plain": [
       "18-element Array{Float64,1}:\n",
       "    2.384424432392215e-6 \n",
       "  224.7007799456815      \n",
       " 3503.768678133689       \n",
       "   -0.0007783247539810868\n",
       "    0.0021727247987452162\n",
       "    3.0322029402257203e-6\n",
       "  365.25645185796003     \n",
       " 3624.407491463483       \n",
       "    0.013218159190585116 \n",
       "    0.004281927757742217 \n",
       "    0.0007868596724091433\n",
       " 4227.186843338152       \n",
       "  619.1468842361991      \n",
       "    0.013975790714605026 \n",
       "   -0.03442714789237476  \n",
       "   -1.530082935088796e-5 \n",
       "   -0.0018231379967262153\n",
       "    2.3129311609831533   "
      ]
     },
     "execution_count": 27,
     "metadata": {},
     "output_type": "execute_result"
    }
   ],
   "source": [
    "include(\"fit_moon.jl\")\n",
    "@time fit_moon(jd1,30,30,2430000,1e-5,2.2,2.4,10,3)"
   ]
  },
  {
   "cell_type": "code",
   "execution_count": 12,
   "metadata": {
    "collapsed": true,
    "jupyter": {
     "outputs_hidden": true
    },
    "tags": []
   },
   "outputs": [
    {
     "name": "stdout",
     "output_type": "stream",
     "text": [
      "Parameters from fit: [2.384424432392215e-6, 224.7007799456815, 3503.768678133689, -0.0007783247539810868, 0.0021727247987452162, 3.0322029402257203e-6, 365.25645185796003, 3624.407491463483, 0.013218159190585116, 0.004281927757742217, 0.0007868596724091433, 4227.186843338152, 619.1468842361991, 0.013975790714605026, -0.03442714789237476, -1.530082935088796e-5, -0.0018231379967262153, 2.3129311609831533]\n",
      "Maximum log Prob from fit: -182.70479748946045\n",
      "Step: 32 Walker: 1 Trial Log Prob: 593.6873341792112 Prob: 0.3062756889948131 Frac: 0.35066505441354295\n",
      "Step: 78 Walker: 60 Trial Log Prob: 591.0694048580519 Prob: 0.00312558226823152 Frac: 0.3409967845659164\n",
      "Step: 108 Walker: 30 Trial Log Prob: 561.0591092283316 Prob: 4.629222021531672e-8 Frac: 0.33317811408614667\n",
      "Step: 140 Walker: 47 Trial Log Prob: 587.7013540920047 Prob: 1.470772618294789 Frac: 0.328557356496821\n",
      "Step: 278 Walker: 6 Trial Log Prob: 590.5171227283149 Prob: 0.25308874059290126 Frac: 0.315798971397636\n",
      "Step: 431 Walker: 74 Trial Log Prob: 592.4160370960328 Prob: 0.5641430392665768 Frac: 0.3112490572605442\n",
      "Step: 913 Walker: 48 Trial Log Prob: 580.8010511785183 Prob: 0.31472477290450535 Frac: 0.3051720359412667\n",
      "Number of steps: 1000 Acceptance Rate: 0.304325\n",
      "Step: 1188 Walker: 4 Trial Log Prob: 592.8326359254432 Prob: 1.1703055579840356 Frac: 0.2937717187917669\n",
      "Step: 1325 Walker: 59 Trial Log Prob: 573.9574668895604 Prob: 0.012451273390206654 Frac: 0.2933908156588013\n",
      "Step: 1386 Walker: 23 Trial Log Prob: 586.7697217450866 Prob: 0.00018261040231152607 Frac: 0.29072445900788374\n",
      "Step: 1493 Walker: 50 Trial Log Prob: 579.8608214732126 Prob: 0.5792044762534595 Frac: 0.2911190053285968\n",
      "Step: 1577 Walker: 22 Trial Log Prob: 588.7872197672242 Prob: 0.6011014005062723 Frac: 0.28992234610212136\n",
      "Step: 1580 Walker: 31 Trial Log Prob: 591.5114115436454 Prob: 0.009946769052465006 Frac: 0.2899398071239024\n",
      "Step: 1671 Walker: 54 Trial Log Prob: 579.8460669198194 Prob: 0.12182079094504994 Frac: 0.28914899168747904\n",
      "Step: 1707 Walker: 78 Trial Log Prob: 588.1395434602513 Prob: 0.8146733404299883 Frac: 0.2893489868807242\n",
      "Step: 1773 Walker: 39 Trial Log Prob: 594.0124135715373 Prob: 0.2233931635013616 Frac: 0.28879108076182464\n",
      "Step: 1942 Walker: 58 Trial Log Prob: 575.6719435950421 Prob: 0.021408037805102552 Frac: 0.28933605882821417\n",
      "Number of steps: 2000 Acceptance Rate: 0.2892625\n",
      "Step: 2070 Walker: 22 Trial Log Prob: 592.5944783438141 Prob: 0.014800302609289159 Frac: 0.27607361963190186\n",
      "Step: 2239 Walker: 35 Trial Log Prob: 590.4149085006939 Prob: 1.1066350715563762 Frac: 0.2819397116644823\n",
      "Step: 2280 Walker: 11 Trial Log Prob: 579.2574569412972 Prob: 0.38624254982923023 Frac: 0.28122341140119117\n",
      "Step: 2340 Walker: 68 Trial Log Prob: 582.5761193262305 Prob: 0.19721929320560674 Frac: 0.28299249668971604\n",
      "Step: 2413 Walker: 29 Trial Log Prob: 566.0303004864179 Prob: 0.00015775607926406325 Frac: 0.28536784988935704\n",
      "Step: 2621 Walker: 75 Trial Log Prob: -Inf Prob: 0.0 Frac: 0.2871263210870659\n",
      "Step: 2640 Walker: 10 Trial Log Prob: 577.3017700940356 Prob: 0.028122967981772738 Frac: 0.2870721689810288\n",
      "Step: 2689 Walker: 67 Trial Log Prob: 591.6635158052294 Prob: 0.7740031565300587 Frac: 0.2873863574500517\n",
      "Step: 2796 Walker: 70 Trial Log Prob: 564.1539054489356 Prob: 0.000351206422048883 Frac: 0.2871053871525051\n",
      "Step: 2892 Walker: 14 Trial Log Prob: 383.4098355591388 Prob: 2.7165703931384186e-78 Frac: 0.2875557550425001\n",
      "Step: 2892 Walker: 18 Trial Log Prob: 588.0927336712432 Prob: 0.5588132046103714 Frac: 0.2875396224298017\n",
      "Step: 2987 Walker: 23 Trial Log Prob: 588.2828865216974 Prob: 1.0132200131296962 Frac: 0.2877076917227482\n",
      "Number of steps: 3000 Acceptance Rate: 0.2877875\n",
      "Step: 3045 Walker: 48 Trial Log Prob: 570.9854869182449 Prob: 0.004482638058958987 Frac: 0.2954035874439462\n",
      "Step: 3090 Walker: 37 Trial Log Prob: 586.9039537650355 Prob: 0.2277704027142012 Frac: 0.2955148805365377\n",
      "Step: 3177 Walker: 56 Trial Log Prob: 550.055497554308 Prob: 6.391838265177315e-13 Frac: 0.291383701188455\n",
      "Step: 3262 Walker: 60 Trial Log Prob: 564.7661874659194 Prob: 1.513984263207628e-7 Frac: 0.2934574976122254\n",
      "Step: 3313 Walker: 70 Trial Log Prob: 587.9363991020086 Prob: 1.4865296203022234 Frac: 0.29468637634838196\n",
      "Step: 3395 Walker: 67 Trial Log Prob: 585.3814573108251 Prob: 0.35007511398478564 Frac: 0.29413999430145316\n",
      "Step: 3610 Walker: 12 Trial Log Prob: 583.5403554436331 Prob: 0.14214326730727367 Frac: 0.288865632438644\n",
      "Step: 3795 Walker: 55 Trial Log Prob: 561.0445254824914 Prob: 1.272024786481863e-7 Frac: 0.2892489186000787\n",
      "Number of steps: 4000 Acceptance Rate: 0.28935\n",
      "Step: 4043 Walker: 63 Trial Log Prob: 591.85221382188 Prob: 0.06768864217095785 Frac: 0.28366929593923457\n",
      "Step: 4302 Walker: 17 Trial Log Prob: 584.6671608983985 Prob: 1.3809380294487918 Frac: 0.2831887786861435\n",
      "Step: 4439 Walker: 36 Trial Log Prob: 594.5543260898719 Prob: 0.0060150858477152295 Frac: 0.28267191241874784\n",
      "Step: 4761 Walker: 20 Trial Log Prob: 591.1831422132342 Prob: 0.2477815377913788 Frac: 0.28495560670831965\n",
      "Step: 4863 Walker: 75 Trial Log Prob: 590.3284946690421 Prob: 1.1006224601261103 Frac: 0.2855073513435214\n",
      "Number of steps: 5000 Acceptance Rate: 0.28525\n",
      "Step: 5058 Walker: 76 Trial Log Prob: 592.3054939465861 Prob: 0.6425618311701643 Frac: 0.2780414150129422\n",
      "Step: 5165 Walker: 23 Trial Log Prob: 589.9282842755846 Prob: 0.0269011937239326 Frac: 0.2834969185117553\n",
      "Step: 5194 Walker: 76 Trial Log Prob: 587.3006500542064 Prob: 9.69750046821384 Frac: 0.28377159061613816\n",
      "Step: 5292 Walker: 69 Trial Log Prob: 568.9313034572192 Prob: 0.0006591245324262261 Frac: 0.2839093751338387\n",
      "Step: 5346 Walker: 65 Trial Log Prob: 583.7715948622449 Prob: 1.0720050442192923 Frac: 0.28682450750045185\n",
      "Step: 5431 Walker: 44 Trial Log Prob: 582.6072093492415 Prob: 0.7352956289393409 Frac: 0.28571013819533153\n",
      "Step: 5712 Walker: 44 Trial Log Prob: 554.1250880593005 Prob: 2.072553626792128e-10 Frac: 0.28522240179888975\n",
      "Step: 5907 Walker: 24 Trial Log Prob: 568.7838085391802 Prob: 0.0003814258549893336 Frac: 0.2846187796535364\n",
      "Number of steps: 6000 Acceptance Rate: 0.283375\n",
      "Step: 6039 Walker: 32 Trial Log Prob: 539.5091183771509 Prob: 1.982407454639019e-14 Frac: 0.3079427083333333\n",
      "Step: 6068 Walker: 68 Trial Log Prob: 578.8616652712008 Prob: 0.05839515612179707 Frac: 0.2932940309506264\n",
      "Step: 6098 Walker: 17 Trial Log Prob: 595.2738123848359 Prob: 0.0004549519092190276 Frac: 0.2931721743602932\n",
      "Step: 6368 Walker: 46 Trial Log Prob: 539.8063824079672 Prob: 6.946970622144274e-12 Frac: 0.28528191525539004\n",
      "Step: 6532 Walker: 1 Trial Log Prob: 550.4608689066062 Prob: 7.888832608944827e-13 Frac: 0.2862691556225136\n",
      "Step: 6794 Walker: 50 Trial Log Prob: 554.0760620204203 Prob: 4.0629671717225837e-7 Frac: 0.28270593794298315\n",
      "Step: 6956 Walker: 50 Trial Log Prob: 587.6910799040602 Prob: 0.00011665678313386847 Frac: 0.2820143884892086\n",
      "Number of steps: 7000 Acceptance Rate: 0.281825\n",
      "Step: 7241 Walker: 31 Trial Log Prob: 551.4816202827427 Prob: 1.3089078622717853e-11 Frac: 0.28079663044043474\n",
      "Step: 7284 Walker: 71 Trial Log Prob: 559.9879540687155 Prob: 1.5829430983980286e-6 Frac: 0.28118532869534585\n",
      "Step: 7330 Walker: 61 Trial Log Prob: 592.5042054458783 Prob: 1.0784267613884828 Frac: 0.28023956635457337\n",
      "Step: 7379 Walker: 22 Trial Log Prob: 440.17919515970726 Prob: 1.418284569170094e-59 Frac: 0.2794593880113674\n",
      "Step: 7444 Walker: 22 Trial Log Prob: 501.7662886772038 Prob: 4.66946289863255e-28 Frac: 0.2785234899328859\n",
      "Step: 7575 Walker: 31 Trial Log Prob: 581.0447628687539 Prob: 0.869905134104009 Frac: 0.2786446432068943\n",
      "Step: 7982 Walker: 12 Trial Log Prob: 589.9165883199314 Prob: 0.017507702174029225 Frac: 0.27867808184273557\n",
      "Number of steps: 8000 Acceptance Rate: 0.278975\n",
      "Step: 8006 Walker: 2 Trial Log Prob: 581.9691149378447 Prob: 0.5168173235012944 Frac: 0.31592039800995025\n",
      "Step: 8018 Walker: 1 Trial Log Prob: 569.7146355467977 Prob: 6.568637261218347e-5 Frac: 0.3027185892725937\n",
      "Step: 8168 Walker: 30 Trial Log Prob: -Inf Prob: 0.0 Frac: 0.28483943241224796\n",
      "Step: 8258 Walker: 17 Trial Log Prob: 543.326023715573 Prob: 4.360358476737013e-16 Frac: 0.28643631238761724\n",
      "Step: 8326 Walker: 50 Trial Log Prob: 590.7327565664143 Prob: 0.651836351200243 Frac: 0.28644913627639157\n",
      "Step: 8602 Walker: 54 Trial Log Prob: 565.7970362089615 Prob: 0.00031901499073091853 Frac: 0.2844351186271658\n",
      "Step: 8704 Walker: 74 Trial Log Prob: 539.8885104406072 Prob: 2.9710745175488263e-13 Frac: 0.2849025109209078\n",
      "Step: 8762 Walker: 63 Trial Log Prob: 590.6250641131305 Prob: 0.3069241768414655 Frac: 0.2855619185140213\n",
      "Step: 8865 Walker: 38 Trial Log Prob: 568.9158821640829 Prob: 0.005380124812060312 Frac: 0.2861129587321785\n",
      "Step: 8914 Walker: 73 Trial Log Prob: 592.7966405801265 Prob: 0.8002091622215699 Frac: 0.2862281673573783\n",
      "Number of steps: 9000 Acceptance Rate: 0.2867625\n",
      "Step: 9069 Walker: 80 Trial Log Prob: 592.3911737323064 Prob: 0.0004171208354627415 Frac: 0.2773550724637681\n",
      "Step: 9178 Walker: 31 Trial Log Prob: 579.3717169712386 Prob: 0.14110045900343196 Frac: 0.28179832288069906\n",
      "Step: 9208 Walker: 33 Trial Log Prob: 576.0913028564449 Prob: 0.07254120789024585 Frac: 0.27933465919363587\n",
      "Step: 9266 Walker: 29 Trial Log Prob: 562.5264843084093 Prob: 5.943343667711284e-8 Frac: 0.2815959300956239\n",
      "Step: 9276 Walker: 23 Trial Log Prob: 589.9270423525666 Prob: 0.9776321904211728 Frac: 0.28143304726876445\n",
      "Step: 9293 Walker: 34 Trial Log Prob: 564.1095260032205 Prob: 1.6260123172973254e-6 Frac: 0.2828075574933744\n",
      "Step: 9409 Walker: 22 Trial Log Prob: 590.8785834709812 Prob: 17.319995590557756 Frac: 0.2843365378727573\n",
      "Step: 9419 Walker: 76 Trial Log Prob: 576.2032271961934 Prob: 0.0005735168131535327 Frac: 0.28452082587420935\n",
      "Step: 9571 Walker: 46 Trial Log Prob: 574.82029966019 Prob: 0.07673746243199989 Frac: 0.2848661438023047\n",
      "Step: 9730 Walker: 45 Trial Log Prob: 562.9955289168306 Prob: 9.171884784939871e-8 Frac: 0.2838516234044376\n",
      "Step: 9760 Walker: 47 Trial Log Prob: 574.5385468710487 Prob: 0.003035450339237664 Frac: 0.2842332186877746\n",
      "Step: 9762 Walker: 63 Trial Log Prob: 580.5204916245706 Prob: 0.15344174898419408 Frac: 0.284249216480974\n",
      "Number of steps: 10000 Acceptance Rate: 0.28545\n",
      "Step: 10110 Walker: 67 Trial Log Prob: 584.4346881430745 Prob: 0.6877026525478006 Frac: 0.2929327415500171\n",
      "Step: 10277 Walker: 71 Trial Log Prob: 594.1931272243103 Prob: 0.003593186364157692 Frac: 0.27998735948715636\n",
      "Step: 10346 Walker: 63 Trial Log Prob: 586.062744575569 Prob: 0.3421070136948206 Frac: 0.2828688139391968\n",
      "Step: 10387 Walker: 31 Trial Log Prob: 585.4769410245493 Prob: 0.7429193026878642 Frac: 0.28407363074633624\n",
      "Step: 10505 Walker: 21 Trial Log Prob: 586.8251309692357 Prob: 0.9687965761544203 Frac: 0.28462358394685305\n",
      "Step: 10772 Walker: 43 Trial Log Prob: -Inf Prob: 0.0 Frac: 0.28412423245791685\n",
      "Number of steps: 11000 Acceptance Rate: 0.2822625\n",
      "Step: 11059 Walker: 52 Trial Log Prob: 591.4303630202646 Prob: 0.8059141964626344 Frac: 0.2747229326513214\n",
      "Step: 11072 Walker: 23 Trial Log Prob: 583.1630996611324 Prob: 0.7348849700608128 Frac: 0.27844993862879186\n",
      "Step: 11259 Walker: 54 Trial Log Prob: -Inf Prob: 0.0 Frac: 0.2724944428336716\n",
      "Step: 11639 Walker: 11 Trial Log Prob: 586.0119067078183 Prob: 1.2090333258952566 Frac: 0.27558715794009914\n",
      "Number of steps: 12000 Acceptance Rate: 0.2786375\n",
      "Step: 12242 Walker: 49 Trial Log Prob: 584.1497661809398 Prob: 1.9172579303139459 Frac: 0.2843913290910032\n",
      "Step: 12277 Walker: 28 Trial Log Prob: 557.7584976146985 Prob: 8.743773200489813e-9 Frac: 0.28672878595983353\n",
      "Step: 12404 Walker: 59 Trial Log Prob: 552.3311140702322 Prob: 8.231405039742447e-10 Frac: 0.28264032942196354\n",
      "Step: 12599 Walker: 66 Trial Log Prob: 580.8633571860635 Prob: 0.09236578486520183 Frac: 0.2813635035277418\n",
      "Step: 12745 Walker: 2 Trial Log Prob: 581.6220026911974 Prob: 0.2456034926337727 Frac: 0.28369342428009814\n",
      "Step: 12897 Walker: 60 Trial Log Prob: 580.7816885526555 Prob: 0.1841436463097609 Frac: 0.2840535266239197\n",
      "Step: 12900 Walker: 12 Trial Log Prob: 502.5670323366803 Prob: 5.229345492742999e-32 Frac: 0.2840460434855141\n",
      "Number of steps: 13000 Acceptance Rate: 0.2841\n",
      "Step: 13117 Walker: 77 Trial Log Prob: 591.6749222553331 Prob: 4.420802115520487e-5 Frac: 0.28171422464465107\n",
      "Step: 13277 Walker: 20 Trial Log Prob: 575.1202173096817 Prob: 0.0035149688750592337 Frac: 0.2795022624434389\n",
      "Step: 13502 Walker: 44 Trial Log Prob: 555.5479930639079 Prob: 2.898256771725872e-10 Frac: 0.2782374638620277\n",
      "Step: 13596 Walker: 39 Trial Log Prob: 590.4652701780246 Prob: 0.1163020726207834 Frac: 0.2783433741262411\n",
      "Step: 13604 Walker: 53 Trial Log Prob: 582.5104695531281 Prob: 0.12992808325837693 Frac: 0.2788395833764728\n",
      "Step: 13605 Walker: 61 Trial Log Prob: 591.8697061845154 Prob: 0.00747292843077881 Frac: 0.27895248134598294\n",
      "Step: 13898 Walker: 44 Trial Log Prob: 586.1824063297661 Prob: 1.5109748580425562 Frac: 0.2809314244331792\n",
      "Number of steps: 14000 Acceptance Rate: 0.280625\n",
      "Step: 14154 Walker: 77 Trial Log Prob: 573.4561678205174 Prob: 0.0022118148047364826 Frac: 0.2839977267191686\n",
      "Step: 14355 Walker: 73 Trial Log Prob: 591.6725559486076 Prob: 0.08744022369987879 Frac: 0.2839784453914697\n",
      "Step: 14580 Walker: 48 Trial Log Prob: 585.8337089143533 Prob: 1.0037690196476736 Frac: 0.28493788819875776\n",
      "Step: 14604 Walker: 78 Trial Log Prob: 586.5796683864011 Prob: 0.6358096320638291 Frac: 0.2849662651599818\n",
      "Step: 14640 Walker: 68 Trial Log Prob: 588.0053482654054 Prob: 1.0261593816344603 Frac: 0.2852817066499961\n",
      "Step: 14992 Walker: 35 Trial Log Prob: 534.1919615752237 Prob: 5.634307974902936e-18 Frac: 0.2823425581541953\n",
      "Number of steps: 15000 Acceptance Rate: 0.28245\n",
      "Step: 15052 Walker: 57 Trial Log Prob: 591.9376398302285 Prob: 1.362014043315601 Frac: 0.2866811699299009\n",
      "Step: 15077 Walker: 32 Trial Log Prob: 584.1574270504232 Prob: 4.431185671894627 Frac: 0.28304973821989526\n",
      "Step: 15268 Walker: 25 Trial Log Prob: 562.261754331696 Prob: 5.331125929713396e-7 Frac: 0.28604161795651156\n",
      "Step: 15576 Walker: 74 Trial Log Prob: 590.5615618224836 Prob: 0.16017718140077586 Frac: 0.2857576941442028\n",
      "Step: 15597 Walker: 14 Trial Log Prob: 594.168271281823 Prob: 0.11109731709570132 Frac: 0.2850044030695685\n",
      "Step: 15707 Walker: 3 Trial Log Prob: 592.4410124719562 Prob: 0.4546550073097848 Frac: 0.2839261370677903\n",
      "Step: 15782 Walker: 53 Trial Log Prob: 593.654616382774 Prob: 0.0004019000768465758 Frac: 0.2835782706730846\n",
      "Step: 15843 Walker: 13 Trial Log Prob: 589.0487746755553 Prob: 0.6071842804513317 Frac: 0.2834221424012587\n",
      "Number of steps: 16000 Acceptance Rate: 0.2839\n",
      "Step: 16002 Walker: 76 Trial Log Prob: 590.1345575325962 Prob: 0.45244321448517033 Frac: 0.3269230769230769\n",
      "Step: 16071 Walker: 56 Trial Log Prob: 581.4425459677602 Prob: 1.6619265585683218 Frac: 0.2784653465346535\n",
      "Step: 16081 Walker: 28 Trial Log Prob: 526.839405477036 Prob: 3.405867370186637e-22 Frac: 0.27426882389545737\n",
      "Step: 16367 Walker: 76 Trial Log Prob: 584.8168945259714 Prob: 0.4241036126170163 Frac: 0.2798746423218422\n",
      "Step: 16513 Walker: 4 Trial Log Prob: 594.6738048384121 Prob: 0.15650568779926677 Frac: 0.28163753539693387\n",
      "Step: 16642 Walker: 20 Trial Log Prob: 546.3833514206668 Prob: 3.2176629929376773e-12 Frac: 0.283411306042885\n",
      "Step: 17000 Walker: 51 Trial Log Prob: 565.2865022368394 Prob: 2.19565505667622e-5 Frac: 0.28148953995823484\n",
      "Number of steps: 17000 Acceptance Rate: 0.2814875\n",
      "Step: 17079 Walker: 80 Trial Log Prob: 570.9655416987238 Prob: 0.0021039956499978754 Frac: 0.28322784810126583\n",
      "Step: 17082 Walker: 20 Trial Log Prob: 589.9863000147324 Prob: 0.005148386637352941 Frac: 0.2823076923076923\n",
      "Step: 17363 Walker: 70 Trial Log Prob: 588.4206098765858 Prob: 0.02531626678192997 Frac: 0.28008956252152944\n",
      "Step: 17447 Walker: 44 Trial Log Prob: -Inf Prob: 0.0 Frac: 0.28235919829806294\n",
      "Step: 17579 Walker: 20 Trial Log Prob: 582.172373026311 Prob: 0.5100195529796385 Frac: 0.2824254215304799\n",
      "Number of steps: 18000 Acceptance Rate: 0.285125\n",
      "Step: 18261 Walker: 15 Trial Log Prob: 588.1191125351446 Prob: 0.00019182135896215105 Frac: 0.2797021378813356\n",
      "Step: 18282 Walker: 72 Trial Log Prob: 581.8918010016645 Prob: 0.02792384779676804 Frac: 0.2805516140475346\n",
      "Step: 18351 Walker: 42 Trial Log Prob: 593.7951610124699 Prob: 0.0016354140644194587 Frac: 0.2809000784537479\n",
      "Step: 18398 Walker: 25 Trial Log Prob: 573.90192653335 Prob: 0.014987900805985109 Frac: 0.282743432436684\n",
      "Step: 18399 Walker: 14 Trial Log Prob: 589.0302125216076 Prob: 1.645771165342218 Frac: 0.28291580335279715\n",
      "Step: 18412 Walker: 18 Trial Log Prob: 579.8010956364187 Prob: 0.7144944631881138 Frac: 0.28314791172715664\n",
      "Step: 18412 Walker: 24 Trial Log Prob: 565.3018013848856 Prob: 4.3985896565248665e-5 Frac: 0.28315706297106735\n",
      "Step: 18691 Walker: 76 Trial Log Prob: 581.1365305969896 Prob: 1.4917574153563948 Frac: 0.28511469715608945\n",
      "Step: 18788 Walker: 54 Trial Log Prob: 591.6871843144396 Prob: 0.7956992451477836 Frac: 0.28425429269686103\n",
      "Step: 18834 Walker: 72 Trial Log Prob: 598.2081232608582 Prob: 0.016996763994988454 Frac: 0.2851211176400048\n",
      "Step: 18982 Walker: 50 Trial Log Prob: 591.8977870072108 Prob: 0.04010877232710293 Frac: 0.28499936330064946\n",
      "Number of steps: 19000 Acceptance Rate: 0.2850375\n",
      "Step: 19060 Walker: 80 Trial Log Prob: 582.6057962787704 Prob: 4.282402284240373 Frac: 0.2839583333333333\n",
      "Step: 19292 Walker: 19 Trial Log Prob: 584.4346721499616 Prob: 0.5775450809489214 Frac: 0.282801836988712\n",
      "Step: 19357 Walker: 3 Trial Log Prob: 589.9405016790413 Prob: 3.035583676746275 Frac: 0.28413439595548223\n",
      "Step: 19395 Walker: 44 Trial Log Prob: 591.8179536892006 Prob: 0.43080898063968986 Frac: 0.2850716005575973\n",
      "Step: 19783 Walker: 79 Trial Log Prob: 595.9887683503392 Prob: 0.12730671592168163 Frac: 0.2844873002442568\n",
      "Step: 19785 Walker: 55 Trial Log Prob: 586.4805875238278 Prob: 0.027824846721555812 Frac: 0.28463560334528076\n",
      "Number of steps: 20000 Acceptance Rate: 0.284825\n",
      "Step: 20235 Walker: 29 Trial Log Prob: 570.3088214296233 Prob: 0.0003601727699529667 Frac: 0.2858285775241346\n",
      "Step: 20280 Walker: 15 Trial Log Prob: 591.3792884067849 Prob: 0.00023053738354137924 Frac: 0.2870830535034699\n",
      "Step: 20451 Walker: 35 Trial Log Prob: 591.4648994163648 Prob: 1.0523079339112673 Frac: 0.28594422089635074\n",
      "Step: 20532 Walker: 80 Trial Log Prob: 572.961217363207 Prob: 0.08098100168083933 Frac: 0.28421052631578947\n",
      "Step: 20996 Walker: 12 Trial Log Prob: 555.9251075470557 Prob: 6.784603958617993e-10 Frac: 0.2832613173893383\n",
      "Number of steps: 21000 Acceptance Rate: 0.2832625\n",
      "Step: 21221 Walker: 51 Trial Log Prob: 591.7842041557125 Prob: 0.0035148519426107397 Frac: 0.28689592657639795\n",
      "Step: 21493 Walker: 77 Trial Log Prob: 590.3422284837953 Prob: 0.10228360230400436 Frac: 0.2822983492659178\n",
      "Step: 21580 Walker: 11 Trial Log Prob: 580.5686579011093 Prob: 2.111510161574389 Frac: 0.283050225550927\n",
      "Step: 21804 Walker: 12 Trial Log Prob: 588.0855616886664 Prob: 0.02083785825565684 Frac: 0.285002801469215\n",
      "Step: 21867 Walker: 51 Trial Log Prob: 580.2864951529396 Prob: 0.9679953759625284 Frac: 0.284793238233979\n",
      "Step: 21956 Walker: 22 Trial Log Prob: 589.7582711827092 Prob: 1.3513955928729513 Frac: 0.28456465415717985\n",
      "Number of steps: 22000 Acceptance Rate: 0.2841\n",
      "Step: 22070 Walker: 76 Trial Log Prob: 550.3197803046907 Prob: 1.3154489448410295e-9 Frac: 0.2846676197283774\n",
      "Step: 22223 Walker: 30 Trial Log Prob: 549.4271835629893 Prob: 9.272068427677435e-11 Frac: 0.2821247892074199\n",
      "Step: 22357 Walker: 10 Trial Log Prob: 589.1511718593064 Prob: 0.000383863226959706 Frac: 0.2815022815022815\n",
      "Step: 22410 Walker: 55 Trial Log Prob: 591.2487092558422 Prob: 0.8883732300145561 Frac: 0.28100686498855837\n",
      "Step: 22423 Walker: 18 Trial Log Prob: -Inf Prob: 0.0 Frac: 0.2805968381786962\n",
      "Step: 22429 Walker: 6 Trial Log Prob: 582.1015198910957 Prob: 0.06386702575235778 Frac: 0.2804707119079601\n",
      "Step: 22471 Walker: 53 Trial Log Prob: 591.8719234356118 Prob: 0.00030179949131697224 Frac: 0.2802432741083048\n",
      "Step: 22719 Walker: 23 Trial Log Prob: 590.9805270023995 Prob: 0.08360194715576766 Frac: 0.2825644327654317\n",
      "Step: 22800 Walker: 1 Trial Log Prob: 580.942919541182 Prob: 3.6873875369599896 Frac: 0.28334975985982697\n",
      "Number of steps: 23000 Acceptance Rate: 0.2840375\n",
      "Step: 23182 Walker: 29 Trial Log Prob: 589.2866711765913 Prob: 0.8146553988951263 Frac: 0.2851333654972775\n",
      "Step: 23205 Walker: 59 Trial Log Prob: 582.8516968785354 Prob: 0.38888402558647484 Frac: 0.28487697661639905\n",
      "Step: 23245 Walker: 54 Trial Log Prob: 577.0257914293346 Prob: 0.01570670734899828 Frac: 0.2844078880147134\n",
      "Step: 23273 Walker: 51 Trial Log Prob: 580.1146549563546 Prob: 0.3470811900432983 Frac: 0.2837100545596259\n",
      "Step: 23459 Walker: 45 Trial Log Prob: 593.1608286389651 Prob: 1.1564335330645756 Frac: 0.28436690745536325\n",
      "Step: 23558 Walker: 42 Trial Log Prob: 572.661834502859 Prob: 0.011878040498374232 Frac: 0.28449396888031925\n",
      "Step: 23602 Walker: 75 Trial Log Prob: 591.4073123268008 Prob: 0.4954580069933381 Frac: 0.283231232478455\n",
      "Step: 23614 Walker: 51 Trial Log Prob: 591.1458532125303 Prob: 0.503501974889737 Frac: 0.28290317980892626\n",
      "Step: 23758 Walker: 38 Trial Log Prob: 581.5402103865978 Prob: 1.2252128156833073 Frac: 0.2829961384864187\n",
      "Step: 23824 Walker: 70 Trial Log Prob: 568.5358514761558 Prob: 0.0019217422631745216 Frac: 0.28312850857229555\n",
      "Step: 23897 Walker: 24 Trial Log Prob: 588.3710752104057 Prob: 1.0557764435200918 Frac: 0.2834569898471494\n",
      "Number of steps: 24000 Acceptance Rate: 0.2835\n",
      "Step: 24116 Walker: 76 Trial Log Prob: 594.9515426598414 Prob: 0.026362298092517354 Frac: 0.29139715394566623\n",
      "Step: 24139 Walker: 33 Trial Log Prob: 559.640051872432 Prob: 5.4734651842574144e-8 Frac: 0.29088774496523073\n",
      "Step: 24264 Walker: 18 Trial Log Prob: 593.6418275628671 Prob: 0.9984286437932614 Frac: 0.2905309146167727\n",
      "Step: 24364 Walker: 63 Trial Log Prob: 573.6726016406217 Prob: 0.0009538016368222177 Frac: 0.28976394186166377\n",
      "Step: 24481 Walker: 11 Trial Log Prob: 583.4453070625576 Prob: 0.2554599164760782 Frac: 0.2892400614407331\n",
      "Step: 24937 Walker: 80 Trial Log Prob: 588.3685682839277 Prob: 0.007639299245321393 Frac: 0.28904749199573104\n",
      "Number of steps: 25000 Acceptance Rate: 0.2889375\n",
      "Step: 25021 Walker: 14 Trial Log Prob: 593.254062806522 Prob: 0.002168264409892199 Frac: 0.2732342007434944\n",
      "Step: 25237 Walker: 62 Trial Log Prob: 593.4723398113119 Prob: 0.0856614405575687 Frac: 0.28281068524970965\n",
      "Step: 25242 Walker: 61 Trial Log Prob: 589.6197649733082 Prob: 0.5853586641967244 Frac: 0.2826637712631198\n",
      "Step: 25312 Walker: 20 Trial Log Prob: 593.8407863789906 Prob: 0.41169413944243216 Frac: 0.28477911646586346\n",
      "Step: 25539 Walker: 2 Trial Log Prob: 541.5359706158616 Prob: 1.3236120249444e-15 Frac: 0.2840713721481344\n",
      "Step: 25621 Walker: 9 Trial Log Prob: 580.353429398638 Prob: 0.010433939171829543 Frac: 0.28385978350702495\n",
      "Step: 25702 Walker: 21 Trial Log Prob: 584.1520423343849 Prob: 0.008913551774612024 Frac: 0.2843977825707207\n",
      "Step: 25752 Walker: 49 Trial Log Prob: 586.5107194909249 Prob: 0.580980957271945 Frac: 0.28453824277802725\n",
      "Step: 25759 Walker: 36 Trial Log Prob: 579.5330387379548 Prob: 0.49599394962679194 Frac: 0.2846924648955106\n",
      "Step: 25867 Walker: 6 Trial Log Prob: 588.9873885802874 Prob: 0.0011905931301255167 Frac: 0.2840689316745086\n",
      "Number of steps: 26000 Acceptance Rate: 0.283925\n",
      "Step: 26030 Walker: 41 Trial Log Prob: 569.9649103547888 Prob: 2.1416786332026232e-5 Frac: 0.29436679373146973\n",
      "Step: 26053 Walker: 40 Trial Log Prob: 577.8425003778146 Prob: 0.04792176349470409 Frac: 0.2907142857142857\n",
      "Step: 26068 Walker: 19 Trial Log Prob: 583.0393940887973 Prob: 28.265086851653024 Frac: 0.28852946644357685\n",
      "Step: 26157 Walker: 63 Trial Log Prob: 573.3502097550794 Prob: 0.0002401138967267302 Frac: 0.2897233516702543\n",
      "Step: 26209 Walker: 68 Trial Log Prob: 581.1326358522954 Prob: 0.09859938931114703 Frac: 0.2917165429734259\n",
      "Step: 26213 Walker: 18 Trial Log Prob: 591.9544754300294 Prob: 0.38517943379265807 Frac: 0.29237837201083755\n",
      "Step: 26458 Walker: 69 Trial Log Prob: 576.9598181585576 Prob: 0.0013193970631169916 Frac: 0.2851838707035409\n",
      "Step: 26459 Walker: 52 Trial Log Prob: 592.1649858040338 Prob: 0.13198690089046639 Frac: 0.28510301973182167\n",
      "Step: 26720 Walker: 23 Trial Log Prob: 574.6402502562212 Prob: 0.007274226562858436 Frac: 0.28536920216186157\n",
      "Step: 26941 Walker: 8 Trial Log Prob: 591.6417828743298 Prob: 0.008043478605488808 Frac: 0.2869641527497075\n",
      "Number of steps: 27000 Acceptance Rate: 0.2864\n",
      "Step: 27199 Walker: 30 Trial Log Prob: 588.7421121056029 Prob: 6.625342559067478 Frac: 0.2820415879017013\n",
      "Step: 27225 Walker: 7 Trial Log Prob: 593.0542025241955 Prob: 0.012326778937978723 Frac: 0.282200033469069\n",
      "Step: 27232 Walker: 27 Trial Log Prob: 578.5422790631892 Prob: 0.15955001877556102 Frac: 0.28254174096287893\n",
      "Step: 27274 Walker: 50 Trial Log Prob: 590.2094409927323 Prob: 3.4933363116194873 Frac: 0.281772498857926\n",
      "Step: 27556 Walker: 43 Trial Log Prob: 592.5170799830457 Prob: 8.972074622947144 Frac: 0.27966158900164256\n",
      "Step: 27679 Walker: 79 Trial Log Prob: 569.9457665744229 Prob: 0.007129329308543322 Frac: 0.27927612805832214\n",
      "Step: 27804 Walker: 13 Trial Log Prob: 595.0942583139912 Prob: 2.15087371453369e-5 Frac: 0.27934882417941576\n",
      "Step: 27986 Walker: 12 Trial Log Prob: 583.1600263835811 Prob: 0.11384370944221492 Frac: 0.27955133735979293\n",
      "Step: 27994 Walker: 75 Trial Log Prob: 592.5235928164337 Prob: 0.0536600391854771 Frac: 0.27980884109916365\n",
      "Number of steps: 28000 Acceptance Rate: 0.279825\n",
      "Step: 28090 Walker: 68 Trial Log Prob: 584.7841147696857 Prob: 0.11095552295667482 Frac: 0.27740678909293265\n",
      "Step: 28181 Walker: 46 Trial Log Prob: 589.1242481026073 Prob: 2.068603173809968 Frac: 0.28250034611657204\n",
      "Step: 28286 Walker: 63 Trial Log Prob: 553.9796928372423 Prob: 2.3485912231746352e-11 Frac: 0.27887853737479773\n",
      "Step: 28293 Walker: 65 Trial Log Prob: 588.3872449602244 Prob: 1.2001580326448342 Frac: 0.27884738527214514\n",
      "Step: 28307 Walker: 53 Trial Log Prob: 545.9118422066285 Prob: 6.090785281100635e-14 Frac: 0.27905270452044184\n",
      "Step: 28355 Walker: 37 Trial Log Prob: 588.047418281471 Prob: 0.9911277868513313 Frac: 0.28077723313467573\n",
      "Step: 28379 Walker: 14 Trial Log Prob: 577.0120983809076 Prob: 0.008025126143273904 Frac: 0.2819792424142262\n",
      "Number of steps: 29000 Acceptance Rate: 0.283175\n",
      "Step: 29122 Walker: 46 Trial Log Prob: 575.5827184465331 Prob: 0.018466861554870578 Frac: 0.27596134073617107\n",
      "Step: 29324 Walker: 72 Trial Log Prob: 591.0791363357091 Prob: 0.008922594947991917 Frac: 0.2815683853041062\n",
      "Step: 29758 Walker: 38 Trial Log Prob: 588.9016971815511 Prob: 13.276907668283563 Frac: 0.2796131885540777\n",
      "Step: 30000 Walker: 5 Trial Log Prob: 581.4608249609428 Prob: 0.1807737144063781 Frac: 0.2787988739443228\n",
      "Number of steps: 30000 Acceptance Rate: 0.278825\n",
      "Burn-in Number (ends): 1586\n",
      "Independent Sample Size: 4522.726506225571\n",
      "851.532159 seconds (94.50 M allocations: 309.250 GiB, 5.32% gc time)\n"
     ]
    },
    {
     "data": {
      "text/plain": [
       "([532.330980164625 554.9717050019786 … 578.0793822329426 581.704101655803; 560.4111853122673 560.4111853122673 … 588.6823301173583 588.6823301173583; … ; 581.7552120181218 581.7552120181218 … 587.4048122052474 587.4048122052474; 432.4846120965543 432.4846120965543 … 585.1722131237566 587.9501068220658], [2.4393031421257914e-6 2.43478578474138e-6 … 2.283227455756332e-6 2.273233051297156e-6; 2.3933877458582927e-6 2.3933877458582927e-6 … 2.2213544842490824e-6 2.2213544842490824e-6; … ; 2.467539405552123e-6 2.467539405552123e-6 … 3.1078953543508777e-6 3.1078953543508777e-6; 2.3541871853046297e-6 2.3541871853046297e-6 … 1.8610194917414276e-6 1.9052938674193854e-6]\n",
       "\n",
       "[224.70076857330133 224.70076989978816 … 224.70076799825725 224.70076985250546; 224.7007867345337 224.7007867345337 … 224.70077947746512 224.70077947746512; … ; 224.70078195621676 224.70078195621676 … 224.70078046874454 224.70078046874454; 224.7007789721785 224.7007789721785 … 224.70078289708744 224.70078287396385]\n",
       "\n",
       "[3503.768673016512 3503.768672284614 … 3503.7688988556365 3503.7688706526033; 3503.768674572112 3503.768674572112 … 3503.7687242573916 3503.7687242573916; … ; 3503.7686817020785 3503.7686817020785 … 3503.768705797265 3503.768705797265; 3503.7686722475532 3503.7686722475532 … 3503.7686285802474 3503.7686122252912]\n",
       "\n",
       "...\n",
       "\n",
       "[-0.001617164887416185 -0.0016680904660589953 … -0.0018137941738457209 -0.0018282061609437715; -0.0019467491614928718 -0.0019467491614928718 … -0.0019030153446241208 -0.0019030153446241208; … ; -0.0017452340814203026 -0.0017452340814203026 … -0.001354170638564254 -0.001354170638564254; -0.0018190880060142802 -0.0018190880060142802 … -0.0019762588350225154 -0.001957524910508105]\n",
       "\n",
       "[2.3129476367129125 2.312945028553396 … 2.324926262578919 2.324096713852139; 2.312932237050053 2.312932237050053 … 2.3197907244940263 2.3197907244940263; … ; 2.3129381025692934 2.3129381025692934 … 2.328089439068947 2.328089439068947; 2.31293937659327 2.31293937659327 … 2.32550962135273 2.326096322172182]\n",
       "\n",
       "[1.52791048043589e-8 1.3330109108093272e-8 … 1.9649371067232165e-7 1.9085173363941417e-7; 6.309195296714751e-10 6.309195296714751e-10 … 1.6156557807297102e-7 1.6156557807297102e-7; … ; 4.684011948242204e-9 4.684011948242204e-9 … 1.1739032170175054e-7 1.1739032170175054e-7; 1.2052711873296414e-8 1.2052711873296414e-8 … 6.905071886829183e-8 7.296789859950754e-8])"
      ]
     },
     "execution_count": 12,
     "metadata": {},
     "output_type": "execute_result"
    }
   ],
   "source": [
    "include(\"MCMC.jl\")\n",
    "foutput=string(\"MCMC/p\",3,\"moon_mcmc\",30,\"s\",30,\"yrs.jld2\")\n",
    "p=jldopen(\"FITS/p3moon_fit30s30yrs.jld2\",\"r\")\n",
    "@time MCMC(foutput,p[\"best_dp\"],p[\"lprob_best_dp\"],30000,80,3,p[\"ntrans\"][1:3],p[\"tt0\"],p[\"tt\"],p[\"sigtt\"],true,false)"
   ]
  },
  {
   "cell_type": "code",
   "execution_count": 6,
   "metadata": {},
   "outputs": [
    {
     "data": {
      "text/plain": [
       "18-element Array{Float64,1}:\n",
       "    2.384424432392215e-6 \n",
       "  224.7007799456815      \n",
       " 3503.768678133689       \n",
       "   -0.0007783247539810868\n",
       "    0.0021727247987452162\n",
       "    3.0322029402257203e-6\n",
       "  365.25645185796003     \n",
       " 3624.407491463483       \n",
       "    0.013218159190585116 \n",
       "    0.004281927757742217 \n",
       "    0.0007868596724091433\n",
       " 4227.186843338152       \n",
       "  619.1468842361991      \n",
       "    0.013975790714605026 \n",
       "   -0.03442714789237476  \n",
       "   -1.530082935088796e-5 \n",
       "   -0.0018231379967262153\n",
       "    2.3129311609831533   "
      ]
     },
     "execution_count": 6,
     "metadata": {},
     "output_type": "execute_result"
    }
   ],
   "source": [
    "p=jldopen(\"FITS/p3moon_fit30.0s30.0yrs.jld2\",\"r\");p[\"best_dp\"]"
   ]
  },
  {
   "cell_type": "code",
   "execution_count": 7,
   "metadata": {},
   "outputs": [
    {
     "data": {
      "text/plain": [
       "18-element Array{Float64,1}:\n",
       "    2.384424432392215e-6 \n",
       "  224.7007799456815      \n",
       " 3503.768678133689       \n",
       "   -0.0007783247539810868\n",
       "    0.0021727247987452162\n",
       "    3.0322029402257203e-6\n",
       "  365.25645185796003     \n",
       " 3624.407491463483       \n",
       "    0.013218159190585116 \n",
       "    0.004281927757742217 \n",
       "    0.0007868596724091433\n",
       " 4227.186843338152       \n",
       "  619.1468842361991      \n",
       "    0.013975790714605026 \n",
       "   -0.03442714789237476  \n",
       "   -1.530082935088796e-5 \n",
       "   -0.0018231379967262153\n",
       "    2.3129311609831533   "
      ]
     },
     "execution_count": 7,
     "metadata": {},
     "output_type": "execute_result"
    }
   ],
   "source": [
    "p=jldopen(\"MCMC/p3moon_mcmc30.0s30.0yrs.jld2\",\"r\");p[\"param\"]"
   ]
  },
  {
   "cell_type": "markdown",
   "metadata": {},
   "source": [
    "## Fit 4 planets"
   ]
  },
  {
   "cell_type": "markdown",
   "metadata": {},
   "source": [
    "w/o offset but with tref"
   ]
  },
  {
   "cell_type": "code",
   "execution_count": 6,
   "metadata": {
    "collapsed": true,
    "jupyter": {
     "outputs_hidden": true
    },
    "tags": []
   },
   "outputs": [
    {
     "name": "stdout",
     "output_type": "stream",
     "text": [
      "Initial parameters: [3.0e-6, 224.70077409575646, 3503.7654852567784, 0.01, 0.01, 3.0e-6, 365.25642665702384, 3624.4026384093218, 0.01, 0.01]\n",
      "Initial chi-square: 812.3590569057454\n",
      "Finished 2-planet fit in 2 iterations.\n",
      "New p2 chi-square: 582.8973442491646\n",
      "Param: [2.9380153697129402e-6, 224.70077831626037, 3503.765429099878, 0.03081019305418419, 0.011457500858907978, 3.2595689949612584e-6, 365.25643295059126, 3624.402560434307, 0.038440262285722275, 0.010409974573520126]\n",
      "Finished 3-planet fit w/ fixed period: [2.563636171884876e-6, 224.70077915501258, 3503.7653713087975, -8.54914833964373e-5, 0.006696424150244993, 3.045553603852875e-6, 365.25644453678115, 3624.4023164135374, 0.014223224576339085, 0.00796719171825563, 0.0008153454745067351, 4309.949999999998, 4708.067056722962, 0.01782479095689238, -0.04071577901832235]\n",
      "Finished 3-planet fit in 2 iterations.\n",
      "New 3-planet chi-square: 109.6230915523655\n",
      "Maximum: -183.18487362506883 Param: [2.5422147419487485e-6, 224.70078014621996, 3503.7653473555456, -0.0026343267467731474, 0.0070695947650385536, 3.025605235838036e-6, 365.2564540139241, 3624.4021707586385, 0.012059248621926238, 0.008296881504704779, 0.0007712387127985479, 4210.125307988029, 4814.1197361733775, 0.016165680447941387, -0.042491035438553204]\n",
      "Finished 4-planet fit w/ fixed period: [2.476371453026443e-6, 224.70077552669133, 3503.765445832758, -0.005725446951606682, 0.005852935491288906, 2.9796924619163445e-6, 365.2564546879903, 3624.4021565652715, 0.008987909992955005, 0.008086281716607767, 4.0039612374089207e-7, 687.4315104491986, 416.99316873645785, -0.10308183878209812, -0.07629847564477994, 0.0009960045831502967, 4355.238062331129, 4624.253000153244, 0.026267394184884732, -0.04528073184443009]\n",
      "Finished 4-planet fit in 2 iterations.\n",
      "New 4-planet chi-square: 77.38852430066216\n",
      "Maximum: -169.60470168540738 Param: [2.4797368317700974e-6, 224.70077540765067, 3503.7654450073856, -0.005918101397840288, 0.005921079577658514, 2.9781433929288205e-6, 365.2564548149991, 3624.402153775526, 0.008846312338042778, 0.008152647419863131, 3.9884859544190433e-7, 687.2013422163191, 418.7907759301823, -0.10251106228279193, -0.07880662007644161, 0.0010011496184743182, 4355.610749222095, 4622.5627530038155, 0.026287840938589428, -0.04558281041350565]\n",
      "615.798955 seconds (176.04 M allocations: 22.270 GiB, 0.72% gc time)\n"
     ]
    },
    {
     "data": {
      "text/plain": [
       "([2.5422147419487485e-6, 224.70078014621996, 3503.7653473555456, -0.0026343267467731474, 0.0070695947650385536, 3.025605235838036e-6, 365.2564540139241, 3624.4021707586385, 0.012059248621926238, 0.008296881504704779, 0.0007712387127985479, 4210.125307988029, 4814.1197361733775, 0.016165680447941387, -0.042491035438553204], [2.4797368317700974e-6, 224.70077540765067, 3503.7654450073856, -0.005918101397840288, 0.005921079577658514, 2.9781433929288205e-6, 365.2564548149991, 3624.402153775526, 0.008846312338042778, 0.008152647419863131, 3.9884859544190433e-7, 687.2013422163191, 418.7907759301823, -0.10251106228279193, -0.07880662007644161, 0.0010011496184743182, 4355.610749222095, 4622.5627530038155, 0.026287840938589428, -0.04558281041350565])"
      ]
     },
     "execution_count": 6,
     "metadata": {},
     "output_type": "execute_result"
    }
   ],
   "source": [
    "include(\"fit_planet4.jl\")\n",
    "@time fit_planet4(\"INPUTS/tt_30.0sEMB30.0yrs.txt\", jd1,30,30,2430000,1e-5, 11.8*365.25, 12.2*365.25,10,36, 1.8*365.25, 2.2*365.25,10)"
   ]
  },
  {
   "cell_type": "code",
   "execution_count": 13,
   "metadata": {
    "collapsed": true,
    "jupyter": {
     "outputs_hidden": true
    },
    "tags": []
   },
   "outputs": [
    {
     "name": "stdout",
     "output_type": "stream",
     "text": [
      "FITS/p3_fit30s30yrs.jld2 loaded.\n",
      "Previous model params: [3.9054143218903965e-6, 224.70078008469463, 3503.768675936336, -0.06713129085431972, -0.057465222100601364, 2.6456719043334846e-6, 365.25646164115346, 3624.40734259709, -0.03675516797288188, -0.043738317868158474, 0.00034969118061929096, 4187.244650961268, 1498.0946294769674, -0.1134873127886096, 0.12687238048733113]\n",
      "Finished 3-planet fit w/ fixed period: [2.7872125629626913e-6, 224.70088553546512, 3503.7693233533128, -0.026463817945487512, -0.007712750755239068, 2.902724717134541e-6, 365.2564582145426, 3624.407406131344, -0.006766672140441142, -0.003082440182832213, 1.5014572135236634e-6, 672.273639632572, 30.626790817479883, -0.1777006157080977, 0.0022937389129578604, 0.00043831725206257673, 3935.9279948121, 2430.9824283884514, 0.09753438724100881, 0.1241056100290219] in 2 iterations\n",
      "Finished global 4-planet fit.\n",
      "New 4-planet chi-square: 125.18051771051945\n",
      "Maximum: -188.3605166514517 Param: [2.7810905478726223e-6, 224.70088683496346, 3503.7689806880285, -0.02559257926856034, -0.007952649975431356, 2.9085164296739294e-6, 365.25645829134015, 3624.4074065139444, -0.00615860098901146, -0.00333236329668339, 1.526903620311431e-6, 672.1118462695689, 32.13057553015015, -0.17600048797394294, -0.00033204397038326286, 0.00045427379401608524, 3933.441696741151, 2432.663170932449, 0.09818066711071893, 0.11797517330460877]\n"
     ]
    },
    {
     "data": {
      "text/plain": [
       "20-element Array{Float64,1}:\n",
       "    2.7810905478726223e-6 \n",
       "  224.70088683496346      \n",
       " 3503.7689806880285       \n",
       "   -0.02559257926856034   \n",
       "   -0.007952649975431356  \n",
       "    2.9085164296739294e-6 \n",
       "  365.25645829134015      \n",
       " 3624.4074065139444       \n",
       "   -0.00615860098901146   \n",
       "   -0.00333236329668339   \n",
       "    1.526903620311431e-6  \n",
       "  672.1118462695689       \n",
       "   32.13057553015015      \n",
       "   -0.17600048797394294   \n",
       "   -0.00033204397038326286\n",
       "    0.00045427379401608524\n",
       " 3933.441696741151        \n",
       " 2432.663170932449        \n",
       "    0.09818066711071893   \n",
       "    0.11797517330460877   "
      ]
     },
     "execution_count": 13,
     "metadata": {},
     "output_type": "execute_result"
    }
   ],
   "source": [
    "include(\"fit_planet4.jl\")\n",
    "fit_planet4(jd1,30,30,2430000,1e-5,1.8*365.25,2.2*365.25,10,36,false)"
   ]
  },
  {
   "cell_type": "code",
   "execution_count": 3,
   "metadata": {
    "collapsed": true,
    "jupyter": {
     "outputs_hidden": true
    },
    "tags": []
   },
   "outputs": [
    {
     "name": "stdout",
     "output_type": "stream",
     "text": [
      "Parameters from fit: [2.4797368317700974e-6, 224.70077540765067, 3503.7654450073856, -0.005918101397840288, 0.005921079577658514, 2.9781433929288205e-6, 365.2564548149991, 3624.402153775526, 0.008846312338042778, 0.008152647419863131, 3.9884859544190433e-7, 687.2013422163191, 418.7907759301823, -0.10251106228279193, -0.07880662007644161, 0.0010011496184743182, 4355.610749222095, 4622.5627530038155, 0.026287840938589428, -0.04558281041350565]\n",
      "Maximum log Prob from fit: -169.60470168540738\n",
      "Step: 201 Walker: 16 Trial Log Prob: 594.5032782602091 Prob: 0.14331220665532146 Frac: 0.29895104895104896\n",
      "Step: 467 Walker: 51 Trial Log Prob: 604.8388063446686 Prob: 0.14896224504788766 Frac: 0.29005384265087997\n",
      "Step: 514 Walker: 15 Trial Log Prob: 603.7685581786702 Prob: 1.001506957458892 Frac: 0.2897819997564243\n",
      "Number of steps: 1000 Acceptance Rate: 0.2855125\n",
      "Step: 1012 Walker: 67 Trial Log Prob: 582.7132258608009 Prob: 9.769314949404574e-5 Frac: 0.28299894403379094\n",
      "Step: 1128 Walker: 26 Trial Log Prob: 600.3762830222889 Prob: 6.081620450392585e-7 Frac: 0.2790104064402121\n",
      "Step: 1280 Walker: 2 Trial Log Prob: 591.1631507456095 Prob: 0.14984249828570395 Frac: 0.2795896425051519\n",
      "Step: 1400 Walker: 1 Trial Log Prob: 599.1617691781836 Prob: 0.7394459907337847 Frac: 0.2796904858870336\n",
      "Step: 1411 Walker: 63 Trial Log Prob: 522.1079586268228 Prob: 6.2826161418926506e-30 Frac: 0.2793719380458266\n",
      "Step: 1546 Walker: 19 Trial Log Prob: 599.2568436280344 Prob: 1.5454520926682989 Frac: 0.27744790114399687\n",
      "Step: 1747 Walker: 6 Trial Log Prob: -Inf Prob: 0.0 Frac: 0.27460375967563583\n",
      "Step: 1771 Walker: 21 Trial Log Prob: 605.8039453374962 Prob: 0.0347349401687444 Frac: 0.27495496665097935\n",
      "Step: 1815 Walker: 48 Trial Log Prob: 597.6739740269882 Prob: 0.05682293412122801 Frac: 0.2746746869629266\n",
      "Step: 1879 Walker: 39 Trial Log Prob: 596.5765814901025 Prob: 0.1228807181517688 Frac: 0.27380867684514576\n",
      "Number of steps: 2000 Acceptance Rate: 0.272875\n",
      "Step: 2095 Walker: 61 Trial Log Prob: -Inf Prob: 0.0 Frac: 0.271731961482654\n",
      "Step: 2248 Walker: 20 Trial Log Prob: 595.0284376442598 Prob: 0.3549571193091982 Frac: 0.2722952477249747\n",
      "Step: 2332 Walker: 20 Trial Log Prob: 590.9523925582147 Prob: 0.01689149037628606 Frac: 0.26860377358490567\n",
      "Step: 2384 Walker: 21 Trial Log Prob: 557.851826346133 Prob: 4.944929743347126e-13 Frac: 0.26835393496624377\n",
      "Step: 2497 Walker: 62 Trial Log Prob: 530.7175673880125 Prob: 7.937605936571939e-24 Frac: 0.2651351215338936\n",
      "Step: 2733 Walker: 33 Trial Log Prob: 603.5945976252477 Prob: 0.9631401046675631 Frac: 0.26009932927141466\n",
      "Step: 2757 Walker: 28 Trial Log Prob: 594.7267916590101 Prob: 0.10058181209196428 Frac: 0.26003173134131025\n",
      "Step: 2895 Walker: 12 Trial Log Prob: 592.4576268860386 Prob: 1.822353032347048 Frac: 0.26042889895431415\n",
      "Step: 2929 Walker: 10 Trial Log Prob: 603.9988703646677 Prob: 0.11689837281591352 Frac: 0.26012121212121214\n",
      "Number of steps: 3000 Acceptance Rate: 0.260325\n",
      "Step: 3070 Walker: 30 Trial Log Prob: 602.1312107566537 Prob: 0.5476573241834257 Frac: 0.25117117117117116\n",
      "Step: 3074 Walker: 34 Trial Log Prob: 597.7251178448148 Prob: 0.6505628867409198 Frac: 0.2521280217909431\n",
      "Step: 3407 Walker: 19 Trial Log Prob: 608.5949234529407 Prob: 0.20667653451543347 Frac: 0.2574540755100157\n",
      "Step: 3488 Walker: 76 Trial Log Prob: 599.4920797791553 Prob: 0.5330763584050385 Frac: 0.2568398401475561\n",
      "Step: 3605 Walker: 17 Trial Log Prob: 583.0913307028287 Prob: 0.0015520090542543528 Frac: 0.257152905641641\n",
      "Step: 3609 Walker: 36 Trial Log Prob: 599.4971680607862 Prob: 0.4647838120376139 Frac: 0.257046593803928\n",
      "Step: 3743 Walker: 2 Trial Log Prob: 583.4216208509424 Prob: 0.001955286912366506 Frac: 0.25592129645227585\n",
      "Step: 3863 Walker: 46 Trial Log Prob: 603.1737318880184 Prob: 0.10013567235630652 Frac: 0.254557574703649\n",
      "Number of steps: 4000 Acceptance Rate: 0.254025\n",
      "Step: 4191 Walker: 2 Trial Log Prob: 598.7281062964994 Prob: 4.191877547120662 Frac: 0.24200763057492436\n",
      "Step: 4298 Walker: 40 Trial Log Prob: 595.8868491566768 Prob: 2.6658262335283656 Frac: 0.24092436974789916\n",
      "Step: 4436 Walker: 20 Trial Log Prob: 589.5470797646788 Prob: 0.03632476101198508 Frac: 0.24201608271108557\n",
      "Step: 4566 Walker: 5 Trial Log Prob: 604.9650643255482 Prob: 0.2978679454006525 Frac: 0.24267227076650813\n",
      "Step: 4658 Walker: 20 Trial Log Prob: 605.2409052071467 Prob: 0.0009107888780433021 Frac: 0.24229745150247242\n",
      "Step: 4665 Walker: 23 Trial Log Prob: 601.1007788563444 Prob: 8.596423207264049e-5 Frac: 0.24202623111228197\n",
      "Step: 4830 Walker: 48 Trial Log Prob: 588.6113734724688 Prob: 0.2986047827750055 Frac: 0.24141152362584378\n",
      "Number of steps: 5000 Acceptance Rate: 0.2401625\n",
      "Step: 5156 Walker: 11 Trial Log Prob: 597.5164425539062 Prob: 0.15559194185224964 Frac: 0.23164934332447024\n",
      "Step: 5329 Walker: 45 Trial Log Prob: 592.5999388827769 Prob: 0.0809328172934348 Frac: 0.233859615750428\n",
      "Step: 5419 Walker: 40 Trial Log Prob: -Inf Prob: 0.0 Frac: 0.23300477897252092\n",
      "Step: 5462 Walker: 48 Trial Log Prob: 585.4314509133885 Prob: 0.44769795779654026 Frac: 0.2329397746967071\n",
      "Step: 5530 Walker: 51 Trial Log Prob: 575.9970402586831 Prob: 0.00010664009260098338 Frac: 0.23272993320903448\n",
      "Step: 5629 Walker: 15 Trial Log Prob: -Inf Prob: 0.0 Frac: 0.2315988458859815\n",
      "Step: 5676 Walker: 12 Trial Log Prob: 598.4164030404218 Prob: 0.9222315189543029 Frac: 0.23122639413463675\n",
      "Step: 5717 Walker: 59 Trial Log Prob: -Inf Prob: 0.0 Frac: 0.2308202096304435\n",
      "Step: 5779 Walker: 17 Trial Log Prob: 592.0799479613606 Prob: 1.8409576320632273e-6 Frac: 0.2310744173345969\n",
      "Step: 5899 Walker: 8 Trial Log Prob: 591.4977133801583 Prob: 0.004221193981737445 Frac: 0.232059347511413\n",
      "Step: 5977 Walker: 8 Trial Log Prob: 607.3986559233856 Prob: 0.003117558268268423 Frac: 0.23266058805450263\n",
      "Number of steps: 6000 Acceptance Rate: 0.23295\n",
      "Step: 6066 Walker: 44 Trial Log Prob: 599.5200272504643 Prob: 0.8189400045272637 Frac: 0.2379862700228833\n",
      "Step: 6160 Walker: 1 Trial Log Prob: 603.348484940133 Prob: 0.7851135449244014 Frac: 0.2306422451065168\n",
      "Step: 6243 Walker: 45 Trial Log Prob: 606.7965155872471 Prob: 9.395602984115534e-6 Frac: 0.2311259984540067\n",
      "Step: 6426 Walker: 32 Trial Log Prob: 590.2509958804945 Prob: 0.010059034761271433 Frac: 0.23254583921015515\n",
      "Step: 6485 Walker: 19 Trial Log Prob: 603.6845395609075 Prob: 0.0003598059355754513 Frac: 0.23309842794083482\n",
      "Step: 6651 Walker: 17 Trial Log Prob: 605.5354117011974 Prob: 0.002207335436904164 Frac: 0.2374223811446258\n",
      "Step: 6682 Walker: 44 Trial Log Prob: 602.2093732521205 Prob: 17.16927006534264 Frac: 0.23736336292274962\n",
      "Step: 6701 Walker: 57 Trial Log Prob: 595.7522655799514 Prob: 0.029729708930820678 Frac: 0.23706227589774695\n",
      "Step: 6818 Walker: 2 Trial Log Prob: 583.8343025681593 Prob: 2.9049706329674607 Frac: 0.23790581683547016\n",
      "Step: 6912 Walker: 76 Trial Log Prob: 597.1698938422223 Prob: 0.6871407787507379 Frac: 0.23799276276111628\n",
      "Number of steps: 7000 Acceptance Rate: 0.238075\n",
      "Step: 7044 Walker: 19 Trial Log Prob: -Inf Prob: 0.0 Frac: 0.23995374385660595\n",
      "Step: 7091 Walker: 9 Trial Log Prob: 605.1923970294214 Prob: 0.03877191188826785 Frac: 0.24524899431266473\n",
      "Step: 7268 Walker: 60 Trial Log Prob: 594.1307452850947 Prob: 1.6268624986034868 Frac: 0.2411764705882353\n",
      "Step: 7288 Walker: 28 Trial Log Prob: 602.4979015979806 Prob: 0.6960683798293548 Frac: 0.241212806681747\n",
      "Step: 7391 Walker: 59 Trial Log Prob: 569.7198182383843 Prob: 2.259744327606847e-9 Frac: 0.23743561854185993\n",
      "Step: 7636 Walker: 61 Trial Log Prob: 591.2221346923146 Prob: 0.14640727157464759 Frac: 0.2352883348734787\n",
      "Step: 7658 Walker: 38 Trial Log Prob: 605.0906399066846 Prob: 0.4606862628787417 Frac: 0.23468572949541808\n",
      "Step: 7761 Walker: 30 Trial Log Prob: -Inf Prob: 0.0 Frac: 0.2328949531481177\n",
      "Step: 7763 Walker: 53 Trial Log Prob: 599.8009304978766 Prob: 0.4771597483336559 Frac: 0.23293396489272777\n",
      "Number of steps: 8000 Acceptance Rate: 0.2319125\n",
      "Step: 8334 Walker: 58 Trial Log Prob: 584.3005811847546 Prob: 0.026395425236670777 Frac: 0.22773241441306466\n",
      "Step: 8375 Walker: 54 Trial Log Prob: 604.2990069607824 Prob: 0.0005866979492489333 Frac: 0.22693000600520452\n",
      "Step: 8405 Walker: 34 Trial Log Prob: 596.6466127145665 Prob: 0.7255515503469827 Frac: 0.22637077332014588\n",
      "Step: 8509 Walker: 60 Trial Log Prob: 599.0395276067893 Prob: 0.0003969149293736335 Frac: 0.22454545454545455\n",
      "Step: 8796 Walker: 38 Trial Log Prob: -Inf Prob: 0.0 Frac: 0.2237185329520098\n",
      "Step: 8813 Walker: 61 Trial Log Prob: 463.8628361892322 Prob: 3.602016673838294e-54 Frac: 0.22388151520278063\n",
      "Step: 8911 Walker: 46 Trial Log Prob: 602.6457874869274 Prob: 4.081329877293602 Frac: 0.22400680888449606\n",
      "Number of steps: 9000 Acceptance Rate: 0.2227\n",
      "Step: 9017 Walker: 55 Trial Log Prob: 598.125278444581 Prob: 6.018939582023388e-5 Frac: 0.23071161048689137\n",
      "Step: 9383 Walker: 43 Trial Log Prob: -Inf Prob: 0.0 Frac: 0.21818122406300036\n",
      "Step: 9550 Walker: 41 Trial Log Prob: 591.4306115070403 Prob: 0.7666332400626662 Frac: 0.21666932053410978\n",
      "Step: 9680 Walker: 40 Trial Log Prob: 580.4465324078296 Prob: 6.0651086128852855e-5 Frac: 0.21547093451066962\n",
      "Step: 9790 Walker: 57 Trial Log Prob: 604.8927739202775 Prob: 0.12358067253143888 Frac: 0.21675609794703768\n",
      "Step: 9875 Walker: 26 Trial Log Prob: 603.3571721778836 Prob: 0.022177070550079083 Frac: 0.21633831813112972\n",
      "Number of steps: 10000 Acceptance Rate: 0.217475\n",
      "Step: 10172 Walker: 66 Trial Log Prob: 592.6763863330146 Prob: 2.955662391993179e-5 Frac: 0.21446238905863524\n",
      "Step: 10308 Walker: 3 Trial Log Prob: -Inf Prob: 0.0 Frac: 0.2157309774864634\n",
      "Step: 10371 Walker: 80 Trial Log Prob: 575.6982268091188 Prob: 5.403468886725578e-9 Frac: 0.21667789757412398\n",
      "Step: 10432 Walker: 14 Trial Log Prob: 606.577417249032 Prob: 1.46706635520892e-6 Frac: 0.21624050559517596\n",
      "Step: 10442 Walker: 24 Trial Log Prob: 591.851299253443 Prob: 5.426281773203677e-7 Frac: 0.21646272377067755\n",
      "Step: 10462 Walker: 30 Trial Log Prob: 559.1390160943774 Prob: 1.539768588129162e-16 Frac: 0.2166079653210512\n",
      "Step: 10497 Walker: 32 Trial Log Prob: 590.8973522854357 Prob: 0.014293993453766522 Frac: 0.21791901692183724\n",
      "Step: 10809 Walker: 24 Trial Log Prob: 597.6950932413213 Prob: 1.1995055831130297 Frac: 0.21735432388964493\n",
      "Step: 10855 Walker: 72 Trial Log Prob: 601.9071149867893 Prob: 2.1280001107333337 Frac: 0.2169551994385308\n",
      "Number of steps: 11000 Acceptance Rate: 0.2160875\n",
      "Step: 11065 Walker: 58 Trial Log Prob: 597.4375470583024 Prob: 2.880892085576434e-7 Frac: 0.20084974893781382\n",
      "Step: 11131 Walker: 37 Trial Log Prob: 584.3905656697274 Prob: 0.007612796212511764 Frac: 0.2005365526492287\n",
      "Step: 11136 Walker: 20 Trial Log Prob: 556.3439425313104 Prob: 1.6914816209036035e-10 Frac: 0.20138632162661738\n",
      "Step: 11369 Walker: 80 Trial Log Prob: 545.1843155254201 Prob: 2.4974050519436532e-14 Frac: 0.2048780487804878\n",
      "Step: 11451 Walker: 54 Trial Log Prob: 601.7489041321595 Prob: 1.0265532666031487 Frac: 0.2055250457646863\n",
      "Step: 11496 Walker: 31 Trial Log Prob: 530.7240602388352 Prob: 7.13041562725268e-26 Frac: 0.20554616335696804\n",
      "Step: 11507 Walker: 66 Trial Log Prob: -Inf Prob: 0.0 Frac: 0.20584028017560302\n",
      "Step: 11673 Walker: 79 Trial Log Prob: 569.4782333125531 Prob: 6.158203440515993e-9 Frac: 0.2072289604190271\n",
      "Step: 11817 Walker: 30 Trial Log Prob: 592.8251630223405 Prob: 0.008577199646875765 Frac: 0.20846730975348338\n",
      "Step: 11903 Walker: 61 Trial Log Prob: 162.76154608210226 Prob: 1.5568344957964702e-187 Frac: 0.20851275944669834\n",
      "Number of steps: 12000 Acceptance Rate: 0.2080375\n",
      "Step: 12081 Walker: 25 Trial Log Prob: 606.3153394494732 Prob: 2.121512166649572 Frac: 0.20638132295719844\n",
      "Step: 12124 Walker: 38 Trial Log Prob: 602.2398609467842 Prob: 0.26182401525618804 Frac: 0.210670176149018\n",
      "Step: 12140 Walker: 19 Trial Log Prob: 563.5187525400487 Prob: 3.772524595449235e-12 Frac: 0.21025226681030612\n",
      "Step: 12389 Walker: 40 Trial Log Prob: 578.6362728629954 Prob: 2.7329939866566835e-7 Frac: 0.2095881595881596\n",
      "Step: 12616 Walker: 8 Trial Log Prob: -Inf Prob: 0.0 Frac: 0.20663306779385465\n",
      "Step: 12683 Walker: 20 Trial Log Prob: 580.004178356784 Prob: 0.0002970769125697888 Frac: 0.20703554415536826\n",
      "Step: 12715 Walker: 1 Trial Log Prob: 577.1997975734039 Prob: 0.02013993239858001 Frac: 0.20682411022215996\n",
      "Step: 12823 Walker: 42 Trial Log Prob: 583.9608992893319 Prob: 0.00010855772551952639 Frac: 0.20598158110695725\n",
      "Step: 12910 Walker: 40 Trial Log Prob: 584.0567251099507 Prob: 2.234577238762637e-6 Frac: 0.20563496426608027\n",
      "Step: 12947 Walker: 32 Trial Log Prob: 558.5434230654059 Prob: 1.0329983069255294e-10 Frac: 0.2051458157227388\n",
      "Number of steps: 13000 Acceptance Rate: 0.205075\n",
      "Step: 13300 Walker: 47 Trial Log Prob: 529.6628152165274 Prob: 2.4504085966144604e-26 Frac: 0.20686777652605667\n",
      "Step: 13309 Walker: 60 Trial Log Prob: 602.2629924365094 Prob: 0.5841210717384612 Frac: 0.2074493927125506\n",
      "Step: 13438 Walker: 20 Trial Log Prob: -Inf Prob: 0.0 Frac: 0.20528873642081188\n",
      "Step: 13720 Walker: 36 Trial Log Prob: 555.7311646779781 Prob: 2.5383368507798006e-22 Frac: 0.2058169434985058\n",
      "Step: 13732 Walker: 57 Trial Log Prob: -Inf Prob: 0.0 Frac: 0.20549396108444232\n",
      "Step: 13743 Walker: 51 Trial Log Prob: 477.8928092544516 Prob: 4.195999919488383e-48 Frac: 0.20534917776169395\n",
      "Step: 13803 Walker: 7 Trial Log Prob: 605.2400742523536 Prob: 0.015808417983675493 Frac: 0.20505867501987002\n",
      "Step: 13823 Walker: 54 Trial Log Prob: 600.0428153724961 Prob: 0.624496509701032 Frac: 0.2049563922569666\n",
      "Step: 13955 Walker: 61 Trial Log Prob: -Inf Prob: 0.0 Frac: 0.2061507442950472\n",
      "Step: 13974 Walker: 64 Trial Log Prob: 596.3981564194814 Prob: 0.014262959965209416 Frac: 0.20598428835489835\n",
      "Number of steps: 14000 Acceptance Rate: 0.205775\n",
      "Step: 14016 Walker: 10 Trial Log Prob: 582.1716770401109 Prob: 2.7359808720009176e-6 Frac: 0.21239669421487603\n",
      "Step: 14293 Walker: 54 Trial Log Prob: 590.9028207090204 Prob: 8.100466177097557 Frac: 0.2062441274451183\n",
      "Step: 14304 Walker: 69 Trial Log Prob: 514.3060590441065 Prob: 6.446932369406689e-28 Frac: 0.20704265909745362\n",
      "Step: 14329 Walker: 36 Trial Log Prob: 585.3789261499786 Prob: 0.0002323688198580243 Frac: 0.20733749429136855\n",
      "Step: 14533 Walker: 58 Trial Log Prob: 563.0408348393826 Prob: 6.596016891925453e-9 Frac: 0.210169411985546\n",
      "Step: 14574 Walker: 17 Trial Log Prob: 609.2509689380419 Prob: 0.016476072358383633 Frac: 0.20995704036461174\n",
      "Step: 14608 Walker: 32 Trial Log Prob: 562.5570526064575 Prob: 3.014939341177064e-8 Frac: 0.20960240368784985\n",
      "Step: 14617 Walker: 44 Trial Log Prob: 566.6364854108538 Prob: 5.444978510589196e-5 Frac: 0.20961398102343687\n",
      "Step: 14685 Walker: 28 Trial Log Prob: 603.1365576872896 Prob: 9.354118769929403e-6 Frac: 0.20957843208884344\n",
      "Step: 14892 Walker: 9 Trial Log Prob: 599.9230928860442 Prob: 0.00018770222165028912 Frac: 0.20934506024772406\n",
      "Step: 14982 Walker: 78 Trial Log Prob: 600.1908215125098 Prob: 0.7156565647436586 Frac: 0.2089538939382367\n",
      "Number of steps: 15000 Acceptance Rate: 0.20885\n",
      "Step: 15006 Walker: 46 Trial Log Prob: 605.2309130328251 Prob: 0.42509371870282425 Frac: 0.2040358744394619\n",
      "Step: 15152 Walker: 78 Trial Log Prob: 602.8895566056409 Prob: 0.004776638209764424 Frac: 0.20225366014147064\n",
      "Step: 15284 Walker: 78 Trial Log Prob: 598.7602432584389 Prob: 1.1853906193103203 Frac: 0.2080728937406462\n",
      "Step: 15301 Walker: 40 Trial Log Prob: 603.3551655497864 Prob: 0.6128466024728697 Frac: 0.2076955074875208\n",
      "Step: 15425 Walker: 52 Trial Log Prob: 566.4693915388606 Prob: 1.2130892513599842e-18 Frac: 0.2058754268220888\n",
      "Step: 15472 Walker: 28 Trial Log Prob: 597.5528546149218 Prob: 1.0051385417743282 Frac: 0.2057388352604222\n",
      "Step: 15742 Walker: 41 Trial Log Prob: 571.8996795848487 Prob: 6.424786842988145e-13 Frac: 0.20500328720014835\n",
      "Step: 15874 Walker: 39 Trial Log Prob: 577.7481234551298 Prob: 5.322247157405905e-6 Frac: 0.20413858240673163\n",
      "Number of steps: 16000 Acceptance Rate: 0.2033125\n",
      "Step: 16172 Walker: 37 Trial Log Prob: 606.7802584045694 Prob: 0.18988995755373148 Frac: 0.2020121017715244\n",
      "Step: 16257 Walker: 37 Trial Log Prob: 606.0543896822492 Prob: 0.044202447602745956 Frac: 0.2035872690939221\n",
      "Step: 16290 Walker: 41 Trial Log Prob: -69616.06946425933 Prob: 0.0 Frac: 0.2033159190017702\n",
      "Step: 16699 Walker: 72 Trial Log Prob: 584.9983330581708 Prob: 0.10822479298686209 Frac: 0.20373086278437544\n",
      "Step: 16943 Walker: 14 Trial Log Prob: 604.7535139210935 Prob: 0.31763516233293054 Frac: 0.2035980576856741\n",
      "Number of steps: 17000 Acceptance Rate: 0.2038\n",
      "Step: 17117 Walker: 66 Trial Log Prob: 576.3014647713965 Prob: 2.4741972433535736e-12 Frac: 0.20532848277337898\n",
      "Step: 17215 Walker: 35 Trial Log Prob: 605.5709487920659 Prob: 7.265740625891601e-6 Frac: 0.20355581463130282\n",
      "Step: 17392 Walker: 38 Trial Log Prob: 281.22445033262306 Prob: 9.9650803513339e-137 Frac: 0.20010856376524683\n",
      "Step: 17512 Walker: 7 Trial Log Prob: 603.1777302874109 Prob: 0.00015690913106372427 Frac: 0.19874287670897842\n",
      "Step: 17631 Walker: 75 Trial Log Prob: 603.6856677128231 Prob: 0.002843058483486872 Frac: 0.19730559683011392\n",
      "Step: 17808 Walker: 37 Trial Log Prob: 588.9309412327286 Prob: 0.1661534644761112 Frac: 0.19682028577178506\n",
      "Step: 17882 Walker: 47 Trial Log Prob: 520.6286747135917 Prob: 1.846623581329833e-34 Frac: 0.19637869184851192\n",
      "Step: 17934 Walker: 16 Trial Log Prob: 604.3344471309282 Prob: 6.911599142069882 Frac: 0.19635394342048865\n",
      "Number of steps: 18000 Acceptance Rate: 0.1962875\n",
      "Step: 18127 Walker: 18 Trial Log Prob: -Inf Prob: 0.0 Frac: 0.18983957219251338\n",
      "Step: 18156 Walker: 24 Trial Log Prob: 317.02968092476755 Prob: 3.688438225761975e-114 Frac: 0.19269156471345783\n",
      "Step: 18269 Walker: 68 Trial Log Prob: 570.8015773596738 Prob: 3.445412214194719e-9 Frac: 0.1928584712665055\n",
      "Step: 18293 Walker: 71 Trial Log Prob: 591.3722425514084 Prob: 5.953263061192116e-7 Frac: 0.19363236737655243\n",
      "Step: 18352 Walker: 65 Trial Log Prob: -Inf Prob: 0.0 Frac: 0.19356901758749334\n",
      "Step: 18466 Walker: 16 Trial Log Prob: -Inf Prob: 0.0 Frac: 0.1927396818572657\n",
      "Step: 18660 Walker: 66 Trial Log Prob: 580.6357401198047 Prob: 3.233176014229776e-13 Frac: 0.1937634978971697\n",
      "Step: 18900 Walker: 80 Trial Log Prob: 597.9737912420413 Prob: 0.02793805573777619 Frac: 0.1904722222222222\n",
      "Step: 18912 Walker: 35 Trial Log Prob: 603.0764881360311 Prob: 0.6493995829943875 Frac: 0.1902763491736954\n",
      "Number of steps: 19000 Acceptance Rate: 0.1894375\n",
      "Step: 19003 Walker: 61 Trial Log Prob: 595.1988002139842 Prob: 0.22857695913405868 Frac: 0.2171945701357466\n",
      "Step: 19115 Walker: 4 Trial Log Prob: 601.8215121978241 Prob: 1.3927889742595239 Frac: 0.18588338448049102\n",
      "Step: 19147 Walker: 35 Trial Log Prob: 470.5963558567285 Prob: 6.090032341941859e-53 Frac: 0.18548868971404184\n",
      "Step: 19415 Walker: 1 Trial Log Prob: 605.5253250236719 Prob: 0.000896051787621297 Frac: 0.18384106760061592\n",
      "Step: 19521 Walker: 6 Trial Log Prob: 604.1210515323123 Prob: 0.049799713463009154 Frac: 0.17992597221554585\n",
      "Step: 19558 Walker: 42 Trial Log Prob: 606.1160065195029 Prob: 1.1701434925618344 Frac: 0.17896058472714227\n",
      "Step: 19908 Walker: 8 Trial Log Prob: -Inf Prob: 0.0 Frac: 0.17582129864403043\n",
      "Step: 19949 Walker: 61 Trial Log Prob: 600.61841272939 Prob: 0.4120286731280848 Frac: 0.1751887326912689\n",
      "Number of steps: 20000 Acceptance Rate: 0.174575\n",
      "Step: 20270 Walker: 48 Trial Log Prob: 472.32831612780717 Prob: 1.404928654273596e-53 Frac: 0.1592173590504451\n",
      "Step: 20278 Walker: 9 Trial Log Prob: 596.1097691982072 Prob: 0.15727705952145712 Frac: 0.15900581893635257\n",
      "Step: 20338 Walker: 6 Trial Log Prob: 606.0462470714194 Prob: 0.011139513050001854 Frac: 0.1577542090039309\n",
      "Step: 20613 Walker: 33 Trial Log Prob: 370.42353138785984 Prob: 3.3080440945875274e-96 Frac: 0.15512420141652888\n",
      "Step: 20694 Walker: 59 Trial Log Prob: -Inf Prob: 0.0 Frac: 0.1552640588118705\n",
      "Step: 20695 Walker: 58 Trial Log Prob: 592.0358048904769 Prob: 2.607578096438193 Frac: 0.15524128252186117\n",
      "Step: 20729 Walker: 52 Trial Log Prob: 574.7012022361176 Prob: 5.285673442279837e-15 Frac: 0.15494407465861526\n",
      "Step: 20813 Walker: 48 Trial Log Prob: 604.0890613387538 Prob: 0.010073840012478049 Frac: 0.1551039872015752\n",
      "Step: 20900 Walker: 61 Trial Log Prob: 606.4231479879572 Prob: 9.602872587826241e-5 Frac: 0.15472138480988037\n",
      "Number of steps: 21000 Acceptance Rate: 0.154125\n",
      "Step: 21208 Walker: 56 Trial Log Prob: 578.2878646267939 Prob: 3.7558582101325775e-5 Frac: 0.14082811747713048\n",
      "Step: 21251 Walker: 71 Trial Log Prob: 595.9556843660371 Prob: 6.365016322053594e-9 Frac: 0.13975387374819392\n",
      "Step: 21532 Walker: 40 Trial Log Prob: 604.8583101153096 Prob: 7.976766996029698e-7 Frac: 0.13351364063969898\n",
      "Step: 21534 Walker: 50 Trial Log Prob: 598.3341973604652 Prob: 0.6417318938704484 Frac: 0.13345045678144765\n",
      "Step: 21694 Walker: 41 Trial Log Prob: -2.1334377098137417e8 Prob: 0.0 Frac: 0.1308375840377787\n",
      "Step: 21714 Walker: 32 Trial Log Prob: 589.1675044067605 Prob: 0.7185099340075334 Frac: 0.1302565180824222\n",
      "Step: 21788 Walker: 32 Trial Log Prob: 593.197257210291 Prob: 0.004707074314543151 Frac: 0.12839725679451358\n",
      "Step: 21898 Walker: 73 Trial Log Prob: 599.0252887151686 Prob: 0.5876855594903496 Frac: 0.12657135299931785\n",
      "Step: 21935 Walker: 45 Trial Log Prob: 586.8001210508844 Prob: 1.456778148243329e-7 Frac: 0.12647629238279945\n",
      "Step: 22000 Walker: 58 Trial Log Prob: 572.4890561696296 Prob: 1.755418033039279e-11 Frac: 0.12547200480132037\n",
      "Number of steps: 22000 Acceptance Rate: 0.12545\n",
      "Step: 22040 Walker: 77 Trial Log Prob: 599.5692308717769 Prob: 0.004663741931241062 Frac: 0.10885204879574602\n",
      "Step: 22683 Walker: 27 Trial Log Prob: 570.4902667582186 Prob: 3.8864613860548265e-7 Frac: 0.09943759503178412\n",
      "Step: 22702 Walker: 8 Trial Log Prob: -Inf Prob: 0.0 Frac: 0.09934388817572386\n",
      "Step: 22784 Walker: 14 Trial Log Prob: -3578.8949299411343 Prob: 0.0 Frac: 0.09841350911354423\n",
      "Step: 22828 Walker: 48 Trial Log Prob: 564.468757849435 Prob: 7.01360607939051e-14 Frac: 0.09731452392460126\n",
      "Step: 22831 Walker: 12 Trial Log Prob: 591.4232759735493 Prob: 4.799323825038528e-8 Frac: 0.09721134734686503\n",
      "Step: 22959 Walker: 65 Trial Log Prob: 408.62455252852743 Prob: 1.2816555109907481e-81 Frac: 0.09516980640114725\n",
      "Step: 22976 Walker: 57 Trial Log Prob: -Inf Prob: 0.0 Frac: 0.09485376071332488\n",
      "Number of steps: 23000 Acceptance Rate: 0.094375\n",
      "Step: 23160 Walker: 24 Trial Log Prob: 591.1722262585133 Prob: 0.0639281906468404 Frac: 0.07831136220966729\n",
      "Step: 23163 Walker: 29 Trial Log Prob: 591.3115602398325 Prob: 0.8345887051976318 Frac: 0.07814304411425052\n",
      "Step: 23671 Walker: 72 Trial Log Prob: -Inf Prob: 0.0 Frac: 0.07603592189596065\n",
      "Step: 23674 Walker: 26 Trial Log Prob: 577.8647289550411 Prob: 2.8632057071745123e-10 Frac: 0.07609623881483682\n",
      "Step: 23688 Walker: 52 Trial Log Prob: -Inf Prob: 0.0 Frac: 0.07605613320730023\n",
      "Step: 23872 Walker: 53 Trial Log Prob: 557.5962959746291 Prob: 1.1490501720197607e-12 Frac: 0.07468486943054221\n",
      "Step: 23954 Walker: 50 Trial Log Prob: 544.8659552475978 Prob: 8.66371128115372e-33 Frac: 0.07391532310918862\n",
      "Number of steps: 24000 Acceptance Rate: 0.0741125\n",
      "Step: 24011 Walker: 29 Trial Log Prob: -Inf Prob: 0.0 Frac: 0.07478890229191798\n",
      "Step: 24026 Walker: 56 Trial Log Prob: 583.3775949270098 Prob: 6.217502740959858e-5 Frac: 0.07198443579766536\n",
      "Step: 24083 Walker: 41 Trial Log Prob: -3983.40457480151 Prob: 0.0 Frac: 0.0663535827904863\n",
      "Step: 24379 Walker: 32 Trial Log Prob: 582.282474573533 Prob: 2.2591936934570775e-7 Frac: 0.06233483086680761\n",
      "Step: 24384 Walker: 36 Trial Log Prob: 596.810237446058 Prob: 1.1279821685182594 Frac: 0.06216586256356761\n",
      "Step: 24575 Walker: 57 Trial Log Prob: -Inf Prob: 0.0 Frac: 0.06111751527937882\n",
      "Step: 24642 Walker: 9 Trial Log Prob: 583.3358459179628 Prob: 3.8738649308773775e-7 Frac: 0.06042231277661877\n",
      "Step: 24678 Walker: 61 Trial Log Prob: -Inf Prob: 0.0 Frac: 0.06017963519669501\n",
      "Step: 24858 Walker: 61 Trial Log Prob: 571.6648641149461 Prob: 3.4174229333941437e-9 Frac: 0.0591655615627869\n",
      "Step: 24927 Walker: 3 Trial Log Prob: -Inf Prob: 0.0 Frac: 0.05883940985111294\n",
      "Number of steps: 25000 Acceptance Rate: 0.0581625\n",
      "Step: 25193 Walker: 22 Trial Log Prob: 549.9316857270339 Prob: 4.921423182188107e-19 Frac: 0.04856325575347809\n",
      "Step: 25255 Walker: 60 Trial Log Prob: 507.1087881577283 Prob: 6.552276349476659e-38 Frac: 0.04896957801766438\n",
      "Step: 25324 Walker: 46 Trial Log Prob: 589.4138646206495 Prob: 1.6320995879240707e-6 Frac: 0.04994977980375492\n",
      "Step: 25386 Walker: 23 Trial Log Prob: -Inf Prob: 0.0 Frac: 0.04973558706160984\n",
      "Number of steps: 26000 Acceptance Rate: 0.0468125\n",
      "Step: 26007 Walker: 13 Trial Log Prob: 572.9815874690524 Prob: 7.0774079242735054e-12 Frac: 0.05273833671399594\n",
      "Step: 26065 Walker: 76 Trial Log Prob: -Inf Prob: 0.0 Frac: 0.04387990762124711\n",
      "Step: 26071 Walker: 4 Trial Log Prob: 560.9540896628333 Prob: 1.3642991347557993e-20 Frac: 0.043897216274089934\n",
      "Step: 26087 Walker: 3 Trial Log Prob: 575.8772172726995 Prob: 5.523065652645167e-11 Frac: 0.04387621676594508\n",
      "Step: 26139 Walker: 69 Trial Log Prob: -Inf Prob: 0.0 Frac: 0.04302817535331713\n",
      "Step: 26259 Walker: 3 Trial Log Prob: 602.7883870340188 Prob: 0.0017203984452562335 Frac: 0.04214503705856707\n",
      "Step: 26499 Walker: 25 Trial Log Prob: 587.8168751304474 Prob: 3.0613696489313437e-6 Frac: 0.04156528282954973\n",
      "Step: 26636 Walker: 33 Trial Log Prob: 347.4557413151745 Prob: 1.8445421656687136e-106 Frac: 0.03989534357602345\n",
      "Step: 26753 Walker: 66 Trial Log Prob: 537.5968935892229 Prob: 6.596323248756957e-24 Frac: 0.039086108989472984\n",
      "Step: 26982 Walker: 4 Trial Log Prob: 529.7226526921179 Prob: 1.2497102124181952e-33 Frac: 0.03901432139034708\n",
      "Number of steps: 27000 Acceptance Rate: 0.0390625\n",
      "Step: 27049 Walker: 67 Trial Log Prob: 564.8517289404411 Prob: 1.1694881739219373e-12 Frac: 0.03762477604299974\n",
      "Step: 27348 Walker: 7 Trial Log Prob: 466.5644863460501 Prob: 4.37396907890053e-55 Frac: 0.037202434544603306\n",
      "Step: 27381 Walker: 36 Trial Log Prob: 588.6203136443157 Prob: 0.14222645406720377 Frac: 0.03715994217374162\n",
      "Step: 27401 Walker: 23 Trial Log Prob: 590.4820916026339 Prob: 0.0006695909784377253 Frac: 0.03706710801611342\n",
      "Step: 27459 Walker: 65 Trial Log Prob: -Inf Prob: 0.0 Frac: 0.037297370930390955\n",
      "Step: 27581 Walker: 61 Trial Log Prob: 579.7139134338775 Prob: 1.3691563522032108e-12 Frac: 0.03732162458836443\n",
      "Step: 27705 Walker: 49 Trial Log Prob: -Inf Prob: 0.0 Frac: 0.03734322056449467\n",
      "Step: 27844 Walker: 30 Trial Log Prob: 589.1548549929175 Prob: 5.447253393301407e-8 Frac: 0.03803171780050393\n",
      "Step: 27909 Walker: 8 Trial Log Prob: 578.6157530155784 Prob: 2.560580818124067e-7 Frac: 0.03833553573395001\n",
      "Number of steps: 28000 Acceptance Rate: 0.0379875\n",
      "Step: 28069 Walker: 73 Trial Log Prob: -Inf Prob: 0.0 Frac: 0.03428260475240341\n",
      "Step: 28487 Walker: 56 Trial Log Prob: 587.7603455500675 Prob: 0.0029308270928481584 Frac: 0.03477501540990343\n",
      "Step: 28677 Walker: 61 Trial Log Prob: 583.3764301015656 Prob: 1.8904002160499269e-13 Frac: 0.03418850778522746\n",
      "Step: 28933 Walker: 17 Trial Log Prob: 525.7865434596716 Prob: 1.1176593551704135e-27 Frac: 0.03687463963420357\n",
      "Step: 28996 Walker: 44 Trial Log Prob: 567.1732076933482 Prob: 3.2824829391537664e-9 Frac: 0.037152830093917934\n",
      "Number of steps: 29000 Acceptance Rate: 0.037275\n",
      "Step: 29028 Walker: 67 Trial Log Prob: 595.9921318611342 Prob: 0.07810481572114622 Frac: 0.0466995958688819\n",
      "Step: 29079 Walker: 1 Trial Log Prob: 372.7934291807796 Prob: 6.610327683751065e-95 Frac: 0.04999198846338728\n",
      "Step: 29599 Walker: 18 Trial Log Prob: 522.7830019027571 Prob: 1.1754701189067043e-26 Frac: 0.05324083747753772\n",
      "Step: 29641 Walker: 12 Trial Log Prob: -Inf Prob: 0.0 Frac: 0.05418651878465985\n",
      "Step: 29891 Walker: 38 Trial Log Prob: 559.1838753576873 Prob: 8.86555170137747e-22 Frac: 0.06033296835958337\n",
      "Step: 29939 Walker: 78 Trial Log Prob: 569.4970835207897 Prob: 2.749686637198424e-13 Frac: 0.061263611917250195\n",
      "Number of steps: 30000 Acceptance Rate: 0.06195\n",
      "Burn-in Number (ends): 3774\n",
      "Independent Sample Size: 532.1894314238339\n",
      "2275.699908 seconds (169.79 M allocations: 1.371 TiB, 9.71% gc time)\n"
     ]
    },
    {
     "data": {
      "text/plain": [
       "([280.91740689293954 280.91740689293954 … 599.7748084812943 599.7748084812943; 558.1933978274913 558.1933978274913 … 595.9017694570322 595.9017694570322; … ; 494.78793954603907 558.6574588898984 … 597.1605237875831 597.1605237875831; 573.0469653949335 573.0469653949335 … 597.6783140494782 597.6783140494782], [2.6126910421818727e-6 2.6126910421818727e-6 … 2.6489061789555687e-6 2.6489061789555687e-6; 2.445664372179701e-6 2.445664372179701e-6 … 2.804068796161387e-6 2.804068796161387e-6; … ; 2.4889402736081945e-6 2.4291117276291532e-6 … 2.322478990383314e-6 2.322478990383314e-6; 2.4649414602696965e-6 2.4649414602696965e-6 … 2.5021031936011386e-6 2.5021031936011386e-6]\n",
       "\n",
       "[224.70077153799178 224.70077153799178 … 224.70076849136603 224.70076849136603; 224.70077401301464 224.70077401301464 … 224.70079024366584 224.70079024366584; … ; 224.70078329606537 224.70077938820506 … 224.70078118108893 224.70078118108893; 224.70076750448183 224.70076750448183 … 224.70077863631087 224.70077863631087]\n",
       "\n",
       "[3503.765446152889 3503.765446152889 … 3503.765655998023 3503.765655998023; 3503.765443020387 3503.765443020387 … 3503.7650419850333 3503.7650419850333; … ; 3503.7654474650476 3503.7654496509535 … 3503.7653399550345 3503.7653399550345; 3503.7654531985863 3503.7654531985863 … 3503.7654617005887 3503.7654617005887]\n",
       "\n",
       "...\n",
       "\n",
       "[0.027183467383468204 0.027183467383468204 … -0.010540651275107666 -0.010540651275107666; 0.014413157312418238 0.014413157312418238 … 0.0012937466253577115 0.0012937466253577115; … ; 0.022089135462013628 0.021554878977551945 … 0.03940678747977493 0.03940678747977493; 0.028469562151051446 0.028469562151051446 … 0.030381978198114595 0.030381978198114595]\n",
       "\n",
       "[-0.03554163797273387 -0.03554163797273387 … -0.03632499001728703 -0.03632499001728703; -0.05004037827557033 -0.05004037827557033 … -0.0711271239691703 -0.0711271239691703; … ; -0.048562109769348945 -0.05183198913905583 … -0.04459293463179038 -0.04459293463179038; -0.03810726490933966 -0.03810726490933966 … -0.03484791430108992 -0.03484791430108992]\n",
       "\n",
       "[3.92741321105345e-9 3.92741321105345e-9 … 1.0044663384148366e-7 1.0044663384148366e-7; 6.781274409807042e-9 6.781274409807042e-9 … 5.7688073390873856e-8 5.7688073390873856e-8; … ; 1.0005791077844821e-8 8.266052186092211e-9 … 4.571751316301932e-8 4.571751316301932e-8; 6.106625739477e-9 6.106625739477e-9 … 4.3945872151983996e-8 4.3945872151983996e-8])"
      ]
     },
     "execution_count": 3,
     "metadata": {},
     "output_type": "execute_result"
    }
   ],
   "source": [
    "include(\"MCMC.jl\")\n",
    "foutput=string(\"MCMC/fromEMB/p\",4,\"_mcmc\",30,\"s\",30,\"yrs.jld2\")\n",
    "p=jldopen(\"FITS/fromEMB/p4_fit30s30yrs.jld2\",\"r\")\n",
    "@time MCMC(foutput,p[string(\"best_p\",4)],p[string(\"lprob_best_p\",4)],30000,80,4,p[\"ntrans\"][1:4],p[\"tt0\"],p[\"tt\"],p[\"sigtt\"],true,true)"
   ]
  },
  {
   "cell_type": "code",
   "execution_count": 22,
   "metadata": {},
   "outputs": [
    {
     "data": {
      "text/plain": [
       "0.041924268513558884"
      ]
     },
     "execution_count": 22,
     "metadata": {},
     "output_type": "execute_result"
    }
   ],
   "source": [
    "0.042053676210042336/1.0030867013563183"
   ]
  },
  {
   "cell_type": "code",
   "execution_count": 9,
   "metadata": {},
   "outputs": [
    {
     "name": "stdout",
     "output_type": "stream",
     "text": [
      "Retrieved masses.\n",
      "[0.832279952486919, 1.0030867013563183, 0.10214881605420023, 292.8533607891815] +/- [0.061404299080588164, 0.042053676210042336, 0.045517868479899026, 56.65545836349674]\n",
      "Retrieved periods.\n",
      "[224.7007771368281, 365.25645384549773, 687.7194339116027, 4355.433954842184] +/- [5.05854028832159e-6, 9.767790483542374e-6, 3.0751002784775174, 0.15999029411687532]\n",
      "Retrieved eccentricities.\n",
      "[0.00813551185631551, 0.014530769468942495, 0.13923522498354715, 0.04890453135754923] +/- [0.006237635757012925, 0.00565715387111896, 0.053107529680418965, 0.019962793734571445]\n",
      "Retrieved σ_tot.\n",
      "[35.932447184706454]\n"
     ]
    },
    {
     "data": {
      "text/plain": [
       "([0.832279952486919, 1.0030867013563183, 0.10214881605420023, 292.8533607891815], [0.061404299080588164, 0.042053676210042336, 0.045517868479899026, 56.65545836349674], [224.7007771368281, 365.25645384549773, 687.7194339116027, 4355.433954842184], [5.05854028832159e-6, 9.767790483542374e-6, 3.0751002784775174, 0.15999029411687532], [35.932447184706454])"
      ]
     },
     "execution_count": 9,
     "metadata": {},
     "output_type": "execute_result"
    }
   ],
   "source": [
    "get_vals(30.0,30.0,\"EMB\",\"p4\")  #old results, Hpppp model chain from EMB obs "
   ]
  },
  {
   "cell_type": "code",
   "execution_count": 6,
   "metadata": {},
   "outputs": [
    {
     "name": "stdout",
     "output_type": "stream",
     "text": [
      "Retrieved masses.\n",
      "[0.8333082472051614, 1.003594212571247, 0.09096040605634098, 273.95473233394756] +/- [0.06353623277503835, 0.04373129199615572, 0.05021742120994984, 59.384066856984354]\n",
      "Retrieved periods.\n",
      "[224.7007782755062, 365.25645350786436, 693.8080445434202, 4302.766106183389] +/- [5.473597482579521e-6, 1.6307264524512444e-5, 86.65724145030778, 80.93918031980584]\n",
      "Retrieved eccentricities.\n",
      "[0.008263768175342306, 0.014679588667192978, 0.12859997172932439, 0.0480913722690593] +/- [0.006614777626018321, 0.005804230656890218, 0.06007422648891536, 0.022743301742196364]\n",
      "Retrieved σ_tot.\n",
      "[36.80343939783644]\n"
     ]
    },
    {
     "data": {
      "text/plain": [
       "([0.8333082472051614, 1.003594212571247, 0.09096040605634098, 273.95473233394756], [0.06353623277503835, 0.04373129199615572, 0.05021742120994984, 59.384066856984354], [224.7007782755062, 365.25645350786436, 693.8080445434202, 4302.766106183389], [5.473597482579521e-6, 1.6307264524512444e-5, 86.65724145030778, 80.93918031980584], [36.80343939783644])"
      ]
     },
     "execution_count": 6,
     "metadata": {},
     "output_type": "execute_result"
    }
   ],
   "source": [
    "include(\"print_vals.jl\")\n",
    "get_vals(30,30,\"EMB\",\"p4\") #new results, Hpppp model chain from EMB obs "
   ]
  },
  {
   "cell_type": "code",
   "execution_count": 10,
   "metadata": {},
   "outputs": [
    {
     "name": "stdout",
     "output_type": "stream",
     "text": [
      "Retrieved masses.\n",
      "[0.8584194209707173, 0.993931235463963, 0.1182400730133383, 321.5225695917209] +/- [0.12811140154064937, 0.04450352770551285, 0.04839981435132551, 75.01514263908416]\n",
      "Retrieved periods.\n",
      "[224.70077403006067, 365.256448440426, 687.0840641236025, 4459.301992351436] +/- [5.923619932963123e-6, 1.1653347313378893e-5, 3.701379008829319, 39.201641994415404]\n",
      "Retrieved eccentricities.\n",
      "[0.011484941896951784, 0.014606864050202121, 0.147040784959939, 0.06312208823092423] +/- [0.0073747085375054314, 0.005963574141786997, 0.05191966385726131, 0.021480171465880025]\n",
      "Retrieved σ_tot.\n",
      "[38.01435698469927]\n"
     ]
    },
    {
     "data": {
      "text/plain": [
       "([0.8584194209707173, 0.993931235463963, 0.1182400730133383, 321.5225695917209], [0.12811140154064937, 0.04450352770551285, 0.04839981435132551, 75.01514263908416], [224.70077403006067, 365.256448440426, 687.0840641236025, 4459.301992351436], [5.923619932963123e-6, 1.1653347313378893e-5, 3.701379008829319, 39.201641994415404], [38.01435698469927])"
      ]
     },
     "execution_count": 10,
     "metadata": {},
     "output_type": "execute_result"
    }
   ],
   "source": [
    "get_vals(30,30,\"noEMB\",\"moonp4\") #new results, Hppmpp model chain"
   ]
  },
  {
   "cell_type": "code",
   "execution_count": null,
   "metadata": {},
   "outputs": [],
   "source": [
    "get_vals(30,30,\"noEMB\",\"p4\")"
   ]
  },
  {
   "cell_type": "code",
   "execution_count": 4,
   "metadata": {},
   "outputs": [
    {
     "data": {
      "text/plain": [
       "20-element Array{Float64,1}:\n",
       "    4.199739497957443e-6 \n",
       "  224.70082828982254     \n",
       " 3503.767559072547       \n",
       "    0.006204251862992226 \n",
       "   -0.0416187051273439   \n",
       "    3.0592969749967387e-6\n",
       "  365.2564573265448      \n",
       " 3624.4074186554485      \n",
       "    0.020578318593223243 \n",
       "   -0.030965141175852914 \n",
       "    5.636210968432543e-7 \n",
       "  667.2410972620598      \n",
       "  331.02400719652434     \n",
       "   -0.22083715870196868  \n",
       "   -0.026391678844254828 \n",
       "    0.0005733796624626451\n",
       " 4162.370325250527       \n",
       "  925.2317094069435      \n",
       "   -0.027129947836875407 \n",
       "   -0.023973959068014042 "
      ]
     },
     "execution_count": 4,
     "metadata": {},
     "output_type": "execute_result"
    }
   ],
   "source": [
    "l=jldopen(\"FITS/p4_fit30.0s30.0yrs.jld2\",\"r\");l[\"best_p4\"]"
   ]
  },
  {
   "cell_type": "code",
   "execution_count": 8,
   "metadata": {},
   "outputs": [
    {
     "data": {
      "text/plain": [
       "20-element Array{Float64,1}:\n",
       "    4.199739497957443e-6 \n",
       "  224.70082828982254     \n",
       " 3503.767559072547       \n",
       "    0.006204251862992226 \n",
       "   -0.0416187051273439   \n",
       "    3.0592969749967387e-6\n",
       "  365.2564573265448      \n",
       " 3624.4074186554485      \n",
       "    0.020578318593223243 \n",
       "   -0.030965141175852914 \n",
       "    5.636210968432543e-7 \n",
       "  667.2410972620598      \n",
       "  331.02400719652434     \n",
       "   -0.22083715870196868  \n",
       "   -0.026391678844254828 \n",
       "    0.0005733796624626451\n",
       " 4162.370325250527       \n",
       "  925.2317094069435      \n",
       "   -0.027129947836875407 \n",
       "   -0.023973959068014042 "
      ]
     },
     "execution_count": 8,
     "metadata": {},
     "output_type": "execute_result"
    }
   ],
   "source": [
    "p=jldopen(\"MCMC/p4_mcmc30.0s30.0yrs.jld2\",\"r\");p[\"param\"]"
   ]
  },
  {
   "cell_type": "markdown",
   "metadata": {},
   "source": [
    "### Fit 4 planets with moon"
   ]
  },
  {
   "cell_type": "code",
   "execution_count": 41,
   "metadata": {
    "collapsed": true,
    "jupyter": {
     "outputs_hidden": true
    },
    "tags": []
   },
   "outputs": [
    {
     "name": "stdout",
     "output_type": "stream",
     "text": [
      "FITS/p3moon_fit30s30yrs.jld2 loaded.\n",
      "Previous model params: [2.384424432392215e-6, 224.7007799456815, 3503.768678133689, -0.0007783247539810868, 0.0021727247987452162, 3.0322029402257203e-6, 365.25645185796003, 3624.407491463483, 0.013218159190585116, 0.004281927757742217, 0.0007868596724091433, 4227.186843338152, 619.1468842361991, 0.013975790714605026, -0.03442714789237476, -1.530082935088796e-5, -0.0018231379967262153, 2.3129311609831533]\n",
      "Period: 657.4500000000002 log Prob: -176.36075950643104 Param: [2.3830480094075235e-6, 224.70078105781556, 3503.768664858806, -0.004046946183681488, 0.004235303966838113, 2.9997704361368915e-6, 365.25645181219534, 3624.407504592964, 0.009926980883831413, 0.006919686095246251, 2.3801058073810857e-7, 657.4500000000002, -72.89596686049431, 0.10660514534361228, 0.05454621272658618, 0.0008300926501215622, 4249.602465798073, 534.9888412246786, 0.02659980041157088, -0.03495969439829271, 0.00012540984203215534, -0.001791287840081755, 2.3175724248523895]\n",
      "Period: 672.273639632572 log Prob: -180.03957300926885 Param: [2.53685902011512e-6, 224.70080414408886, 3503.7654245929566, 0.036284033613987236, 0.0037824200494267234, 3.2600996726521993e-6, 365.2564541721119, 3624.407447899671, 0.04217485642179514, 0.005032213344849455, 1.8105429848870038e-9, 672.273639632572, -11436.014097029049, -24.175081754568687, -55.73200943894927, 0.0002502893625856931, 4179.964235987242, 956.6500186912674, -0.10778295461985064, 0.002369793856934261, 0.0005863062191335421, -0.0018343040070501824, 2.317527801667053]\n",
      "Period: 687.4315104491986 log Prob: -169.55407887530268 Param: [2.3259400240088786e-6, 224.70077489759123, 3503.7687870757695, -0.005179732957023106, 0.0025352154310697094, 2.9804082366806487e-6, 365.2564539405381, 3624.4074590759433, 0.009282591919662027, 0.00543457012108435, 3.669281751354848e-7, 687.4315104491986, 406.7099304759587, -0.1001323686596207, -0.09496803057986375, 0.001028916940871343, 4366.581753801969, 284.3002729137361, 0.025321342081766004, -0.038227620946804576, 3.881102675265035e-5, -0.0018103309219110184, 2.3146232516826286]\n",
      "Period: 702.9311484185856 log Prob: -178.58596202337705 Param: [2.4482724326421872e-6, 224.70077871052482, 3503.7687067052143, 0.0037269028754154197, 0.0015071935849061196, 3.068503173179212e-6, 365.25643122375897, 3624.40778624144, 0.017157292545295452, 0.0035564920114290336, 4.509239109593128e-7, 702.9311484185856, 160.15813614978683, -0.008525175843254542, 0.012000554970540122, 0.000799179483669269, 4318.489567506153, 427.2796643572965, 0.012300799151655785, -0.03446872874009306, -0.0001405020504843501, -0.0018143235118500086, 2.309122994339535]\n",
      "Period: 718.7802594242391 log Prob: -178.42197418914495 Param: [2.6392586216103783e-6, 224.700779112481, 3503.768695686383, 0.01538778647823992, -0.0002488587542208498, 3.147450094000039e-6, 365.2563372182942, 3624.409041900203, 0.026480152634109022, 0.001749509639725048, 1.3468388924666927e-6, 718.7802594242391, 53.77985508470098, 0.03922937615500469, 0.0009746670753555939, 0.0006246696204467702, 4316.942255772873, 436.025067167103, -0.011299072666795092, -0.04234387135677159, -0.00018435419468198905, -0.0017517249191830889, 2.307218930358193]\n",
      "Period: 734.9867230955631 log Prob: -179.53119301262316 Param: [2.5725839238254653e-6, 224.70077852171684, 3503.7687113987836, 0.009223926198975812, 0.002374572158195721, 3.099196695274401e-6, 365.25523406303597, 3624.423079770435, 0.021597655487768805, 0.0039033621521876553, 6.602637641813847e-7, 734.9867230955631, 336.2253687259447, 0.09636872946540698, -0.01860936144155098, 0.0006791879286090783, 4303.59850447973, 446.5442569899787, -0.00023186770319553435, -0.039729157582635066, -0.0001636909838439668, -0.0017709534015126918, 2.307760124601602]\n",
      "Period: 751.558596725335 log Prob: -176.20700984309565 Param: [2.442988002803385e-6, 224.7007796847367, 3503.768683590709, -0.006090699354129667, -0.0015757139564817927, 3.0083545485722654e-6, 365.25652350462997, 3624.4064184496165, 0.009443773635703345, 0.0016805834248932391, 1.582015871605073e-6, 751.558596725335, 171.11853161566697, 0.07050596356111545, 0.012508028661673066, 0.0009634640599730522, 4281.987910058779, 524.24280062782, 0.022975661162719128, -0.027961788680533072, -8.04539700233389e-5, -0.0017175667006709434, 2.3108173806482832]\n",
      "Period: 768.5041192755178 log Prob: -174.5908852090526 Param: [2.3212450935564607e-6, 224.7007788309671, 3503.768710629404, 0.006749432994601294, 0.0010160531457509526, 3.0836945050288047e-6, 365.2564474917257, 3624.4075353811377, 0.018923924090342596, 0.0034998083132805812, 9.505994859922855e-7, 768.5041192755178, 55.95126311178804, 0.1096263099652105, 0.01187290707392483, 0.0007823755501718933, 4334.6993033340095, 417.5796829120216, 0.020370675023643647, -0.028456589126919712, -7.179505571561688e-5, -0.0018808722021465998, 2.312562000012535]\n",
      "Period: 785.831715473385 log Prob: -171.56941005940246 Param: [2.1213424222413166e-6, 224.70077926656793, 3503.7686902666806, -0.009046616119857772, -0.000412334899635995, 2.9615714955174344e-6, 365.2564605015173, 3624.4073460237487, 0.006376453328066149, 0.0027746351109321486, 8.569859817630641e-7, 785.831715473385, 417.9424965933076, 0.18459816161095982, 0.053073392222044415, 0.0011483044778672028, 4318.2512018455745, 467.4421649502044, 0.02619758534692668, -0.026835358723191576, 0.00014918454204699026, -0.001956552504942872, 2.321858948504452]\n",
      "Period: 803.5500000000002 log Prob: -177.44296246626044 Param: [2.433715702208342e-6, 224.70077843240415, 3503.7687268837863, 0.020983168567235165, 0.009198651915979622, 3.1812772930143395e-6, 365.2564529479506, 3624.4074794069757, 0.030044072570782124, 0.009906429545087294, 1.3131012008398336e-8, 803.5500000000002, -2318.1289416168534, -3.110067565789793, -9.656416130081162, 0.000597913968086454, 4273.792492843045, 480.9811193257873, 0.030170354301025184, -0.027002756780265924, 0.0003599753118854811, -0.001812449069739591, 2.3183694918923914]\n",
      "Finished 4-planet fit w/ fixed period: [2.3259400240088786e-6, 224.70077489759123, 3503.7687870757695, -0.005179732957023106, 0.0025352154310697094, 2.9804082366806487e-6, 365.2564539405381, 3624.4074590759433, 0.009282591919662027, 0.00543457012108435, 3.669281751354848e-7, 687.4315104491986, 406.7099304759587, -0.1001323686596207, -0.09496803057986375, 0.001028916940871343, 4366.581753801969, 284.3002729137361, 0.025321342081766004, -0.038227620946804576, 3.881102675265035e-5, -0.0018103309219110184, 2.3146232516826286]\n",
      "Finished global 4-planet fit.\n",
      "New 4-planet chi-square: 76.97576555454216\n",
      "Maximum: -169.3961349310209 Param: [2.365060311911654e-6, 224.70077426551893, 3503.768783092609, -0.006222903997217967, 0.003232258898513388, 2.9726619926052717e-6, 365.25645456725687, 3624.4074462675817, 0.00853480788096658, 0.006043528198892743, 3.581154110983279e-7, 686.3529040308265, 414.8786577542629, -0.09710807459695522, -0.10930001431968726, 0.0010587227728487175, 4368.819812533091, 268.4443790512414, 0.025769966031974532, -0.039774105765626344, 2.7684222619053377e-5, -0.0017959432020067541, 2.3141152577407857]\n"
     ]
    },
    {
     "data": {
      "text/plain": [
       "23-element Array{Float64,1}:\n",
       "    2.365060311911654e-6 \n",
       "  224.70077426551893     \n",
       " 3503.768783092609       \n",
       "   -0.006222903997217967 \n",
       "    0.003232258898513388 \n",
       "    2.9726619926052717e-6\n",
       "  365.25645456725687     \n",
       " 3624.4074462675817      \n",
       "    0.00853480788096658  \n",
       "    0.006043528198892743 \n",
       "    3.581154110983279e-7 \n",
       "  686.3529040308265      \n",
       "  414.8786577542629      \n",
       "   -0.09710807459695522  \n",
       "   -0.10930001431968726  \n",
       "    0.0010587227728487175\n",
       " 4368.819812533091       \n",
       "  268.4443790512414      \n",
       "    0.025769966031974532 \n",
       "   -0.039774105765626344 \n",
       "    2.7684222619053377e-5\n",
       "   -0.0017959432020067541\n",
       "    2.3141152577407857   "
      ]
     },
     "execution_count": 41,
     "metadata": {},
     "output_type": "execute_result"
    }
   ],
   "source": [
    "include(\"fit_planet4.jl\")\n",
    "@time fit_planet4(jd1,30,30,2430000,1e-5, 1.8*365.25, 2.2*365.25,10,36)"
   ]
  },
  {
   "cell_type": "code",
   "execution_count": 81,
   "metadata": {
    "collapsed": true,
    "jupyter": {
     "outputs_hidden": true
    },
    "tags": []
   },
   "outputs": [
    {
     "name": "stdout",
     "output_type": "stream",
     "text": [
      "Parameters from fit: [2.365060311911654e-6, 224.70077426551893, 3503.768783092609, -0.006222903997217967, 0.003232258898513388, 2.9726619926052717e-6, 365.25645456725687, 3624.4074462675817, 0.00853480788096658, 0.006043528198892743, 3.581154110983279e-7, 686.3529040308265, 414.8786577542629, -0.09710807459695522, -0.10930001431968726, 0.0010587227728487175, 4368.819812533091, 268.4443790512414, 0.025769966031974532, -0.039774105765626344, 2.7684222619053377e-5, -0.0017959432020067541, 2.3141152577407857]\n",
      "Maximum log Prob from fit: -169.3961349310209\n",
      "Step: 93 Walker: 100 Trial Log Prob: 594.0063040971266 Prob: 0.15847101975289526 Frac: 0.3325806451612903\n",
      "Step: 101 Walker: 83 Trial Log Prob: 584.5554253198878 Prob: 0.004668984797966618 Frac: 0.3287711990479024\n",
      "Step: 184 Walker: 78 Trial Log Prob: 588.7797183112018 Prob: 5.745069479910076 Frac: 0.3108063989552726\n",
      "Step: 634 Walker: 59 Trial Log Prob: -Inf Prob: 0.0 Frac: 0.2869994791584463\n",
      "Step: 719 Walker: 32 Trial Log Prob: 578.2089145744798 Prob: 0.31927311788944307 Frac: 0.28420481122619445\n",
      "Step: 742 Walker: 93 Trial Log Prob: 578.1241085371205 Prob: 0.028618252358707047 Frac: 0.2836925316404513\n",
      "Step: 792 Walker: 88 Trial Log Prob: 589.8688403544382 Prob: 0.8466056456714214 Frac: 0.2824165277567308\n",
      "Step: 850 Walker: 99 Trial Log Prob: 591.6797690023277 Prob: 1.0280624888790884 Frac: 0.2811091895198767\n",
      "Step: 931 Walker: 3 Trial Log Prob: 586.5783091145129 Prob: 0.43112837792886205 Frac: 0.2790340096556025\n",
      "Step: 966 Walker: 45 Trial Log Prob: 553.6222478061936 Prob: 3.3121923557670277e-12 Frac: 0.27837795846496455\n",
      "Number of steps: 1000 Acceptance Rate: 0.27752\n",
      "Step: 1021 Walker: 56 Trial Log Prob: 580.0285270182983 Prob: 0.008778041342553049 Frac: 0.2538910505836576\n",
      "Step: 1028 Walker: 88 Trial Log Prob: 598.8361954564484 Prob: 0.0038555374442875634 Frac: 0.25609756097560976\n",
      "Step: 1048 Walker: 46 Trial Log Prob: 595.6001347853111 Prob: 1.2541037462029123 Frac: 0.25431942688579856\n",
      "Step: 1053 Walker: 81 Trial Log Prob: -Inf Prob: 0.0 Frac: 0.25752698352584735\n",
      "Step: 1132 Walker: 78 Trial Log Prob: 598.1671895077401 Prob: 0.02236575075693596 Frac: 0.2633176506298376\n",
      "Step: 1153 Walker: 94 Trial Log Prob: 593.8637315585557 Prob: 0.8744830488703196 Frac: 0.26245586504511575\n",
      "Step: 1202 Walker: 71 Trial Log Prob: 601.9847929560402 Prob: 1.155984993306345 Frac: 0.2602746517277279\n",
      "Step: 1226 Walker: 43 Trial Log Prob: 587.0355106500491 Prob: 0.13620436457706986 Frac: 0.2601694539324846\n",
      "Step: 1324 Walker: 54 Trial Log Prob: 520.0544445246697 Prob: 1.1880071788614107e-26 Frac: 0.2565988749459109\n",
      "Step: 1449 Walker: 15 Trial Log Prob: 595.9210140969299 Prob: 1.0167539116092048 Frac: 0.25533861430324667\n",
      "Step: 1462 Walker: 55 Trial Log Prob: 598.0819146592193 Prob: 0.15341608564689624 Frac: 0.2551186220344491\n",
      "Step: 1479 Walker: 42 Trial Log Prob: 592.4914155524868 Prob: 0.0951225472248843 Frac: 0.25588395133982694\n",
      "Step: 1662 Walker: 51 Trial Log Prob: 581.6362530450267 Prob: 1.544954321618476e-5 Frac: 0.2557935632114405\n",
      "Step: 1972 Walker: 75 Trial Log Prob: 596.2795900900294 Prob: 0.024488171983318985 Frac: 0.25318240288139954\n",
      "Number of steps: 2000 Acceptance Rate: 0.2533\n",
      "Step: 2039 Walker: 40 Trial Log Prob: -Inf Prob: 0.0 Frac: 0.246875\n",
      "Step: 2213 Walker: 1 Trial Log Prob: 595.1516188805812 Prob: 0.6481233962277421 Frac: 0.2466393094665346\n",
      "Step: 2246 Walker: 71 Trial Log Prob: 596.2779709505494 Prob: 1.252051143392134 Frac: 0.24614382809002483\n",
      "Step: 2337 Walker: 66 Trial Log Prob: 599.2628785986872 Prob: 0.0006009681437352983 Frac: 0.24454939701776274\n",
      "Step: 2398 Walker: 71 Trial Log Prob: 601.8689573372989 Prob: 0.11303972810412566 Frac: 0.24555580699504664\n",
      "Step: 2576 Walker: 68 Trial Log Prob: -Inf Prob: 0.0 Frac: 0.2449103668704836\n",
      "Step: 2665 Walker: 64 Trial Log Prob: 598.5490571639755 Prob: 0.9926026854274389 Frac: 0.24477912855079442\n",
      "Step: 2830 Walker: 14 Trial Log Prob: 597.8026503674289 Prob: 0.0002112852091063657 Frac: 0.24379477530935667\n",
      "Step: 2883 Walker: 33 Trial Log Prob: 428.04722601849016 Prob: 6.653406134953747e-66 Frac: 0.24308365350832456\n",
      "Step: 2907 Walker: 54 Trial Log Prob: 597.8115275051194 Prob: 0.12725639796651486 Frac: 0.24327663423566528\n",
      "Number of steps: 3000 Acceptance Rate: 0.24354\n",
      "Step: 3014 Walker: 56 Trial Log Prob: 587.7817106570075 Prob: 0.26179337872079805 Frac: 0.23820058997050148\n",
      "Step: 3264 Walker: 15 Trial Log Prob: 598.4895170005962 Prob: 1.0310394844189348 Frac: 0.23450503515105453\n",
      "Step: 3377 Walker: 6 Trial Log Prob: 594.1706755074824 Prob: 0.00378639111190776 Frac: 0.23371270541934797\n",
      "Step: 3667 Walker: 14 Trial Log Prob: 595.6703227209688 Prob: 4.8255860884649164e-6 Frac: 0.23247365418680757\n",
      "Step: 3677 Walker: 15 Trial Log Prob: 591.0230817871743 Prob: 2.609377590695596 Frac: 0.2324040523552466\n",
      "Step: 3681 Walker: 73 Trial Log Prob: 589.035349196139 Prob: 1.0553394996211292 Frac: 0.23228005229679902\n",
      "Step: 3709 Walker: 19 Trial Log Prob: 593.9177387303474 Prob: 1.0938681379924815 Frac: 0.2318021999745831\n",
      "Step: 3847 Walker: 50 Trial Log Prob: 584.1796597454716 Prob: 0.006750564856305615 Frac: 0.2314825753101004\n",
      "Step: 3865 Walker: 43 Trial Log Prob: 601.9277429042036 Prob: 0.009420746646322888 Frac: 0.23158613190194693\n",
      "Step: 3869 Walker: 64 Trial Log Prob: 521.9845307373099 Prob: 5.710053811812496e-28 Frac: 0.23167249953951005\n",
      "Number of steps: 4000 Acceptance Rate: 0.22954\n",
      "Step: 4023 Walker: 51 Trial Log Prob: 586.6829071885604 Prob: 1.6468257052364297 Frac: 0.23767214571301643\n",
      "Step: 4186 Walker: 13 Trial Log Prob: 598.4090195595502 Prob: 0.018124935052280938 Frac: 0.23280937719440392\n",
      "Step: 4419 Walker: 84 Trial Log Prob: 594.378534798679 Prob: 5.777952592137687e-5 Frac: 0.233000668513036\n",
      "Step: 4422 Walker: 80 Trial Log Prob: 597.2476780331641 Prob: 0.0014310397387925639 Frac: 0.2332385016595543\n",
      "Step: 4436 Walker: 18 Trial Log Prob: 591.4607292746805 Prob: 1.4497039572125197 Frac: 0.2329840525759456\n",
      "Step: 4641 Walker: 27 Trial Log Prob: 603.7473715884113 Prob: 0.0015155286670979517 Frac: 0.2309806800256142\n",
      "Step: 4711 Walker: 34 Trial Log Prob: 594.5884807026658 Prob: 0.00011087987950809429 Frac: 0.2301855449503055\n",
      "Step: 4877 Walker: 93 Trial Log Prob: 606.5819510915223 Prob: 0.00015909119668150074 Frac: 0.2292315236107785\n",
      "Step: 4936 Walker: 20 Trial Log Prob: 591.6477213724141 Prob: 2.250201632574318 Frac: 0.22867835757057314\n",
      "Step: 4943 Walker: 55 Trial Log Prob: 591.0245484692833 Prob: 0.0011778683059190617 Frac: 0.22864569518858416\n",
      "Number of steps: 5000 Acceptance Rate: 0.22817\n",
      "Step: 5025 Walker: 28 Trial Log Prob: 598.4124885591312 Prob: 0.7821130872436622 Frac: 0.235996705107084\n",
      "Step: 5233 Walker: 9 Trial Log Prob: -Inf Prob: 0.0 Frac: 0.2203455556034297\n",
      "Step: 5361 Walker: 98 Trial Log Prob: 600.1435593932077 Prob: 1.9147643112020426e-5 Frac: 0.21995678430938\n",
      "Step: 5455 Walker: 74 Trial Log Prob: 601.1191143396467 Prob: 0.0017436882623594685 Frac: 0.22129128732902317\n",
      "Step: 5576 Walker: 21 Trial Log Prob: 598.6930658715652 Prob: 0.0037859740907240304 Frac: 0.22146694250795362\n",
      "Step: 5593 Walker: 49 Trial Log Prob: 590.1333985148542 Prob: 3.9725706826306215e-5 Frac: 0.22143833651200864\n",
      "Step: 5643 Walker: 38 Trial Log Prob: -Inf Prob: 0.0 Frac: 0.22078831844079827\n",
      "Step: 5704 Walker: 83 Trial Log Prob: 582.1015550923089 Prob: 0.00750926751381659 Frac: 0.21974056235170425\n",
      "Step: 5808 Walker: 11 Trial Log Prob: 600.0969667701405 Prob: 7.01353898745817e-5 Frac: 0.21980894797487333\n",
      "Step: 5856 Walker: 37 Trial Log Prob: 562.0572992397538 Prob: 6.80199046493667e-8 Frac: 0.22024387107333668\n",
      "Step: 5865 Walker: 71 Trial Log Prob: 593.3781634718056 Prob: 0.7804491554845909 Frac: 0.22021255681095397\n",
      "Step: 5866 Walker: 4 Trial Log Prob: 573.5470062364739 Prob: 6.139666704721548e-7 Frac: 0.22018634976417276\n",
      "Step: 5981 Walker: 85 Trial Log Prob: 597.8612981430431 Prob: 0.6865559550538499 Frac: 0.22057399194576133\n",
      "Number of steps: 6000 Acceptance Rate: 0.22066\n",
      "Step: 6085 Walker: 10 Trial Log Prob: 575.1142284763274 Prob: 6.063942501968987e-7 Frac: 0.2215219976218787\n",
      "Step: 6149 Walker: 86 Trial Log Prob: -Inf Prob: 0.0 Frac: 0.2245062474808545\n",
      "Step: 6371 Walker: 28 Trial Log Prob: 579.6830977795645 Prob: 0.00015431679488010083 Frac: 0.22763854380468834\n",
      "Step: 6505 Walker: 87 Trial Log Prob: 579.6663052105187 Prob: 0.013151392446118518 Frac: 0.22893021966050667\n",
      "Step: 6603 Walker: 45 Trial Log Prob: 588.9869904043572 Prob: 0.0005533504751153697 Frac: 0.22733836832932194\n",
      "Step: 6970 Walker: 72 Trial Log Prob: -Inf Prob: 0.0 Frac: 0.22617869075609454\n",
      "Number of steps: 7000 Acceptance Rate: 0.22568\n",
      "Step: 7011 Walker: 62 Trial Log Prob: -Inf Prob: 0.0 Frac: 0.23163841807909605\n",
      "Step: 7039 Walker: 50 Trial Log Prob: 604.3633567750807 Prob: 7.52984856029496e-5 Frac: 0.23194805194805196\n",
      "Step: 7141 Walker: 17 Trial Log Prob: 603.0941819676187 Prob: 0.00019194723224896294 Frac: 0.22800884640079902\n",
      "Step: 7201 Walker: 11 Trial Log Prob: 599.6518274365083 Prob: 0.2242343921428431 Frac: 0.22757483384138724\n",
      "Step: 7202 Walker: 53 Trial Log Prob: 599.7435930582632 Prob: 7.477460456203174e-5 Frac: 0.2278568947551233\n",
      "Step: 7322 Walker: 25 Trial Log Prob: 486.65653598374405 Prob: 4.1002941928134875e-41 Frac: 0.22309727626459144\n",
      "Step: 7436 Walker: 12 Trial Log Prob: 546.1269263010687 Prob: 1.1992132562102158e-19 Frac: 0.21872127229270086\n",
      "Step: 7505 Walker: 62 Trial Log Prob: 594.7997260825903 Prob: 0.709362561023984 Frac: 0.21754983948317547\n",
      "Step: 7662 Walker: 14 Trial Log Prob: 603.8879877848469 Prob: 0.003584382827628865 Frac: 0.21701908824152222\n",
      "Step: 7839 Walker: 43 Trial Log Prob: -Inf Prob: 0.0 Frac: 0.21589160693200388\n",
      "Step: 7950 Walker: 97 Trial Log Prob: 563.1524499074052 Prob: 2.6548990908463654e-16 Frac: 0.2145962504079076\n",
      "Number of steps: 8000 Acceptance Rate: 0.21464\n",
      "Step: 8142 Walker: 88 Trial Log Prob: 598.0971563893374 Prob: 2.4592159279646593 Frac: 0.2031294051310967\n",
      "Step: 8275 Walker: 81 Trial Log Prob: 602.4957548268764 Prob: 1.937900997254767e-5 Frac: 0.2102543575561297\n",
      "Step: 8417 Walker: 71 Trial Log Prob: 602.1951793967536 Prob: 0.040184054960209076 Frac: 0.2135537904057978\n",
      "Step: 8497 Walker: 85 Trial Log Prob: 588.7579794070706 Prob: 0.3208767993606157 Frac: 0.21233772768441178\n",
      "Step: 8543 Walker: 41 Trial Log Prob: 582.7595986449926 Prob: 0.00011273130321270748 Frac: 0.21203517634261906\n",
      "Step: 8671 Walker: 79 Trial Log Prob: 593.9052427232268 Prob: 1.000755482966885 Frac: 0.21182486322097824\n",
      "Step: 8760 Walker: 75 Trial Log Prob: 577.8538013092348 Prob: 2.7894077895543006e-6 Frac: 0.21138532411977623\n",
      "Step: 8819 Walker: 83 Trial Log Prob: 599.1489774429492 Prob: 0.0011958854707891826 Frac: 0.21194875615207065\n",
      "Step: 8834 Walker: 54 Trial Log Prob: -Inf Prob: 0.0 Frac: 0.21171149554910382\n",
      "Number of steps: 9000 Acceptance Rate: 0.21153\n",
      "Step: 9011 Walker: 87 Trial Log Prob: 596.4994339466729 Prob: 1.5060938297965714 Frac: 0.22355105795768168\n",
      "Step: 9037 Walker: 99 Trial Log Prob: 597.4964327795642 Prob: 3.368692239034613e-5 Frac: 0.21465260881319276\n",
      "Step: 9096 Walker: 46 Trial Log Prob: 602.9938599578464 Prob: 0.00011334848878258682 Frac: 0.20657867169495076\n",
      "Step: 9151 Walker: 88 Trial Log Prob: 599.6749132914279 Prob: 1.7053373138037623e-5 Frac: 0.2040694591728526\n",
      "Step: 9183 Walker: 8 Trial Log Prob: 583.479557094973 Prob: 0.00030972040656283194 Frac: 0.20738137082601055\n",
      "Step: 9287 Walker: 54 Trial Log Prob: 580.5815149427608 Prob: 3.0434631208634114e-6 Frac: 0.20820827807635933\n",
      "Step: 9339 Walker: 81 Trial Log Prob: 593.7580436963489 Prob: 0.014230390908540563 Frac: 0.21008825005165138\n",
      "Step: 9372 Walker: 1 Trial Log Prob: 571.1365963279931 Prob: 1.1136516180162366e-6 Frac: 0.21115333818495458\n",
      "Step: 9581 Walker: 78 Trial Log Prob: 585.4185317314254 Prob: 7.0516958717166566e-9 Frac: 0.21219738971727675\n",
      "Step: 9698 Walker: 12 Trial Log Prob: 593.9027174039567 Prob: 0.09493577850268549 Frac: 0.21092494835896258\n",
      "Step: 9763 Walker: 66 Trial Log Prob: 601.2112588245401 Prob: 0.03454125650798095 Frac: 0.21110324390947474\n",
      "Number of steps: 10000 Acceptance Rate: 0.21123\n",
      "Burn-in Number (ends): 3751\n",
      "Independent Sample Size: 999.2196568368797\n",
      "665.961057 seconds (65.70 M allocations: 206.742 GiB, 6.48% gc time)\n"
     ]
    },
    {
     "data": {
      "text/plain": [
       "([402.1244310144802 402.1244310144802 … 594.7588779167752 594.7588779167752; -40.475027663764166 -40.475027663764166 … 596.0089816074703 596.0089816074703; … ; 477.02150017065054 477.02150017065054 … 594.8725726696445 594.8725726696445; 285.0186159446284 285.0186159446284 … 595.1886901124724 595.1886901124724], [2.3974478846784295e-6 2.3974478846784295e-6 … 2.7296305982120817e-6 2.7296305982120817e-6; 2.432649039285748e-6 2.432649039285748e-6 … 2.8389640319040445e-6 2.8389640319040445e-6; … ; 2.4181976143124705e-6 2.4181976143124705e-6 … 2.1650691388442643e-6 2.1650691388442643e-6; 2.3400095615041467e-6 2.3400095615041467e-6 … 1.9954613517697487e-6 1.9954613517697487e-6]\n",
       "\n",
       "[224.7007617689161 224.7007617689161 … 224.70077937433086 224.70077937433086; 224.70076265796476 224.70076265796476 … 224.70077210923648 224.70077210923648; … ; 224.70077587705953 224.70077587705953 … 224.7007707583407 224.7007707583407; 224.70078824790284 224.70078824790284 … 224.7007719891313 224.7007719891313]\n",
       "\n",
       "[3503.768796904413 3503.768796904413 … 3503.7687623353836 3503.7687623353836; 3503.7687929526737 3503.7687929526737 … 3503.7688788139244 3503.7688788139244; … ; 3503.768774623475 3503.768774623475 … 3503.7688727741224 3503.7688727741224; 3503.768798271466 3503.768798271466 … 3503.76884843304 3503.76884843304]\n",
       "\n",
       "...\n",
       "\n",
       "[-0.0018442278860905826 -0.0018442278860905826 … -0.0015359778694657845 -0.0015359778694657845; -0.0016417975336279543 -0.0016417975336279543 … -0.0016861665171649446 -0.0016861665171649446; … ; -0.0019263518070673207 -0.0019263518070673207 … -0.0017818483356041408 -0.0017818483356041408; -0.0017032974451756835 -0.0017032974451756835 … -0.002033517012538627 -0.002033517012538627]\n",
       "\n",
       "[2.3141293223935584 2.3141293223935584 … 2.3050504031507355 2.3050504031507355; 2.3140969162115734 2.3140969162115734 … 2.314398478483025 2.314398478483025; … ; 2.3141182271137635 2.3141182271137635 … 2.320571291280039 2.320571291280039; 2.314113487235899 2.314113487235899 … 2.3136158077755873 2.3136158077755873]\n",
       "\n",
       "[3.5289024959564447e-9 3.5289024959564447e-9 … 3.080428052293035e-8 3.080428052293035e-8; 3.4900874774915548e-9 3.4900874774915548e-9 … 3.9141620434731506e-8 3.9141620434731506e-8; … ; 1.4029991496255448e-9 1.4029991496255448e-9 … 9.34526350254411e-8 9.34526350254411e-8; 3.598794018189835e-9 3.598794018189835e-9 … 1.3089366361352566e-7 1.3089366361352566e-7])"
      ]
     },
     "execution_count": 81,
     "metadata": {},
     "output_type": "execute_result"
    }
   ],
   "source": [
    "include(\"MCMC.jl\")\n",
    "foutput=string(\"MCMC/moonp\",4,\"_mcmc\",30,\"s\",30,\"yrs.jld2\")\n",
    "p=jldopen(\"FITS/moonp4_fit30s30yrs.jld2\",\"r\")\n",
    "@time MCMC(foutput,p[string(\"best_p\",4)],p[string(\"lprob_best_p\",4)],10000,100,4,p[\"ntrans\"][1:4],p[\"tt0\"],p[\"tt\"],p[\"sigtt\"],true,false)"
   ]
  },
  {
   "cell_type": "code",
   "execution_count": 9,
   "metadata": {},
   "outputs": [
    {
     "data": {
      "text/plain": [
       "23-element Array{Float64,1}:\n",
       "    2.365060311911654e-6 \n",
       "  224.70077426551893     \n",
       " 3503.768783092609       \n",
       "   -0.006222903997217967 \n",
       "    0.003232258898513388 \n",
       "    2.9726619926052717e-6\n",
       "  365.25645456725687     \n",
       " 3624.4074462675817      \n",
       "    0.00853480788096658  \n",
       "    0.006043528198892743 \n",
       "    3.581154110983279e-7 \n",
       "  686.3529040308265      \n",
       "  414.8786577542629      \n",
       "   -0.09710807459695522  \n",
       "   -0.10930001431968726  \n",
       "    0.0010587227728487175\n",
       " 4368.819812533091       \n",
       "  268.4443790512414      \n",
       "    0.025769966031974532 \n",
       "   -0.039774105765626344 \n",
       "    2.7684222619053377e-5\n",
       "   -0.0017959432020067541\n",
       "    2.3141152577407857   "
      ]
     },
     "execution_count": 9,
     "metadata": {},
     "output_type": "execute_result"
    }
   ],
   "source": [
    "p=jldopen(\"FITS/moonp4_fit30.0s30.0yrs.jld2\",\"r\");p[\"best_p4\"]"
   ]
  },
  {
   "cell_type": "code",
   "execution_count": 2,
   "metadata": {},
   "outputs": [
    {
     "data": {
      "text/plain": [
       "23-element Array{Float64,1}:\n",
       "    2.365060311911654e-6 \n",
       "  224.70077426551893     \n",
       " 3503.768783092609       \n",
       "   -0.006222903997217967 \n",
       "    0.003232258898513388 \n",
       "    2.9726619926052717e-6\n",
       "  365.25645456725687     \n",
       " 3624.4074462675817      \n",
       "    0.00853480788096658  \n",
       "    0.006043528198892743 \n",
       "    3.581154110983279e-7 \n",
       "  686.3529040308265      \n",
       "  414.8786577542629      \n",
       "   -0.09710807459695522  \n",
       "   -0.10930001431968726  \n",
       "    0.0010587227728487175\n",
       " 4368.819812533091       \n",
       "  268.4443790512414      \n",
       "    0.025769966031974532 \n",
       "   -0.039774105765626344 \n",
       "    2.7684222619053377e-5\n",
       "   -0.0017959432020067541\n",
       "    2.3141152577407857   "
      ]
     },
     "execution_count": 2,
     "metadata": {},
     "output_type": "execute_result"
    }
   ],
   "source": [
    "p=jldopen(\"MCMC/moonp4_mcmc30.0s30.0yrs.jld2\",\"r\");p[\"param\"]"
   ]
  },
  {
   "cell_type": "markdown",
   "metadata": {},
   "source": [
    "## Fit 5 planets"
   ]
  },
  {
   "cell_type": "code",
   "execution_count": 55,
   "metadata": {},
   "outputs": [
    {
     "name": "stdout",
     "output_type": "stream",
     "text": [
      "Initial parameters: [3.0e-6, 224.70077409705425, 3503.768807440609, 0.01, 0.01, 3.0e-6, 365.25642931515705, 3624.4078769599423, 0.01, 0.01]\n",
      "Initial chi-square: 1116.9958037616166\n",
      "Finished 2-planet fit in 2 iterations.\n",
      "New p2 chi-square: 646.8498193209612\n",
      "Param: [3.692278422763092e-6, 224.7007779333105, 3503.7687611729925, -0.09146264187762092, -0.051138878438349133, 2.572425291589571e-6, 365.25643886693337, 3624.407756798661, -0.055422768111622764, -0.03932115153591312]\n",
      "Finished 3-planet fit w/ fixed period: [3.960916647474602e-6, 224.70077728877877, 3503.768745880229, -0.06251566587385583, -0.05617101043286336, 2.6755253082667e-6, 365.2564486463442, 3624.407544324304, -0.032895968905825815, -0.043105029558548016, 0.000457969813411406, 4340.82963794419, 1171.9662164877855, -0.06439281244417723, 0.09885860889098927]\n",
      "Finished global 3-planet fit in 2 iterations.\n",
      "New 3-planet chi-square: 216.9571838733844\n",
      "Maximum: -209.8083009645936 Param: [3.905392403096112e-6, 224.70078008483736, 3503.7686759329613, -0.06713332113039337, -0.057464976192079416, 2.6456626387499805e-6, 365.2564616417808, 3624.40734258749, -0.036756784079884114, -0.043738086725239836, 0.00034968663368679085, 4187.237602700453, 1498.1263760967636, -0.11348738976325527, 0.1268780385766001]\n",
      "Finished 4-planet fit w/ fixed period: [5.2128590692812625e-6, 224.70077928146694, 3503.7687012211522, 0.0033098947004105385, -0.037053339345374046, 2.9792115146998595e-6, 365.25645253756807, 3624.407509036083, 0.015208026250188517, -0.028985024315816395, 1.2864777149875436e-5, 1460.9999999999995, -59.6366147055991, 0.06530760735205235, 0.4924844016987788, 0.000500674819915459, 4261.097234421322, 845.7760303533898, -0.06068844494708061, -0.003294240027348924]\n",
      "Finished global 4-planet fit in 3 iterations.\n",
      "New 4-planet chi-square: 171.52655967153072\n",
      "Maximum: -200.64478673868516 Param: [5.237188856431306e-6, 224.70077933695654, 3503.7686980821295, 0.004691243030813781, -0.0388096384539098, 2.9899866556326524e-6, 365.25645472185016, 3624.407476345941, 0.016333140839217317, -0.030649084314979914, 1.3759834980922222e-5, 1457.3912666480735, -47.60931630859596, -0.042004462802081456, 0.491374743201507, 0.0004546471442867087, 4272.749457844985, 826.4240188684772, -0.07988030093193335, -0.0019646419859845345]\n",
      "Finished 5-planet fit w/ fixed period: [5.237188856431306e-6, 224.70077917125158, 3503.7686969528336, 0.004691243030813781, -0.0388096384539098, 2.9899866556326524e-6, 365.25645419211054, 3624.4074788422777, 0.016333140839217317, -0.030649084314979914, 1.0000316836928267, 547.8749999999998, 1457.3912666480735, -47.60931630859596, -0.042004462802081456, 0.491374743201507, 0.0004546471442867087, 4272.749457844985, 826.4240188684772, -0.07988030093193335, -0.0019646419859845345, -7.0, 0.0, 0.01, 0.01]\n",
      "Finished global 5-planet fit in 1 iterations.\n",
      "New 5-planet chi-square: 2974.401129737357\n",
      "Maximum: -311.914121874707 Param: [5.237188856431306e-6, 224.70077902258524, 3503.768696250564, 0.004691243030813781, -0.0388096384539098, 2.9899866556326524e-6, 365.2564536973664, 3624.407481786325, 0.016333140839217317, -0.030649084314979914, 1.0000316836928267, 547.8749999999998, 1457.3912666480735, -47.60931630859596, -0.042004462802081456, 0.491374743201507, 0.0004546471442867087, 4272.749457844985, 826.4240188684772, -0.07988030093193335, -0.0019646419859845345, -7.0, 0.0, 0.01, 0.01]\n",
      " 43.840550 seconds (17.94 M allocations: 1.466 GiB, 0.89% gc time)\n"
     ]
    },
    {
     "data": {
      "text/plain": [
       "([5.237188856431306e-6, 224.70077933695654, 3503.7686980821295, 0.004691243030813781, -0.0388096384539098, 2.9899866556326524e-6, 365.25645472185016, 3624.407476345941, 0.016333140839217317, -0.030649084314979914, 1.3759834980922222e-5, 1457.3912666480735, -47.60931630859596, -0.042004462802081456, 0.491374743201507, 0.0004546471442867087, 4272.749457844985, 826.4240188684772, -0.07988030093193335, -0.0019646419859845345], [5.237188856431306e-6, 224.70077902258524, 3503.768696250564, 0.004691243030813781, -0.0388096384539098, 2.9899866556326524e-6, 365.2564536973664, 3624.407481786325, 0.016333140839217317, -0.030649084314979914  …  0.491374743201507, 0.0004546471442867087, 4272.749457844985, 826.4240188684772, -0.07988030093193335, -0.0019646419859845345, -7.0, 0.0, 0.01, 0.01])"
      ]
     },
     "execution_count": 55,
     "metadata": {},
     "output_type": "execute_result"
    }
   ],
   "source": [
    "include(\"fit_planet5.jl\")\n",
    "@time fit_planet5(\"INPUTS/tt_30.0snoEMB30.0yrs.txt\", jd1, 30, 30, 2430000, 1e-5, 11*365.25, 12*365.25, 10,2,1.5*365.25,4*365.25,10,1.5*365.25,3*365.25,10)"
   ]
  },
  {
   "cell_type": "code",
   "execution_count": 45,
   "metadata": {
    "tags": []
   },
   "outputs": [
    {
     "data": {
      "text/plain": [
       "\"MCMC/fromEMB/p5_mcmc30s30yrs.jld2\""
      ]
     },
     "execution_count": 45,
     "metadata": {},
     "output_type": "execute_result"
    }
   ],
   "source": [
    "include(\"MCMC.jl\")\n",
    "foutput=string(\"MCMC/fromEMB/p\",5,\"_mcmc\",30,\"s\",30,\"yrs.jld2\")\n",
    "# p=jldopen(\"FITS/fromEMB/p5_fit30s30yrs.jld2\",\"r\")\n",
    "# @time MCMC(foutput,p[string(\"best_p\",5)],p[string(\"lprob_best_p\",5)],30000,50,5,p[\"ntrans\"][1:5],p[\"tt0\"],p[\"tt\"],p[\"sigtt\"],true,true)"
   ]
  },
  {
   "cell_type": "code",
   "execution_count": 2,
   "metadata": {},
   "outputs": [
    {
     "name": "stdout",
     "output_type": "stream",
     "text": [
      "Testing!\n",
      "Finished CALCEPH computation.\n",
      "INPUTS/tt_30sEMB30yrs.txt loaded.\n",
      "Initial parameters: [3.0e-6, 224.70077409575646, 3503.7654852567784, 0.01, 0.01, 3.0e-6, 365.25642665702384, 3624.4026384093218, 0.01, 0.01]\n",
      "Initial chi-square: 812.3590569057454\n",
      "New initial 2-planet fit: [2.9380153697129402e-6, 224.70077831626037, 3503.765429099878, 0.03081019305418419, 0.011457500858907978, 3.2595689949612584e-6, 365.25643295059126, 3624.402560434307, 0.038440262285722275, 0.010409974573520126]\n",
      "Finished 2-planet fit in 2 iterations.\n",
      "New 2-planet chi-square: 582.8973442491646\n",
      "Param: [2.9380153697129402e-6, 224.70077831626037, 3503.765429099878, 0.03081019305418419, 0.011457500858907978, 3.2595689949612584e-6, 365.25643295059126, 3624.402560434307, 0.038440262285722275, 0.010409974573520126]\n",
      "  7.395127 seconds (12.15 M allocations: 598.664 MiB, 3.63% gc time)\n",
      "FITS/fromEMB/p2_fit30s30yrs.jld2 loaded.\n",
      "Previous model params: [2.9380153697129402e-6, 224.70077831626037, 3503.765429099878, 0.03081019305418419, 0.011457500858907978, 3.2595689949612584e-6, 365.25643295059126, 3624.402560434307, 0.038440262285722275, 0.010409974573520126]\n",
      "Finished 3-planet fit w/ fixed period: [2.5636449587818454e-6, 224.70077915499394, 3503.765371309062, -8.47766135727757e-5, 0.006696765903281945, 3.04555823363696e-6, 365.2564445366548, 3624.402316415585, 0.014223771433809894, 0.007967444503650058, 0.0008153343308685443, 4309.949999999998, 398.11271966035935, 0.01782379554006557, -0.04071679533979835] in 20 iterations\n",
      "Finished global 3-planet fit.\n",
      "New 3-planet chi-square: 109.62309162509258\n",
      "Maximum: -183.1848736509426 Param: [2.5422216286956403e-6, 224.70078014615882, 3503.76534735665, -0.0026337842281164846, 0.007070111985469569, 3.025608895705259e-6, 365.2564540131243, 3624.402170771069, 0.012059674661027565, 0.00829727159197438, 0.0007712306397113555, 4210.131993226086, 603.9755048375332, 0.016164431567252818, -0.04249204621169487]\n",
      "  3.777988 seconds (3.75 M allocations: 236.684 MiB, 2.01% gc time)\n",
      "FITS/fromEMB/p3_fit30s30yrs.jld2 loaded.\n",
      "Previous model params: [2.5422216286956403e-6, 224.70078014615882, 3503.76534735665, -0.0026337842281164846, 0.007070111985469569, 3.025608895705259e-6, 365.2564540131243, 3624.402170771069, 0.012059674661027565, 0.00829727159197438, 0.0007712306397113555, 4210.131993226086, 603.9755048375332, 0.016164431567252818, -0.04249204621169487]\n",
      "Finished 3-planet fit w/ fixed period: [2.476370716360381e-6, 224.70077552673516, 3503.7654458317234, -0.005725995160143898, 0.005853446370266811, 2.979688950181277e-6, 365.256454687972, 3624.402156566885, 0.008987440656895893, 0.00808669783803928, 4.003872908491878e-7, 687.4315104491986, 416.9932423779369, -0.10308558240364257, -0.07630001429523084, 0.0009960154998875192, 4355.240453000815, 269.0019387386575, 0.026268766456938125, -0.045280984138571095] in 2 iterations\n",
      "Finished global 4-planet fit.\n",
      "New 4-planet chi-square: 77.38852437496628\n",
      "Maximum: -169.60470172285304 Param: [2.4797327645063745e-6, 224.70077540783217, 3503.765445004103, -0.005918013520271995, 0.005920552902168205, 2.978144199188821e-6, 365.2564548155953, 3624.4021537664157, 0.008846412607389708, 0.008152238066832872, 3.9884096324315784e-7, 687.2013847033735, 418.79018585750407, -0.10251104153775775, -0.0788074510716646, 0.0010011469469405848, 4355.602495719337, 266.97704320845526, 0.026287939187558736, -0.04558172397045115]\n",
      "566.114345 seconds (142.05 M allocations: 18.674 GiB, 0.78% gc time)\n"
     ]
    }
   ],
   "source": [
    "include(\"full_run.jl\")\n",
    "full_run(\"Hppppp\",30,30,\"test\",\"from_EMB\")"
   ]
  },
  {
   "cell_type": "code",
   "execution_count": 21,
   "metadata": {},
   "outputs": [
    {
     "name": "stdout",
     "output_type": "stream",
     "text": [
      "MCMC file for EMB with p5 model at 30 secs and 30 yrs doesn't exist!!!!\n"
     ]
    }
   ],
   "source": [
    "print_vals(30,30,\"EMB\",\"p5\")"
   ]
  },
  {
   "cell_type": "code",
   "execution_count": 11,
   "metadata": {},
   "outputs": [
    {
     "data": {
      "text/plain": [
       "25-element Array{Float64,1}:\n",
       "    3.4970083417747694e-6\n",
       "  224.70087107121986     \n",
       " 3503.769245391309       \n",
       "   -0.007888594594415349 \n",
       "    0.004135264199166096 \n",
       "    2.981114804382791e-6 \n",
       "  365.2564491843786      \n",
       " 3624.407521798473       \n",
       "    0.007404928782612278 \n",
       "    0.006739677650107284 \n",
       "    3.155807107078755e-7 \n",
       "  671.9319975694044      \n",
       "  164.19606835713589     \n",
       "   -0.621687768615913    \n",
       "   -0.3310087334748523   \n",
       "    0.0015858772858574968\n",
       " 4312.362881970383       \n",
       "  154.81089812116656     \n",
       "    0.06491120906291031  \n",
       "   -0.01964587981612138  \n",
       "    0.003907321882586985 \n",
       " 9422.862580972069       \n",
       " 4320.22515786416        \n",
       "    0.07010788327163676  \n",
       "    0.0009623071313938474"
      ]
     },
     "execution_count": 11,
     "metadata": {},
     "output_type": "execute_result"
    }
   ],
   "source": [
    "l=jldopen(\"FITS/p5_fit30.0s30.0yrs.jld2\",\"r\");l[\"best_p5\"]"
   ]
  },
  {
   "cell_type": "code",
   "execution_count": 2,
   "metadata": {},
   "outputs": [
    {
     "data": {
      "text/plain": [
       "plot_ttvs (generic function with 2 methods)"
      ]
     },
     "execution_count": 2,
     "metadata": {},
     "output_type": "execute_result"
    }
   ],
   "source": [
    "include(\"decompose_ttvs.jl\")\n",
    "include(\"plot_likelihood.jl\")\n",
    "include(\"corner_plot.jl\")\n",
    "include(\"plot_ttvs.jl\")"
   ]
  },
  {
   "cell_type": "markdown",
   "metadata": {
    "tags": []
   },
   "source": [
    "## Posterior Distributions"
   ]
  },
  {
   "cell_type": "markdown",
   "metadata": {},
   "source": [
    "### Plot masses of Venus and Earth in $M_{\\oplus}$"
   ]
  },
  {
   "cell_type": "code",
   "execution_count": null,
   "metadata": {
    "collapsed": true,
    "jupyter": {
     "outputs_hidden": true
    }
   },
   "outputs": [],
   "source": [
    "xvalue = vec(par_mcmc[:,iburn:nsteps,1]).* CGS.MSUN/CGS.MEARTH\n",
    "yvalue = vec(par_mcmc[:,iburn:nsteps,6]).*CGS.MSUN/CGS.MEARTH\n",
    "optx = mu_1.* CGS.MSUN/CGS.MEARTH\n",
    "opty = mu_2.* CGS.MSUN/CGS.MEARTH\n",
    "truex = 0.815\n",
    "truey = 1\n",
    "nbins = 50\n",
    "corner_plot(xvalue,yvalue,nbins,optx,opty,truex,truey)\n",
    "xlabel(L\"Mass of Venus [$M_{\\oplus}$]\")\n",
    "ylabel(L\"Mass of Earth [$M_{\\oplus}$]\")\n",
    "# savefig(\"massposteriors.png\")"
   ]
  },
  {
   "cell_type": "code",
   "execution_count": 6,
   "metadata": {},
   "outputs": [
    {
     "name": "stderr",
     "output_type": "stream",
     "text": [
      "WARNING: replacing module CGS.\n"
     ]
    }
   ],
   "source": [
    "include(\"corner_plot.jl\")\n",
    "corner_hist(10.0,20.0,\"EMB\",\"p3\",50)"
   ]
  },
  {
   "cell_type": "code",
   "execution_count": 5,
   "metadata": {},
   "outputs": [],
   "source": [
    "corner_hist(10.0,20.0,\"noEMB\",\"p3\",50)"
   ]
  },
  {
   "cell_type": "markdown",
   "metadata": {},
   "source": [
    "### Plot eccentricities of Venus and Earth"
   ]
  },
  {
   "cell_type": "code",
   "execution_count": null,
   "metadata": {},
   "outputs": [],
   "source": [
    "xvalue = sqrt.(vec(par_mcmc[:,iburn:nsteps,4]).^2 + vec(par_mcmc[:,iburn:nsteps,5]).^2)\n",
    "yvalue = sqrt.(vec(par_mcmc[:,iburn:nsteps,9]).^2 + vec(par_mcmc[:,iburn:nsteps,10]).^2)\n",
    "optx = sqrt(e1cosw1^2 + e1sinw1^2)\n",
    "opty = sqrt(e2cosw2^2 + e2sinw2^2)\n",
    "truex = 0.00677323\n",
    "truey = 0.01671022\n",
    "nbins=50\n",
    "corner_plot(xvalue,yvalue,nbins,optx,opty,truex,truey)\n",
    "xlabel(\"Eccentricity of Venus\")\n",
    "ylabel(\"Eccentricity of Earth\")\n",
    "# savefig(\"eccposteriors.png\")"
   ]
  },
  {
   "cell_type": "markdown",
   "metadata": {},
   "source": [
    "### Plot periods of Venus and Earth?"
   ]
  },
  {
   "cell_type": "code",
   "execution_count": null,
   "metadata": {
    "tags": []
   },
   "outputs": [],
   "source": [
    "xvalue = vec(par_mcmc[:,iburn:nsteps,2])\n",
    "yvalue = vec(par_mcmc[:,iburn:nsteps,7]) \n",
    "optx = P_1\n",
    "opty = P_2\n",
    "truex = 225\n",
    "truey = 365\n",
    "nbins=50\n",
    "corner_plot(xvalue, yvalue, nbins, optx, opty, truex, truey)\n",
    "xlabel(L\"Period of Venus [$days$]\")\n",
    "ylabel(L\"Period of Earth [$days$]\")\n"
   ]
  },
  {
   "cell_type": "markdown",
   "metadata": {},
   "source": [
    "### Plot mass of Jupiter $M_{Jup}$ vs its eccentricity"
   ]
  },
  {
   "cell_type": "code",
   "execution_count": null,
   "metadata": {
    "collapsed": true,
    "jupyter": {
     "outputs_hidden": true
    }
   },
   "outputs": [],
   "source": [
    "xvalue = vec(par_mcmc[:,iburn:nsteps,11]).* CGS.MSUN/CGS.MJUPITER\n",
    "yvalue = sqrt.(vec(par_mcmc[:,iburn:nsteps,14]).^2 + vec(par_mcmc[:,iburn:nsteps,15]).^2)\n",
    "optx = mu_3.* CGS.MSUN/CGS.MJUPITER\n",
    "opty = sqrt(e3cosw3^2 + e3sinw3^2)\n",
    "truex = 1\n",
    "truey = 0.04839266\n",
    "nbins=50\n",
    "corner_plot(xvalue, yvalue, nbins, optx, opty, truex, truey)\n",
    "xlabel(L\"Mass of Jupiter [$M_{Jup}$]\")\n",
    "ylabel(\"Eccentricity of Jupiter\")\n",
    "# savefig(\"jupiterposteriors.png\")"
   ]
  },
  {
   "cell_type": "markdown",
   "metadata": {},
   "source": [
    "### Plot time of inferior conjuction [JD - 24550000] $t_{03}$ vs Jupiter period $P_3$. "
   ]
  },
  {
   "cell_type": "code",
   "execution_count": null,
   "metadata": {
    "collapsed": true,
    "jupyter": {
     "outputs_hidden": true
    }
   },
   "outputs": [],
   "source": [
    "xvalue = vec(par_mcmc[:,iburn:nsteps,12])\n",
    "yvalue = vec(par_mcmc[:,iburn:nsteps,13]) .- 2.443e6\n",
    "optx = P_3\n",
    "opty = t03 .- 2.443e6\n",
    "# truex = 1\n",
    "# truey = 0.04839266\n",
    "nbins=50\n",
    "corner_plot(xvalue, yvalue, nbins, optx, opty, truex, truey)\n",
    "xlabel(L\"Period of Jupiter [$days$]\")\n",
    "ylabel(L\"$t_{0}$ of Jupiter\")"
   ]
  },
  {
   "cell_type": "markdown",
   "metadata": {},
   "source": [
    "### Plot TTV of Earth due to Moon $t_{max}$ vs phase change of Moon per Earth year $\\Delta \\phi$"
   ]
  },
  {
   "cell_type": "code",
   "execution_count": null,
   "metadata": {},
   "outputs": [],
   "source": [
    "# function plot_posterior(samples,bins,range)\n",
    "# tmax = vec(sqrt(par_mcmc[:,iburn:nsteps,16]).^2 + vec(par_mcmc[:,iburn:nsteps,17]).^2)\n",
    "xvalue = sqrt.(vec(par_mcmc[:,iburn:nsteps,16].^2) + vec(par_mcmc[:,iburn:nsteps,17].^2)).* (24 * 60)\n",
    "yvalue = vec(par_mcmc[:,iburn:nsteps,18]).* 57.2957795 \n",
    "optx = sqrt(param[16]^2 + param[17]^2).* (24 * 60)\n",
    "opty = param[18].* 57.2957795 \n",
    "# truex = \n",
    "truey = 2.3122 .* 57.2957795 \n",
    "meanx=mean(xvalue);sigmax=std(xvalue)\n",
    "meany=mean(yvalue);sigmay=std(yvalue)\n",
    "nbins=50\n",
    "corner_plot(xvalue,yvalue,nbins,optx,opty,truex,truey)\n",
    "xlabel(\"Amplitude of Moon [min]\")\n",
    "ylabel(\"Phase Change of Moon [deg]\")\n",
    "# savefig(\"moonposteriors.png\")"
   ]
  },
  {
   "cell_type": "markdown",
   "metadata": {},
   "source": [
    "### Plot longitude of ascending node $\\Omega$ vs longitude of pericenter $\\bar \\omega$; with argument of pericenter $\\omega$"
   ]
  },
  {
   "cell_type": "code",
   "execution_count": 245,
   "metadata": {},
   "outputs": [
    {
     "data": {
      "text/plain": [
       "([2.433624404896996e6, 2.433989659571913e6, 2.4343549169757506e6, 2.434720170198379e6, 2.4350854290913274e6, 2.435450686189174e6, 2.435815938772034e6, 2.436181195351934e6, 2.436546452039964e6, 2.4369117088691522e6  …  2.441294789551072e6, 2.441660044224819e6, 2.4420253037346653e6, 2.4423905602110857e6, 2.4427558136647013e6, 2.443121070883718e6, 2.4434863245670246e6, 2.4438515822939654e6, 2.4442168407435166e6, 2.4445820922158603e6], [2.433624402638408e6, 2.433989659065065e6, 2.434354915491722e6, 2.434720171918379e6, 2.435085428345036e6, 2.4354506847716933e6, 2.435815941198351e6, 2.436181197625008e6, 2.436546454051665e6, 2.436911710478322e6  …  2.4412947875982076e6, 2.4416600440248647e6, 2.4420253004515218e6, 2.442390556878179e6, 2.442755813304836e6, 2.443121069731493e6, 2.44348632615815e6, 2.4438515825848076e6, 2.4442168390114647e6, 2.444582095438122e6])"
      ]
     },
     "execution_count": 245,
     "metadata": {},
     "output_type": "execute_result"
    }
   ],
   "source": [
    "g=jldopen(\"FITS/fromEMB/p3_fit30.0s30.0yrs.jld2\",\"r\")\n",
    "tt,tt0,sigtt,ttmodel = g[\"tt\"],g[\"tt0\"],g[\"sigtt\"],g[\"ttmodel\"]\n",
    "pbest_global = g[\"best_p3\"]\n",
    "nplanet,ntrans = g[\"nplanet\"],g[\"ntrans\"]\n",
    "# pair_ttvs = decompose_ttvs(nplanet,ntrans,pbest_global) .* (24 * 60)\n",
    "n1,n2,n3 = ntrans\n",
    "mu1,P1,t01,ecosw1,esinw1 = pbest_global[1:5]\n",
    "mu2,P2,t02,ecosw2,esinw2 = pbest_global[6:10]\n",
    "mu3,P3,t03,ecosw3,esinw3 = pbest_global[11:15]\n",
    "# time1 = collect(t01 .+ range(0,stop=n1-1,length=n1) .* P1)\n",
    "# time2 = collect(t02 .+ range(0,stop=n2-1,length=n2) .* P2)\n",
    "tt1,tt01 = tt[1:n1],tt0[1:n1]\n",
    "tt2,tt02 = tt[n1+1:n1+n2],tt0[n1+1:n1+n2]"
   ]
  },
  {
   "cell_type": "markdown",
   "metadata": {},
   "source": [
    "## Longitudes"
   ]
  },
  {
   "cell_type": "code",
   "execution_count": 258,
   "metadata": {},
   "outputs": [
    {
     "data": {
      "text/plain": [
       "calc_M (generic function with 1 method)"
      ]
     },
     "execution_count": 258,
     "metadata": {},
     "output_type": "execute_result"
    }
   ],
   "source": [
    "J2000 = 2451545.0\n",
    "jd1=2.4332825e6\n",
    "calc_rad(value) = value * pi/180\n",
    "calc_deg(value) = value * 180/pi\n",
    "calc_omega(pomega,Omega) = pomega - Omega\n",
    "calc_M(t,t0,P)=2pi .* (t.-t0) ./ P\n",
    "calc_L(t,t0,P,esinw)=((360/P) .* (t.-t0)) .+ 2*esinw "
   ]
  },
  {
   "cell_type": "markdown",
   "metadata": {},
   "source": [
    "calc_L from Agol & Deck 2015 equation 5 for mean longitude"
   ]
  },
  {
   "cell_type": "code",
   "execution_count": 163,
   "metadata": {},
   "outputs": [
    {
     "data": {
      "text/plain": [
       "calc_L (generic function with 1 method)"
      ]
     },
     "execution_count": 163,
     "metadata": {},
     "output_type": "execute_result"
    }
   ],
   "source": [
    "function calc_L(t,t0,P,esinw)\n",
    "    lambda = ((360/P) .* (t.-t0)) .+ 2*esinw\n",
    "    return lambda\n",
    "end"
   ]
  },
  {
   "cell_type": "code",
   "execution_count": 133,
   "metadata": {},
   "outputs": [
    {
     "data": {
      "text/plain": [
       "(0.6151971978957823, 1.000017663879583, 11.597325781312636)"
      ]
     },
     "execution_count": 133,
     "metadata": {},
     "output_type": "execute_result"
    }
   ],
   "source": [
    "P1/365.25,P2/365.25,P3/365.25"
   ]
  },
  {
   "cell_type": "code",
   "execution_count": 246,
   "metadata": {},
   "outputs": [
    {
     "data": {
      "text/plain": [
       "(0.007552295476634351, 0.01466059740501133, 0.0454727262813164)"
      ]
     },
     "execution_count": 246,
     "metadata": {},
     "output_type": "execute_result"
    }
   ],
   "source": [
    "e1 = sqrt.(ecosw1.^2 + esinw1.^2)\n",
    "e2 = sqrt.(ecosw2.^2 + esinw2.^2)\n",
    "e3 = sqrt.(ecosw3.^2 + esinw3.^2)\n",
    "e1,e2,e3"
   ]
  },
  {
   "cell_type": "markdown",
   "metadata": {},
   "source": [
    "We assume an edge-on, plane-parallel system with the $\\Omega = 0$ such that $\\omega = \\varpi$"
   ]
  },
  {
   "cell_type": "code",
   "execution_count": 247,
   "metadata": {},
   "outputs": [
    {
     "data": {
      "text/plain": [
       "(110.24093749596905, 34.5333600284138, -69.08910379986942)"
      ]
     },
     "execution_count": 247,
     "metadata": {},
     "output_type": "execute_result"
    }
   ],
   "source": [
    "w1 = calc_deg(atan(esinw1,ecosw1))\n",
    "w2 = calc_deg(atan(esinw2,ecosw2))\n",
    "w3 = calc_deg(atan(esinw3,ecosw3))\n",
    "w1,w2,w3"
   ]
  },
  {
   "cell_type": "markdown",
   "metadata": {},
   "source": [
    "$L \\equiv \\lambda$. Check to see if $\\lambda_{E} \\sim \\lambda_{V}$ at their respective transit times. $\\lambda mod 2 \\pi = \\lambda_{obs}$[what?] where $\\lambda_{obs}$ is longitude that both Earth and Venus have."
   ]
  },
  {
   "cell_type": "code",
   "execution_count": 273,
   "metadata": {},
   "outputs": [
    {
     "data": {
      "text/plain": [
       "([0.012371787476397042, 360.0133343565473, 720.0169824870229, 1080.0135526690897, 1440.0122255198048, 1800.0170057665478, 2160.0177544631683, 2520.01589496752, 2880.0098961630033, 3240.010708947574  …  14040.012713830656, 14400.014083406671, 14760.016677415953, 15120.013983489262, 15480.011012335533, 15840.016055447844, 16200.017730867143, 16560.01607892639, 16920.011100616346, 17280.00925384235], [0.0193074189826956, 360.01755401405876, 720.0184902573101, 1080.015305463873, 1440.017709387891, 1800.0183440440064, 2160.0145286887832, 2520.0146528520695, 2880.014883589056, 3240.0152534528497  …  7560.018441732332, 7920.0166871745005, 8280.01969911849, 8640.01972129125, 9000.016764160737, 9360.017518242807, 9720.014787497934, 10080.016042194638, 10440.018009102552, 10800.01309921289])"
      ]
     },
     "execution_count": 273,
     "metadata": {},
     "output_type": "execute_result"
    }
   ],
   "source": [
    "L_1 = calc_L(tt1,t01,P1,esinw1)\n",
    "L_2 = calc_L(tt2,t02,P2,esinw2)\n",
    "L_1,L_2\n",
    "# for i=1:length(tt2)\n",
    "#     println(L_1[i],\" \",L_2[i])\n",
    "# end"
   ]
  },
  {
   "cell_type": "code",
   "execution_count": 248,
   "metadata": {},
   "outputs": [
    {
     "data": {
      "text/plain": [
       "([110.23441005698854, 470.2353371876402, 830.2388169261313, 1190.2355142877648, 1550.2334225068087, 1910.2392921671903, 2270.2397960284884, 2630.2377110567327, 2990.232755940259, 3350.232222648511  …  14150.234538806002, 14510.235477996555, 14870.238889408038, 15230.235784719922, 15590.233067660847, 15950.238464156784, 16310.239487117586, 16670.237586353087, 17030.233029423012, 17390.23145479437], [34.537352959732864, 394.53369807432495, 754.5375676629656, 1114.5321719224687, 1474.5349057276383, 1834.5375357509597, 2194.530177307468, 2554.5326940934497, 2914.533180203558, 3274.531020179454  …  7594.537901329611, 7954.533481497117, 8314.536540632798, 8674.53882086993, 9034.532613647943, 9394.535745181794, 9754.533393802163, 10114.532368817097, 10474.537012190096, 10834.530400168693])"
      ]
     },
     "execution_count": 248,
     "metadata": {},
     "output_type": "execute_result"
    }
   ],
   "source": [
    "L_1.+w1,L_2.+w2#,L_3.+w3"
   ]
  },
  {
   "cell_type": "markdown",
   "metadata": {},
   "source": [
    "Venus transit occurs 0.277 radians after it goes through periastron. Earth transit occurs -0.552 radians after it goes through periastron. "
   ]
  },
  {
   "cell_type": "code",
   "execution_count": 105,
   "metadata": {},
   "outputs": [
    {
     "data": {
      "text/plain": [
       "(15.870930925123806, -31.627270291221446)"
      ]
     },
     "execution_count": 105,
     "metadata": {},
     "output_type": "execute_result"
    }
   ],
   "source": [
    "calc_deg(0.277),calc_deg(-0.552)"
   ]
  },
  {
   "cell_type": "markdown",
   "metadata": {},
   "source": [
    "true $\\lambda$ from planet body data sheet: 181.9, 100, 34 degrees ##181.97973, 100.46435, 34.40438"
   ]
  },
  {
   "cell_type": "code",
   "execution_count": 218,
   "metadata": {},
   "outputs": [
    {
     "data": {
      "text/plain": [
       "(-354.506249963048, -336.98621027107424)"
      ]
     },
     "execution_count": 218,
     "metadata": {},
     "output_type": "execute_result"
    }
   ],
   "source": [
    "calc_L(jd1,t01,P1,esinw1),calc_L(jd1,t02,P2,esinw2)"
   ]
  },
  {
   "cell_type": "code",
   "execution_count": 238,
   "metadata": {},
   "outputs": [
    {
     "data": {
      "text/plain": [
       "(28904.40466370642, 17662.69590703417)"
      ]
     },
     "execution_count": 238,
     "metadata": {},
     "output_type": "execute_result"
    }
   ],
   "source": [
    "calc_L(J2000,t01,P1,esinw1),calc_L(J2000,t02,P2,esinw2)# L_3 = calc_L(tt3,J2000,P3,esinw3)"
   ]
  },
  {
   "cell_type": "code",
   "execution_count": 263,
   "metadata": {},
   "outputs": [
    {
     "data": {
      "text/plain": [
       "-28722.4353440571"
      ]
     },
     "execution_count": 263,
     "metadata": {},
     "output_type": "execute_result"
    }
   ],
   "source": [
    "(((360/P1) .* (t01 .- J2000)) .+ 181.97909950)"
   ]
  },
  {
   "cell_type": "code",
   "execution_count": 235,
   "metadata": {},
   "outputs": [
    {
     "data": {
      "text/plain": [
       "-17562.230413677655"
      ]
     },
     "execution_count": 235,
     "metadata": {},
     "output_type": "execute_result"
    }
   ],
   "source": [
    "(((360/P2) .* (t02 .- J2000)) .+ 100.46457166)"
   ]
  },
  {
   "cell_type": "code",
   "execution_count": 209,
   "metadata": {},
   "outputs": [
    {
     "data": {
      "text/plain": [
       "(181.99327132309554, 100.48119343431244)"
      ]
     },
     "execution_count": 209,
     "metadata": {},
     "output_type": "execute_result"
    }
   ],
   "source": [
    "28904.428615380195 -28722.4353440571, 17662.716756770507-17562.235563336195"
   ]
  },
  {
   "cell_type": "markdown",
   "metadata": {},
   "source": [
    "Calculate angular diffence between J2000 and time of periastron passage"
   ]
  },
  {
   "cell_type": "code",
   "execution_count": 266,
   "metadata": {},
   "outputs": [
    {
     "data": {
      "text/plain": [
       "(28904.4144435571, 17662.700134996194, 1070.4307553559763)"
      ]
     },
     "execution_count": 266,
     "metadata": {},
     "output_type": "execute_result"
    }
   ],
   "source": [
    "M1,M2,M3=360*(J2000-t01)/P1 , 360*(J2000-t02)/P2 , 360*(J2000-t03)/P3"
   ]
  },
  {
   "cell_type": "code",
   "execution_count": 37,
   "metadata": {},
   "outputs": [
    {
     "data": {
      "text/plain": [
       "(131.601125535, 102.78555318000001)"
      ]
     },
     "execution_count": 37,
     "metadata": {},
     "output_type": "execute_result"
    }
   ],
   "source": [
    "true_w1 = 131.60246718 - 0.00268329*.5\n",
    "true_w2 = 102.94719 - 0.32327364*.5\n",
    "# true_w3 = 14.72847983 - 0.21252668*.5\n",
    "true_w1,true_w2#,true_w3"
   ]
  },
  {
   "cell_type": "markdown",
   "metadata": {},
   "source": [
    "## Lunar phase offset"
   ]
  },
  {
   "cell_type": "markdown",
   "metadata": {},
   "source": [
    "Calculate lunar phase offset, $\\Delta\\phi= (P_p/P_s - round(P_p/P_s))*2\\pi$ "
   ]
  },
  {
   "cell_type": "code",
   "execution_count": 191,
   "metadata": {},
   "outputs": [
    {
     "data": {
      "text/plain": [
       "calc_dphi (generic function with 1 method)"
      ]
     },
     "execution_count": 191,
     "metadata": {},
     "output_type": "execute_result"
    }
   ],
   "source": [
    "calc_dphi(P_p,P_s) = (P_p/P_s - round(P_p/P_s))*2pi"
   ]
  },
  {
   "cell_type": "code",
   "execution_count": 192,
   "metadata": {},
   "outputs": [
    {
     "name": "stdout",
     "output_type": "stream",
     "text": [
      "2.315859255328402 rad or 132.68896127662714 degrees\n"
     ]
    }
   ],
   "source": [
    "dphi=calc_dphi(365.256355,27.322)\n",
    "println(dphi,\" rad or \",calc_deg(dphi),\" degrees\")"
   ]
  },
  {
   "cell_type": "markdown",
   "metadata": {},
   "source": [
    "To calculate moon amplitude, use $t_{max} = \\frac{M_s a_s P_p}{(M_s + M_p) 2\\pi a_p}$ based on velocity of EMB about Sun"
   ]
  },
  {
   "cell_type": "markdown",
   "metadata": {
    "jp-MarkdownHeadingCollapsed": true,
    "tags": []
   },
   "source": [
    "## Saturn Search"
   ]
  },
  {
   "cell_type": "markdown",
   "metadata": {},
   "source": [
    "how large is Saturn signal on Earth? less than 10 seconds"
   ]
  },
  {
   "cell_type": "code",
   "execution_count": 2,
   "metadata": {},
   "outputs": [],
   "source": [
    "if !@isdefined(TTVFaster)\n",
    "    include(\"TTVFaster/src/TTVFaster.jl\")\n",
    "  using Main.TTVFaster\n",
    "end\n",
    "import Main.TTVFaster.ttv_wrapper\n",
    "import Main.TTVFaster.chisquare"
   ]
  },
  {
   "cell_type": "code",
   "execution_count": 5,
   "metadata": {},
   "outputs": [
    {
     "name": "stdout",
     "output_type": "stream",
     "text": [
      "Initial parameters: [3.0444959103088e-6, 365.25, 2.433503765751229e6, 0.01, 0.01, 0.0002853553687428353, 10793.1375, 2.433624402577811e6, 0.01, 0.01]\n"
     ]
    }
   ],
   "source": [
    "per1=365.25;per2=29.55*365.25\n",
    "t01=2.433503765751229e6;t02=2.433624402577811e6\n",
    "init_param = [3.0444959103088e-6,per1,t01,0.01,0.01,\n",
    "            0.0002853553687428353,per2,t02,0.01,0.01] \n",
    "println(\"Initial parameters: \",init_param)\n",
    "# Set up data structure to hold planet properties,passed to TTVFaster\n",
    "nt1=29; nt2=2\n",
    "jmax = 5\n",
    "data=init_param\n",
    "p1=TTVFaster.Planet_plane_hk(data[1],data[2],data[3],data[4],data[ 5])\n",
    "p2=TTVFaster.Planet_plane_hk(data[6],data[7],data[8],data[9],data[10])\n",
    "time1 = collect(p1.trans0 .+ range(0,stop=nt1-1,length=nt1) .* p1.period)\n",
    "time2 = collect(p2.trans0 .+ range(0,stop=nt2-1,length=nt2) .* p2.period)\n",
    "# Initialize the computation of the Laplace coefficients:\n",
    "ttv1 = zeros(nt1)\n",
    "ttv2 = zeros(nt2)\n",
    "# Need first call to TTVFaster,without optimizing\n",
    "dummy=TTVFaster.compute_ttv!(jmax,p1,p2,time1,time2,ttv1,ttv2)"
   ]
  },
  {
   "cell_type": "code",
   "execution_count": 13,
   "metadata": {},
   "outputs": [
    {
     "data": {
      "image/png": "[encoded data removed]",
      "text/plain": [
       "Figure(PyObject <Figure size 640x480 with 1 Axes>)"
      ]
     },
     "metadata": {},
     "output_type": "display_data"
    },
    {
     "data": {
      "text/plain": [
       "1-element Array{PyCall.PyObject,1}:\n",
       " PyObject <matplotlib.lines.Line2D object at 0x13f5a05c0>"
      ]
     },
     "execution_count": 13,
     "metadata": {},
     "output_type": "execute_result"
    }
   ],
   "source": [
    "plot(time1,ttv1.*3600*24,\".\")"
   ]
  },
  {
   "cell_type": "code",
   "execution_count": null,
   "metadata": {},
   "outputs": [],
   "source": []
  },
  {
   "cell_type": "markdown",
   "metadata": {},
   "source": [
    "## Reference angle"
   ]
  },
  {
   "cell_type": "code",
   "execution_count": null,
   "metadata": {},
   "outputs": [],
   "source": [
    "f = extract_data(\"OUTPUTS/moon_fitmtry2params.jld2\")"
   ]
  },
  {
   "cell_type": "code",
   "execution_count": null,
   "metadata": {},
   "outputs": [],
   "source": [
    "@load(\"mcmc_mtryresults.jld2\")"
   ]
  },
  {
   "cell_type": "code",
   "execution_count": null,
   "metadata": {},
   "outputs": [],
   "source": [
    "mu_1,P_1,t01,e1cosw1,e1sinw1,\n",
    "mu_2,P_2,t02,e2cosw2,e2sinw2,\n",
    "mu_3,P_3,t03,e3cosw3,e3sinw3,\n",
    "tmaxsinphi0,tmaxcosphi0,deltaphi = f[\"pbest_global\"]"
   ]
  },
  {
   "cell_type": "code",
   "execution_count": null,
   "metadata": {},
   "outputs": [],
   "source": [
    "w1 = calc_deg(atan(e1sinw1,e1cosw1))\n",
    "w2 = calc_deg(atan(e2sinw2,e2cosw2))\n",
    "w3 = calc_deg(atan(e3sinw3,e3cosw3))\n",
    "w1,w2,w3"
   ]
  },
  {
   "cell_type": "code",
   "execution_count": null,
   "metadata": {},
   "outputs": [],
   "source": [
    "L_1 = calc_L(tt1,tt01,P_1,e1sinw1)\n",
    "L_2 = calc_L(tt2,tt02,P_2,e2sinw2)\n",
    "L_1,L_2"
   ]
  },
  {
   "cell_type": "code",
   "execution_count": 228,
   "metadata": {
    "collapsed": true,
    "jupyter": {
     "outputs_hidden": true
    },
    "tags": []
   },
   "outputs": [
    {
     "data": {
      "text/plain": [
       "49-element Array{Float64,1}:\n",
       " -27642.43014947823 \n",
       " -27282.430158204912\n",
       " -26922.43016693159 \n",
       " -26562.430175659018\n",
       " -26202.430184385696\n",
       " -25842.430193112374\n",
       " -25482.430201839055\n",
       " -25122.43021056648 \n",
       " -24762.43021929316 \n",
       " -24402.43022801984 \n",
       " -24042.43023674652 \n",
       " -23682.430245473945\n",
       " -23322.430254200626\n",
       "      ⋮             \n",
       " -14322.430472371347\n",
       " -13962.430481098772\n",
       " -13602.430489825452\n",
       " -13242.430498552132\n",
       " -12882.430507278812\n",
       " -12522.430516006238\n",
       " -12162.430524732918\n",
       " -11802.430533459597\n",
       " -11442.430542186275\n",
       " -11082.430550913703\n",
       " -10722.430559640381\n",
       " -10362.430568367061"
      ]
     },
     "execution_count": 228,
     "metadata": {},
     "output_type": "execute_result"
    }
   ],
   "source": [
    "(((360/P1) .* (tt01 .- J2000)) .+ 181.97909950) "
   ]
  },
  {
   "cell_type": "code",
   "execution_count": null,
   "metadata": {
    "collapsed": true,
    "jupyter": {
     "outputs_hidden": true
    }
   },
   "outputs": [],
   "source": [
    "((360/P_2) .* (tt02 .- J2000) .+ 100.46457166)"
   ]
  },
  {
   "cell_type": "code",
   "execution_count": null,
   "metadata": {},
   "outputs": [],
   "source": [
    "[(360/P_3) .* (t03 .- J2000) .+ 34.39644051,\n",
    "(360/P_3) .* (t03 .- J2000) .+ 34.39644051 + 360*1,\n",
    "(360/P_3) .* (t03 .- J2000) .+ 34.39644051 + 360*2]"
   ]
  },
  {
   "cell_type": "markdown",
   "metadata": {},
   "source": [
    "[Can't recall how i found this]"
   ]
  },
  {
   "cell_type": "code",
   "execution_count": null,
   "metadata": {},
   "outputs": [],
   "source": [
    "77.56936298207381+w1,77.76976911511983+w2,77.91649744476126+w3"
   ]
  },
  {
   "cell_type": "code",
   "execution_count": null,
   "metadata": {},
   "outputs": [],
   "source": [
    "xvalue = calc_deg.(atan.(vec(par_mcmc[:,iburn:nsteps,5]),vec(par_mcmc[:,iburn:nsteps,4]))) .+ 77.6\n",
    "yvalue = calc_deg.(atan.(vec(par_mcmc[:,iburn:nsteps,10]),vec(par_mcmc[:,iburn:nsteps,9]))) .+ 77.8\n",
    "optx = calc_deg(atan(e1sinw1,e1cosw1)) + 77.6\n",
    "opty = calc_deg(atan(e2sinw2,e2cosw2)) + 77.8\n",
    "truex = 131.601125535\n",
    "truey = 102.78555318000001\n",
    "meanx=mean(xvalue);sigmax=std(xvalue)\n",
    "meany=mean(yvalue);sigmay=std(yvalue)\n",
    "nbins=50\n",
    "corner_plot(xvalue,yvalue,nbins,optx,opty,truex,truey)\n",
    "xlabel(L\"Longitude $\\varpi$ of Venus [$deg$]\")\n",
    "ylabel(L\"Longitude $\\varpi$ of Earth [$deg$]\")"
   ]
  },
  {
   "cell_type": "code",
   "execution_count": null,
   "metadata": {},
   "outputs": [],
   "source": [
    "xvalue = calc_deg.(atan.(vec(par_mcmc[:,iburn:nsteps,15]),vec(par_mcmc[:,iburn:nsteps,14]))) .+ 77.9\n",
    "yvalue = calc_deg.(atan.(vec(par_mcmc[:,iburn:nsteps,10]),vec(par_mcmc[:,iburn:nsteps,9]))) .+ 77.8\n",
    "optx = calc_deg(atan(e3sinw3,e3cosw3)) + 77.9\n",
    "opty = calc_deg(atan(e2sinw2,e2cosw2)) + 77.8\n",
    "truex = 14.62221649\n",
    "truey = 102.78555318000001\n",
    "nbins=50\n",
    "corner_plot(xvalue,yvalue,nbins,optx,opty,truex,truey)\n",
    "xlabel(L\"Longitude $\\varpi$ of Jupiter [$deg$]\")\n",
    "ylabel(L\"Longitude $\\varpi$ of Earth [$deg$]\")"
   ]
  },
  {
   "cell_type": "code",
   "execution_count": null,
   "metadata": {},
   "outputs": [],
   "source": [
    "(360/P_3 * (t03 - J2000) - 34.39644051)"
   ]
  },
  {
   "cell_type": "code",
   "execution_count": null,
   "metadata": {},
   "outputs": [],
   "source": [
    "corner_planet(vec(par_mcmc[:,iburn:nsteps,6]).* CGS.MSUN/CGS.MEARTH,\n",
    "    vec(par_mcmc[:,iburn:nsteps,9]),\n",
    "    vec(par_mcmc[:,iburn:nsteps,10]),\n",
    "    vec(par_mcmc[:,iburn:nsteps,7]),\n",
    "0.815,-0.004,-0.002,224.5)"
   ]
  },
  {
   "cell_type": "code",
   "execution_count": null,
   "metadata": {},
   "outputs": [],
   "source": [
    "corner_planet(vec(par_mcmc[:,iburn:nsteps,11]).* CGS.MSUN/CGS.MEARTH,\n",
    "    vec(par_mcmc[:,iburn:nsteps,14]),\n",
    "    vec(par_mcmc[:,iburn:nsteps,15]),\n",
    "    vec(par_mcmc[:,iburn:nsteps,12])\n",
    "318,-0.004,-0.002,224.5)"
   ]
  },
  {
   "cell_type": "markdown",
   "metadata": {},
   "source": [
    "## Testing"
   ]
  },
  {
   "cell_type": "code",
   "execution_count": null,
   "metadata": {},
   "outputs": [],
   "source": []
  }
 ],
 "metadata": {
  "anaconda-cloud": {},
  "kernelspec": {
   "display_name": "Julia 1.3.0",
   "language": "julia",
   "name": "julia-1.3"
  },
  "language_info": {
   "file_extension": ".jl",
   "mimetype": "application/julia",
   "name": "julia",
   "version": "1.3.0"
  },
  "toc-autonumbering": false,
  "toc-showmarkdowntxt": false,
  "toc-showtags": false
 },
 "nbformat": 4,
 "nbformat_minor": 4
}
