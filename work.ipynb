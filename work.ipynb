{
 "cells": [
  {
   "cell_type": "code",
   "execution_count": 1,
   "metadata": {},
   "outputs": [
    {
     "name": "stderr",
     "output_type": "stream",
     "text": [
      "┌ Info: Precompiling FFMPEG [c87230d0-a227-11e9-1b43-d7ebe4e7570a]\n",
      "└ @ Base loading.jl:1273\n"
     ]
    }
   ],
   "source": [
    "using FFMPEG"
   ]
  },
  {
   "cell_type": "code",
   "execution_count": 2,
   "metadata": {},
   "outputs": [],
   "source": [
    "using PyPlot,JLD2,Statistics,PyCall\n",
    "# rc(\"font\",family=\"serif\")\n",
    "# include(\"CGS.jl\")"
   ]
  },
  {
   "cell_type": "code",
   "execution_count": 3,
   "metadata": {},
   "outputs": [
    {
     "data": {
      "text/plain": [
       "PyObject <module 'matplotlib.animation' from '/Users/bethleelindor/.julia/conda/3/lib/python3.7/site-packages/matplotlib/animation.py'>"
      ]
     },
     "execution_count": 3,
     "metadata": {},
     "output_type": "execute_result"
    }
   ],
   "source": [
    "matplotlib.animation = pyimport(\"matplotlib.animation\")"
   ]
  },
  {
   "cell_type": "code",
   "execution_count": 24,
   "metadata": {},
   "outputs": [
    {
     "data": {
      "image/png": "[encoded data removed]",
      "text/plain": [
       "Figure(PyObject <Figure size 500x500 with 1 Axes>)"
      ]
     },
     "metadata": {},
     "output_type": "display_data"
    },
    {
     "data": {
      "text/plain": [
       "PyObject <matplotlib.animation.FuncAnimation object at 0x143814eb8>"
      ]
     },
     "execution_count": 24,
     "metadata": {},
     "output_type": "execute_result"
    }
   ],
   "source": [
    "function simData()\n",
    "    t_max = 10.0\n",
    "    dt = 0.05\n",
    "    x = 0.0\n",
    "    t = -dt\n",
    "\n",
    "    function it()\n",
    "        while t < t_max\n",
    "            x = sin(pi * t)\n",
    "            t = t + dt\n",
    "            produce(x, t)\n",
    "        end\n",
    "    end\n",
    "\n",
    "    Task(it)\n",
    "end\n",
    "\n",
    "function simPoints()\n",
    "    task = simData()\n",
    "\n",
    "    function points(frame_number)\n",
    "        x, t = consume(task)\n",
    "        line.set_data(t, x)\n",
    "        return(line, \"\")\n",
    "    end\n",
    "\n",
    "    points\n",
    "end\n",
    "\n",
    "fig = figure(figsize=(5,5))\n",
    "axis = fig.add_subplot(111)\n",
    "line = axis.plot([], [], \"bo\", ms = 10)[1]\n",
    "axis.set_ylim(-1, 1)\n",
    "axis.set_xlim(0, 10)\n",
    "\n",
    "ani = matplotlib.animation.FuncAnimation(fig, simPoints(), blit=false, interval=10, frames=200, repeat=false)"
   ]
  },
  {
   "cell_type": "code",
   "execution_count": 41,
   "metadata": {},
   "outputs": [
    {
     "name": "stderr",
     "output_type": "stream",
     "text": [
      "MovieWriter ffmpeg unavailable. Trying to use html instead.\n"
     ]
    },
    {
     "ename": "PyCall.PyError",
     "evalue": "\u001b[91mPyError ($(Expr(:escape, :(ccall(#= /Users/bethleelindor/.julia/packages/PyCall/BcTLp/src/pyfncall.jl:43 =# @pysym(:PyObject_Call), PyPtr, (PyPtr, PyPtr, PyPtr), o, pyargsptr, kw))))) <class 'ValueError'>\u001b[39m\n\u001b[91mValueError('outfile must be *.htm or *.html')\u001b[39m\n\u001b[91m  File \"/Users/bethleelindor/.julia/conda/3/lib/python3.7/site-packages/matplotlib/animation.py\", line 1166, in save\u001b[39m\n\u001b[91m    with writer.saving(self._fig, filename, dpi):\u001b[39m\n\u001b[91m  File \"/Users/bethleelindor/.julia/conda/3/lib/python3.7/contextlib.py\", line 112, in __enter__\u001b[39m\n\u001b[91m    return next(self.gen)\u001b[39m\n\u001b[91m  File \"/Users/bethleelindor/.julia/conda/3/lib/python3.7/site-packages/matplotlib/animation.py\", line 228, in saving\u001b[39m\n\u001b[91m    self.setup(fig, outfile, dpi, *args, **kwargs)\u001b[39m\n\u001b[91m  File \"/Users/bethleelindor/.julia/conda/3/lib/python3.7/site-packages/matplotlib/animation.py\", line 857, in setup\u001b[39m\n\u001b[91m    raise ValueError(\"outfile must be *.htm or *.html\")\u001b[39m\n",
     "output_type": "error",
     "traceback": [
      "\u001b[91mPyError ($(Expr(:escape, :(ccall(#= /Users/bethleelindor/.julia/packages/PyCall/BcTLp/src/pyfncall.jl:43 =# @pysym(:PyObject_Call), PyPtr, (PyPtr, PyPtr, PyPtr), o, pyargsptr, kw))))) <class 'ValueError'>\u001b[39m\n\u001b[91mValueError('outfile must be *.htm or *.html')\u001b[39m\n\u001b[91m  File \"/Users/bethleelindor/.julia/conda/3/lib/python3.7/site-packages/matplotlib/animation.py\", line 1166, in save\u001b[39m\n\u001b[91m    with writer.saving(self._fig, filename, dpi):\u001b[39m\n\u001b[91m  File \"/Users/bethleelindor/.julia/conda/3/lib/python3.7/contextlib.py\", line 112, in __enter__\u001b[39m\n\u001b[91m    return next(self.gen)\u001b[39m\n\u001b[91m  File \"/Users/bethleelindor/.julia/conda/3/lib/python3.7/site-packages/matplotlib/animation.py\", line 228, in saving\u001b[39m\n\u001b[91m    self.setup(fig, outfile, dpi, *args, **kwargs)\u001b[39m\n\u001b[91m  File \"/Users/bethleelindor/.julia/conda/3/lib/python3.7/site-packages/matplotlib/animation.py\", line 857, in setup\u001b[39m\n\u001b[91m    raise ValueError(\"outfile must be *.htm or *.html\")\u001b[39m\n",
      "",
      "Stacktrace:",
      " [1] pyerr_check at /Users/bethleelindor/.julia/packages/PyCall/BcTLp/src/exception.jl:62 [inlined]",
      " [2] pyerr_check at /Users/bethleelindor/.julia/packages/PyCall/BcTLp/src/exception.jl:66 [inlined]",
      " [3] _handle_error(::String) at /Users/bethleelindor/.julia/packages/PyCall/BcTLp/src/exception.jl:83",
      " [4] macro expansion at /Users/bethleelindor/.julia/packages/PyCall/BcTLp/src/exception.jl:97 [inlined]",
      " [5] #110 at /Users/bethleelindor/.julia/packages/PyCall/BcTLp/src/pyfncall.jl:43 [inlined]",
      " [6] disable_sigint at ./c.jl:446 [inlined]",
      " [7] __pycall! at /Users/bethleelindor/.julia/packages/PyCall/BcTLp/src/pyfncall.jl:42 [inlined]",
      " [8] _pycall!(::PyObject, ::PyObject, ::Tuple{String}, ::Int64, ::PyObject) at /Users/bethleelindor/.julia/packages/PyCall/BcTLp/src/pyfncall.jl:29",
      " [9] _pycall!(::PyObject, ::PyObject, ::Tuple{String}, ::Base.Iterators.Pairs{Symbol,Any,Tuple{Symbol,Symbol},NamedTuple{(:bitrate, :extra_args),Tuple{Int64,Array{String,1}}}}) at /Users/bethleelindor/.julia/packages/PyCall/BcTLp/src/pyfncall.jl:11",
      " [10] #_#117 at /Users/bethleelindor/.julia/packages/PyCall/BcTLp/src/pyfncall.jl:86 [inlined]",
      " [11] (::Core.var\"#kw#Any\")(::NamedTuple{(:bitrate, :extra_args),Tuple{Int64,Array{String,1}}}, ::PyObject, ::String) at ./none:0",
      " [12] top-level scope at In[41]:1"
     ]
    }
   ],
   "source": [
    "myanim.save(\"test1.mp4\", bitrate=-1, extra_args=[\"-vcodec\", \"libx264\", \"-pix_fmt\", \"yuv420p\"])\n",
    "    \n",
    "# # Function for creating an embedded video given a filename\n",
    "# function html_video(filename)\n",
    "#     open(filename) do f\n",
    "#         base64_video = base64encode(f)\n",
    "#         \"\"\"<video controls src=\"data:video/x-m4v;base64,$base64_video\">\"\"\"\n",
    "#     end\n",
    "# end"
   ]
  },
  {
   "cell_type": "code",
   "execution_count": 38,
   "metadata": {},
   "outputs": [
    {
     "data": {
      "text/html": [
       "# 1 method:<ul><li> (o::<b>PyObject</b>)(args...; <i>kwargs...</i>) in PyCall at <a href=\"file:///Users/bethleelindor/.julia/packages/PyCall/BcTLp/src/pyfncall.jl\" target=\"_blank\">/Users/bethleelindor/.julia/packages/PyCall/BcTLp/src/pyfncall.jl:86</a></li> </ul>"
      ],
      "text/plain": [
       "# 1 method:\n",
       "[1] (o::PyObject)(args...; kwargs...) in PyCall at /Users/bethleelindor/.julia/packages/PyCall/BcTLp/src/pyfncall.jl:86"
      ]
     },
     "execution_count": 38,
     "metadata": {},
     "output_type": "execute_result"
    }
   ],
   "source": [
    "methods(matplotlib.animation.FuncAnimation.save)"
   ]
  },
  {
   "cell_type": "markdown",
   "metadata": {},
   "source": [
    "### Plot of simulated years observed vs TTVs"
   ]
  },
  {
   "cell_type": "code",
   "execution_count": 2,
   "metadata": {},
   "outputs": [
    {
     "data": {
      "text/plain": [
       "plot_ttvs (generic function with 2 methods)"
      ]
     },
     "execution_count": 2,
     "metadata": {},
     "output_type": "execute_result"
    }
   ],
   "source": [
    "include(\"decompose_ttvs.jl\")\n",
    "include(\"plot_likelihood.jl\")\n",
    "include(\"corner_plot.jl\")\n",
    "include(\"plot_ttvs.jl\")"
   ]
  },
  {
   "cell_type": "markdown",
   "metadata": {},
   "source": [
    "## Posterior Distributions"
   ]
  },
  {
   "cell_type": "markdown",
   "metadata": {},
   "source": [
    "### Plot masses of Venus and Earth in $M_{\\oplus}$"
   ]
  },
  {
   "cell_type": "code",
   "execution_count": null,
   "metadata": {
    "jupyter": {
     "outputs_hidden": true
    }
   },
   "outputs": [],
   "source": [
    "xvalue = vec(par_mcmc[:,iburn:nsteps,1]).* CGS.MSUN/CGS.MEARTH\n",
    "yvalue = vec(par_mcmc[:,iburn:nsteps,6]).*CGS.MSUN/CGS.MEARTH\n",
    "optx = mu_1.* CGS.MSUN/CGS.MEARTH\n",
    "opty = mu_2.* CGS.MSUN/CGS.MEARTH\n",
    "truex = 0.815\n",
    "truey = 1\n",
    "nbins = 50\n",
    "corner_plot(xvalue,yvalue,nbins,optx,opty,truex,truey)\n",
    "xlabel(L\"Mass of Venus [$M_{\\oplus}$]\")\n",
    "ylabel(L\"Mass of Earth [$M_{\\oplus}$]\")\n",
    "# savefig(\"massposteriors.png\")"
   ]
  },
  {
   "cell_type": "code",
   "execution_count": 6,
   "metadata": {},
   "outputs": [
    {
     "name": "stderr",
     "output_type": "stream",
     "text": [
      "WARNING: replacing module CGS.\n"
     ]
    }
   ],
   "source": [
    "include(\"corner_plot.jl\")\n",
    "corner_hist(10.0,20.0,\"EMB\",\"p3\",50)"
   ]
  },
  {
   "cell_type": "code",
   "execution_count": 5,
   "metadata": {},
   "outputs": [],
   "source": [
    "corner_hist(10.0,20.0,\"noEMB\",\"p3\",50)"
   ]
  },
  {
   "cell_type": "markdown",
   "metadata": {},
   "source": [
    "### Plot eccentricities of Venus and Earth"
   ]
  },
  {
   "cell_type": "code",
   "execution_count": null,
   "metadata": {},
   "outputs": [],
   "source": [
    "xvalue = sqrt.(vec(par_mcmc[:,iburn:nsteps,4]).^2 + vec(par_mcmc[:,iburn:nsteps,5]).^2)\n",
    "yvalue = sqrt.(vec(par_mcmc[:,iburn:nsteps,9]).^2 + vec(par_mcmc[:,iburn:nsteps,10]).^2)\n",
    "optx = sqrt(e1cosw1^2 + e1sinw1^2)\n",
    "opty = sqrt(e2cosw2^2 + e2sinw2^2)\n",
    "truex = 0.00677323\n",
    "truey = 0.01671022\n",
    "nbins=50\n",
    "corner_plot(xvalue,yvalue,nbins,optx,opty,truex,truey)\n",
    "xlabel(\"Eccentricity of Venus\")\n",
    "ylabel(\"Eccentricity of Earth\")\n",
    "# savefig(\"eccposteriors.png\")"
   ]
  },
  {
   "cell_type": "markdown",
   "metadata": {},
   "source": [
    "### Plot periods of Venus and Earth?"
   ]
  },
  {
   "cell_type": "code",
   "execution_count": null,
   "metadata": {
    "jupyter": {
     "outputs_hidden": true
    }
   },
   "outputs": [],
   "source": [
    "xvalue = vec(par_mcmc[:,iburn:nsteps,2])\n",
    "yvalue = vec(par_mcmc[:,iburn:nsteps,7]) \n",
    "optx = P_1\n",
    "opty = P_2\n",
    "truex = 225\n",
    "truey = 365\n",
    "nbins=50\n",
    "corner_plot(xvalue, yvalue, nbins, optx, opty, truex, truey)\n",
    "xlabel(L\"Period of Venus [$days$]\")\n",
    "ylabel(L\"Period of Earth [$days$]\")\n"
   ]
  },
  {
   "cell_type": "code",
   "execution_count": null,
   "metadata": {},
   "outputs": [],
   "source": [
    "10 .^ range(log10(10.6),stop=log10(14.2),length=200)"
   ]
  },
  {
   "cell_type": "markdown",
   "metadata": {},
   "source": [
    "### Plot mass of Jupiter $M_{Jup}$ vs its eccentricity"
   ]
  },
  {
   "cell_type": "code",
   "execution_count": null,
   "metadata": {
    "jupyter": {
     "outputs_hidden": true
    }
   },
   "outputs": [],
   "source": [
    "xvalue = vec(par_mcmc[:,iburn:nsteps,11]).* CGS.MSUN/CGS.MJUPITER\n",
    "yvalue = sqrt.(vec(par_mcmc[:,iburn:nsteps,14]).^2 + vec(par_mcmc[:,iburn:nsteps,15]).^2)\n",
    "optx = mu_3.* CGS.MSUN/CGS.MJUPITER\n",
    "opty = sqrt(e3cosw3^2 + e3sinw3^2)\n",
    "truex = 1\n",
    "truey = 0.04839266\n",
    "nbins=50\n",
    "corner_plot(xvalue, yvalue, nbins, optx, opty, truex, truey)\n",
    "xlabel(L\"Mass of Jupiter [$M_{Jup}$]\")\n",
    "ylabel(\"Eccentricity of Jupiter\")\n",
    "# savefig(\"jupiterposteriors.png\")"
   ]
  },
  {
   "cell_type": "markdown",
   "metadata": {},
   "source": [
    "### Plot time of inferior conjuction [JD - 24550000] $t_{03}$ vs Jupiter period $P_3$. "
   ]
  },
  {
   "cell_type": "code",
   "execution_count": null,
   "metadata": {
    "jupyter": {
     "outputs_hidden": true
    }
   },
   "outputs": [],
   "source": [
    "xvalue = vec(par_mcmc[:,iburn:nsteps,12])\n",
    "yvalue = vec(par_mcmc[:,iburn:nsteps,13]) .- 2.443e6\n",
    "optx = P_3\n",
    "opty = t03 .- 2.443e6\n",
    "# truex = 1\n",
    "# truey = 0.04839266\n",
    "nbins=50\n",
    "corner_plot(xvalue, yvalue, nbins, optx, opty, truex, truey)\n",
    "xlabel(L\"Period of Jupiter [$days$]\")\n",
    "ylabel(L\"$t_{0}$ of Jupiter\")"
   ]
  },
  {
   "cell_type": "markdown",
   "metadata": {},
   "source": [
    "### Plot TTV of Earth due to Moon $t_{max}$ vs phase change of Moon per Earth year $\\Delta \\phi$"
   ]
  },
  {
   "cell_type": "code",
   "execution_count": null,
   "metadata": {},
   "outputs": [],
   "source": [
    "# function plot_posterior(samples,bins,range)\n",
    "# tmax = vec(sqrt(par_mcmc[:,iburn:nsteps,16]).^2 + vec(par_mcmc[:,iburn:nsteps,17]).^2)\n",
    "xvalue = sqrt.(vec(par_mcmc[:,iburn:nsteps,16].^2) + vec(par_mcmc[:,iburn:nsteps,17].^2)).* (24 * 60)\n",
    "yvalue = vec(par_mcmc[:,iburn:nsteps,18]).* 57.2957795 \n",
    "optx = sqrt(param[16]^2 + param[17]^2).* (24 * 60)\n",
    "opty = param[18].* 57.2957795 \n",
    "# truex = \n",
    "truey = 2.3122 .* 57.2957795 \n",
    "meanx=mean(xvalue);sigmax=std(xvalue)\n",
    "meany=mean(yvalue);sigmay=std(yvalue)\n",
    "nbins=50\n",
    "corner_plot(xvalue,yvalue,nbins,optx,opty,truex,truey)\n",
    "xlabel(\"Amplitude of Moon [min]\")\n",
    "ylabel(\"Phase Change of Moon [deg]\")\n",
    "# savefig(\"moonposteriors.png\")"
   ]
  },
  {
   "cell_type": "markdown",
   "metadata": {},
   "source": [
    "### Plot longitude of ascending node $\\Omega$ vs longitude of pericenter $\\bar \\omega$; with argument of pericenter $\\omega$"
   ]
  },
  {
   "cell_type": "code",
   "execution_count": 245,
   "metadata": {},
   "outputs": [
    {
     "data": {
      "text/plain": [
       "([2.433624404896996e6, 2.433989659571913e6, 2.4343549169757506e6, 2.434720170198379e6, 2.4350854290913274e6, 2.435450686189174e6, 2.435815938772034e6, 2.436181195351934e6, 2.436546452039964e6, 2.4369117088691522e6  …  2.441294789551072e6, 2.441660044224819e6, 2.4420253037346653e6, 2.4423905602110857e6, 2.4427558136647013e6, 2.443121070883718e6, 2.4434863245670246e6, 2.4438515822939654e6, 2.4442168407435166e6, 2.4445820922158603e6], [2.433624402638408e6, 2.433989659065065e6, 2.434354915491722e6, 2.434720171918379e6, 2.435085428345036e6, 2.4354506847716933e6, 2.435815941198351e6, 2.436181197625008e6, 2.436546454051665e6, 2.436911710478322e6  …  2.4412947875982076e6, 2.4416600440248647e6, 2.4420253004515218e6, 2.442390556878179e6, 2.442755813304836e6, 2.443121069731493e6, 2.44348632615815e6, 2.4438515825848076e6, 2.4442168390114647e6, 2.444582095438122e6])"
      ]
     },
     "execution_count": 245,
     "metadata": {},
     "output_type": "execute_result"
    }
   ],
   "source": [
    "g=jldopen(\"FITS/fromEMB/p3_fit30.0s30.0yrs.jld2\",\"r\")\n",
    "tt,tt0,sigtt,ttmodel = g[\"tt\"],g[\"tt0\"],g[\"sigtt\"],g[\"ttmodel\"]\n",
    "pbest_global = g[\"best_p3\"]\n",
    "nplanet,ntrans = g[\"nplanet\"],g[\"ntrans\"]\n",
    "# pair_ttvs = decompose_ttvs(nplanet,ntrans,pbest_global) .* (24 * 60)\n",
    "n1,n2,n3 = ntrans\n",
    "mu1,P1,t01,ecosw1,esinw1 = pbest_global[1:5]\n",
    "mu2,P2,t02,ecosw2,esinw2 = pbest_global[6:10]\n",
    "mu3,P3,t03,ecosw3,esinw3 = pbest_global[11:15]\n",
    "# time1 = collect(t01 .+ range(0,stop=n1-1,length=n1) .* P1)\n",
    "# time2 = collect(t02 .+ range(0,stop=n2-1,length=n2) .* P2)\n",
    "tt1,tt01 = tt[1:n1],tt0[1:n1]\n",
    "tt2,tt02 = tt[n1+1:n1+n2],tt0[n1+1:n1+n2]"
   ]
  },
  {
   "cell_type": "code",
   "execution_count": 258,
   "metadata": {},
   "outputs": [
    {
     "data": {
      "text/plain": [
       "calc_M (generic function with 1 method)"
      ]
     },
     "execution_count": 258,
     "metadata": {},
     "output_type": "execute_result"
    }
   ],
   "source": [
    "J2000 = 2451545.0\n",
    "jd1=2.4332825e6\n",
    "calc_rad(value) = value * pi/180\n",
    "calc_deg(value) = value * 180/pi\n",
    "calc_omega(pomega,Omega) = pomega - Omega\n",
    "calc_M(t,t0,P)=2pi .* (t.-t0) ./ P"
   ]
  },
  {
   "cell_type": "markdown",
   "metadata": {},
   "source": [
    "Agol & Deck 2015 equation 5 for mean longitude"
   ]
  },
  {
   "cell_type": "code",
   "execution_count": 163,
   "metadata": {},
   "outputs": [
    {
     "data": {
      "text/plain": [
       "calc_L (generic function with 1 method)"
      ]
     },
     "execution_count": 163,
     "metadata": {},
     "output_type": "execute_result"
    }
   ],
   "source": [
    "function calc_L(t,t0,P,esinw)\n",
    "    lambda = ((360/P) .* (t.-t0)) .+ 2*esinw\n",
    "    return lambda\n",
    "end"
   ]
  },
  {
   "cell_type": "code",
   "execution_count": 133,
   "metadata": {},
   "outputs": [
    {
     "data": {
      "text/plain": [
       "(0.6151971978957823, 1.000017663879583, 11.597325781312636)"
      ]
     },
     "execution_count": 133,
     "metadata": {},
     "output_type": "execute_result"
    }
   ],
   "source": [
    "P1/365.25,P2/365.25,P3/365.25"
   ]
  },
  {
   "cell_type": "code",
   "execution_count": 246,
   "metadata": {},
   "outputs": [
    {
     "data": {
      "text/plain": [
       "(0.007552295476634351, 0.01466059740501133, 0.0454727262813164)"
      ]
     },
     "execution_count": 246,
     "metadata": {},
     "output_type": "execute_result"
    }
   ],
   "source": [
    "e1 = sqrt.(ecosw1.^2 + esinw1.^2)\n",
    "e2 = sqrt.(ecosw2.^2 + esinw2.^2)\n",
    "e3 = sqrt.(ecosw3.^2 + esinw3.^2)\n",
    "e1,e2,e3"
   ]
  },
  {
   "cell_type": "markdown",
   "metadata": {},
   "source": [
    "We assume an edge-on, plane-parallel system with the $\\Omega = 0$ such that $\\omega = \\varpi$"
   ]
  },
  {
   "cell_type": "code",
   "execution_count": 247,
   "metadata": {},
   "outputs": [
    {
     "data": {
      "text/plain": [
       "(110.24093749596905, 34.5333600284138, -69.08910379986942)"
      ]
     },
     "execution_count": 247,
     "metadata": {},
     "output_type": "execute_result"
    }
   ],
   "source": [
    "w1 = calc_deg(atan(esinw1,ecosw1))\n",
    "w2 = calc_deg(atan(esinw2,ecosw2))\n",
    "w3 = calc_deg(atan(esinw3,ecosw3))\n",
    "w1,w2,w3"
   ]
  },
  {
   "cell_type": "markdown",
   "metadata": {},
   "source": [
    "$L \\equiv \\lambda$. Check to see if $\\lambda_{E} \\sim \\lambda_{V}$ at their respective transit times. $\\lambda mod 2 \\pi = \\lambda_{obs}$[what?] where $\\lambda_{obs}$ is longitude that both Earth and Venus have."
   ]
  },
  {
   "cell_type": "code",
   "execution_count": 273,
   "metadata": {
    "scrolled": false
   },
   "outputs": [
    {
     "data": {
      "text/plain": [
       "([0.012371787476397042, 360.0133343565473, 720.0169824870229, 1080.0135526690897, 1440.0122255198048, 1800.0170057665478, 2160.0177544631683, 2520.01589496752, 2880.0098961630033, 3240.010708947574  …  14040.012713830656, 14400.014083406671, 14760.016677415953, 15120.013983489262, 15480.011012335533, 15840.016055447844, 16200.017730867143, 16560.01607892639, 16920.011100616346, 17280.00925384235], [0.0193074189826956, 360.01755401405876, 720.0184902573101, 1080.015305463873, 1440.017709387891, 1800.0183440440064, 2160.0145286887832, 2520.0146528520695, 2880.014883589056, 3240.0152534528497  …  7560.018441732332, 7920.0166871745005, 8280.01969911849, 8640.01972129125, 9000.016764160737, 9360.017518242807, 9720.014787497934, 10080.016042194638, 10440.018009102552, 10800.01309921289])"
      ]
     },
     "execution_count": 273,
     "metadata": {},
     "output_type": "execute_result"
    }
   ],
   "source": [
    "L_1 = calc_L(tt1,t01,P1,esinw1)\n",
    "L_2 = calc_L(tt2,t02,P2,esinw2)\n",
    "L_1,L_2\n",
    "# for i=1:length(tt2)\n",
    "#     println(L_1[i],\" \",L_2[i])\n",
    "# end"
   ]
  },
  {
   "cell_type": "code",
   "execution_count": 248,
   "metadata": {},
   "outputs": [
    {
     "data": {
      "text/plain": [
       "([110.23441005698854, 470.2353371876402, 830.2388169261313, 1190.2355142877648, 1550.2334225068087, 1910.2392921671903, 2270.2397960284884, 2630.2377110567327, 2990.232755940259, 3350.232222648511  …  14150.234538806002, 14510.235477996555, 14870.238889408038, 15230.235784719922, 15590.233067660847, 15950.238464156784, 16310.239487117586, 16670.237586353087, 17030.233029423012, 17390.23145479437], [34.537352959732864, 394.53369807432495, 754.5375676629656, 1114.5321719224687, 1474.5349057276383, 1834.5375357509597, 2194.530177307468, 2554.5326940934497, 2914.533180203558, 3274.531020179454  …  7594.537901329611, 7954.533481497117, 8314.536540632798, 8674.53882086993, 9034.532613647943, 9394.535745181794, 9754.533393802163, 10114.532368817097, 10474.537012190096, 10834.530400168693])"
      ]
     },
     "execution_count": 248,
     "metadata": {},
     "output_type": "execute_result"
    }
   ],
   "source": [
    "L_1.+w1,L_2.+w2#,L_3.+w3"
   ]
  },
  {
   "cell_type": "markdown",
   "metadata": {},
   "source": [
    "Venus transit occurs 0.277 radians after it goes through periastron. Earth transit occurs -0.552 radians after it goes through periastron. "
   ]
  },
  {
   "cell_type": "code",
   "execution_count": 105,
   "metadata": {},
   "outputs": [
    {
     "data": {
      "text/plain": [
       "(15.870930925123806, -31.627270291221446)"
      ]
     },
     "execution_count": 105,
     "metadata": {},
     "output_type": "execute_result"
    }
   ],
   "source": [
    "calc_deg(0.277),calc_deg(-0.552)"
   ]
  },
  {
   "cell_type": "markdown",
   "metadata": {},
   "source": [
    "true $\\lambda$ from planet body data sheet: 181.9, 100, 34 degrees ##181.97973, 100.46435, 34.40438"
   ]
  },
  {
   "cell_type": "code",
   "execution_count": 218,
   "metadata": {},
   "outputs": [
    {
     "data": {
      "text/plain": [
       "(-354.506249963048, -336.98621027107424)"
      ]
     },
     "execution_count": 218,
     "metadata": {},
     "output_type": "execute_result"
    }
   ],
   "source": [
    "calc_L(jd1,t01,P1,esinw1),calc_L(jd1,t02,P2,esinw2)"
   ]
  },
  {
   "cell_type": "code",
   "execution_count": 238,
   "metadata": {},
   "outputs": [
    {
     "data": {
      "text/plain": [
       "(28904.40466370642, 17662.69590703417)"
      ]
     },
     "execution_count": 238,
     "metadata": {},
     "output_type": "execute_result"
    }
   ],
   "source": [
    "calc_L(J2000,t01,P1,esinw1),calc_L(J2000,t02,P2,esinw2)# L_3 = calc_L(tt3,J2000,P3,esinw3)"
   ]
  },
  {
   "cell_type": "code",
   "execution_count": 263,
   "metadata": {},
   "outputs": [
    {
     "data": {
      "text/plain": [
       "-28722.4353440571"
      ]
     },
     "execution_count": 263,
     "metadata": {},
     "output_type": "execute_result"
    }
   ],
   "source": [
    "(((360/P1) .* (t01 .- J2000)) .+ 181.97909950)"
   ]
  },
  {
   "cell_type": "code",
   "execution_count": 235,
   "metadata": {},
   "outputs": [
    {
     "data": {
      "text/plain": [
       "-17562.230413677655"
      ]
     },
     "execution_count": 235,
     "metadata": {},
     "output_type": "execute_result"
    }
   ],
   "source": [
    "(((360/P2) .* (t02 .- J2000)) .+ 100.46457166)"
   ]
  },
  {
   "cell_type": "code",
   "execution_count": 209,
   "metadata": {},
   "outputs": [
    {
     "data": {
      "text/plain": [
       "(181.99327132309554, 100.48119343431244)"
      ]
     },
     "execution_count": 209,
     "metadata": {},
     "output_type": "execute_result"
    }
   ],
   "source": [
    "28904.428615380195 -28722.4353440571, 17662.716756770507-17562.235563336195"
   ]
  },
  {
   "cell_type": "markdown",
   "metadata": {},
   "source": [
    "Calculate angular diffence between J2000 and time of periastron passage"
   ]
  },
  {
   "cell_type": "code",
   "execution_count": 266,
   "metadata": {},
   "outputs": [
    {
     "data": {
      "text/plain": [
       "(28904.4144435571, 17662.700134996194, 1070.4307553559763)"
      ]
     },
     "execution_count": 266,
     "metadata": {},
     "output_type": "execute_result"
    }
   ],
   "source": [
    "M1,M2,M3=360*(J2000-t01)/P1 , 360*(J2000-t02)/P2 , 360*(J2000-t03)/P3"
   ]
  },
  {
   "cell_type": "code",
   "execution_count": 37,
   "metadata": {},
   "outputs": [
    {
     "data": {
      "text/plain": [
       "(131.601125535, 102.78555318000001)"
      ]
     },
     "execution_count": 37,
     "metadata": {},
     "output_type": "execute_result"
    }
   ],
   "source": [
    "true_w1 = 131.60246718 - 0.00268329*.5\n",
    "true_w2 = 102.94719 - 0.32327364*.5\n",
    "# true_w3 = 14.72847983 - 0.21252668*.5\n",
    "true_w1,true_w2#,true_w3"
   ]
  },
  {
   "cell_type": "markdown",
   "metadata": {},
   "source": [
    "Calculate lunar phase offset, $\\Delta\\phi= (P_p/P_s - round(P_p/P_s))*2\\pi$ "
   ]
  },
  {
   "cell_type": "code",
   "execution_count": 191,
   "metadata": {},
   "outputs": [
    {
     "data": {
      "text/plain": [
       "calc_dphi (generic function with 1 method)"
      ]
     },
     "execution_count": 191,
     "metadata": {},
     "output_type": "execute_result"
    }
   ],
   "source": [
    "calc_dphi(P_p,P_s) = (P_p/P_s - round(P_p/P_s))*2pi"
   ]
  },
  {
   "cell_type": "code",
   "execution_count": 192,
   "metadata": {},
   "outputs": [
    {
     "name": "stdout",
     "output_type": "stream",
     "text": [
      "2.315859255328402 rad or 132.68896127662714 degrees\n"
     ]
    }
   ],
   "source": [
    "dphi=calc_dphi(365.256355,27.322)\n",
    "println(dphi,\" rad or \",calc_deg(dphi),\" degrees\")"
   ]
  },
  {
   "cell_type": "markdown",
   "metadata": {},
   "source": [
    "To calculate moon amplitude, use $t_{max} = \\frac{M_s a_s P_p}{(M_s + M_p) 2\\pi a_p}$ based on velocity of EMB about Sun"
   ]
  },
  {
   "cell_type": "markdown",
   "metadata": {},
   "source": [
    "## 10 second noise"
   ]
  },
  {
   "cell_type": "code",
   "execution_count": null,
   "metadata": {},
   "outputs": [],
   "source": [
    "f = extract_data(\"OUTPUTS/moon_fitmtry2params.jld2\")"
   ]
  },
  {
   "cell_type": "code",
   "execution_count": null,
   "metadata": {},
   "outputs": [],
   "source": [
    "@load(\"mcmc_mtryresults.jld2\")"
   ]
  },
  {
   "cell_type": "code",
   "execution_count": null,
   "metadata": {},
   "outputs": [],
   "source": [
    "mu_1,P_1,t01,e1cosw1,e1sinw1,\n",
    "mu_2,P_2,t02,e2cosw2,e2sinw2,\n",
    "mu_3,P_3,t03,e3cosw3,e3sinw3,\n",
    "tmaxsinphi0,tmaxcosphi0,deltaphi = f[\"pbest_global\"]"
   ]
  },
  {
   "cell_type": "code",
   "execution_count": null,
   "metadata": {},
   "outputs": [],
   "source": [
    "w1 = calc_deg(atan(e1sinw1,e1cosw1))\n",
    "w2 = calc_deg(atan(e2sinw2,e2cosw2))\n",
    "w3 = calc_deg(atan(e3sinw3,e3cosw3))\n",
    "w1,w2,w3"
   ]
  },
  {
   "cell_type": "code",
   "execution_count": null,
   "metadata": {},
   "outputs": [],
   "source": [
    "L_1 = calc_L(tt1,tt01,P_1,e1sinw1)\n",
    "L_2 = calc_L(tt2,tt02,P_2,e2sinw2)\n",
    "L_1,L_2"
   ]
  },
  {
   "cell_type": "code",
   "execution_count": 228,
   "metadata": {
    "collapsed": true,
    "jupyter": {
     "outputs_hidden": true
    }
   },
   "outputs": [
    {
     "data": {
      "text/plain": [
       "49-element Array{Float64,1}:\n",
       " -27642.43014947823 \n",
       " -27282.430158204912\n",
       " -26922.43016693159 \n",
       " -26562.430175659018\n",
       " -26202.430184385696\n",
       " -25842.430193112374\n",
       " -25482.430201839055\n",
       " -25122.43021056648 \n",
       " -24762.43021929316 \n",
       " -24402.43022801984 \n",
       " -24042.43023674652 \n",
       " -23682.430245473945\n",
       " -23322.430254200626\n",
       "      ⋮             \n",
       " -14322.430472371347\n",
       " -13962.430481098772\n",
       " -13602.430489825452\n",
       " -13242.430498552132\n",
       " -12882.430507278812\n",
       " -12522.430516006238\n",
       " -12162.430524732918\n",
       " -11802.430533459597\n",
       " -11442.430542186275\n",
       " -11082.430550913703\n",
       " -10722.430559640381\n",
       " -10362.430568367061"
      ]
     },
     "execution_count": 228,
     "metadata": {},
     "output_type": "execute_result"
    }
   ],
   "source": [
    "(((360/P1) .* (tt01 .- J2000)) .+ 181.97909950) "
   ]
  },
  {
   "cell_type": "code",
   "execution_count": null,
   "metadata": {
    "jupyter": {
     "outputs_hidden": true
    }
   },
   "outputs": [],
   "source": [
    "((360/P_2) .* (tt02 .- J2000) .+ 100.46457166)"
   ]
  },
  {
   "cell_type": "code",
   "execution_count": null,
   "metadata": {},
   "outputs": [],
   "source": [
    "[(360/P_3) .* (t03 .- J2000) .+ 34.39644051,\n",
    "(360/P_3) .* (t03 .- J2000) .+ 34.39644051 + 360*1,\n",
    "(360/P_3) .* (t03 .- J2000) .+ 34.39644051 + 360*2]"
   ]
  },
  {
   "cell_type": "markdown",
   "metadata": {},
   "source": [
    "[Can't recall how i found this]"
   ]
  },
  {
   "cell_type": "code",
   "execution_count": null,
   "metadata": {},
   "outputs": [],
   "source": [
    "77.56936298207381+w1,77.76976911511983+w2,77.91649744476126+w3"
   ]
  },
  {
   "cell_type": "code",
   "execution_count": null,
   "metadata": {},
   "outputs": [],
   "source": [
    "xvalue = calc_deg.(atan.(vec(par_mcmc[:,iburn:nsteps,5]),vec(par_mcmc[:,iburn:nsteps,4]))) .+ 77.6\n",
    "yvalue = calc_deg.(atan.(vec(par_mcmc[:,iburn:nsteps,10]),vec(par_mcmc[:,iburn:nsteps,9]))) .+ 77.8\n",
    "optx = calc_deg(atan(e1sinw1,e1cosw1)) + 77.6\n",
    "opty = calc_deg(atan(e2sinw2,e2cosw2)) + 77.8\n",
    "truex = 131.601125535\n",
    "truey = 102.78555318000001\n",
    "meanx=mean(xvalue);sigmax=std(xvalue)\n",
    "meany=mean(yvalue);sigmay=std(yvalue)\n",
    "nbins=50\n",
    "corner_plot(xvalue,yvalue,nbins,optx,opty,truex,truey)\n",
    "xlabel(L\"Longitude $\\varpi$ of Venus [$deg$]\")\n",
    "ylabel(L\"Longitude $\\varpi$ of Earth [$deg$]\")"
   ]
  },
  {
   "cell_type": "code",
   "execution_count": null,
   "metadata": {},
   "outputs": [],
   "source": [
    "xvalue = calc_deg.(atan.(vec(par_mcmc[:,iburn:nsteps,15]),vec(par_mcmc[:,iburn:nsteps,14]))) .+ 77.9\n",
    "yvalue = calc_deg.(atan.(vec(par_mcmc[:,iburn:nsteps,10]),vec(par_mcmc[:,iburn:nsteps,9]))) .+ 77.8\n",
    "optx = calc_deg(atan(e3sinw3,e3cosw3)) + 77.9\n",
    "opty = calc_deg(atan(e2sinw2,e2cosw2)) + 77.8\n",
    "truex = 14.62221649\n",
    "truey = 102.78555318000001\n",
    "nbins=50\n",
    "corner_plot(xvalue,yvalue,nbins,optx,opty,truex,truey)\n",
    "xlabel(L\"Longitude $\\varpi$ of Jupiter [$deg$]\")\n",
    "ylabel(L\"Longitude $\\varpi$ of Earth [$deg$]\")"
   ]
  },
  {
   "cell_type": "code",
   "execution_count": null,
   "metadata": {},
   "outputs": [],
   "source": [
    "(360/P_3 * (t03 - J2000) - 34.39644051)"
   ]
  },
  {
   "cell_type": "code",
   "execution_count": null,
   "metadata": {},
   "outputs": [],
   "source": [
    "corner_planet(vec(par_mcmc[:,iburn:nsteps,6]).* CGS.MSUN/CGS.MEARTH,\n",
    "    vec(par_mcmc[:,iburn:nsteps,9]),\n",
    "    vec(par_mcmc[:,iburn:nsteps,10]),\n",
    "    vec(par_mcmc[:,iburn:nsteps,7]),\n",
    "0.815,-0.004,-0.002,224.5)"
   ]
  },
  {
   "cell_type": "code",
   "execution_count": null,
   "metadata": {},
   "outputs": [],
   "source": [
    "corner_planet(vec(par_mcmc[:,iburn:nsteps,11]).* CGS.MSUN/CGS.MEARTH,\n",
    "    vec(par_mcmc[:,iburn:nsteps,14]),\n",
    "    vec(par_mcmc[:,iburn:nsteps,15]),\n",
    "    vec(par_mcmc[:,iburn:nsteps,12])\n",
    "318,-0.004,-0.002,224.5)"
   ]
  }
 ],
 "metadata": {
  "anaconda-cloud": {},
  "kernelspec": {
   "display_name": "Julia 1.3.0",
   "language": "julia",
   "name": "julia-1.3"
  },
  "language_info": {
   "file_extension": ".jl",
   "mimetype": "application/julia",
   "name": "julia",
   "version": "1.3.0"
  }
 },
 "nbformat": 4,
 "nbformat_minor": 4
}
