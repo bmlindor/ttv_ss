{
 "cells": [
  {
   "cell_type": "code",
   "execution_count": 1,
   "metadata": {},
   "outputs": [],
   "source": [
    "using PyPlot,JLD2,Statistics,PyCall\n",
    "# rc(\"font\",family=\"serif\")\n",
    "# include(\"CGS.jl\")"
   ]
  },
  {
   "cell_type": "code",
   "execution_count": 2,
   "metadata": {},
   "outputs": [
    {
     "data": {
      "text/plain": [
       "PyObject <module 'matplotlib.animation' from '/Users/bethleelindor/.julia/conda/3/lib/python3.7/site-packages/matplotlib/animation.py'>"
      ]
     },
     "execution_count": 2,
     "metadata": {},
     "output_type": "execute_result"
    }
   ],
   "source": [
    "matplotlib.animation = pyimport(\"matplotlib.animation\")"
   ]
  },
  {
   "cell_type": "code",
   "execution_count": 3,
   "metadata": {
    "collapsed": true,
    "jupyter": {
     "outputs_hidden": true,
     "source_hidden": true
    },
    "tags": []
   },
   "outputs": [
    {
     "data": {
      "image/png": "[encoded data removed]",
      "text/plain": [
       "Figure(PyObject <Figure size 500x500 with 1 Axes>)"
      ]
     },
     "metadata": {},
     "output_type": "display_data"
    },
    {
     "data": {
      "text/plain": [
       "PyObject <matplotlib.animation.FuncAnimation object at 0x13dad2470>"
      ]
     },
     "execution_count": 3,
     "metadata": {},
     "output_type": "execute_result"
    }
   ],
   "source": [
    "function simData()\n",
    "    t_max = 10.0\n",
    "    dt = 0.05\n",
    "    x = 0.0\n",
    "    t = -dt\n",
    "\n",
    "    function it()\n",
    "        while t < t_max\n",
    "            x = sin(pi * t)\n",
    "            t = t + dt\n",
    "            produce(x, t)\n",
    "        end\n",
    "    end\n",
    "\n",
    "    Task(it)\n",
    "end\n",
    "\n",
    "function simPoints()\n",
    "    task = simData()\n",
    "\n",
    "    function points(frame_number)\n",
    "        x, t = consume(task)\n",
    "        line.set_data(t, x)\n",
    "        return(line, \"\")\n",
    "    end\n",
    "\n",
    "    points\n",
    "end\n",
    "\n",
    "fig = figure(figsize=(5,5))\n",
    "axis = fig.add_subplot(111)\n",
    "line = axis.plot([], [], \"bo\", ms = 10)[1]\n",
    "axis.set_ylim(-1, 1)\n",
    "axis.set_xlim(0, 10)\n",
    "\n",
    "ani = matplotlib.animation.FuncAnimation(fig, simPoints(), blit=false, interval=10, frames=200, repeat=false)"
   ]
  },
  {
   "cell_type": "code",
   "execution_count": 5,
   "metadata": {
    "collapsed": true,
    "jupyter": {
     "outputs_hidden": true,
     "source_hidden": true
    },
    "tags": []
   },
   "outputs": [
    {
     "name": "stderr",
     "output_type": "stream",
     "text": [
      "Traceback (most recent call last):\n",
      "  File \"/Users/bethleelindor/.julia/conda/3/lib/python3.7/site-packages/matplotlib/cbook/__init__.py\", line 215, in process\n",
      "    func(*args, **kwargs)\n",
      "  File \"/Users/bethleelindor/.julia/conda/3/lib/python3.7/site-packages/matplotlib/animation.py\", line 999, in _start\n",
      "    self._init_draw()\n",
      "  File \"/Users/bethleelindor/.julia/conda/3/lib/python3.7/site-packages/matplotlib/animation.py\", line 1740, in _init_draw\n",
      "    self._draw_frame(next(self.new_frame_seq()))\n",
      "  File \"/Users/bethleelindor/.julia/conda/3/lib/python3.7/site-packages/matplotlib/animation.py\", line 1762, in _draw_frame\n",
      "    self._drawn_artists = self._func(framedata, *self._args)\n",
      "RuntimeError: <PyCall.jlwrap (in a Julia function called from Python)\n",
      "JULIA: UndefVarError: consume not defined\n",
      "Stacktrace:\n",
      " [1] (::var\"#points#4\"{Task})(::Int64) at ./In[3]:22\n",
      " [2] #invokelatest#1(::Base.Iterators.Pairs{Union{},Union{},Tuple{},NamedTuple{(),Tuple{}}}, ::typeof(Base.invokelatest), ::Any, ::Any, ::Vararg{Any,N} where N) at ./essentials.jl:709\n",
      " [3] invokelatest(::Any, ::Any, ::Vararg{Any,N} where N) at ./essentials.jl:708\n",
      " [4] _pyjlwrap_call(::Function, ::Ptr{PyCall.PyObject_struct}, ::Ptr{PyCall.PyObject_struct}) at /Users/bethleelindor/.julia/packages/PyCall/3fwVL/src/callback.jl:28\n",
      " [5] pyjlwrap_call(::Ptr{PyCall.PyObject_struct}, ::Ptr{PyCall.PyObject_struct}, ::Ptr{PyCall.PyObject_struct}) at /Users/bethleelindor/.julia/packages/PyCall/3fwVL/src/callback.jl:44\n",
      " [6] macro expansion at /Users/bethleelindor/.julia/packages/PyCall/3fwVL/src/exception.jl:95 [inlined]\n",
      " [7] #107 at /Users/bethleelindor/.julia/packages/PyCall/3fwVL/src/pyfncall.jl:43 [inlined]\n",
      " [8] disable_sigint at ./c.jl:446 [inlined]\n",
      " [9] __pycall! at /Users/bethleelindor/.julia/packages/PyCall/3fwVL/src/pyfncall.jl:42 [inlined]\n",
      " [10] _pycall!(::PyObject, ::PyObject, ::Tuple{IOContext{Base64.Base64EncodePipe}}, ::Int64, ::PyObject) at /Users/bethleelindor/.julia/packages/PyCall/3fwVL/src/pyfncall.jl:29\n",
      " [11] _pycall!(::PyObject, ::PyObject, ::Tuple{IOContext{Base64.Base64EncodePipe}}, ::Base.Iterators.Pairs{Symbol,String,Tuple{Symbol,Symbol},NamedTuple{(:format, :bbox_inches),Tuple{String,String}}}) at /Users/bethleelindor/.julia/packages/PyCall/3fwVL/src/pyfncall.jl:11\n",
      " [12] #_#114 at /Users/bethleelindor/.julia/packages/PyCall/3fwVL/src/pyfncall.jl:86 [inlined]\n",
      " [13] Any at ./none:0 [inlined]\n",
      " [14] show(::IOContext{Base64.Base64EncodePipe}, ::MIME{Symbol(\"image/png\")}, ::Figure) at /Users/bethleelindor/.julia/packages/PyPlot/XaELc/src/PyPlot.jl:83\n",
      " [15] limitstringmime(::MIME{Symbol(\"image/png\")}, ::Figure) at /Users/bethleelindor/.julia/packages/IJulia/e8kqU/src/inline.jl:50\n",
      " [16] display_mimestring(::MIME{Symbol(\"image/png\")}, ::Figure) at /Users/bethleelindor/.julia/packages/IJulia/e8kqU/src/display.jl:67\n",
      " [17] display_mimestring(::Array{MIME,1}, ::Figure) at /Users/bethleelindor/.julia/packages/IJulia/e8kqU/src/display.jl:61\n",
      " [18] display_dict(::Figure) at /Users/bethleelindor/.julia/packages/IJulia/e8kqU/src/display.jl:102\n",
      " [19] display(::IJulia.InlineDisplay, ::Figure) at /Users/bethleelindor/.julia/packages/IJulia/e8kqU/src/inline.jl:95\n",
      " [20] display(::Any) at ./multimedia.jl:323\n",
      " [21] display_figs() at /Users/bethleelindor/.julia/packages/PyPlot/XaELc/src/PyPlot.jl:119\n",
      " [22] #invokelatest#1 at ./essentials.jl:709 [inlined]\n",
      " [23] invokelatest at ./essentials.jl:708 [inlined]\n",
      " [24] execute_request(::ZMQ.Socket, ::IJulia.Msg) at /Users/bethleelindor/.julia/packages/IJulia/e8kqU/src/execute_request.jl:101\n",
      " [25] #invokelatest#1 at ./essentials.jl:709 [inlined]\n",
      " [26] invokelatest at ./essentials.jl:708 [inlined]\n",
      " [27] eventloop(::ZMQ.Socket) at /Users/bethleelindor/.julia/packages/IJulia/e8kqU/src/eventloop.jl:8\n",
      " [28] (::IJulia.var\"#15#18\")() at ./task.jl:333>\n",
      "MovieWriter ffmpeg unavailable. Trying to use html instead.\n"
     ]
    },
    {
     "ename": "PyCall.PyError",
     "evalue": "\u001b[91mPyError ($(Expr(:escape, :(ccall(#= /Users/bethleelindor/.julia/packages/PyCall/3fwVL/src/pyfncall.jl:43 =# @pysym(:PyObject_Call), PyPtr, (PyPtr, PyPtr, PyPtr), o, pyargsptr, kw))))) <class 'ValueError'>\u001b[39m\n\u001b[91mValueError('outfile must be *.htm or *.html')\u001b[39m\n\u001b[91m  File \"/Users/bethleelindor/.julia/conda/3/lib/python3.7/site-packages/matplotlib/animation.py\", line 1166, in save\u001b[39m\n\u001b[91m    with writer.saving(self._fig, filename, dpi):\u001b[39m\n\u001b[91m  File \"/Users/bethleelindor/.julia/conda/3/lib/python3.7/contextlib.py\", line 112, in __enter__\u001b[39m\n\u001b[91m    return next(self.gen)\u001b[39m\n\u001b[91m  File \"/Users/bethleelindor/.julia/conda/3/lib/python3.7/site-packages/matplotlib/animation.py\", line 228, in saving\u001b[39m\n\u001b[91m    self.setup(fig, outfile, dpi, *args, **kwargs)\u001b[39m\n\u001b[91m  File \"/Users/bethleelindor/.julia/conda/3/lib/python3.7/site-packages/matplotlib/animation.py\", line 857, in setup\u001b[39m\n\u001b[91m    raise ValueError(\"outfile must be *.htm or *.html\")\u001b[39m\n",
     "output_type": "error",
     "traceback": [
      "\u001b[91mPyError ($(Expr(:escape, :(ccall(#= /Users/bethleelindor/.julia/packages/PyCall/3fwVL/src/pyfncall.jl:43 =# @pysym(:PyObject_Call), PyPtr, (PyPtr, PyPtr, PyPtr), o, pyargsptr, kw))))) <class 'ValueError'>\u001b[39m\n\u001b[91mValueError('outfile must be *.htm or *.html')\u001b[39m\n\u001b[91m  File \"/Users/bethleelindor/.julia/conda/3/lib/python3.7/site-packages/matplotlib/animation.py\", line 1166, in save\u001b[39m\n\u001b[91m    with writer.saving(self._fig, filename, dpi):\u001b[39m\n\u001b[91m  File \"/Users/bethleelindor/.julia/conda/3/lib/python3.7/contextlib.py\", line 112, in __enter__\u001b[39m\n\u001b[91m    return next(self.gen)\u001b[39m\n\u001b[91m  File \"/Users/bethleelindor/.julia/conda/3/lib/python3.7/site-packages/matplotlib/animation.py\", line 228, in saving\u001b[39m\n\u001b[91m    self.setup(fig, outfile, dpi, *args, **kwargs)\u001b[39m\n\u001b[91m  File \"/Users/bethleelindor/.julia/conda/3/lib/python3.7/site-packages/matplotlib/animation.py\", line 857, in setup\u001b[39m\n\u001b[91m    raise ValueError(\"outfile must be *.htm or *.html\")\u001b[39m\n",
      "",
      "Stacktrace:",
      " [1] pyerr_check at /Users/bethleelindor/.julia/packages/PyCall/3fwVL/src/exception.jl:62 [inlined]",
      " [2] pyerr_check at /Users/bethleelindor/.julia/packages/PyCall/3fwVL/src/exception.jl:66 [inlined]",
      " [3] _handle_error(::String) at /Users/bethleelindor/.julia/packages/PyCall/3fwVL/src/exception.jl:83",
      " [4] macro expansion at /Users/bethleelindor/.julia/packages/PyCall/3fwVL/src/exception.jl:97 [inlined]",
      " [5] #107 at /Users/bethleelindor/.julia/packages/PyCall/3fwVL/src/pyfncall.jl:43 [inlined]",
      " [6] disable_sigint at ./c.jl:446 [inlined]",
      " [7] __pycall! at /Users/bethleelindor/.julia/packages/PyCall/3fwVL/src/pyfncall.jl:42 [inlined]",
      " [8] _pycall!(::PyObject, ::PyObject, ::Tuple{String}, ::Int64, ::PyObject) at /Users/bethleelindor/.julia/packages/PyCall/3fwVL/src/pyfncall.jl:29",
      " [9] _pycall!(::PyObject, ::PyObject, ::Tuple{String}, ::Base.Iterators.Pairs{Symbol,Any,Tuple{Symbol,Symbol},NamedTuple{(:bitrate, :extra_args),Tuple{Int64,Array{String,1}}}}) at /Users/bethleelindor/.julia/packages/PyCall/3fwVL/src/pyfncall.jl:11",
      " [10] #_#114 at /Users/bethleelindor/.julia/packages/PyCall/3fwVL/src/pyfncall.jl:86 [inlined]",
      " [11] (::Core.var\"#kw#Any\")(::NamedTuple{(:bitrate, :extra_args),Tuple{Int64,Array{String,1}}}, ::PyObject, ::String) at ./none:0",
      " [12] top-level scope at In[5]:1"
     ]
    }
   ],
   "source": [
    "ani.save(\"test1.mp4\", bitrate=-1, extra_args=[\"-vcodec\", \"libx264\", \"-pix_fmt\", \"yuv420p\"])\n",
    "    \n",
    "# # Function for creating an embedded video given a filename\n",
    "# function html_video(filename)\n",
    "#     open(filename) do f\n",
    "#         base64_video = base64encode(f)\n",
    "#         \"\"\"<video controls src=\"data:video/x-m4v;base64,$base64_video\">\"\"\"\n",
    "#     end\n",
    "# end"
   ]
  },
  {
   "cell_type": "markdown",
   "metadata": {},
   "source": [
    "### Simulate obs"
   ]
  },
  {
   "cell_type": "code",
   "execution_count": 1,
   "metadata": {
    "tags": []
   },
   "outputs": [
    {
     "name": "stdout",
     "output_type": "stream",
     "text": [
      "Finished CALCEPH computation.\n",
      "  9.781270 seconds (11.72 M allocations: 575.205 MiB, 5.33% gc time)\n"
     ]
    },
    {
     "data": {
      "text/plain": [
       "([2.433503764417094e6, 2.4337284657592718e6, 2.43395316865273e6, 2.4341778674054984e6, 2.43440256663597e6, 2.434627271414636e6, 2.434851972427262e6, 2.435076671829833e6, 2.435301369837278e6, 2.435526069859001e6  …  2.44226709463965e6, 2.4424917958661434e6, 2.44271649902462e6, 2.4429411977330735e6, 2.443165896891193e6, 2.443390601144851e6, 2.4436153023542636e6, 2.4438400018644733e6, 2.444064699926228e6, 2.4442893998029977e6], [2.4336244053663155e6, 2.433989659466925e6, 2.434354916550314e6, 2.434720170357399e6, 2.4350854292193605e6, 2.4354506863933094e6, 2.4358159384629615e6, 2.4361811952688014e6, 2.4365464521077164e6, 2.436911708642025e6  …  2.4412947895887177e6, 2.441660044353812e6, 2.4420253033147254e6, 2.4423905602819226e6, 2.4427558136603665e6, 2.4431210708349054e6, 2.443486324911605e6, 2.443851582692736e6, 2.444216840267275e6, 2.44458209223637e6], [0.22607070756254913, 0.8936832885768102, 0.3875851066549205], [0.0 0.0 … 0.0 0.0; 0.0 0.0 … 0.0 0.0; … ; 0.0 0.0 … 0.0 0.0; 0.0 0.0 … 0.0 0.0], [0.0842083258949004 -0.13734344776173574 … 0.6810873834741078 0.7245458274973234; 0.654170649293844 0.6404565197102593 … -0.21458937311347073 -0.01708478248569522; … ; -0.0005185232565813503 -0.0005096817268162404 … 0.0001648379065611429 1.3170853486150278e-5; -0.00022896025853270672 -0.00023613361700518766 … 0.00010726739593732428 4.128853047117054e-5], [-0.19128769684796482 -0.3747123554179822 … 0.020136248682402335 -0.17076986558341678; 0.8848475469363059 0.8342296353871504 … 0.9023871190041756 0.888440069754182; … ; -0.0002754399097328198 -0.0002595100309605609 … -0.00028046176572682355 -0.00027651975255989415; -0.00011945494537233254 -0.00011254533865245385 … -0.0001216102096573715 -0.00011990056126396093])"
      ]
     },
     "execution_count": 1,
     "metadata": {},
     "output_type": "execute_result"
    }
   ],
   "source": [
    "include(\"sim_times.jl\")\n",
    "jd1=2.4332825e6\n",
    "tref=2430000\n",
    "# @time sim_times(jd1, 30, 30, true)"
   ]
  },
  {
   "cell_type": "markdown",
   "metadata": {},
   "source": [
    "## Fit 2 planets"
   ]
  },
  {
   "cell_type": "code",
   "execution_count": 22,
   "metadata": {
    "tags": []
   },
   "outputs": [
    {
     "name": "stdout",
     "output_type": "stream",
     "text": [
      "Loading.... INPUTS/tt_30sEMB30yrs.txt\n",
      "Initial parameters: [3.0e-6, 224.70077409575646, 3503.7654852567784, 0.01, 0.01, 3.0e-6, 365.25642665702384, 3624.4026384093218, 0.01, 0.01]\n",
      "Initial chi-square: 812.3590569057454\n",
      "New initial 2-planet fit: [2.9380153697129402e-6, 224.70077831626037, 3503.765429099878, 0.03081019305418419, 0.011457500858907978, 3.2595689949612584e-6, 365.25643295059126, 3624.402560434307, 0.038440262285722275, 0.010409974573520126]\n",
      "Finished 2-planet fit: [2.9380153697129402e-6, 224.70077831626037, 3503.765429099878, 0.03081019305418419, 0.011457500858907978, 3.2595689949612584e-6, 365.25643295059126, 3624.402560434307, 0.038440262285722275, 0.010409974573520126] 2\n",
      "New 2-planet chi-square: 582.8973442491646\n",
      "  0.925496 seconds (1.24 M allocations: 64.694 MiB)\n"
     ]
    }
   ],
   "source": [
    "include(\"fit_planet2.jl\")\n",
    "@time fit_planet2(jd1,30,30,2430000,1e-5,true)"
   ]
  },
  {
   "cell_type": "code",
   "execution_count": 23,
   "metadata": {},
   "outputs": [
    {
     "name": "stdout",
     "output_type": "stream",
     "text": [
      "Loading.... INPUTS/tt_30snoEMB30yrs.txt\n",
      "Initial parameters: [3.0e-6, 224.70077409705425, 3503.768807440609, 0.01, 0.01, 3.0e-6, 365.25642931515705, 3624.4078769599423, 0.01, 0.01]\n",
      "Initial chi-square: 1116.9958037616166\n",
      "New initial 2-planet fit: [3.692278422763092e-6, 224.7007779333105, 3503.7687611729925, -0.09146264187762092, -0.051138878438349133, 2.572425291589571e-6, 365.25643886693337, 3624.407756798661, -0.055422768111622764, -0.03932115153591312]\n",
      "Finished 2-planet fit: [3.692278422763092e-6, 224.7007779333105, 3503.7687611729925, -0.09146264187762092, -0.051138878438349133, 2.572425291589571e-6, 365.25643886693337, 3624.407756798661, -0.055422768111622764, -0.03932115153591312] 2\n",
      "New 2-planet chi-square: 646.8498193209612\n",
      "  0.055315 seconds (8.27 k allocations: 1.975 MiB)\n"
     ]
    }
   ],
   "source": [
    "@time fit_planet2(jd1,30,30,2430000,1e-5,false)"
   ]
  },
  {
   "cell_type": "markdown",
   "metadata": {},
   "source": [
    "linear regression of times for each planet as a function of epochs, so find multiples ?"
   ]
  },
  {
   "cell_type": "markdown",
   "metadata": {},
   "source": [
    "## Fit 3 planets"
   ]
  },
  {
   "cell_type": "code",
   "execution_count": null,
   "metadata": {},
   "outputs": [],
   "source": [
    "include(\"fit_planet3.jl\")\n",
    "@time fit_planet3(\"INPUTS/tt_10.0sEMB30.0yrs.txt\", jd1, 10, 30, 2430000, 1e-5, 11.8*365.25, 12.2*365.25, 10,36)"
   ]
  },
  {
   "cell_type": "code",
   "execution_count": 24,
   "metadata": {
    "tags": []
   },
   "outputs": [
    {
     "name": "stdout",
     "output_type": "stream",
     "text": [
      "Planet 2 fit loaded.\n",
      "Finished 3-planet fit w/ fixed period: [2.5636449587818454e-6, 224.70077915499394, 3503.765371309062, -8.47766135727757e-5, 0.006696765903281945, 3.04555823363696e-6, 365.2564445366548, 3624.402316415585, 0.014223771433809894, 0.007967444503650058, 0.0008153343308685443, 4309.949999999998, 398.11271966035935, 0.01782379554006557, -0.04071679533979835] in 20 iterations\n",
      "Finished global 3-planet fit.\n",
      "New 3-planet chi-square: 109.62309162509258\n",
      "Maximum: -183.1848736509426 Param: [2.5422216286956403e-6, 224.70078014615882, 3503.76534735665, -0.0026337842281164846, 0.007070111985469569, 3.025608895705259e-6, 365.2564540131243, 3624.402170771069, 0.012059674661027565, 0.00829727159197438, 0.0007712306397113555, 4210.131993226086, 603.9755048375332, 0.016164431567252818, -0.04249204621169487]\n"
     ]
    },
    {
     "data": {
      "text/plain": [
       "15-element Array{Float64,1}:\n",
       "    2.5422216286956403e-6\n",
       "  224.70078014615882     \n",
       " 3503.76534735665        \n",
       "   -0.0026337842281164846\n",
       "    0.007070111985469569 \n",
       "    3.025608895705259e-6 \n",
       "  365.2564540131243      \n",
       " 3624.402170771069       \n",
       "    0.012059674661027565 \n",
       "    0.00829727159197438  \n",
       "    0.0007712306397113555\n",
       " 4210.131993226086       \n",
       "  603.9755048375332      \n",
       "    0.016164431567252818 \n",
       "   -0.04249204621169487  "
      ]
     },
     "execution_count": 24,
     "metadata": {},
     "output_type": "execute_result"
    }
   ],
   "source": [
    "include(\"fit_planet3.jl\")\n",
    "fit_planet3(jd1,30,30,2430000,1e-5,11.8*365.25,12.2*365.25,10,36,true)"
   ]
  },
  {
   "cell_type": "code",
   "execution_count": 25,
   "metadata": {},
   "outputs": [
    {
     "name": "stdout",
     "output_type": "stream",
     "text": [
      "Planet 2 fit loaded.\n",
      "Finished 3-planet fit w/ fixed period: [3.952659740374452e-6, 224.70077782469306, 3503.7687322283437, -0.06316276127978955, -0.056474200909316374, 2.6701857105107112e-6, 365.2564513292232, 3624.4075023619616, -0.03344929126760719, -0.043254278761422384, 0.0004374762356276606, 4309.949999999998, 1232.4406792403076, -0.0722746772637546, 0.10238680566675712] in 20 iterations\n",
      "Finished global 3-planet fit.\n",
      "New 3-planet chi-square: 216.95718382951577\n",
      "Maximum: -209.8083009567078 Param: [3.9054143218903965e-6, 224.70078008469463, 3503.768675936336, -0.06713129085431972, -0.057465222100601364, 2.6456719043334846e-6, 365.25646164115346, 3624.40734259709, -0.03675516797288188, -0.043738317868158474, 0.00034969118061929096, 4187.244650961268, 1498.0946294769674, -0.1134873127886096, 0.12687238048733113]\n"
     ]
    },
    {
     "data": {
      "text/plain": [
       "15-element Array{Float64,1}:\n",
       "    3.9054143218903965e-6 \n",
       "  224.70078008469463      \n",
       " 3503.768675936336        \n",
       "   -0.06713129085431972   \n",
       "   -0.057465222100601364  \n",
       "    2.6456719043334846e-6 \n",
       "  365.25646164115346      \n",
       " 3624.40734259709         \n",
       "   -0.03675516797288188   \n",
       "   -0.043738317868158474  \n",
       "    0.00034969118061929096\n",
       " 4187.244650961268        \n",
       " 1498.0946294769674       \n",
       "   -0.1134873127886096    \n",
       "    0.12687238048733113   "
      ]
     },
     "execution_count": 25,
     "metadata": {},
     "output_type": "execute_result"
    }
   ],
   "source": [
    "fit_planet3(jd1,30,30,2430000,1e-5,11.8*365.25,12.2*365.25,10,36,false)"
   ]
  },
  {
   "cell_type": "markdown",
   "metadata": {},
   "source": [
    "if we change the linear regression to difference b/w current and first time/period estimate, same $\\chi^2$ values for Hpp and Hppp"
   ]
  },
  {
   "cell_type": "code",
   "execution_count": 31,
   "metadata": {
    "collapsed": true,
    "jupyter": {
     "outputs_hidden": true
    },
    "tags": []
   },
   "outputs": [
    {
     "name": "stdout",
     "output_type": "stream",
     "text": [
      "Parameters from fit: [2.54221325224715e-6, 224.70078014619605, 3503.7653473561827, -0.0026345136279696765, 0.007069730982741328, 3.0256043008594486e-6, 365.25645401372145, 3624.4021707620127, 0.012059105014406485, 0.008297004733231224, 0.0007712456797489318, 4210.127279427517, 4814.116162382293, 0.016166728775144693, -0.04249075208242041]\n",
      "Maximum log Prob from fit: -183.18487363935458\n",
      "Step: 162 Walker: 33 Trial Log Prob: 586.5617613478781 Prob: 0.9790113051688513 Frac: 0.35123097859705554\n",
      "Step: 226 Walker: 20 Trial Log Prob: 593.169074755785 Prob: 0.2592627558700582 Frac: 0.3546583850931677\n",
      "Step: 581 Walker: 32 Trial Log Prob: 591.3243190549445 Prob: 0.13712853404534026 Frac: 0.337420777073574\n",
      "Step: 939 Walker: 38 Trial Log Prob: 592.5082052528968 Prob: 0.8463547471673809 Frac: 0.3312028633516554\n",
      "Number of steps: 1000 Acceptance Rate: 0.33046\n",
      "Step: 1030 Walker: 34 Trial Log Prob: 564.4449645476251 Prob: 1.655028694020864e-8 Frac: 0.3086253369272237\n",
      "Step: 1177 Walker: 20 Trial Log Prob: 589.855403617459 Prob: 2.3499159399013236 Frac: 0.31700680272108844\n",
      "Step: 1186 Walker: 47 Trial Log Prob: 569.7114652262411 Prob: 0.000201183125450111 Frac: 0.31623104227170057\n",
      "Step: 1277 Walker: 10 Trial Log Prob: 570.6260607917166 Prob: 0.0001499560482618331 Frac: 0.3140477914554671\n",
      "Step: 1355 Walker: 34 Trial Log Prob: 589.0123227180517 Prob: 1.4270847105936164 Frac: 0.3094620502988609\n",
      "Step: 1711 Walker: 40 Trial Log Prob: 584.2000112236335 Prob: 0.9709574688471836 Frac: 0.30984805852560493\n",
      "Step: 1861 Walker: 33 Trial Log Prob: 587.2185279621305 Prob: 0.32070328452070307 Frac: 0.3106685566890526\n",
      "Step: 1926 Walker: 28 Trial Log Prob: 574.595408157946 Prob: 0.00011545441280444607 Frac: 0.31075240935217596\n",
      "Number of steps: 2000 Acceptance Rate: 0.31068\n",
      "Step: 2413 Walker: 23 Trial Log Prob: 593.1852944080171 Prob: 0.931693345762177 Frac: 0.31047859186345345\n",
      "Step: 2440 Walker: 42 Trial Log Prob: 591.2704881637071 Prob: 0.0003934532356827457 Frac: 0.30856675154601676\n",
      "Step: 2544 Walker: 26 Trial Log Prob: 592.7925227020158 Prob: 0.17554849386182228 Frac: 0.3103841624963203\n",
      "Step: 2947 Walker: 43 Trial Log Prob: 590.6728684174568 Prob: 3.01378175636015 Frac: 0.3070570094839786\n",
      "Number of steps: 3000 Acceptance Rate: 0.3071\n",
      "Step: 3381 Walker: 36 Trial Log Prob: 593.5426165759577 Prob: 0.00015074278960519792 Frac: 0.31261819710023114\n",
      "Step: 3479 Walker: 34 Trial Log Prob: 526.798799481341 Prob: 9.804229330997428e-22 Frac: 0.31156513746135206\n",
      "Step: 3586 Walker: 18 Trial Log Prob: 576.7544757376145 Prob: 0.0023062798926157895 Frac: 0.3100656006560066\n",
      "Step: 3609 Walker: 30 Trial Log Prob: 591.1419479409417 Prob: 0.2607201957319266 Frac: 0.31041735129806114\n",
      "Step: 3664 Walker: 16 Trial Log Prob: 593.0898245092643 Prob: 1.2778971624651692 Frac: 0.30971476813604293\n",
      "Step: 3684 Walker: 1 Trial Log Prob: 563.5922323954181 Prob: 3.5546248162401556e-7 Frac: 0.3095663377353518\n",
      "Step: 3702 Walker: 43 Trial Log Prob: 580.0702458039467 Prob: 0.0020946489989943024 Frac: 0.3100048442709372\n",
      "Step: 3875 Walker: 6 Trial Log Prob: 562.1252418418217 Prob: 1.2060647088756278e-6 Frac: 0.3104379261428637\n",
      "Step: 3954 Walker: 13 Trial Log Prob: 590.137530176755 Prob: 0.11480894852952049 Frac: 0.3115204666093196\n",
      "Step: 3955 Walker: 14 Trial Log Prob: 576.2582597151196 Prob: 0.0001620525090623023 Frac: 0.3115856981179528\n",
      "Number of steps: 4000 Acceptance Rate: 0.31226\n",
      "Step: 4034 Walker: 19 Trial Log Prob: 585.9069147551263 Prob: 0.3714238600976948 Frac: 0.31935290593169563\n",
      "Step: 4495 Walker: 29 Trial Log Prob: 594.5653703045282 Prob: 0.10924202559815248 Frac: 0.3095960208661895\n",
      "Number of steps: 5000 Acceptance Rate: 0.3087\n",
      "Step: 5036 Walker: 43 Trial Log Prob: 591.5173070052803 Prob: 0.026830297859482273 Frac: 0.29392080312325713\n",
      "Step: 5054 Walker: 30 Trial Log Prob: 590.4003327333912 Prob: 1.0847864269631575 Frac: 0.29701492537313434\n",
      "Step: 5794 Walker: 35 Trial Log Prob: 577.159961684248 Prob: 0.011047943916791496 Frac: 0.3085800680357818\n",
      "Step: 5804 Walker: 43 Trial Log Prob: 568.4326212445899 Prob: 1.0903284527520365e-8 Frac: 0.3082128728883139\n",
      "Step: 5847 Walker: 49 Trial Log Prob: 569.8535152824159 Prob: 1.0669000259152802e-5 Frac: 0.3077522491676309\n",
      "Step: 5895 Walker: 30 Trial Log Prob: 586.6042842882539 Prob: 0.8559957099546699 Frac: 0.3070869662418958\n",
      "Number of steps: 6000 Acceptance Rate: 0.30632\n",
      "Step: 6112 Walker: 21 Trial Log Prob: 557.8208725587727 Prob: 1.0477688790634025e-11 Frac: 0.29007359540477473\n",
      "Step: 6699 Walker: 14 Trial Log Prob: 565.5279184195571 Prob: 1.2506265701012369e-9 Frac: 0.30546485650455407\n",
      "Step: 6741 Walker: 1 Trial Log Prob: 592.7354739984337 Prob: 0.07572843143769549 Frac: 0.30553228291127266\n",
      "Number of steps: 7000 Acceptance Rate: 0.30698\n",
      "Step: 7351 Walker: 25 Trial Log Prob: 592.410432691561 Prob: 0.10990443649468706 Frac: 0.3204564907275321\n",
      "Step: 7498 Walker: 2 Trial Log Prob: 592.3984303840376 Prob: 0.005449777964316298 Frac: 0.3185659101883148\n",
      "Step: 7597 Walker: 36 Trial Log Prob: 594.9206182217961 Prob: 0.003686718930211212 Frac: 0.317971577959512\n",
      "Step: 7604 Walker: 49 Trial Log Prob: 587.6620324087156 Prob: 1.3704309058597436e-5 Frac: 0.3176595251498394\n",
      "Step: 7725 Walker: 6 Trial Log Prob: 589.6944442389961 Prob: 0.25467602505391335 Frac: 0.32014030823620393\n",
      "Step: 7923 Walker: 29 Trial Log Prob: 586.3283171745078 Prob: 23.61181710353967 Frac: 0.32005896507619935\n",
      "Number of steps: 8000 Acceptance Rate: 0.31834\n",
      "Step: 8013 Walker: 5 Trial Log Prob: 584.3381128692989 Prob: 0.03271504361867998 Frac: 0.32231404958677684\n",
      "Step: 8038 Walker: 6 Trial Log Prob: 563.0714784924611 Prob: 1.414531869621601e-9 Frac: 0.3151939655172414\n",
      "Step: 8183 Walker: 20 Trial Log Prob: 572.1396935314127 Prob: 0.0016318893689945479 Frac: 0.30953947368421053\n",
      "Step: 8558 Walker: 26 Trial Log Prob: 594.7927039500613 Prob: 0.00969029321450762 Frac: 0.31514564499928255\n",
      "Step: 8983 Walker: 14 Trial Log Prob: 592.8425660709028 Prob: 0.02884837770585252 Frac: 0.31455389501974995\n",
      "Number of steps: 9000 Acceptance Rate: 0.31428\n",
      "Step: 9275 Walker: 24 Trial Log Prob: 585.8999247825262 Prob: 2.9976542455121424 Frac: 0.3033372194695424\n",
      "Step: 9278 Walker: 19 Trial Log Prob: 579.907329170102 Prob: 0.03435857028059257 Frac: 0.3037710000721032\n",
      "Step: 9291 Walker: 25 Trial Log Prob: 586.1881923161061 Prob: 0.2807175179870163 Frac: 0.30354561101549055\n",
      "Step: 9432 Walker: 21 Trial Log Prob: 574.7338730928284 Prob: 0.447016761250362 Frac: 0.30327754856056743\n",
      "Step: 9435 Walker: 45 Trial Log Prob: 583.9220797527785 Prob: 0.09457110257630554 Frac: 0.3029661991262359\n",
      "Step: 9532 Walker: 12 Trial Log Prob: 581.4754214624949 Prob: 0.0029839510437306522 Frac: 0.3017468564114148\n",
      "Step: 9533 Walker: 4 Trial Log Prob: 589.5005075608003 Prob: 0.0014126419359511333 Frac: 0.30164636896707264\n",
      "Step: 9533 Walker: 39 Trial Log Prob: 576.9399111453471 Prob: 0.003331684365117526 Frac: 0.3015878974435977\n",
      "Step: 9766 Walker: 7 Trial Log Prob: 583.8817251339987 Prob: 8.234068821923984e-6 Frac: 0.3064537208876807\n",
      "Step: 9900 Walker: 15 Trial Log Prob: 591.3563679882541 Prob: 0.0008143787506066857 Frac: 0.3072834426776382\n",
      "Step: 9968 Walker: 20 Trial Log Prob: 520.9641982277133 Prob: 1.862242430538405e-24 Frac: 0.30775273930121977\n",
      "Number of steps: 10000 Acceptance Rate: 0.30828\n",
      "Step: 10170 Walker: 42 Trial Log Prob: 581.2729744555475 Prob: 1.0054600903363546 Frac: 0.31323598681111636\n",
      "Step: 10475 Walker: 46 Trial Log Prob: 559.2314608065784 Prob: 3.940976504153289e-10 Frac: 0.31681125242146047\n",
      "Step: 10725 Walker: 27 Trial Log Prob: 579.2256372894151 Prob: 0.0035136010708104425 Frac: 0.3166422833797996\n",
      "Number of steps: 11000 Acceptance Rate: 0.31554\n",
      "Step: 11222 Walker: 30 Trial Log Prob: 589.74911995857 Prob: 1.0311268168358099 Frac: 0.3121841155234657\n",
      "Step: 11372 Walker: 10 Trial Log Prob: -Inf Prob: 0.0 Frac: 0.3107219827586207\n",
      "Step: 11489 Walker: 24 Trial Log Prob: 580.661814344379 Prob: 0.18764324951845124 Frac: 0.3072387815263675\n",
      "Step: 11747 Walker: 24 Trial Log Prob: 588.5783509118407 Prob: 0.036174589373698975 Frac: 0.30543350123245094\n",
      "Number of steps: 12000 Acceptance Rate: 0.30792\n",
      "Step: 12014 Walker: 2 Trial Log Prob: 578.5650804890571 Prob: 0.017029843480307765 Frac: 0.3205521472392638\n",
      "Step: 12048 Walker: 14 Trial Log Prob: 557.8247782328293 Prob: 2.1268435311558578e-10 Frac: 0.3164128595600677\n",
      "Step: 12075 Walker: 35 Trial Log Prob: 567.8250797001299 Prob: 1.6756543445278378e-6 Frac: 0.3172690763052209\n",
      "Step: 12498 Walker: 3 Trial Log Prob: -Inf Prob: 0.0 Frac: 0.31090813986239085\n",
      "Step: 12642 Walker: 3 Trial Log Prob: 574.2188996307616 Prob: 3.575843345619362e-5 Frac: 0.31295042585717403\n",
      "Step: 12732 Walker: 38 Trial Log Prob: 566.3098381757897 Prob: 1.6416203789195384e-6 Frac: 0.31234284464851864\n",
      "Step: 12887 Walker: 5 Trial Log Prob: 589.5187061290144 Prob: 1.327027196012833 Frac: 0.31445660760636496\n",
      "Step: 12894 Walker: 30 Trial Log Prob: 566.4863991573183 Prob: 1.2576195538422014e-6 Frac: 0.314816472694718\n",
      "Number of steps: 13000 Acceptance Rate: 0.31406\n",
      "Step: 13030 Walker: 2 Trial Log Prob: 588.8009991431229 Prob: 0.5400121391021097 Frac: 0.3174931129476584\n",
      "Step: 13062 Walker: 13 Trial Log Prob: 595.0595524453437 Prob: 0.0009363135724696243 Frac: 0.31668299053215804\n",
      "Step: 13066 Walker: 25 Trial Log Prob: 591.1913225578301 Prob: 0.2006842082612696 Frac: 0.3190839694656489\n",
      "Step: 13100 Walker: 38 Trial Log Prob: 575.8608085208047 Prob: 0.0028529860199300325 Frac: 0.3111467522052927\n",
      "Step: 13109 Walker: 1 Trial Log Prob: -Inf Prob: 0.0 Frac: 0.31160896130346233\n",
      "Step: 13245 Walker: 28 Trial Log Prob: 578.0438292004603 Prob: 0.013315853994286753 Frac: 0.3064278704612365\n",
      "Step: 13415 Walker: 1 Trial Log Prob: 591.3365870918537 Prob: 1.0212875400827746 Frac: 0.30766629631418774\n",
      "Number of steps: 14000 Acceptance Rate: 0.30846\n",
      "Step: 14231 Walker: 33 Trial Log Prob: 593.9708474202663 Prob: 0.029951016327531797 Frac: 0.31431544264285094\n",
      "Step: 14294 Walker: 24 Trial Log Prob: 593.9201477418143 Prob: 0.001838621666157582 Frac: 0.3138885102903094\n",
      "Step: 14523 Walker: 17 Trial Log Prob: 588.0310297079765 Prob: 0.9110445302954394 Frac: 0.311329785197381\n",
      "Step: 14755 Walker: 7 Trial Log Prob: 590.5665300858233 Prob: 1.074947736054998 Frac: 0.31100326199379424\n",
      "Number of steps: 15000 Acceptance Rate: 0.31122\n",
      "Step: 15844 Walker: 15 Trial Log Prob: 593.5426023090313 Prob: 0.10146080010561914 Frac: 0.32043163761413496\n",
      "Number of steps: 16000 Acceptance Rate: 0.32158\n",
      "Step: 16082 Walker: 38 Trial Log Prob: 592.0433237096887 Prob: 1.0005719593274545 Frac: 0.30528375733855184\n",
      "Step: 16502 Walker: 42 Trial Log Prob: -Inf Prob: 0.0 Frac: 0.30236728837876614\n",
      "Step: 16505 Walker: 30 Trial Log Prob: 583.5602889052748 Prob: 1.060924598649093 Frac: 0.3025366627031312\n",
      "Step: 16511 Walker: 10 Trial Log Prob: 584.9139837830184 Prob: 1.044551667653694 Frac: 0.3029008232065857\n",
      "Number of steps: 17000 Acceptance Rate: 0.30514\n",
      "Step: 17083 Walker: 20 Trial Log Prob: 593.9554981771641 Prob: 0.013436099243893102 Frac: 0.31213592233009707\n",
      "Step: 17453 Walker: 3 Trial Log Prob: 592.9578302558837 Prob: 0.28556417277372476 Frac: 0.31093217714462684\n",
      "Step: 17734 Walker: 19 Trial Log Prob: 585.7737458144477 Prob: 0.09336976433488696 Frac: 0.3081622078594998\n",
      "Step: 17884 Walker: 15 Trial Log Prob: 590.1207304089367 Prob: 0.7238176165956484 Frac: 0.3083889958111627\n",
      "Step: 17936 Walker: 8 Trial Log Prob: 591.8612350467594 Prob: 0.6277083725248039 Frac: 0.3086530647161983\n",
      "Number of steps: 18000 Acceptance Rate: 0.30876\n",
      "Step: 18113 Walker: 11 Trial Log Prob: 589.8661363763932 Prob: 40.32866087346251 Frac: 0.31865977544109786\n",
      "Step: 18225 Walker: 21 Trial Log Prob: 592.7802690434847 Prob: 0.009511184662442529 Frac: 0.3116478032260939\n",
      "Step: 18504 Walker: 35 Trial Log Prob: 583.7618696426042 Prob: 1.890377438909183 Frac: 0.31205082390311695\n",
      "Step: 18508 Walker: 43 Trial Log Prob: 587.0717393242458 Prob: 1.252564173274285 Frac: 0.3116606938920175\n",
      "Step: 18618 Walker: 47 Trial Log Prob: 591.8989299738587 Prob: 0.007747478583156708 Frac: 0.31242515454574876\n",
      "Step: 18816 Walker: 47 Trial Log Prob: 592.4756713151845 Prob: 0.008211836784417562 Frac: 0.31458195455548205\n",
      "Number of steps: 19000 Acceptance Rate: 0.31394\n",
      "Step: 19032 Walker: 42 Trial Log Prob: 593.4352278766191 Prob: 0.007742976780488442 Frac: 0.30778894472361806\n",
      "Step: 19066 Walker: 40 Trial Log Prob: 593.21334396086 Prob: 0.12979796785268313 Frac: 0.31975683890577505\n",
      "Step: 19170 Walker: 34 Trial Log Prob: 580.996832554794 Prob: 0.18509454497779457 Frac: 0.3082272512965582\n",
      "Step: 19377 Walker: 16 Trial Log Prob: 584.6743031853734 Prob: 1.5114191944230342 Frac: 0.3091517857142857\n",
      "Step: 19630 Walker: 40 Trial Log Prob: 555.0689043107391 Prob: 2.450761083949406e-11 Frac: 0.30832010161956175\n",
      "Step: 19651 Walker: 38 Trial Log Prob: 592.4445188806945 Prob: 1.0696636544537235 Frac: 0.30929989550679204\n",
      "Step: 19849 Walker: 35 Trial Log Prob: 566.1191765356936 Prob: 3.362510157495789e-7 Frac: 0.31200659832685285\n",
      "Number of steps: 20000 Acceptance Rate: 0.31258\n",
      "Step: 20059 Walker: 27 Trial Log Prob: 577.5125074096092 Prob: 0.00026987621161841545 Frac: 0.31294841134267165\n",
      "Step: 20210 Walker: 28 Trial Log Prob: 587.5427135560872 Prob: 1.493595654764703 Frac: 0.3087421263599924\n",
      "Step: 20528 Walker: 39 Trial Log Prob: 591.4973441426407 Prob: 0.031347941995714154 Frac: 0.3057713441206563\n",
      "Step: 20564 Walker: 49 Trial Log Prob: 587.8863008736602 Prob: 0.7845575654215188 Frac: 0.30515266498812016\n",
      "Step: 20638 Walker: 37 Trial Log Prob: 578.5992699814225 Prob: 0.15013651603485015 Frac: 0.30642581616332676\n",
      "Step: 20772 Walker: 28 Trial Log Prob: 589.6954161247681 Prob: 0.9949430056694591 Frac: 0.3062885582456322\n",
      "Step: 20788 Walker: 30 Trial Log Prob: 592.8178998780248 Prob: 0.3095798973407874 Frac: 0.3058659217877095\n",
      "Number of steps: 21000 Acceptance Rate: 0.30716\n",
      "Step: 21112 Walker: 3 Trial Log Prob: 590.3925599394205 Prob: 6.0970346070327865 Frac: 0.30001800828381053\n",
      "Step: 21358 Walker: 37 Trial Log Prob: 587.2093783368537 Prob: 0.12632663118568252 Frac: 0.30329289428076256\n",
      "Step: 21961 Walker: 6 Trial Log Prob: 590.3996588719242 Prob: 0.008192773182938881 Frac: 0.30437861933924926\n",
      "Number of steps: 22000 Acceptance Rate: 0.3047\n",
      "Step: 22293 Walker: 26 Trial Log Prob: 579.0783685506881 Prob: 1.2664538776665761 Frac: 0.30213318747436074\n",
      "Step: 22507 Walker: 10 Trial Log Prob: 569.108017771536 Prob: 8.01917856488315e-5 Frac: 0.3098380086922165\n",
      "Number of steps: 23000 Acceptance Rate: 0.31298\n",
      "Step: 23197 Walker: 31 Trial Log Prob: 404.59896307432774 Prob: 1.2635862627951204e-76 Frac: 0.32133048519987795\n",
      "Step: 23533 Walker: 2 Trial Log Prob: 583.6151327955962 Prob: 0.17205038692537217 Frac: 0.309525599578979\n",
      "Step: 23538 Walker: 49 Trial Log Prob: 579.0956477853944 Prob: 0.0010812809498799384 Frac: 0.3089705937023681\n",
      "Step: 23571 Walker: 17 Trial Log Prob: 583.854629789614 Prob: 1.0671917217062508 Frac: 0.3089385278956412\n",
      "Step: 23742 Walker: 16 Trial Log Prob: 587.4565402323595 Prob: 1.0694364889522934 Frac: 0.308584686774942\n",
      "Step: 23890 Walker: 47 Trial Log Prob: 587.412868207808 Prob: 2.3516931058291246 Frac: 0.30999842686023776\n",
      "Number of steps: 24000 Acceptance Rate: 0.31024\n",
      "Step: 24012 Walker: 19 Trial Log Prob: 592.7718186600594 Prob: 0.40907081947186696 Frac: 0.36731107205623903\n",
      "Step: 24216 Walker: 41 Trial Log Prob: 580.9231883137963 Prob: 0.024922969751977164 Frac: 0.3253637290334538\n",
      "Step: 24259 Walker: 19 Trial Log Prob: 518.8447934065265 Prob: 2.263670593501053e-26 Frac: 0.32378667079495316\n",
      "Step: 24373 Walker: 26 Trial Log Prob: 589.3906778745968 Prob: 0.21451650196722147 Frac: 0.32057339203264257\n",
      "Step: 24397 Walker: 29 Trial Log Prob: 580.108398306481 Prob: 0.04786318080258961 Frac: 0.3202884663876141\n",
      "Step: 24416 Walker: 33 Trial Log Prob: 592.6125808298218 Prob: 0.013136775752625342 Frac: 0.32021363614492615\n",
      "Step: 24473 Walker: 4 Trial Log Prob: 587.176349549237 Prob: 0.0004196493531208557 Frac: 0.32121674292492797\n",
      "Step: 24649 Walker: 26 Trial Log Prob: 594.0732812067448 Prob: 0.07241901305012842 Frac: 0.3198976130265836\n",
      "Number of steps: 25000 Acceptance Rate: 0.32064\n",
      "Step: 25549 Walker: 6 Trial Log Prob: 591.7267649643459 Prob: 0.14108775827380513 Frac: 0.304531854338466\n",
      "Step: 25555 Walker: 11 Trial Log Prob: 574.0241647034387 Prob: 0.0009393225506729582 Frac: 0.3041391505178449\n",
      "Number of steps: 26000 Acceptance Rate: 0.30832\n",
      "Step: 26064 Walker: 19 Trial Log Prob: 594.5518145929148 Prob: 1.234129779574312 Frac: 0.3183969706532029\n",
      "Step: 26068 Walker: 23 Trial Log Prob: 593.2715390423356 Prob: 0.16874576686229317 Frac: 0.31841091016898904\n",
      "Step: 26310 Walker: 30 Trial Log Prob: 590.1702980245383 Prob: 0.3323458836635234 Frac: 0.31020671834625324\n",
      "Step: 26695 Walker: 49 Trial Log Prob: 582.1741231698146 Prob: 0.06224979329048828 Frac: 0.30921753143975367\n",
      "Number of steps: 27000 Acceptance Rate: 0.31182\n",
      "Step: 27021 Walker: 18 Trial Log Prob: 569.2050098956362 Prob: 2.4130093023865728e-5 Frac: 0.30353634577603145\n",
      "Step: 27363 Walker: 22 Trial Log Prob: 582.3126714023637 Prob: 0.5968624761452612 Frac: 0.30233969760512086\n",
      "Step: 27479 Walker: 13 Trial Log Prob: 574.9834505372459 Prob: 0.009812492004225052 Frac: 0.3020532764605027\n",
      "Step: 27593 Walker: 20 Trial Log Prob: 590.0050499082948 Prob: 0.972964321629614 Frac: 0.3034773801485483\n",
      "Step: 27780 Walker: 42 Trial Log Prob: 569.8325762120767 Prob: 1.3120043654289708e-10 Frac: 0.30426754205990975\n",
      "Step: 27803 Walker: 1 Trial Log Prob: 581.8388121644792 Prob: 1.263387781657844 Frac: 0.3041071294980175\n",
      "Step: 27979 Walker: 29 Trial Log Prob: 583.3047776988407 Prob: 0.9356872680144463 Frac: 0.3016207157309571\n",
      "Number of steps: 28000 Acceptance Rate: 0.30184\n",
      "Step: 28260 Walker: 35 Trial Log Prob: 579.9838014094114 Prob: 0.009093058070787944 Frac: 0.29772814786291874\n",
      "Step: 28492 Walker: 15 Trial Log Prob: 585.5432339158098 Prob: 0.26821826971256163 Frac: 0.30295135355180136\n",
      "Step: 28712 Walker: 2 Trial Log Prob: 583.6296221870249 Prob: 0.2650301795042903 Frac: 0.307746399639964\n",
      "Step: 28725 Walker: 4 Trial Log Prob: 592.1922646355652 Prob: 0.4467676027611612 Frac: 0.30822561042978674\n",
      "Step: 28783 Walker: 10 Trial Log Prob: 591.2251745405829 Prob: 0.5355315075370469 Frac: 0.3088979800562516\n",
      "Step: 28961 Walker: 19 Trial Log Prob: 565.2220629583059 Prob: 7.734847671234358e-9 Frac: 0.31073116891230557\n",
      "Step: 28991 Walker: 40 Trial Log Prob: 533.7242983363498 Prob: 2.80455388550295e-18 Frac: 0.3099919257165927\n",
      "Number of steps: 29000 Acceptance Rate: 0.3102\n",
      "Step: 29493 Walker: 46 Trial Log Prob: 591.01658790192 Prob: 0.20533136457010925 Frac: 0.31376288241499634\n",
      "Step: 29581 Walker: 15 Trial Log Prob: 592.8459191644422 Prob: 0.776206570273011 Frac: 0.3126658624849216\n",
      "Step: 29893 Walker: 47 Trial Log Prob: 586.7220342540377 Prob: 0.00013726005802614896 Frac: 0.31386207359956997\n",
      "Number of steps: 30000 Acceptance Rate: 0.31274\n",
      "Burn-in Number (ends): 1593\n",
      "Independent Sample Size: 3646.8274718140865\n",
      "553.618236 seconds (58.52 M allocations: 149.548 GiB, 4.77% gc time)\n"
     ]
    },
    {
     "data": {
      "text/plain": [
       "([261.40962620366923 261.40962620366923 … 587.3133642839996 587.3133642839996; 530.0953722499949 571.5066146812817 … 578.9288290374619 578.9288290374619; … ; 465.88190073571843 465.88190073571843 … 582.4790641314206 582.4790641314206; 524.4783809614005 524.4783809614005 … 578.9911171836528 585.2210156932359], [2.624694135852547e-6 2.624694135852547e-6 … 2.5485862579306724e-6 2.5485862579306724e-6; 2.692456797303937e-6 2.6580157682935344e-6 … 2.797317394423565e-6 2.797317394423565e-6; … ; 2.5244502003874137e-6 2.5244502003874137e-6 … 2.703685061481847e-6 2.703685061481847e-6; 2.605889072635306e-6 2.605889072635306e-6 … 2.4508320231287195e-6 2.482890889534182e-6]\n",
       "\n",
       "[224.70074486591747 224.70074486591747 … 224.7007876542615 224.7007876542615; 224.70077931269861 224.70077596943278 … 224.7007803743838 224.7007803743838; … ; 224.70079130743656 224.70079130743656 … 224.700785362572 224.700785362572; 224.7007770549155 224.7007770549155 … 224.70078305117192 224.70078456077235]\n",
       "\n",
       "[3503.7653541998056 3503.7653541998056 … 3503.765200874915 3503.765200874915; 3503.765350522131 3503.765353249677 … 3503.7653544706523 3503.7653544706523; … ; 3503.765341947777 3503.765341947777 … 3503.765255410944 3503.765255410944; 3503.7653543830797 3503.7653543830797 … 3503.7654416458163 3503.7653626841]\n",
       "\n",
       "...\n",
       "\n",
       "[0.03965607044558081 0.03965607044558081 … -0.035202252008073476 -0.035202252008073476; 0.032482999883284194 0.028809026766903657 … 0.021038782569214678 0.021038782569214678; … ; 0.021050735912974024 0.021050735912974024 … -0.022829224870299838 -0.022829224870299838; 0.009017795875005128 0.009017795875005128 … -0.04215898478584458 -0.0398774982886825]\n",
       "\n",
       "[-0.04867896471934276 -0.04867896471934276 … -0.0381151023889299 -0.0381151023889299; -0.04803377682475093 -0.04730563651530545 … -0.017028653007239453 -0.017028653007239453; … ; -0.04728918305864166 -0.04728918305864166 … -0.021770752382104845 -0.021770752382104845; -0.0344878343291644 -0.0344878343291644 … -0.01966416364507408 -0.0257152179185083]\n",
       "\n",
       "[1.0135757204440095e-8 1.0135757204440095e-8 … 5.1968170815150495e-8 5.1968170815150495e-8; 8.92194139317079e-9 7.137276390585733e-9 … 2.4818397097569915e-7 2.4818397097569915e-7; … ; 4.833305663774676e-9 4.833305663774676e-9 … 9.313252549616646e-8 9.313252549616646e-8; 8.271631969175285e-9 8.271631969175285e-9 … 1.4376790986883167e-7 1.13661842583453e-7])"
      ]
     },
     "execution_count": 31,
     "metadata": {},
     "output_type": "execute_result"
    }
   ],
   "source": [
    "include(\"MCMC.jl\")\n",
    "foutput=string(\"MCMC/fromEMB/p\",3,\"_mcmc\",30,\"s\",30,\"yrs.jld2\")\n",
    "p=jldopen(\"FITS/fromEMB/p3_fit30s30yrs.jld2\",\"r\")\n",
    "@time MCMC(foutput,p[string(\"best_p\",3)],p[string(\"lprob_best_p\",3)],30000,50,3,p[\"ntrans\"][1:3],p[\"tt0\"],p[\"tt\"],p[\"sigtt\"],true,true)"
   ]
  },
  {
   "cell_type": "markdown",
   "metadata": {},
   "source": [
    "do we still need the 'offset' to find the period of Jupiter? if we remove offset but use $t_{ref}$, better $\\chi^2$ for 3 planet fit. tt03 = 4814 $\\pm$ 121"
   ]
  },
  {
   "cell_type": "code",
   "execution_count": 32,
   "metadata": {
    "collapsed": true,
    "jupyter": {
     "outputs_hidden": true
    },
    "tags": []
   },
   "outputs": [
    {
     "name": "stdout",
     "output_type": "stream",
     "text": [
      "           Fitted posterior params from MCMC/fromEMB/p3_mcmc30s30yrs.jld2\n",
      "mu_1 : 2.529038376651206e-6 ± 1.9611606412778127e-7\n",
      "P_1 : 224.7007802312939 ± 4.749691282173153e-6\n",
      "t01 : 3503.765347501121 ± 0.0001310590942354943\n",
      "ecos1 : -0.0011858630275512192 ± 0.008104371259317247\n",
      "esin1 : 0.0018912254339806687 ± 0.007463733515632816\n",
      "mu_2 : 3.026813971598201e-6 ± 1.3530417968053067e-7\n",
      "P_2 : 365.2564540115299 ± 1.0887394869286367e-5\n",
      "t02 : 3624.4021725517796 ± 0.00018454567452965817\n",
      "ecos2 : 0.013126057376832518 ± 0.006445751275915976\n",
      "esin2 : 0.0038994678940335805 ± 0.005984511798947203\n",
      "mu_3 : 0.0007113520401687964 ± 0.00014890925510291573\n",
      "P_3 : 4206.631320943575 ± 59.530644269238906\n",
      "t03 : 4884.7532284952 ± 120.79225586427994\n",
      "ecos3 : -0.003099120867400717 ± 0.03284892967328922\n",
      "esin3 : -0.036708557253105935 ± 0.020765166885683257\n",
      "esin3 : 9.417772829139751e-8 ± 3.9369347649825103e-8\n",
      "Derived Parameters\n",
      "mu_1 * M_star: 0.8419629419987807 ± 0.06529061000050662\n",
      "ecc : 0.008854518442091562 ± 0.006925937317994804\n",
      "mu_2 * M_star: 1.0076815045346812 ± 0.045045225980081184\n",
      "ecc : 0.014989437103929347 ± 0.00633861753286949\n",
      "mu_3 * M_star: 236.82205144329325 ± 49.5746034045213\n",
      "ecc : 0.04647320397402429 ± 0.02660089866033121\n",
      " lprob: 588.3807525216896 ± 3.3875397643794836\n"
     ]
    }
   ],
   "source": [
    "include(\"print_vals.jl\")\n",
    "print_vals(30,30,\"EMB\",\"p3\")"
   ]
  },
  {
   "cell_type": "markdown",
   "metadata": {},
   "source": [
    "### Fit 3 planets with moon"
   ]
  },
  {
   "cell_type": "code",
   "execution_count": 7,
   "metadata": {
    "collapsed": true,
    "jupyter": {
     "outputs_hidden": true
    },
    "tags": []
   },
   "outputs": [
    {
     "name": "stdout",
     "output_type": "stream",
     "text": [
      "Initial parameters: [3.0e-6, 224.70077409575646, 3503.7654852567784, 0.01, 0.01, 3.0e-6, 365.25642665702384, 3624.4026384093218, 0.01, 0.01]\n",
      "Initial chi-square: 812.3590569057454\n",
      "Finished 2-planet fit in 2 iterations.\n",
      "New 2-planet chi-square: 582.8973442491646\n",
      "Param: [2.9380153697129402e-6, 224.70077831626037, 3503.765429099878, 0.03081019305418419, 0.011457500858907978, 3.2595689949612584e-6, 365.25643295059126, 3624.402560434307, 0.038440262285722275, 0.010409974573520126]\n",
      "Period: 4017.7500000000005 log Prob: -189.46601221816414 Param: [2.5291201524506193e-6, 224.700781748719, 3503.765315553172, -0.007524154721604066, 0.010310348089924117, 2.9904249311384083e-6, 365.2564682064298, 3624.401973096343, 0.007758608735543599, 0.010430703981311303, 0.0006103586520948597, 4017.7500000000005, 972.8355592397501, -0.002904010437680954, -0.05281346533802197]\n",
      "Period: 4056.781702757627 log Prob: -187.20238046950385 Param: [2.5281086994377596e-6, 224.70078146708605, 3503.765320065127, -0.006599849725811015, 0.009711242703153133, 2.9973746702777896e-6, 365.256465948805, 3624.402000797486, 0.00856714042230036, 0.010067341880232419, 0.000649377787207032, 4056.781702757627, 4956.402230292721, 0.0031396536154964395, -0.05011003220554601]\n",
      "Period: 4096.192591333222 log Prob: -185.41418601543853 Param: [2.5292991591729155e-6, 224.70078116161716, 3503.765325638571, -0.0056084236722740485, 0.008976156759774296, 3.0045280766476537e-6, 365.2564633118458, 3624.402035801624, 0.009440883635004069, 0.009592727120021039, 0.000685674904515442, 4096.192591333222, 4921.611735122075, 0.007913764596674156, -0.0476433840410263]\n",
      "Period: 4135.986349447318 log Prob: -184.13326215635314 Param: [2.5323193064726967e-6, 224.70078082848644, 3503.76533232898, -0.004576770011152452, 0.008210885620231204, 3.0118015531216205e-6, 365.25646032261517, 3624.402077713823, 0.010353246056765372, 0.009082582696305287, 0.0007190378407835929, 4135.986349447318, 4885.546652823912, 0.011639524093089448, -0.045480120068793047]\n",
      "Period: 4176.166696607103 log Prob: -183.3847410623799 Param: [2.5370173871897092e-6, 224.70078046755515, 3503.7653400972836, -0.003523372758538276, 0.007522752329747266, 3.0192185788636095e-6, 365.256457010112, 3624.4021259824267, 0.01128213551046753, 0.00861360461426161, 0.0007490656511201146, 4176.166696607103, 4847.607592260885, 0.014454776924826593, -0.04368456020533286]\n",
      "Period: 4216.737388454095 log Prob: -183.19247695685576 Param: [2.543357938406538e-6, 224.7007800822674, 3503.7653488324368, -0.002461915561507995, 0.006999212661053815, 3.0268677044292813e-6, 365.25645341257757, 3624.4021798423655, 0.012208869733820961, 0.008246568619797686, 0.0007751750589424476, 4216.737388454095, 4807.434005615941, 0.016429932218499664, -0.04229488134532674]\n",
      "Period: 4257.702217115189 log Prob: -183.57934879789877 Param: [2.5513357205631825e-6, 224.70077967873988, 3503.7653583769907, -0.0014036088965117984, 0.006703792209843927, 3.0348579772389144e-6, 365.2564495833558, 3624.4022382697467, 0.013117835654032092, 0.008023411007976928, 0.0007965735788720952, 4257.702217115189, 4764.884027738413, 0.017583474357286907, -0.04133082204580161]\n",
      "Period: 4299.065011557085 log Prob: -184.56048514940517 Param: [2.5608832735226847e-6, 224.70077926431966, 3503.765368560046, -0.0003576778043940682, 0.006664828748926994, 3.0432703403439154e-6, 365.25644559520424, 3624.402299940741, 0.013997588250231983, 0.007959056038619239, 0.0008123167479713188, 4299.065011557085, 421.03485143835934, 0.017893257888165967, -0.04078921222306382]\n",
      "Period: 4340.82963794419 log Prob: -186.1311184591181 Param: [2.572031110106982e-6, 224.7007788460194, 3503.765379219579, 0.0006834328213806198, 0.006880038119496777, 3.052202987937079e-6, 365.25644153889334, 3624.4023632665985, 0.014853045412432365, 0.008045642024665798, 0.0008210837904451023, 4340.82963794419, 4673.413347981261, 0.017269084106682674, -0.04067085887557196]\n",
      "Period: 4383.0 log Prob: -188.25417340461652 Param: [2.5850980272457727e-6, 224.70077842927293, 3503.765390216425, 0.0017518211507296735, 0.007330950480992764, 3.0617837252815036e-6, 365.25643751949093, 3624.402426460084, 0.015711322295287142, 0.008265261329565078, 0.000821189471862028, 4383.0, 4625.152661169301, 0.015547907794859702, -0.041007419700806624]\n",
      "Finished 3-planet fit w/ fixed period: [2.543357938406538e-6, 224.7007800822674, 3503.7653488324368, -0.002461915561507995, 0.006999212661053815, 3.0268677044292813e-6, 365.25645341257757, 3624.4021798423655, 0.012208869733820961, 0.008246568619797686, 0.0007751750589424476, 4216.737388454095, 4807.434005615941, 0.016429932218499664, -0.04229488134532674]\n",
      "Finished global 3-planet fit in 2 iterations.\n",
      "New 3-planet chi-square: 109.62309159252042\n",
      "Maximum: -183.18487363935458 Param: [2.54221325224715e-6, 224.70078014619605, 3503.7653473561827, -0.0026345136279696765, 0.007069730982741328, 3.0256043008594486e-6, 365.25645401372145, 3624.4021707620127, 0.012059105014406485, 0.008297004733231224, 0.0007712456797489318, 4210.127279427517, 4814.116162382293, 0.016166728775144693, -0.04249075208242041]\n",
      "deltaphi: 2.2 log Prob: -182.50761439274407 Param: [2.4591418675441334e-6, 224.70077996842682, 3503.7653534832216, -0.0015138696177299865, 0.002242521722878243, 3.03044297938773e-6, 365.25645316156186, 3624.402183255457, 0.013008556234075534, 0.0044624243631874, 0.0007827193201057049, 4218.097641175893, 4855.054228817874, 0.014917336195401538, -0.036197536422480366, -0.00010047924796663892, 0.00015525234334849285, 2.2]\n",
      "deltaphi: 2.2222222222222223 log Prob: -181.9617472028589 Param: [2.459144240401932e-6, 224.7007799684496, 3503.765353482608, -0.0015140160225403513, 0.00224283778197744, 3.0304419944342627e-6, 365.2564531617073, 3624.402183253202, 0.01300842824206382, 0.004462675856487452, 0.0007827188646389571, 4218.096249844645, 4855.0523331324175, 0.014917463112443526, -0.03619793873143059, -0.00010047469062985657, 0.00015525325848409193, 2.2222222222222223]\n",
      "deltaphi: 2.2444444444444445 log Prob: -181.9160005352842 Param: [2.4591388048307687e-6, 224.7007799684334, 3503.7653534832025, -0.001514107630042427, 0.0022424870697319043, 3.030441704227052e-6, 365.2564531616273, 3624.402183254602, 0.013008375107400468, 0.004462403097542493, 0.0007827241829945594, 4218.096958801271, 4855.056080147948, 0.01491806608993245, -0.03619711788408902, -0.00010047933773990092, 0.0001552525918543987, 2.2444444444444445]\n",
      "deltaphi: 2.2666666666666666 log Prob: -182.3462464465924 Param: [2.459139056983172e-6, 224.7007799684309, 3503.7653534831356, -0.0015143294518548014, 0.00224277606724104, 3.030440344461374e-6, 365.2564531616271, 3624.4021832545086, 0.0130081939783582, 0.004462648765811144, 0.000782728124253297, 4218.097458907056, 4855.0512673532185, 0.01491885573426368, -0.03619758829879436, -0.00010047908314717796, 0.00015525094067131803, 2.2666666666666666]\n",
      "deltaphi: 2.2888888888888888 log Prob: -183.08984139634154 Param: [2.4591333075211803e-6, 224.70077996840908, 3503.7653534839137, -0.0015141597089119287, 0.002242091836264093, 3.030441436541907e-6, 365.25645316157585, 3624.402183255514, 0.01300835313234931, 0.004462098299395355, 0.0007827295573927148, 4218.097810582235, 4855.058872138668, 0.014918714241588147, -0.036196524820950225, -0.00010048733536210807, 0.00015524963403732684, 2.2888888888888888]\n",
      "deltaphi: 2.311111111111111 log Prob: -183.93146254124864 Param: [2.459139528260353e-6, 224.70077996842508, 3503.7653534833594, -0.0015139807984002292, 0.002242409906593718, 3.030442408914338e-6, 365.25645316158307, 3624.4021832552257, 0.013008475264937447, 0.004462339235558189, 0.0007827222218606332, 4218.097624113853, 4855.055687605795, 0.014917754443503347, -0.0361972045325031, -0.00010048095668662861, 0.00015525185330011256, 2.311111111111111]\n",
      "deltaphi: 2.3333333333333335 log Prob: -185.794975346647 Param: [2.62599096075969e-6, 224.70078009678448, 3503.765346770256, -0.0035049384474838937, 0.009869845814574769, 3.026075917035405e-6, 365.2564528436166, 3624.402198731779, 0.011643960833027316, 0.010404859039115037, 0.0007776453618411114, 4220.741579738228, 4774.919806187765, 0.018176995381012303, -0.04493032953336457, -0.000247143363483737, -7.965386863461536e-5, 2.3333333333333335]\n",
      "deltaphi: 2.3555555555555556 log Prob: -185.9318787782085 Param: [2.626013481412943e-6, 224.7007800967871, 3503.765346769882, -0.003504780632791882, 0.009870082086295638, 3.026077302394163e-6, 365.2564528434618, 3624.402198733801, 0.011644110885423074, 0.010405010620332375, 0.0007776377427869337, 4220.742407964061, 4774.916234942813, 0.018175834246516236, -0.044931137173385115, -0.0002471496543664575, -7.964369954787148e-5, 2.3555555555555556]\n",
      "deltaphi: 2.3777777777777778 log Prob: -185.82286829680345 Param: [2.6260075078356456e-6, 224.7007800967836, 3503.765346770117, -0.003504943864271285, 0.009869970477841411, 3.026076251198519e-6, 365.2564528435085, 3624.402198733231, 0.011643977028022619, 0.010404942404362029, 0.0007776443451510217, 4220.742096993999, 4774.917783649655, 0.01817686828960376, -0.044930587352866425, -0.0002471508507601391, -7.963755202330197e-5, 2.3777777777777778]\n",
      "deltaphi: 2.4 log Prob: -185.2438600985282 Param: [2.625993348541555e-6, 224.700780096792, 3503.7653467699756, -0.0035049803692421442, 0.00987005864555743, 3.0260758304834787e-6, 365.25645284361116, 3624.4021987317838, 0.011643926604910822, 0.010405020551217363, 0.000777643199223874, 4220.741863827221, 4774.917811768278, 0.018176681504790897, -0.044930627670427596, -0.00024714483637784033, -7.96511320040835e-5, 2.4]\n",
      "Finished global lunar fit in 2 iterations.\n",
      "3-planet lunar chi-square: 105.9925066775661\n",
      "Maximum: -181.8713675957964 Param: [2.459137568961616e-6, 224.7007799684284, 3503.765353483366, -0.001514266148458868, 0.0022424477277027846, 3.030440781073223e-6, 365.2564531616774, 3624.4021832537937, 0.013008255820559226, 0.00446238274600374, 0.0007827285087471828, 4218.096902213769, 4855.056186383757, 0.01491875009236496, -0.036196969357057865, -0.00010047923994553857, 0.00015525262477382573, 2.235196526904218]\n",
      " 14.686920 seconds (9.08 M allocations: 649.371 MiB, 2.02% gc time)\n"
     ]
    },
    {
     "data": {
      "text/plain": [
       "([2.54221325224715e-6, 224.70078014619605, 3503.7653473561827, -0.0026345136279696765, 0.007069730982741328, 3.0256043008594486e-6, 365.25645401372145, 3624.4021707620127, 0.012059105014406485, 0.008297004733231224, 0.0007712456797489318, 4210.127279427517, 4814.116162382293, 0.016166728775144693, -0.04249075208242041], [2.459137568961616e-6, 224.7007799684284, 3503.765353483366, -0.001514266148458868, 0.0022424477277027846, 3.030440781073223e-6, 365.2564531616774, 3624.4021832537937, 0.013008255820559226, 0.00446238274600374, 0.0007827285087471828, 4218.096902213769, 4855.056186383757, 0.01491875009236496, -0.036196969357057865, -0.00010047923994553857, 0.00015525262477382573, 2.235196526904218])"
      ]
     },
     "execution_count": 7,
     "metadata": {},
     "output_type": "execute_result"
    }
   ],
   "source": [
    "include(\"fit_moon.jl\")\n",
    "@time fit_moon(\"INPUTS/tt_30.0sEMB30.0yrs.txt\", jd1, 30, 30, 2430000, 1e-5, 11*365.25, 12*365.25, 10,2,2.2,2.4,10)"
   ]
  },
  {
   "cell_type": "code",
   "execution_count": 27,
   "metadata": {},
   "outputs": [
    {
     "name": "stdout",
     "output_type": "stream",
     "text": [
      "Loading.... FITS/p3_fit30s30yrs.jld2\n",
      "Previous model params: [3.9054143218903965e-6, 224.70078008469463, 3503.768675936336, -0.06713129085431972, -0.057465222100601364, 2.6456719043334846e-6, 365.25646164115346, 3624.40734259709, -0.03675516797288188, -0.043738317868158474, 0.00034969118061929096, 4187.244650961268, 1498.0946294769674, -0.1134873127886096, 0.12687238048733113]\n",
      "Finished lunar search: [2.3844520331435646e-6, 224.70077994566037, 3503.768678133486, -0.0007783380263909741, 0.0021738287415496837, 3.0322030524457964e-6, 365.2564518574759, 3624.4074914709117, 0.013218145402848224, 0.004282806404613346, 0.00078685555354462, 4227.19195270933, 619.1203942883191, 0.01397547862577287, -0.034429446381108446, -1.5301800832127586e-5, -0.0018231262500707942, 2.311111111111111] in 20 iterations\n",
      "Finished global moon fit.\n",
      "Lunar chi-square: 108.28194173979914\n",
      "Maximum: -182.70479748946045 Param: [2.384424432392215e-6, 224.7007799456815, 3503.768678133689, -0.0007783247539810868, 0.0021727247987452162, 3.0322029402257203e-6, 365.25645185796003, 3624.407491463483, 0.013218159190585116, 0.004281927757742217, 0.0007868596724091433, 4227.186843338152, 619.1468842361991, 0.013975790714605026, -0.03442714789237476, -1.530082935088796e-5, -0.0018231379967262153, 2.3129311609831533]\n",
      "  3.790509 seconds (1.92 M allocations: 190.510 MiB, 2.36% gc time)\n"
     ]
    },
    {
     "data": {
      "text/plain": [
       "18-element Array{Float64,1}:\n",
       "    2.384424432392215e-6 \n",
       "  224.7007799456815      \n",
       " 3503.768678133689       \n",
       "   -0.0007783247539810868\n",
       "    0.0021727247987452162\n",
       "    3.0322029402257203e-6\n",
       "  365.25645185796003     \n",
       " 3624.407491463483       \n",
       "    0.013218159190585116 \n",
       "    0.004281927757742217 \n",
       "    0.0007868596724091433\n",
       " 4227.186843338152       \n",
       "  619.1468842361991      \n",
       "    0.013975790714605026 \n",
       "   -0.03442714789237476  \n",
       "   -1.530082935088796e-5 \n",
       "   -0.0018231379967262153\n",
       "    2.3129311609831533   "
      ]
     },
     "execution_count": 27,
     "metadata": {},
     "output_type": "execute_result"
    }
   ],
   "source": [
    "include(\"fit_moon.jl\")\n",
    "@time fit_moon(jd1,30,30,2430000,1e-5,2.2,2.4,10,3)"
   ]
  },
  {
   "cell_type": "markdown",
   "metadata": {},
   "source": [
    "## Fit 4 planets"
   ]
  },
  {
   "cell_type": "markdown",
   "metadata": {},
   "source": [
    "w/o offset but with tref"
   ]
  },
  {
   "cell_type": "code",
   "execution_count": 6,
   "metadata": {
    "collapsed": true,
    "jupyter": {
     "outputs_hidden": true
    },
    "tags": []
   },
   "outputs": [
    {
     "name": "stdout",
     "output_type": "stream",
     "text": [
      "Initial parameters: [3.0e-6, 224.70077409575646, 3503.7654852567784, 0.01, 0.01, 3.0e-6, 365.25642665702384, 3624.4026384093218, 0.01, 0.01]\n",
      "Initial chi-square: 812.3590569057454\n",
      "Finished 2-planet fit in 2 iterations.\n",
      "New p2 chi-square: 582.8973442491646\n",
      "Param: [2.9380153697129402e-6, 224.70077831626037, 3503.765429099878, 0.03081019305418419, 0.011457500858907978, 3.2595689949612584e-6, 365.25643295059126, 3624.402560434307, 0.038440262285722275, 0.010409974573520126]\n",
      "Finished 3-planet fit w/ fixed period: [2.563636171884876e-6, 224.70077915501258, 3503.7653713087975, -8.54914833964373e-5, 0.006696424150244993, 3.045553603852875e-6, 365.25644453678115, 3624.4023164135374, 0.014223224576339085, 0.00796719171825563, 0.0008153454745067351, 4309.949999999998, 4708.067056722962, 0.01782479095689238, -0.04071577901832235]\n",
      "Finished 3-planet fit in 2 iterations.\n",
      "New 3-planet chi-square: 109.6230915523655\n",
      "Maximum: -183.18487362506883 Param: [2.5422147419487485e-6, 224.70078014621996, 3503.7653473555456, -0.0026343267467731474, 0.0070695947650385536, 3.025605235838036e-6, 365.2564540139241, 3624.4021707586385, 0.012059248621926238, 0.008296881504704779, 0.0007712387127985479, 4210.125307988029, 4814.1197361733775, 0.016165680447941387, -0.042491035438553204]\n",
      "Finished 4-planet fit w/ fixed period: [2.476371453026443e-6, 224.70077552669133, 3503.765445832758, -0.005725446951606682, 0.005852935491288906, 2.9796924619163445e-6, 365.2564546879903, 3624.4021565652715, 0.008987909992955005, 0.008086281716607767, 4.0039612374089207e-7, 687.4315104491986, 416.99316873645785, -0.10308183878209812, -0.07629847564477994, 0.0009960045831502967, 4355.238062331129, 4624.253000153244, 0.026267394184884732, -0.04528073184443009]\n",
      "Finished 4-planet fit in 2 iterations.\n",
      "New 4-planet chi-square: 77.38852430066216\n",
      "Maximum: -169.60470168540738 Param: [2.4797368317700974e-6, 224.70077540765067, 3503.7654450073856, -0.005918101397840288, 0.005921079577658514, 2.9781433929288205e-6, 365.2564548149991, 3624.402153775526, 0.008846312338042778, 0.008152647419863131, 3.9884859544190433e-7, 687.2013422163191, 418.7907759301823, -0.10251106228279193, -0.07880662007644161, 0.0010011496184743182, 4355.610749222095, 4622.5627530038155, 0.026287840938589428, -0.04558281041350565]\n",
      "615.798955 seconds (176.04 M allocations: 22.270 GiB, 0.72% gc time)\n"
     ]
    },
    {
     "data": {
      "text/plain": [
       "([2.5422147419487485e-6, 224.70078014621996, 3503.7653473555456, -0.0026343267467731474, 0.0070695947650385536, 3.025605235838036e-6, 365.2564540139241, 3624.4021707586385, 0.012059248621926238, 0.008296881504704779, 0.0007712387127985479, 4210.125307988029, 4814.1197361733775, 0.016165680447941387, -0.042491035438553204], [2.4797368317700974e-6, 224.70077540765067, 3503.7654450073856, -0.005918101397840288, 0.005921079577658514, 2.9781433929288205e-6, 365.2564548149991, 3624.402153775526, 0.008846312338042778, 0.008152647419863131, 3.9884859544190433e-7, 687.2013422163191, 418.7907759301823, -0.10251106228279193, -0.07880662007644161, 0.0010011496184743182, 4355.610749222095, 4622.5627530038155, 0.026287840938589428, -0.04558281041350565])"
      ]
     },
     "execution_count": 6,
     "metadata": {},
     "output_type": "execute_result"
    }
   ],
   "source": [
    "include(\"fit_planet4.jl\")\n",
    "@time fit_planet4(\"INPUTS/tt_30.0sEMB30.0yrs.txt\", jd1,30,30,2430000,1e-5, 11.8*365.25, 12.2*365.25,10,36, 1.8*365.25, 2.2*365.25,10)"
   ]
  },
  {
   "cell_type": "code",
   "execution_count": 31,
   "metadata": {
    "tags": []
   },
   "outputs": [
    {
     "name": "stdout",
     "output_type": "stream",
     "text": [
      "3503.764224029146\n",
      "Planet 3 fit loaded.\n",
      "Finished 3-planet fit w/ fixed period: [2.476370716360381e-6, 224.70077552673516, 3503.7654458317234, -0.005725995160143898, 0.005853446370266811, 2.979688950181277e-6, 365.256454687972, 3624.402156566885, 0.008987440656895893, 0.00808669783803928, 4.003872908491878e-7, 687.4315104491986, 416.9932423779369, -0.10308558240364257, -0.07630001429523084, 0.0009960154998875192, 4355.240453000815, 269.0019387386575, 0.026268766456938125, -0.045280984138571095] in 2 iterations\n",
      "Finished global 4-planet fit.\n",
      "New 4-planet chi-square: 77.38852437496628\n",
      "Maximum: -169.60470172285304 Param: [2.4797327645063745e-6, 224.70077540783217, 3503.765445004103, -0.005918013520271995, 0.005920552902168205, 2.978144199188821e-6, 365.2564548155953, 3624.4021537664157, 0.008846412607389708, 0.008152238066832872, 3.9884096324315784e-7, 687.2013847033735, 418.79018585750407, -0.10251104153775775, -0.0788074510716646, 0.0010011469469405848, 4355.602495719337, 266.97704320845526, 0.026287939187558736, -0.04558172397045115]\n"
     ]
    },
    {
     "ename": "ArgumentError",
     "evalue": "\u001b[91mArgumentError: attempted to truncate a file that was already open\u001b[39m",
     "output_type": "error",
     "traceback": [
      "\u001b[91mArgumentError: attempted to truncate a file that was already open\u001b[39m",
      "",
      "Stacktrace:",
      " [1] #jldopen#9(::Type{IOStream}, ::Bool, ::Bool, ::typeof(jldopen), ::String, ::Bool, ::Bool, ::Bool, ::Type{JLD2.MmapIO}) at /Users/bethleelindor/.julia/packages/JLD2/eU405/src/JLD2.jl:229",
      " [2] jldopen(::String, ::Bool, ::Bool, ::Bool, ::Type{JLD2.MmapIO}) at /Users/bethleelindor/.julia/packages/JLD2/eU405/src/JLD2.jl:213",
      " [3] #jldopen#10(::Type, ::Base.Iterators.Pairs{Union{},Union{},Tuple{},NamedTuple{(),Tuple{}}}, ::typeof(jldopen), ::String, ::String) at /Users/bethleelindor/.julia/packages/JLD2/eU405/src/JLD2.jl:305",
      " [4] jldopen at /Users/bethleelindor/.julia/packages/JLD2/eU405/src/JLD2.jl:300 [inlined]",
      " [5] macro expansion at /Users/bethleelindor/.julia/packages/JLD2/eU405/src/loadsave.jl:63 [inlined]",
      " [6] fit_planet4(::Float64, ::Int64, ::Int64, ::Int64, ::Float64, ::Float64, ::Float64, ::Int64, ::Int64, ::Bool) at /Users/bethleelindor/work/washington/ttv_project/ttv_ss/fit_planet4.jl:283",
      " [7] top-level scope at In[31]:2"
     ]
    }
   ],
   "source": [
    "include(\"fit_planet4.jl\")\n",
    "fit_planet4(jd1,30,30,2430000,1e-5,1.8*365.25,2.2*365.25,10,36,true)"
   ]
  },
  {
   "cell_type": "code",
   "execution_count": 7,
   "metadata": {
    "collapsed": true,
    "jupyter": {
     "outputs_hidden": true
    },
    "tags": []
   },
   "outputs": [
    {
     "name": "stdout",
     "output_type": "stream",
     "text": [
      "Parameters from fit: [2.4797368317700974e-6, 224.70077540765067, 3503.7654450073856, -0.005918101397840288, 0.005921079577658514, 2.9781433929288205e-6, 365.2564548149991, 3624.402153775526, 0.008846312338042778, 0.008152647419863131, 3.9884859544190433e-7, 687.2013422163191, 418.7907759301823, -0.10251106228279193, -0.07880662007644161, 0.0010011496184743182, 4355.610749222095, 4622.5627530038155, 0.026287840938589428, -0.04558281041350565]\n",
      "Maximum log Prob from fit: -169.60470168540738\n",
      "Step: 7 Walker: 48 Trial Log Prob: 563.3071879728853 Prob: 0.061953249713134824 Frac: 0.3563218390804598\n",
      "Step: 163 Walker: 47 Trial Log Prob: 580.7576154962776 Prob: 0.018038135388398494 Frac: 0.3398797103228182\n",
      "Step: 384 Walker: 4 Trial Log Prob: 590.7474941402056 Prob: 0.7776321735239355 Frac: 0.3127284118199854\n",
      "Step: 602 Walker: 15 Trial Log Prob: 594.090661156537 Prob: 0.0262643253172994 Frac: 0.30550473973058373\n",
      "Number of steps: 1000 Acceptance Rate: 0.3017\n",
      "Step: 1070 Walker: 21 Trial Log Prob: 598.7553593870743 Prob: 0.00027567581560701256 Frac: 0.27657735522904064\n",
      "Step: 1365 Walker: 21 Trial Log Prob: 599.990790244336 Prob: 0.7715463881547652 Frac: 0.277536907963339\n",
      "Step: 1675 Walker: 30 Trial Log Prob: 572.5009871036679 Prob: 3.201356899317836e-8 Frac: 0.27729024607174624\n",
      "Number of steps: 2000 Acceptance Rate: 0.27752\n",
      "Step: 2284 Walker: 13 Trial Log Prob: 570.9193339921619 Prob: 2.906655997299385e-6 Frac: 0.26166772576431546\n",
      "Step: 2404 Walker: 16 Trial Log Prob: 569.2836428849748 Prob: 6.093224791506639e-6 Frac: 0.2575622334622632\n",
      "Step: 2723 Walker: 27 Trial Log Prob: 602.1281731244953 Prob: 0.011264894737278501 Frac: 0.2587261604893847\n",
      "Step: 2738 Walker: 2 Trial Log Prob: 572.9077501401778 Prob: 6.379242311477185e-5 Frac: 0.25900900900900903\n",
      "Number of steps: 3000 Acceptance Rate: 0.26032\n",
      "Step: 3034 Walker: 41 Trial Log Prob: 579.9768621525034 Prob: 4.2285071297590396e-5 Frac: 0.2667060910703726\n",
      "Step: 3413 Walker: 3 Trial Log Prob: 574.1397169072338 Prob: 1.0015201379208211e-7 Frac: 0.26399068096879097\n",
      "Step: 3587 Walker: 29 Trial Log Prob: 575.7965407918578 Prob: 8.360779182168557e-8 Frac: 0.26120904224487707\n",
      "Step: 3624 Walker: 6 Trial Log Prob: 590.2745397525305 Prob: 0.08914654449347027 Frac: 0.26174733598664784\n",
      "Step: 3697 Walker: 17 Trial Log Prob: 604.2954138483483 Prob: 4.6907328455295416e-5 Frac: 0.2618548410259356\n",
      "Step: 3907 Walker: 28 Trial Log Prob: 599.4277518817291 Prob: 0.654138528021681 Frac: 0.2570817154959407\n",
      "Step: 3986 Walker: 18 Trial Log Prob: 596.0947548968429 Prob: 0.47605282986762726 Frac: 0.2560891450840302\n",
      "Number of steps: 4000 Acceptance Rate: 0.2557\n",
      "Step: 4138 Walker: 7 Trial Log Prob: 554.2141243627792 Prob: 4.661244528950322e-16 Frac: 0.25565115939915417\n",
      "Step: 4148 Walker: 39 Trial Log Prob: 581.4736603500746 Prob: 0.0063605707770046736 Frac: 0.25348491000135337\n",
      "Step: 4375 Walker: 40 Trial Log Prob: 593.6961251427243 Prob: 1.803094388193529 Frac: 0.24551760939167555\n",
      "Step: 4536 Walker: 36 Trial Log Prob: 596.7413266078287 Prob: 1.668417338154317 Frac: 0.24740536100948257\n",
      "Step: 4761 Walker: 27 Trial Log Prob: 425.31439057836207 Prob: 2.2356502252339404e-70 Frac: 0.24692981302758565\n",
      "Number of steps: 5000 Acceptance Rate: 0.2483\n",
      "Step: 5473 Walker: 31 Trial Log Prob: 599.9204586167926 Prob: 0.047737794001107364 Frac: 0.24958740637298463\n",
      "Step: 5809 Walker: 28 Trial Log Prob: 594.4499159716817 Prob: 0.48075947572515404 Frac: 0.2482932620955773\n",
      "Step: 5911 Walker: 27 Trial Log Prob: 595.0735454216934 Prob: 2.0488348248852075 Frac: 0.2478309574538186\n",
      "Number of steps: 6000 Acceptance Rate: 0.24822\n",
      "Step: 6162 Walker: 20 Trial Log Prob: 596.4647706004839 Prob: 0.0035245018735457524 Frac: 0.24052044609665427\n",
      "Step: 6385 Walker: 37 Trial Log Prob: -Inf Prob: 0.0 Frac: 0.2401102042938088\n",
      "Step: 6645 Walker: 39 Trial Log Prob: 560.7154332158552 Prob: 1.033362059637779e-6 Frac: 0.24067123670089022\n",
      "Number of steps: 7000 Acceptance Rate: 0.2402\n",
      "Step: 7009 Walker: 41 Trial Log Prob: 593.2674195664414 Prob: 0.9678530975774876 Frac: 0.20861678004535147\n",
      "Step: 7010 Walker: 1 Trial Log Prob: 597.120223282682 Prob: 0.4795526877498312 Frac: 0.21729490022172948\n",
      "Step: 7078 Walker: 31 Trial Log Prob: 599.4874985817082 Prob: 0.14480019739196112 Frac: 0.23653697500644164\n",
      "Step: 7364 Walker: 34 Trial Log Prob: 575.3174401393552 Prob: 1.7032102895147257e-8 Frac: 0.237846458424989\n",
      "Step: 7374 Walker: 21 Trial Log Prob: 602.6941124226283 Prob: 9.519230730933367e-5 Frac: 0.23780193883562745\n",
      "Step: 7648 Walker: 37 Trial Log Prob: 589.646425843039 Prob: 0.5144111532587535 Frac: 0.23849075246240775\n",
      "Step: 7846 Walker: 21 Trial Log Prob: 537.7660444044421 Prob: 1.159594078063238e-25 Frac: 0.23768067942561094\n",
      "Number of steps: 8000 Acceptance Rate: 0.23622\n",
      "Step: 8066 Walker: 3 Trial Log Prob: 579.4869854540798 Prob: 0.0026429146350273247 Frac: 0.23209345219797112\n",
      "Step: 8103 Walker: 38 Trial Log Prob: 527.0679754130367 Prob: 1.961453811007227e-24 Frac: 0.2368625924484235\n",
      "Step: 8164 Walker: 50 Trial Log Prob: 597.4815878480065 Prob: 0.8343891446499443 Frac: 0.24024390243902438\n",
      "Step: 8206 Walker: 3 Trial Log Prob: 605.5375387257384 Prob: 0.02488498511432131 Frac: 0.2385643226372769\n",
      "Step: 8319 Walker: 25 Trial Log Prob: 570.9075457702504 Prob: 2.2457961697431683e-7 Frac: 0.23566718995290423\n",
      "Step: 8437 Walker: 23 Trial Log Prob: 594.5051234979903 Prob: 0.7592475650840852 Frac: 0.23686019337396325\n",
      "Step: 8525 Walker: 20 Trial Log Prob: 556.7011281705279 Prob: 6.107716164506222e-14 Frac: 0.23638443935926773\n",
      "Step: 8808 Walker: 32 Trial Log Prob: 602.0770329686715 Prob: 0.005003474651327212 Frac: 0.23616958050616613\n",
      "Step: 8871 Walker: 48 Trial Log Prob: 575.3704448718959 Prob: 6.53754968850792e-6 Frac: 0.23530357306879765\n",
      "Step: 8978 Walker: 14 Trial Log Prob: 603.1247261523845 Prob: 0.7769809258685849 Frac: 0.23698428290766207\n",
      "Number of steps: 9000 Acceptance Rate: 0.23704\n",
      "Step: 9078 Walker: 22 Trial Log Prob: 591.8959657250575 Prob: 3.415377596502583 Frac: 0.2409607438016529\n",
      "Step: 9166 Walker: 35 Trial Log Prob: 600.6669991393125 Prob: 0.08781180520698056 Frac: 0.2467109233554617\n",
      "Step: 9187 Walker: 24 Trial Log Prob: 599.2383159740019 Prob: 1.3335357127503873 Frac: 0.2472114972114972\n",
      "Step: 9282 Walker: 23 Trial Log Prob: -Inf Prob: 0.0 Frac: 0.24912953883322675\n",
      "Step: 9355 Walker: 27 Trial Log Prob: 591.8876786633479 Prob: 0.7927986635686214 Frac: 0.2471935465673831\n",
      "Step: 9444 Walker: 12 Trial Log Prob: 585.3138146500393 Prob: 0.02833827894527 Frac: 0.24496886562584605\n",
      "Step: 9678 Walker: 18 Trial Log Prob: 568.5524367726541 Prob: 9.655570189493324e-10 Frac: 0.24081729065784813\n",
      "Number of steps: 10000 Acceptance Rate: 0.23506\n",
      "Step: 10127 Walker: 29 Trial Log Prob: 592.8899582101293 Prob: 1.1883816682264603 Frac: 0.2229420129562332\n",
      "Step: 10450 Walker: 3 Trial Log Prob: 599.7732478052002 Prob: 0.0029612437069578557 Frac: 0.22936801318309358\n",
      "Step: 10565 Walker: 46 Trial Log Prob: -Inf Prob: 0.0 Frac: 0.22891736883098493\n",
      "Step: 10601 Walker: 19 Trial Log Prob: 598.3946637715085 Prob: 0.8997250675775463 Frac: 0.2285885605783004\n",
      "Step: 10685 Walker: 33 Trial Log Prob: 602.7342246274707 Prob: 0.07154289426239814 Frac: 0.22980749569129202\n",
      "Number of steps: 11000 Acceptance Rate: 0.22944\n",
      "Step: 11340 Walker: 8 Trial Log Prob: 604.281089347786 Prob: 0.7821680211510049 Frac: 0.22284467507960845\n",
      "Step: 11705 Walker: 44 Trial Log Prob: -Inf Prob: 0.0 Frac: 0.22400976052661445\n",
      "Step: 11906 Walker: 12 Trial Log Prob: -Inf Prob: 0.0 Frac: 0.22537669568291283\n",
      "Step: 11998 Walker: 46 Trial Log Prob: 583.5999056000486 Prob: 8.090901964223885e-8 Frac: 0.2262706429373096\n",
      "Number of steps: 12000 Acceptance Rate: 0.2264\n",
      "Step: 12134 Walker: 12 Trial Log Prob: 602.3889948997108 Prob: 5.654425045741323e-5 Frac: 0.2290603422395677\n",
      "Step: 12166 Walker: 3 Trial Log Prob: 590.8713181449148 Prob: 1.0471730545191107 Frac: 0.22779595298679267\n",
      "Step: 12478 Walker: 25 Trial Log Prob: 591.3521334289089 Prob: 0.022471625654882255 Frac: 0.23195811518324608\n",
      "Step: 12615 Walker: 3 Trial Log Prob: 591.5956376703548 Prob: 3.5295131728610117e-6 Frac: 0.22994495651890695\n",
      "Step: 12650 Walker: 42 Trial Log Prob: 601.2600391847695 Prob: 0.0020725877012326265 Frac: 0.23005662932414134\n",
      "Step: 12839 Walker: 44 Trial Log Prob: -Inf Prob: 0.0 Frac: 0.22899580392904825\n",
      "Step: 12906 Walker: 22 Trial Log Prob: 594.4734603149242 Prob: 0.011931534154069917 Frac: 0.2285518642869765\n",
      "Step: 12939 Walker: 25 Trial Log Prob: 595.1792489832262 Prob: 0.9884220387102215 Frac: 0.2278103356419819\n",
      "Number of steps: 13000 Acceptance Rate: 0.22778\n",
      "Step: 13079 Walker: 23 Trial Log Prob: 599.2561306041288 Prob: 0.0005473374359629929 Frac: 0.22533775172062198\n",
      "Step: 13106 Walker: 30 Trial Log Prob: 523.0015814674622 Prob: 7.865711389561402e-21 Frac: 0.22840909090909092\n",
      "Step: 13293 Walker: 39 Trial Log Prob: 578.7165314636427 Prob: 0.005284099564909149 Frac: 0.22904569984288545\n",
      "Number of steps: 14000 Acceptance Rate: 0.22472\n",
      "Step: 14221 Walker: 44 Trial Log Prob: 572.6301605719834 Prob: 0.03762254632719826 Frac: 0.22183991307497283\n",
      "Step: 14312 Walker: 32 Trial Log Prob: 595.7798345834525 Prob: 0.6084793264896665 Frac: 0.22096008214606597\n",
      "Step: 14569 Walker: 13 Trial Log Prob: 589.4684841949198 Prob: 0.4564225319592815 Frac: 0.21465526343575125\n",
      "Step: 14617 Walker: 45 Trial Log Prob: 576.0011630428846 Prob: 0.00014047841863887485 Frac: 0.21335710812125142\n",
      "Step: 14829 Walker: 2 Trial Log Prob: 593.5154299477159 Prob: 0.578528317008234 Frac: 0.2125984251968504\n",
      "Step: 14947 Walker: 47 Trial Log Prob: 598.9228284076924 Prob: 1.7505799751147813e-5 Frac: 0.21112214079033517\n",
      "Step: 14985 Walker: 21 Trial Log Prob: -Inf Prob: 0.0 Frac: 0.21110907945795493\n",
      "Number of steps: 15000 Acceptance Rate: 0.21098\n",
      "Step: 15047 Walker: 29 Trial Log Prob: 593.8020529298522 Prob: 1.3415383017637248 Frac: 0.20867325032202663\n",
      "Step: 15279 Walker: 3 Trial Log Prob: 570.1829993356051 Prob: 7.818358015687561e-6 Frac: 0.21311947061785227\n",
      "Step: 15296 Walker: 4 Trial Log Prob: 585.3024805505336 Prob: 0.005364998617527523 Frac: 0.21343364511318966\n",
      "Step: 15398 Walker: 11 Trial Log Prob: 564.8335050270639 Prob: 1.2777987716061741e-8 Frac: 0.2162529580585066\n",
      "Step: 15740 Walker: 19 Trial Log Prob: 597.9268436955571 Prob: 6.626083989689753e-6 Frac: 0.2193459384890043\n",
      "Number of steps: 16000 Acceptance Rate: 0.21782\n",
      "Step: 16045 Walker: 49 Trial Log Prob: 576.0913865337313 Prob: 4.826051915152881e-7 Frac: 0.21520675855935972\n",
      "Step: 16907 Walker: 12 Trial Log Prob: 555.5561059251595 Prob: 2.5064864610539167e-10 Frac: 0.2147113347457627\n",
      "Step: 16976 Walker: 37 Trial Log Prob: 586.5007582575354 Prob: 0.09537319765438348 Frac: 0.21491380900649762\n",
      "Number of steps: 17000 Acceptance Rate: 0.21528\n",
      "Step: 17224 Walker: 42 Trial Log Prob: 597.8763415273233 Prob: 0.4997646886683149 Frac: 0.21166904932094352\n",
      "Step: 17227 Walker: 10 Trial Log Prob: 598.1683334583332 Prob: 1.4348497095914654 Frac: 0.212290008841733\n",
      "Step: 17624 Walker: 41 Trial Log Prob: 594.2994615610627 Prob: 0.11812501078841203 Frac: 0.20438588054246418\n",
      "Step: 17995 Walker: 30 Trial Log Prob: 603.3403897031164 Prob: 0.00036009471479371357 Frac: 0.2018700985320732\n",
      "Number of steps: 18000 Acceptance Rate: 0.20184\n",
      "Step: 18189 Walker: 34 Trial Log Prob: 600.359380710927 Prob: 0.6409896836458039 Frac: 0.18931524273902905\n",
      "Number of steps: 19000 Acceptance Rate: 0.1989\n",
      "Step: 19064 Walker: 36 Trial Log Prob: 600.6746038137901 Prob: 0.001229421832161361 Frac: 0.20401757689893282\n",
      "Step: 19445 Walker: 48 Trial Log Prob: 599.354175145198 Prob: 0.34006242748525384 Frac: 0.20437792161093132\n",
      "Step: 19448 Walker: 45 Trial Log Prob: 602.1825902555402 Prob: 0.0020633016663993906 Frac: 0.20401875418620227\n",
      "Step: 19733 Walker: 32 Trial Log Prob: 581.1467406082783 Prob: 0.0024852314345129825 Frac: 0.20681371478488753\n",
      "Step: 19846 Walker: 7 Trial Log Prob: 589.3006295501382 Prob: 0.285157287122182 Frac: 0.20697162600279242\n",
      "Step: 19969 Walker: 28 Trial Log Prob: 597.8716177126596 Prob: 0.43793817282206465 Frac: 0.20841248864293385\n",
      "Number of steps: 20000 Acceptance Rate: 0.20752\n",
      "Step: 20018 Walker: 49 Trial Log Prob: 583.6360776143736 Prob: 7.950674264248625e-5 Frac: 0.20578420467185762\n",
      "Step: 20076 Walker: 15 Trial Log Prob: -Inf Prob: 0.0 Frac: 0.20451527224435592\n",
      "Step: 20157 Walker: 30 Trial Log Prob: 598.6614317112275 Prob: 0.015748884999321158 Frac: 0.21251596424010216\n",
      "Step: 20510 Walker: 6 Trial Log Prob: 601.7546019325765 Prob: 0.7321492890261989 Frac: 0.2126414204902577\n",
      "Step: 20744 Walker: 30 Trial Log Prob: -Inf Prob: 0.0 Frac: 0.2101936525013448\n",
      "Step: 20827 Walker: 38 Trial Log Prob: 568.8067699043642 Prob: 5.394475629705635e-11 Frac: 0.2099762929991775\n",
      "Step: 20939 Walker: 39 Trial Log Prob: 594.3854144249597 Prob: 0.04768242007360757 Frac: 0.21003856068514454\n",
      "Number of steps: 21000 Acceptance Rate: 0.21016\n",
      "Step: 21082 Walker: 2 Trial Log Prob: 588.7172524627013 Prob: 0.6200643987700216 Frac: 0.2045903257650543\n",
      "Step: 21336 Walker: 48 Trial Log Prob: -Inf Prob: 0.0 Frac: 0.21139421359685676\n",
      "Step: 21388 Walker: 46 Trial Log Prob: 602.7217365963024 Prob: 0.03987792331638164 Frac: 0.21391008455351618\n",
      "Step: 21579 Walker: 47 Trial Log Prob: 171.548217445538 Prob: 2.2050465405773938e-180 Frac: 0.21269907071544547\n",
      "Step: 21585 Walker: 42 Trial Log Prob: 586.9016901092832 Prob: 0.0012760490780196788 Frac: 0.21294713083920389\n",
      "Step: 21982 Walker: 29 Trial Log Prob: 550.9439091847225 Prob: 7.278195973184898e-14 Frac: 0.21328877931498197\n",
      "Number of steps: 22000 Acceptance Rate: 0.21296\n",
      "Step: 22233 Walker: 18 Trial Log Prob: 606.6682475734111 Prob: 0.0002049650326807952 Frac: 0.2051127560681701\n",
      "Step: 22236 Walker: 35 Trial Log Prob: 601.7543395860816 Prob: 4.556631649686232 Frac: 0.20407297411964362\n",
      "Step: 22642 Walker: 43 Trial Log Prob: 601.4362208141486 Prob: 4.915974570287382e-5 Frac: 0.21216464649612066\n",
      "Step: 22834 Walker: 49 Trial Log Prob: 600.4010462282307 Prob: 0.0016242855383383722 Frac: 0.21288280294491474\n",
      "Step: 22948 Walker: 36 Trial Log Prob: 573.1961404943854 Prob: 5.965442058424829e-7 Frac: 0.2137340142658169\n",
      "Number of steps: 23000 Acceptance Rate: 0.21368\n",
      "Step: 23417 Walker: 25 Trial Log Prob: 529.7879458111661 Prob: 5.091580337846381e-27 Frac: 0.21046818727490996\n",
      "Step: 23714 Walker: 43 Trial Log Prob: 599.5152081933475 Prob: 0.003805362430730293 Frac: 0.20278485977642674\n",
      "Step: 23725 Walker: 21 Trial Log Prob: 337.242087753 Prob: 3.0649561245922173e-105 Frac: 0.2025344413461804\n",
      "Number of steps: 24000 Acceptance Rate: 0.19948\n",
      "Step: 24046 Walker: 33 Trial Log Prob: 596.9132937480896 Prob: 0.008006546071606597 Frac: 0.202365308804205\n",
      "Step: 24256 Walker: 17 Trial Log Prob: 600.592854318064 Prob: 0.5490065220275261 Frac: 0.20372836218375498\n",
      "Step: 24269 Walker: 21 Trial Log Prob: -Inf Prob: 0.0 Frac: 0.20326354220996945\n",
      "Step: 24380 Walker: 18 Trial Log Prob: 593.7548864524871 Prob: 0.08020013498808488 Frac: 0.20028469000421764\n",
      "Step: 24419 Walker: 27 Trial Log Prob: 590.4327419154488 Prob: 0.0687014640660524 Frac: 0.20041095235819753\n",
      "Step: 24532 Walker: 11 Trial Log Prob: 590.9294510814372 Prob: 1.2970982027557698 Frac: 0.1997665750536501\n",
      "Step: 24534 Walker: 42 Trial Log Prob: 588.6267341217969 Prob: 0.37504927352732453 Frac: 0.2000599430540986\n",
      "Step: 24599 Walker: 44 Trial Log Prob: 554.9989471628207 Prob: 2.895310164892227e-14 Frac: 0.1995057440555704\n",
      "Step: 24756 Walker: 5 Trial Log Prob: 336.36732650802946 Prob: 3.9587991786715514e-110 Frac: 0.2012448682293736\n",
      "Step: 24948 Walker: 45 Trial Log Prob: 584.7193173909715 Prob: 1.2745405998309347 Frac: 0.19816436332946513\n",
      "Number of steps: 25000 Acceptance Rate: 0.19876\n",
      "Step: 25420 Walker: 25 Trial Log Prob: 587.3284248537487 Prob: 0.09539895551757156 Frac: 0.1995709177592372\n",
      "Step: 25546 Walker: 32 Trial Log Prob: 590.8789303799207 Prob: 0.2443348809520738 Frac: 0.19851917014881607\n",
      "Number of steps: 26000 Acceptance Rate: 0.19562\n",
      "Step: 26010 Walker: 46 Trial Log Prob: 600.2489812611138 Prob: 0.0014347360046923984 Frac: 0.20766129032258066\n",
      "Step: 26100 Walker: 38 Trial Log Prob: -Inf Prob: 0.0 Frac: 0.1970729751403368\n",
      "Number of steps: 27000 Acceptance Rate: 0.19838\n",
      "Step: 27120 Walker: 49 Trial Log Prob: 594.5093079893743 Prob: 0.9076072095270671 Frac: 0.21120186697782964\n",
      "Step: 27127 Walker: 43 Trial Log Prob: 598.2537481688304 Prob: 0.00035855292919451207 Frac: 0.2123600819801356\n",
      "Step: 27305 Walker: 37 Trial Log Prob: 593.5351623458532 Prob: 0.9559981073023618 Frac: 0.20863687077508697\n",
      "Step: 27488 Walker: 24 Trial Log Prob: -Inf Prob: 0.0 Frac: 0.2049314843685895\n",
      "Step: 27556 Walker: 11 Trial Log Prob: 599.5082230318645 Prob: 0.2669877411503268 Frac: 0.20323475379128994\n",
      "Step: 27611 Walker: 6 Trial Log Prob: 590.0172398808821 Prob: 0.046238751518398305 Frac: 0.20248475709696453\n",
      "Step: 27622 Walker: 50 Trial Log Prob: 597.8369806230468 Prob: 0.002472259520882777 Frac: 0.202508038585209\n",
      "Number of steps: 28000 Acceptance Rate: 0.20058\n",
      "Step: 28144 Walker: 6 Trial Log Prob: -Inf Prob: 0.0 Frac: 0.19689770821688093\n",
      "Step: 28403 Walker: 2 Trial Log Prob: 555.9186327338577 Prob: 3.4235598222064454e-12 Frac: 0.19266739627897722\n",
      "Step: 28715 Walker: 31 Trial Log Prob: 593.6561971291891 Prob: 0.4076298732020257 Frac: 0.19638409224482942\n",
      "Number of steps: 29000 Acceptance Rate: 0.1972\n",
      "Step: 29140 Walker: 21 Trial Log Prob: 583.9970466606622 Prob: 0.01105371913603406 Frac: 0.19681537799454885\n",
      "Step: 29522 Walker: 6 Trial Log Prob: 584.3246874229682 Prob: 0.002915618127181082 Frac: 0.19550199570156584\n",
      "Step: 29886 Walker: 35 Trial Log Prob: 599.5695753334084 Prob: 0.0006065413681662698 Frac: 0.1943773286665914\n",
      "Number of steps: 30000 Acceptance Rate: 0.19394\n",
      "Burn-in Number (ends): 4314\n",
      "Independent Sample Size: 1103.091230280836\n",
      "1091.488845 seconds (95.62 M allocations: 529.570 GiB, 7.68% gc time)\n"
     ]
    },
    {
     "data": {
      "text/plain": [
       "([122.40855027326698 122.40855027326698 … 594.5095094903909 594.5095094903909; 524.4126784581706 524.4126784581706 … 590.8970144114263 590.8970144114263; … ; 14.18808146413923 309.40403370899037 … 583.2314064430307 592.1558211943548; 120.9546894224128 499.0787316041503 … 601.0819520945282 601.0819520945282], [2.4444289652124166e-6 2.4444289652124166e-6 … 2.7330366228614664e-6 2.7330366228614664e-6; 2.4702767605967316e-6 2.4702767605967316e-6 … 2.497034974630914e-6 2.497034974630914e-6; … ; 2.5926113203652046e-6 2.565971582679767e-6 … 2.307505154407945e-6 2.393627419082697e-6; 2.5626370698917757e-6 2.506684344033795e-6 … 2.388655116655588e-6 2.388655116655588e-6]\n",
       "\n",
       "[224.70076091884061 224.70076091884061 … 224.7007699412039 224.7007699412039; 224.70077256017342 224.70077256017342 … 224.70078047649136 224.70078047649136; … ; 224.7007721744695 224.70077962055936 … 224.7007858670404 224.70078315665162; 224.70079201024205 224.70078091989726 … 224.70077782066647 224.70077782066647]\n",
       "\n",
       "[3503.7654688865387 3503.7654688865387 … 3503.7655990978 3503.7655990978; 3503.7654416197583 3503.7654416197583 … 3503.765240816521 3503.765240816521; … ; 3503.7654515274958 3503.765447072548 … 3503.765219710098 3503.7652336142473; 3503.765440302401 3503.7654382012984 … 3503.7653760264743 3503.7653760264743]\n",
       "\n",
       "...\n",
       "\n",
       "[0.016083647389898918 0.016083647389898918 … 0.019520655157367926 0.019520655157367926; 0.030964196545585063 0.030964196545585063 … -0.009106326234695329 -0.009106326234695329; … ; 0.03804880221663806 0.03652503359782878 … -0.11935666052840654 -0.07655297157860988; 0.01050222957845591 0.013145298901976821 … 0.025787646448119816 0.025787646448119816]\n",
       "\n",
       "[-0.0586978884155485 -0.0586978884155485 … -0.03803542552715593 -0.03803542552715593; -0.04638886523976709 -0.04638886523976709 … -0.12937264622050457 -0.12937264622050457; … ; -0.038272012838975356 -0.041933970889407125 … -0.10902763755794051 -0.0977278946905699; -0.07204958974243021 -0.048468364686537216 … -0.055463070134740486 -0.055463070134740486]\n",
       "\n",
       "[6.87066447881175e-9 6.87066447881175e-9 … 9.322676267427298e-8 9.322676267427298e-8; 7.957129954058851e-10 7.957129954058851e-10 … 8.18324790162887e-8 8.18324790162887e-8; … ; 4.320381662325913e-9 5.696075556360081e-9 … 1.2549610497428023e-7 9.673095410196806e-8; 6.185393554417063e-9 5.352889500245281e-9 … 4.4904897324257686e-8 4.4904897324257686e-8])"
      ]
     },
     "execution_count": 7,
     "metadata": {},
     "output_type": "execute_result"
    }
   ],
   "source": [
    "include(\"MCMC.jl\")\n",
    "foutput=string(\"MCMC/fromEMB/p\",4,\"_mcmc\",30,\"s\",30,\"yrs.jld2\")\n",
    "p=jldopen(\"FITS/fromEMB/p4_fit30s30yrs.jld2\",\"r\")\n",
    "@time MCMC(foutput,p[string(\"best_p\",4)],p[string(\"lprob_best_p\",4)],30000,50,4,p[\"ntrans\"][1:4],p[\"tt0\"],p[\"tt\"],p[\"sigtt\"],true,true)"
   ]
  },
  {
   "cell_type": "code",
   "execution_count": 8,
   "metadata": {},
   "outputs": [
    {
     "name": "stdout",
     "output_type": "stream",
     "text": [
      "           Fitted posterior params from MCMC/fromEMB/p4_mcmc30s30yrs.jld2\n",
      "mu_1 : 2.5495943326888427e-6 ± 1.9618978455813724e-7\n",
      "P_1 : 224.7007754151153 ± 5.5047072744343135e-6\n",
      "t01 : 3503.7654412237334 ± 0.00014636814224859086\n",
      "ecos1 : -0.001917905276235358 ± 0.010178811507634217\n",
      "esin1 : 0.009981231732200394 ± 0.008306078748314811\n",
      "mu_2 : 3.0112985508216392e-6 ± 1.3768801328706098e-7\n",
      "P_2 : 365.25644778620557 ± 1.0677490117258064e-5\n",
      "t02 : 3624.402265744747 ± 0.0001824303939300982\n",
      "ecos2 : 0.011853919814466296 ± 0.008182926443448747\n",
      "esin2 : 0.010583486374144448 ± 0.006412968151929074\n",
      "mu_3 : 3.6177762328917515e-7 ± 1.6100391074820135e-7\n",
      "P_3 : 686.7194102536184 ± 11.551744065796456\n",
      "t03 : 395.98954075580406 ± 80.35136329353709\n",
      "ecos3 : -0.03809343772519043 ± 0.08669768848746003\n",
      "esin3 : -0.08091519744866854 ± 0.07760469816188777\n",
      "mu_4 : 0.0008818112072651301 ± 0.000229024127094097\n",
      "P_4 : 4450.22142048097 ± 39.915103157397766\n",
      "t04 : 1.5312176155571824 ± 0.7285947867151982\n",
      "ecos4 : 0.002957621990564639 ± 0.03505377925002823\n",
      "esin4 : -0.06284683287854854 ± 0.02370084015910878\n",
      "σ_sys2 : 6.796531700123663e-8 ± 4.14574078741206e-8\n",
      "Derived Parameters\n",
      "mu_1 * M_star: 0.8488063941902669 ± 0.06531515287458911\n",
      "ecc : 0.014099728031463258 ± 0.008780665721030147\n",
      "mu_2 * M_star: 1.0025161383449122 ± 0.04583884760920312\n",
      "ecc : 0.017341508609678386 ± 0.007738480865515497\n",
      "mu_3 * M_star: 0.1204423605691651 ± 0.05360113457288217\n",
      "ecc : 0.13670905951723847 ± 0.05336649008138494\n",
      "mu_4 * M_star: 293.57101308187913 ± 76.24630358206812\n",
      "ecc : 0.07057937709691911 ± 0.02770414999196503\n",
      " lprob: 592.2688983767964 ± 3.9137969107062256\n"
     ]
    }
   ],
   "source": [
    "include(\"print_vals.jl\")\n",
    "print_vals(30,30,\"EMB\",\"p4\")"
   ]
  },
  {
   "cell_type": "markdown",
   "metadata": {},
   "source": [
    "### Fit 4 planets with moon"
   ]
  },
  {
   "cell_type": "code",
   "execution_count": 28,
   "metadata": {
    "collapsed": true,
    "jupyter": {
     "outputs_hidden": true
    },
    "tags": []
   },
   "outputs": [
    {
     "name": "stdout",
     "output_type": "stream",
     "text": [
      "Period: 547.8749999999998 log Prob: -394.9877081343094 Param: [0.00019770881223109377, 224.700770989801, 2.4335037688869582e6, -11.760136978852739, 3.845205252205111, 6.94791540233336e-6, 365.2564286284245, 2.4336244079311285e6, 0.01625718033637096, 0.0009135515883817364, 9.461004590644902e-8, 547.8749999999998, 2.4389448928514877e6, 0.009574091433022548, 0.00963530179765613, -0.3564158112703761, -58025.91763899769, 1.7375903595603928e6, 6.166461114945513, 156.89490509222657, 0.000766870840864711, -0.0004557165361223465, 26.231301118454365]\n",
      "Period: 626.2952559481723 log Prob: -231.63905133603816 Param: [1.8445972225937508e-6, 224.70077788885212, 2.433503768735981e6, -0.015958260277731614, -0.0006283719627766826, 2.9471404767537666e-6, 365.2564559324969, 2.4336244074843107e6, 0.0008226809798522476, 0.0025565992334057484, 3.9550278845224303e-7, 626.2952559481723, 2.4389398389979885e6, -0.015819061124821857, -0.035826766871111554, 0.0007143616484056519, 4151.168985640608, 2.43907840978165e6, -0.005270492056146431, -0.039329650274363075, 0.00023862505697449694, -0.0019682527009971386, 2.3195864789160843]\n",
      "Period: 715.9402192529084 log Prob: -230.77213426143695 Param: [2.6189985700682674e-6, 224.70077564897582, 2.433503768785743e6, 0.022630708172438115, -0.00387485555684224, 3.202060575466915e-6, 365.2563755025108, 2.433624408672922e6, 0.031518174599618344, -0.0014240393957382104, 9.74882132299529e-7, 715.9402192529084, 2.4393883719831873e6, 0.046068222568574034, -0.00969943667881636, 0.0006378608538787716, 4330.765607577645, 2.439065386343263e6, -0.007622258440596032, -0.04573961511381167, -0.0001097465766309517, -0.0017566380665593017, 2.3077929863980566]\n",
      "Period: 818.4165418400019 log Prob: -232.03874279420785 Param: [2.3759030339024135e-6, 224.70077622220504, 2.4335037687775698e6, 0.0022852958025901863, -0.0004330481961483955, 3.0526863129256227e-6, 365.25645237398663, 2.433624407541794e6, 0.014752639054919655, 0.002694808003209105, 8.569496800595891e-7, 818.4165418400019, 2.4394788368648984e6, 0.08464890570584836, -0.009799557409289117, 0.0008504850771746416, 4255.676108611576, 2.439050107070794e6, 0.031148447141887404, -0.03489075266388941, 0.00021030765914158625, -0.0017485780042359826, 2.318395192824371]\n",
      "Period: 935.560844250792 log Prob: -237.30745805050756 Param: [2.4610146166250484e-6, 224.70077748482638, 2.433503768746885e6, -0.012178446286227966, -0.002606244513726283, 2.96335729402664e-6, 365.2564544085201, 2.4336244075025744e6, 0.0034596748567739537, 0.00040822876112425207, 1.5571704094679662e-6, 935.560844250792, 2.438956185186821e6, 0.16435083762558, -0.008354995088828745, 0.0007271277352451388, 4184.481539118635, 2.4390314404417234e6, 0.00631804884776057, -0.04530816546773168, 9.945127818017393e-5, -0.0016855494462332814, 2.3135057333126383]\n",
      "Period: 1069.4726322703868 log Prob: -232.42991440439295 Param: [2.375708165583215e-6, 224.70077534194573, 2.433503768796057e6, 0.01125449579396297, -0.00308426135520765, 3.12248577772265e-6, 365.25635962510034, 2.4336244089482552e6, 0.022344863621905096, -0.0004378879191130928, 5.952570956973776e-7, 1069.4726322703868, 2.4392750302442894e6, 0.30116882252686894, -0.06757290795803711, 0.0007801160036007772, 4324.320430608599, 2.439078315118917e6, 0.016246368201005133, -0.03563210980474357, -7.099515210916655e-5, -0.0018406206536695704, 2.3095183331385267]\n",
      "Period: 1222.5519250875625 log Prob: -230.02776332236417 Param: [2.4258301114715633e-6, 224.7007759242072, 2.4335037687840573e6, 0.0039122941623296395, 0.0019326354622430663, 3.0683402452846692e-6, 365.256452795382, 2.4336244075443395e6, 0.01627018957225206, 0.004471931119646002, 3.1801316818693115e-6, 1222.5519250875625, 2.4391050649124295e6, 0.08311848473701984, -0.1222152586174614, 0.0008309723852715194, 4270.8574608391, 2.43903479715382e6, 0.034248801045793004, -0.03617197004398025, 0.00025476792023349887, -0.001748854581230631, 2.319306053848097]\n",
      "Period: 1397.5422693728424 log Prob: -237.2379602488342 Param: [2.364009321358263e-6, 224.70077641198787, 2.433503768770913e6, -0.001290971669109986, -0.0010655193292601142, 3.0434453874402936e-6, 365.2564512685515, 2.4336244075530614e6, 0.012268370475870042, 0.0014594806958312158, 5.493084431930416e-6, 1397.5422693728424, 2.4390356513691028e6, 0.021650991629367723, 0.013757231871278724, 0.0009655602884956931, 4238.6889782530125, 2.4390618852784927e6, 0.036403499213130984, -0.032202212502556164, 3.522301511451329e-5, -0.0017656123596311779, 2.3121642666144133]\n",
      "Period: 1597.5799101898335 log Prob: -238.41817825995352 Param: [2.3913545151597194e-6, 224.70077642338907, 2.433503768769941e6, 0.00327098726862068, -0.0024482219593611526, 3.064888527299801e-6, 365.2564507879807, 2.4336244075619993e6, 0.015834665358806267, 0.000488547606424254, 2.517722516722781e-6, 1597.5799101898335, 2.4394405980199203e6, -0.05625621709513963, -0.23123821538069794, 0.0008371407851720054, 4236.901038354261, 2.439073668723981e6, 0.02089906287083571, -0.03444919294765327, 3.1380540270403334e-5, -0.0017964000147734512, 2.312263876563949]\n",
      "Period: 1826.2500000000005 log Prob: -233.69428542504235 Param: [2.4972301058498856e-6, 224.70077691524156, 2.433503768755676e6, 0.004428865097512645, 0.0009370865409352748, 3.07357385718849e-6, 365.25645482346675, 2.433624407510736e6, 0.017004166487816795, 0.0032800562569623797, 3.3469531349825854e-5, 1826.2500000000005, 2.439137458273543e6, 0.13560149824148454, 0.008660648804220843, 0.0007933243412543001, 4180.916798636722, 2.439038965402978e6, 0.017809438725931066, -0.03978220678293919, 9.932505733903883e-5, -0.001743702164127137, 2.313234617160525]\n",
      "Finished 4-planet fit w/ fixed period: [2.4258301114715633e-6, 224.7007759242072, 2.4335037687840573e6, 0.0039122941623296395, 0.0019326354622430663, 3.0683402452846692e-6, 365.256452795382, 2.4336244075443395e6, 0.01627018957225206, 0.004471931119646002, 3.1801316818693115e-6, 1222.5519250875625, 2.4391050649124295e6, 0.08311848473701984, -0.1222152586174614, 0.0008309723852715194, 4270.8574608391, 2.43903479715382e6, 0.034248801045793004, -0.03617197004398025, 0.00025476792023349887, -0.001748854581230631, 2.319306053848097]\n",
      "Finished global 4-planet fit.\n",
      "New 4-planet chi-square: 361.9628192135181\n",
      "Maximum: -229.7701183906394 Param: [2.455609579286641e-6, 224.70077577726735, 2.4335037687877933e6, 0.0067424771660325716, 0.002493053690918272, 3.0888809813665807e-6, 365.25645377041604, 2.4336244075289955e6, 0.018569982045217856, 0.004757968359792486, 3.2435931818735047e-6, 1218.4214747760225, 2.4391018081450444e6, 0.09836471976467792, -0.123505379683503, 0.0007896859185784995, 4273.927055504343, 2.4390328058933383e6, 0.03433511763567095, -0.03748234206902636, 0.00026269240732138693, -0.0017518257878878767, 2.319697675395019]\n"
     ]
    },
    {
     "data": {
      "text/plain": [
       "([3.7289123126215386e-6, 224.70077616301975, 2.4335037687782003e6, -0.07694204392322318, -0.06265537975523863, 2.608664024845969e-6, 365.25645891552847, 2.433624407437844e6, -0.04511816215660164, -0.04818773972024614, 0.0003907609176202404, 4222.098360512293, 2.4398926368598826e6, -0.09007320902956864, 0.12030673455053578], [2.3728417355698103e-6, 224.70077643691312, 2.4335037687693886e6, 0.0031004982371343466, -0.002386815420274779, 3.064835888012818e-6, 365.2564504835976, 2.433624407565781e6, 0.015734795052767203, 0.0004608482577830722, 0.0008405817480523152, 4244.405642474456, 2.439076449650081e6, 0.020855975162163278, -0.034225760785312094, 5.279707336316315e-5, -0.0017918555433348777, 2.3135965399051712], [2.455609579286641e-6, 224.70077577726735, 2.4335037687877933e6, 0.0067424771660325716, 0.002493053690918272, 3.0888809813665807e-6, 365.25645377041604, 2.4336244075289955e6, 0.018569982045217856, 0.004757968359792486  …  0.09836471976467792, -0.123505379683503, 0.0007896859185784995, 4273.927055504343, 2.4390328058933383e6, 0.03433511763567095, -0.03748234206902636, 0.00026269240732138693, -0.0017518257878878767, 2.319697675395019])"
      ]
     },
     "execution_count": 28,
     "metadata": {},
     "output_type": "execute_result"
    }
   ],
   "source": [
    "include(\"fit_planet4.jl\")\n",
    "fit_planet4(jd1,10,30,2430000,1e-5, 1.8*365.25, 2.2*365.25,10,36)"
   ]
  },
  {
   "cell_type": "markdown",
   "metadata": {},
   "source": [
    "## Fit 5 planets"
   ]
  },
  {
   "cell_type": "code",
   "execution_count": 55,
   "metadata": {},
   "outputs": [
    {
     "name": "stdout",
     "output_type": "stream",
     "text": [
      "Initial parameters: [3.0e-6, 224.70077409705425, 3503.768807440609, 0.01, 0.01, 3.0e-6, 365.25642931515705, 3624.4078769599423, 0.01, 0.01]\n",
      "Initial chi-square: 1116.9958037616166\n",
      "Finished 2-planet fit in 2 iterations.\n",
      "New p2 chi-square: 646.8498193209612\n",
      "Param: [3.692278422763092e-6, 224.7007779333105, 3503.7687611729925, -0.09146264187762092, -0.051138878438349133, 2.572425291589571e-6, 365.25643886693337, 3624.407756798661, -0.055422768111622764, -0.03932115153591312]\n",
      "Finished 3-planet fit w/ fixed period: [3.960916647474602e-6, 224.70077728877877, 3503.768745880229, -0.06251566587385583, -0.05617101043286336, 2.6755253082667e-6, 365.2564486463442, 3624.407544324304, -0.032895968905825815, -0.043105029558548016, 0.000457969813411406, 4340.82963794419, 1171.9662164877855, -0.06439281244417723, 0.09885860889098927]\n",
      "Finished global 3-planet fit in 2 iterations.\n",
      "New 3-planet chi-square: 216.9571838733844\n",
      "Maximum: -209.8083009645936 Param: [3.905392403096112e-6, 224.70078008483736, 3503.7686759329613, -0.06713332113039337, -0.057464976192079416, 2.6456626387499805e-6, 365.2564616417808, 3624.40734258749, -0.036756784079884114, -0.043738086725239836, 0.00034968663368679085, 4187.237602700453, 1498.1263760967636, -0.11348738976325527, 0.1268780385766001]\n",
      "Finished 4-planet fit w/ fixed period: [5.2128590692812625e-6, 224.70077928146694, 3503.7687012211522, 0.0033098947004105385, -0.037053339345374046, 2.9792115146998595e-6, 365.25645253756807, 3624.407509036083, 0.015208026250188517, -0.028985024315816395, 1.2864777149875436e-5, 1460.9999999999995, -59.6366147055991, 0.06530760735205235, 0.4924844016987788, 0.000500674819915459, 4261.097234421322, 845.7760303533898, -0.06068844494708061, -0.003294240027348924]\n",
      "Finished global 4-planet fit in 3 iterations.\n",
      "New 4-planet chi-square: 171.52655967153072\n",
      "Maximum: -200.64478673868516 Param: [5.237188856431306e-6, 224.70077933695654, 3503.7686980821295, 0.004691243030813781, -0.0388096384539098, 2.9899866556326524e-6, 365.25645472185016, 3624.407476345941, 0.016333140839217317, -0.030649084314979914, 1.3759834980922222e-5, 1457.3912666480735, -47.60931630859596, -0.042004462802081456, 0.491374743201507, 0.0004546471442867087, 4272.749457844985, 826.4240188684772, -0.07988030093193335, -0.0019646419859845345]\n",
      "Finished 5-planet fit w/ fixed period: [5.237188856431306e-6, 224.70077917125158, 3503.7686969528336, 0.004691243030813781, -0.0388096384539098, 2.9899866556326524e-6, 365.25645419211054, 3624.4074788422777, 0.016333140839217317, -0.030649084314979914, 1.0000316836928267, 547.8749999999998, 1457.3912666480735, -47.60931630859596, -0.042004462802081456, 0.491374743201507, 0.0004546471442867087, 4272.749457844985, 826.4240188684772, -0.07988030093193335, -0.0019646419859845345, -7.0, 0.0, 0.01, 0.01]\n",
      "Finished global 5-planet fit in 1 iterations.\n",
      "New 5-planet chi-square: 2974.401129737357\n",
      "Maximum: -311.914121874707 Param: [5.237188856431306e-6, 224.70077902258524, 3503.768696250564, 0.004691243030813781, -0.0388096384539098, 2.9899866556326524e-6, 365.2564536973664, 3624.407481786325, 0.016333140839217317, -0.030649084314979914, 1.0000316836928267, 547.8749999999998, 1457.3912666480735, -47.60931630859596, -0.042004462802081456, 0.491374743201507, 0.0004546471442867087, 4272.749457844985, 826.4240188684772, -0.07988030093193335, -0.0019646419859845345, -7.0, 0.0, 0.01, 0.01]\n",
      " 43.840550 seconds (17.94 M allocations: 1.466 GiB, 0.89% gc time)\n"
     ]
    },
    {
     "data": {
      "text/plain": [
       "([5.237188856431306e-6, 224.70077933695654, 3503.7686980821295, 0.004691243030813781, -0.0388096384539098, 2.9899866556326524e-6, 365.25645472185016, 3624.407476345941, 0.016333140839217317, -0.030649084314979914, 1.3759834980922222e-5, 1457.3912666480735, -47.60931630859596, -0.042004462802081456, 0.491374743201507, 0.0004546471442867087, 4272.749457844985, 826.4240188684772, -0.07988030093193335, -0.0019646419859845345], [5.237188856431306e-6, 224.70077902258524, 3503.768696250564, 0.004691243030813781, -0.0388096384539098, 2.9899866556326524e-6, 365.2564536973664, 3624.407481786325, 0.016333140839217317, -0.030649084314979914  …  0.491374743201507, 0.0004546471442867087, 4272.749457844985, 826.4240188684772, -0.07988030093193335, -0.0019646419859845345, -7.0, 0.0, 0.01, 0.01])"
      ]
     },
     "execution_count": 55,
     "metadata": {},
     "output_type": "execute_result"
    }
   ],
   "source": [
    "include(\"fit_planet5.jl\")\n",
    "@time fit_planet5(\"INPUTS/tt_30.0snoEMB30.0yrs.txt\", jd1, 30, 30, 2430000, 1e-5, 11*365.25, 12*365.25, 10,2,1.5*365.25,4*365.25,10,1.5*365.25,3*365.25,10)"
   ]
  },
  {
   "cell_type": "code",
   "execution_count": 45,
   "metadata": {
    "tags": []
   },
   "outputs": [
    {
     "data": {
      "text/plain": [
       "\"MCMC/fromEMB/p5_mcmc30s30yrs.jld2\""
      ]
     },
     "execution_count": 45,
     "metadata": {},
     "output_type": "execute_result"
    }
   ],
   "source": [
    "include(\"MCMC.jl\")\n",
    "foutput=string(\"MCMC/fromEMB/p\",5,\"_mcmc\",30,\"s\",30,\"yrs.jld2\")\n",
    "# p=jldopen(\"FITS/fromEMB/p5_fit30s30yrs.jld2\",\"r\")\n",
    "# @time MCMC(foutput,p[string(\"best_p\",5)],p[string(\"lprob_best_p\",5)],30000,50,5,p[\"ntrans\"][1:5],p[\"tt0\"],p[\"tt\"],p[\"sigtt\"],true,true)"
   ]
  },
  {
   "cell_type": "code",
   "execution_count": 21,
   "metadata": {},
   "outputs": [
    {
     "name": "stdout",
     "output_type": "stream",
     "text": [
      "MCMC file for EMB with p5 model at 30 secs and 30 yrs doesn't exist!!!!\n"
     ]
    }
   ],
   "source": [
    "print_vals(30,30,\"EMB\",\"p5\")"
   ]
  },
  {
   "cell_type": "code",
   "execution_count": 2,
   "metadata": {},
   "outputs": [
    {
     "data": {
      "text/plain": [
       "plot_ttvs (generic function with 2 methods)"
      ]
     },
     "execution_count": 2,
     "metadata": {},
     "output_type": "execute_result"
    }
   ],
   "source": [
    "include(\"decompose_ttvs.jl\")\n",
    "include(\"plot_likelihood.jl\")\n",
    "include(\"corner_plot.jl\")\n",
    "include(\"plot_ttvs.jl\")"
   ]
  },
  {
   "cell_type": "markdown",
   "metadata": {
    "jp-MarkdownHeadingCollapsed": true,
    "tags": []
   },
   "source": [
    "## Posterior Distributions"
   ]
  },
  {
   "cell_type": "markdown",
   "metadata": {},
   "source": [
    "### Plot masses of Venus and Earth in $M_{\\oplus}$"
   ]
  },
  {
   "cell_type": "code",
   "execution_count": null,
   "metadata": {
    "collapsed": true,
    "jupyter": {
     "outputs_hidden": true
    }
   },
   "outputs": [],
   "source": [
    "xvalue = vec(par_mcmc[:,iburn:nsteps,1]).* CGS.MSUN/CGS.MEARTH\n",
    "yvalue = vec(par_mcmc[:,iburn:nsteps,6]).*CGS.MSUN/CGS.MEARTH\n",
    "optx = mu_1.* CGS.MSUN/CGS.MEARTH\n",
    "opty = mu_2.* CGS.MSUN/CGS.MEARTH\n",
    "truex = 0.815\n",
    "truey = 1\n",
    "nbins = 50\n",
    "corner_plot(xvalue,yvalue,nbins,optx,opty,truex,truey)\n",
    "xlabel(L\"Mass of Venus [$M_{\\oplus}$]\")\n",
    "ylabel(L\"Mass of Earth [$M_{\\oplus}$]\")\n",
    "# savefig(\"massposteriors.png\")"
   ]
  },
  {
   "cell_type": "code",
   "execution_count": 6,
   "metadata": {},
   "outputs": [
    {
     "name": "stderr",
     "output_type": "stream",
     "text": [
      "WARNING: replacing module CGS.\n"
     ]
    }
   ],
   "source": [
    "include(\"corner_plot.jl\")\n",
    "corner_hist(10.0,20.0,\"EMB\",\"p3\",50)"
   ]
  },
  {
   "cell_type": "code",
   "execution_count": 5,
   "metadata": {},
   "outputs": [],
   "source": [
    "corner_hist(10.0,20.0,\"noEMB\",\"p3\",50)"
   ]
  },
  {
   "cell_type": "markdown",
   "metadata": {},
   "source": [
    "### Plot eccentricities of Venus and Earth"
   ]
  },
  {
   "cell_type": "code",
   "execution_count": null,
   "metadata": {},
   "outputs": [],
   "source": [
    "xvalue = sqrt.(vec(par_mcmc[:,iburn:nsteps,4]).^2 + vec(par_mcmc[:,iburn:nsteps,5]).^2)\n",
    "yvalue = sqrt.(vec(par_mcmc[:,iburn:nsteps,9]).^2 + vec(par_mcmc[:,iburn:nsteps,10]).^2)\n",
    "optx = sqrt(e1cosw1^2 + e1sinw1^2)\n",
    "opty = sqrt(e2cosw2^2 + e2sinw2^2)\n",
    "truex = 0.00677323\n",
    "truey = 0.01671022\n",
    "nbins=50\n",
    "corner_plot(xvalue,yvalue,nbins,optx,opty,truex,truey)\n",
    "xlabel(\"Eccentricity of Venus\")\n",
    "ylabel(\"Eccentricity of Earth\")\n",
    "# savefig(\"eccposteriors.png\")"
   ]
  },
  {
   "cell_type": "markdown",
   "metadata": {},
   "source": [
    "### Plot periods of Venus and Earth?"
   ]
  },
  {
   "cell_type": "code",
   "execution_count": null,
   "metadata": {
    "tags": []
   },
   "outputs": [],
   "source": [
    "xvalue = vec(par_mcmc[:,iburn:nsteps,2])\n",
    "yvalue = vec(par_mcmc[:,iburn:nsteps,7]) \n",
    "optx = P_1\n",
    "opty = P_2\n",
    "truex = 225\n",
    "truey = 365\n",
    "nbins=50\n",
    "corner_plot(xvalue, yvalue, nbins, optx, opty, truex, truey)\n",
    "xlabel(L\"Period of Venus [$days$]\")\n",
    "ylabel(L\"Period of Earth [$days$]\")\n"
   ]
  },
  {
   "cell_type": "markdown",
   "metadata": {},
   "source": [
    "### Plot mass of Jupiter $M_{Jup}$ vs its eccentricity"
   ]
  },
  {
   "cell_type": "code",
   "execution_count": null,
   "metadata": {
    "collapsed": true,
    "jupyter": {
     "outputs_hidden": true
    }
   },
   "outputs": [],
   "source": [
    "xvalue = vec(par_mcmc[:,iburn:nsteps,11]).* CGS.MSUN/CGS.MJUPITER\n",
    "yvalue = sqrt.(vec(par_mcmc[:,iburn:nsteps,14]).^2 + vec(par_mcmc[:,iburn:nsteps,15]).^2)\n",
    "optx = mu_3.* CGS.MSUN/CGS.MJUPITER\n",
    "opty = sqrt(e3cosw3^2 + e3sinw3^2)\n",
    "truex = 1\n",
    "truey = 0.04839266\n",
    "nbins=50\n",
    "corner_plot(xvalue, yvalue, nbins, optx, opty, truex, truey)\n",
    "xlabel(L\"Mass of Jupiter [$M_{Jup}$]\")\n",
    "ylabel(\"Eccentricity of Jupiter\")\n",
    "# savefig(\"jupiterposteriors.png\")"
   ]
  },
  {
   "cell_type": "markdown",
   "metadata": {},
   "source": [
    "### Plot time of inferior conjuction [JD - 24550000] $t_{03}$ vs Jupiter period $P_3$. "
   ]
  },
  {
   "cell_type": "code",
   "execution_count": null,
   "metadata": {
    "collapsed": true,
    "jupyter": {
     "outputs_hidden": true
    }
   },
   "outputs": [],
   "source": [
    "xvalue = vec(par_mcmc[:,iburn:nsteps,12])\n",
    "yvalue = vec(par_mcmc[:,iburn:nsteps,13]) .- 2.443e6\n",
    "optx = P_3\n",
    "opty = t03 .- 2.443e6\n",
    "# truex = 1\n",
    "# truey = 0.04839266\n",
    "nbins=50\n",
    "corner_plot(xvalue, yvalue, nbins, optx, opty, truex, truey)\n",
    "xlabel(L\"Period of Jupiter [$days$]\")\n",
    "ylabel(L\"$t_{0}$ of Jupiter\")"
   ]
  },
  {
   "cell_type": "markdown",
   "metadata": {},
   "source": [
    "### Plot TTV of Earth due to Moon $t_{max}$ vs phase change of Moon per Earth year $\\Delta \\phi$"
   ]
  },
  {
   "cell_type": "code",
   "execution_count": null,
   "metadata": {},
   "outputs": [],
   "source": [
    "# function plot_posterior(samples,bins,range)\n",
    "# tmax = vec(sqrt(par_mcmc[:,iburn:nsteps,16]).^2 + vec(par_mcmc[:,iburn:nsteps,17]).^2)\n",
    "xvalue = sqrt.(vec(par_mcmc[:,iburn:nsteps,16].^2) + vec(par_mcmc[:,iburn:nsteps,17].^2)).* (24 * 60)\n",
    "yvalue = vec(par_mcmc[:,iburn:nsteps,18]).* 57.2957795 \n",
    "optx = sqrt(param[16]^2 + param[17]^2).* (24 * 60)\n",
    "opty = param[18].* 57.2957795 \n",
    "# truex = \n",
    "truey = 2.3122 .* 57.2957795 \n",
    "meanx=mean(xvalue);sigmax=std(xvalue)\n",
    "meany=mean(yvalue);sigmay=std(yvalue)\n",
    "nbins=50\n",
    "corner_plot(xvalue,yvalue,nbins,optx,opty,truex,truey)\n",
    "xlabel(\"Amplitude of Moon [min]\")\n",
    "ylabel(\"Phase Change of Moon [deg]\")\n",
    "# savefig(\"moonposteriors.png\")"
   ]
  },
  {
   "cell_type": "markdown",
   "metadata": {},
   "source": [
    "### Plot longitude of ascending node $\\Omega$ vs longitude of pericenter $\\bar \\omega$; with argument of pericenter $\\omega$"
   ]
  },
  {
   "cell_type": "code",
   "execution_count": 245,
   "metadata": {},
   "outputs": [
    {
     "data": {
      "text/plain": [
       "([2.433624404896996e6, 2.433989659571913e6, 2.4343549169757506e6, 2.434720170198379e6, 2.4350854290913274e6, 2.435450686189174e6, 2.435815938772034e6, 2.436181195351934e6, 2.436546452039964e6, 2.4369117088691522e6  …  2.441294789551072e6, 2.441660044224819e6, 2.4420253037346653e6, 2.4423905602110857e6, 2.4427558136647013e6, 2.443121070883718e6, 2.4434863245670246e6, 2.4438515822939654e6, 2.4442168407435166e6, 2.4445820922158603e6], [2.433624402638408e6, 2.433989659065065e6, 2.434354915491722e6, 2.434720171918379e6, 2.435085428345036e6, 2.4354506847716933e6, 2.435815941198351e6, 2.436181197625008e6, 2.436546454051665e6, 2.436911710478322e6  …  2.4412947875982076e6, 2.4416600440248647e6, 2.4420253004515218e6, 2.442390556878179e6, 2.442755813304836e6, 2.443121069731493e6, 2.44348632615815e6, 2.4438515825848076e6, 2.4442168390114647e6, 2.444582095438122e6])"
      ]
     },
     "execution_count": 245,
     "metadata": {},
     "output_type": "execute_result"
    }
   ],
   "source": [
    "g=jldopen(\"FITS/fromEMB/p3_fit30.0s30.0yrs.jld2\",\"r\")\n",
    "tt,tt0,sigtt,ttmodel = g[\"tt\"],g[\"tt0\"],g[\"sigtt\"],g[\"ttmodel\"]\n",
    "pbest_global = g[\"best_p3\"]\n",
    "nplanet,ntrans = g[\"nplanet\"],g[\"ntrans\"]\n",
    "# pair_ttvs = decompose_ttvs(nplanet,ntrans,pbest_global) .* (24 * 60)\n",
    "n1,n2,n3 = ntrans\n",
    "mu1,P1,t01,ecosw1,esinw1 = pbest_global[1:5]\n",
    "mu2,P2,t02,ecosw2,esinw2 = pbest_global[6:10]\n",
    "mu3,P3,t03,ecosw3,esinw3 = pbest_global[11:15]\n",
    "# time1 = collect(t01 .+ range(0,stop=n1-1,length=n1) .* P1)\n",
    "# time2 = collect(t02 .+ range(0,stop=n2-1,length=n2) .* P2)\n",
    "tt1,tt01 = tt[1:n1],tt0[1:n1]\n",
    "tt2,tt02 = tt[n1+1:n1+n2],tt0[n1+1:n1+n2]"
   ]
  },
  {
   "cell_type": "markdown",
   "metadata": {},
   "source": [
    "## Longitudes"
   ]
  },
  {
   "cell_type": "code",
   "execution_count": 258,
   "metadata": {},
   "outputs": [
    {
     "data": {
      "text/plain": [
       "calc_M (generic function with 1 method)"
      ]
     },
     "execution_count": 258,
     "metadata": {},
     "output_type": "execute_result"
    }
   ],
   "source": [
    "J2000 = 2451545.0\n",
    "jd1=2.4332825e6\n",
    "calc_rad(value) = value * pi/180\n",
    "calc_deg(value) = value * 180/pi\n",
    "calc_omega(pomega,Omega) = pomega - Omega\n",
    "calc_M(t,t0,P)=2pi .* (t.-t0) ./ P\n",
    "calc_L(t,t0,P,esinw)=((360/P) .* (t.-t0)) .+ 2*esinw "
   ]
  },
  {
   "cell_type": "markdown",
   "metadata": {},
   "source": [
    "calc_L from Agol & Deck 2015 equation 5 for mean longitude"
   ]
  },
  {
   "cell_type": "code",
   "execution_count": 163,
   "metadata": {},
   "outputs": [
    {
     "data": {
      "text/plain": [
       "calc_L (generic function with 1 method)"
      ]
     },
     "execution_count": 163,
     "metadata": {},
     "output_type": "execute_result"
    }
   ],
   "source": [
    "function calc_L(t,t0,P,esinw)\n",
    "    lambda = ((360/P) .* (t.-t0)) .+ 2*esinw\n",
    "    return lambda\n",
    "end"
   ]
  },
  {
   "cell_type": "code",
   "execution_count": 133,
   "metadata": {},
   "outputs": [
    {
     "data": {
      "text/plain": [
       "(0.6151971978957823, 1.000017663879583, 11.597325781312636)"
      ]
     },
     "execution_count": 133,
     "metadata": {},
     "output_type": "execute_result"
    }
   ],
   "source": [
    "P1/365.25,P2/365.25,P3/365.25"
   ]
  },
  {
   "cell_type": "code",
   "execution_count": 246,
   "metadata": {},
   "outputs": [
    {
     "data": {
      "text/plain": [
       "(0.007552295476634351, 0.01466059740501133, 0.0454727262813164)"
      ]
     },
     "execution_count": 246,
     "metadata": {},
     "output_type": "execute_result"
    }
   ],
   "source": [
    "e1 = sqrt.(ecosw1.^2 + esinw1.^2)\n",
    "e2 = sqrt.(ecosw2.^2 + esinw2.^2)\n",
    "e3 = sqrt.(ecosw3.^2 + esinw3.^2)\n",
    "e1,e2,e3"
   ]
  },
  {
   "cell_type": "markdown",
   "metadata": {},
   "source": [
    "We assume an edge-on, plane-parallel system with the $\\Omega = 0$ such that $\\omega = \\varpi$"
   ]
  },
  {
   "cell_type": "code",
   "execution_count": 247,
   "metadata": {},
   "outputs": [
    {
     "data": {
      "text/plain": [
       "(110.24093749596905, 34.5333600284138, -69.08910379986942)"
      ]
     },
     "execution_count": 247,
     "metadata": {},
     "output_type": "execute_result"
    }
   ],
   "source": [
    "w1 = calc_deg(atan(esinw1,ecosw1))\n",
    "w2 = calc_deg(atan(esinw2,ecosw2))\n",
    "w3 = calc_deg(atan(esinw3,ecosw3))\n",
    "w1,w2,w3"
   ]
  },
  {
   "cell_type": "markdown",
   "metadata": {},
   "source": [
    "$L \\equiv \\lambda$. Check to see if $\\lambda_{E} \\sim \\lambda_{V}$ at their respective transit times. $\\lambda mod 2 \\pi = \\lambda_{obs}$[what?] where $\\lambda_{obs}$ is longitude that both Earth and Venus have."
   ]
  },
  {
   "cell_type": "code",
   "execution_count": 273,
   "metadata": {},
   "outputs": [
    {
     "data": {
      "text/plain": [
       "([0.012371787476397042, 360.0133343565473, 720.0169824870229, 1080.0135526690897, 1440.0122255198048, 1800.0170057665478, 2160.0177544631683, 2520.01589496752, 2880.0098961630033, 3240.010708947574  …  14040.012713830656, 14400.014083406671, 14760.016677415953, 15120.013983489262, 15480.011012335533, 15840.016055447844, 16200.017730867143, 16560.01607892639, 16920.011100616346, 17280.00925384235], [0.0193074189826956, 360.01755401405876, 720.0184902573101, 1080.015305463873, 1440.017709387891, 1800.0183440440064, 2160.0145286887832, 2520.0146528520695, 2880.014883589056, 3240.0152534528497  …  7560.018441732332, 7920.0166871745005, 8280.01969911849, 8640.01972129125, 9000.016764160737, 9360.017518242807, 9720.014787497934, 10080.016042194638, 10440.018009102552, 10800.01309921289])"
      ]
     },
     "execution_count": 273,
     "metadata": {},
     "output_type": "execute_result"
    }
   ],
   "source": [
    "L_1 = calc_L(tt1,t01,P1,esinw1)\n",
    "L_2 = calc_L(tt2,t02,P2,esinw2)\n",
    "L_1,L_2\n",
    "# for i=1:length(tt2)\n",
    "#     println(L_1[i],\" \",L_2[i])\n",
    "# end"
   ]
  },
  {
   "cell_type": "code",
   "execution_count": 248,
   "metadata": {},
   "outputs": [
    {
     "data": {
      "text/plain": [
       "([110.23441005698854, 470.2353371876402, 830.2388169261313, 1190.2355142877648, 1550.2334225068087, 1910.2392921671903, 2270.2397960284884, 2630.2377110567327, 2990.232755940259, 3350.232222648511  …  14150.234538806002, 14510.235477996555, 14870.238889408038, 15230.235784719922, 15590.233067660847, 15950.238464156784, 16310.239487117586, 16670.237586353087, 17030.233029423012, 17390.23145479437], [34.537352959732864, 394.53369807432495, 754.5375676629656, 1114.5321719224687, 1474.5349057276383, 1834.5375357509597, 2194.530177307468, 2554.5326940934497, 2914.533180203558, 3274.531020179454  …  7594.537901329611, 7954.533481497117, 8314.536540632798, 8674.53882086993, 9034.532613647943, 9394.535745181794, 9754.533393802163, 10114.532368817097, 10474.537012190096, 10834.530400168693])"
      ]
     },
     "execution_count": 248,
     "metadata": {},
     "output_type": "execute_result"
    }
   ],
   "source": [
    "L_1.+w1,L_2.+w2#,L_3.+w3"
   ]
  },
  {
   "cell_type": "markdown",
   "metadata": {},
   "source": [
    "Venus transit occurs 0.277 radians after it goes through periastron. Earth transit occurs -0.552 radians after it goes through periastron. "
   ]
  },
  {
   "cell_type": "code",
   "execution_count": 105,
   "metadata": {},
   "outputs": [
    {
     "data": {
      "text/plain": [
       "(15.870930925123806, -31.627270291221446)"
      ]
     },
     "execution_count": 105,
     "metadata": {},
     "output_type": "execute_result"
    }
   ],
   "source": [
    "calc_deg(0.277),calc_deg(-0.552)"
   ]
  },
  {
   "cell_type": "markdown",
   "metadata": {},
   "source": [
    "true $\\lambda$ from planet body data sheet: 181.9, 100, 34 degrees ##181.97973, 100.46435, 34.40438"
   ]
  },
  {
   "cell_type": "code",
   "execution_count": 218,
   "metadata": {},
   "outputs": [
    {
     "data": {
      "text/plain": [
       "(-354.506249963048, -336.98621027107424)"
      ]
     },
     "execution_count": 218,
     "metadata": {},
     "output_type": "execute_result"
    }
   ],
   "source": [
    "calc_L(jd1,t01,P1,esinw1),calc_L(jd1,t02,P2,esinw2)"
   ]
  },
  {
   "cell_type": "code",
   "execution_count": 238,
   "metadata": {},
   "outputs": [
    {
     "data": {
      "text/plain": [
       "(28904.40466370642, 17662.69590703417)"
      ]
     },
     "execution_count": 238,
     "metadata": {},
     "output_type": "execute_result"
    }
   ],
   "source": [
    "calc_L(J2000,t01,P1,esinw1),calc_L(J2000,t02,P2,esinw2)# L_3 = calc_L(tt3,J2000,P3,esinw3)"
   ]
  },
  {
   "cell_type": "code",
   "execution_count": 263,
   "metadata": {},
   "outputs": [
    {
     "data": {
      "text/plain": [
       "-28722.4353440571"
      ]
     },
     "execution_count": 263,
     "metadata": {},
     "output_type": "execute_result"
    }
   ],
   "source": [
    "(((360/P1) .* (t01 .- J2000)) .+ 181.97909950)"
   ]
  },
  {
   "cell_type": "code",
   "execution_count": 235,
   "metadata": {},
   "outputs": [
    {
     "data": {
      "text/plain": [
       "-17562.230413677655"
      ]
     },
     "execution_count": 235,
     "metadata": {},
     "output_type": "execute_result"
    }
   ],
   "source": [
    "(((360/P2) .* (t02 .- J2000)) .+ 100.46457166)"
   ]
  },
  {
   "cell_type": "code",
   "execution_count": 209,
   "metadata": {},
   "outputs": [
    {
     "data": {
      "text/plain": [
       "(181.99327132309554, 100.48119343431244)"
      ]
     },
     "execution_count": 209,
     "metadata": {},
     "output_type": "execute_result"
    }
   ],
   "source": [
    "28904.428615380195 -28722.4353440571, 17662.716756770507-17562.235563336195"
   ]
  },
  {
   "cell_type": "markdown",
   "metadata": {},
   "source": [
    "Calculate angular diffence between J2000 and time of periastron passage"
   ]
  },
  {
   "cell_type": "code",
   "execution_count": 266,
   "metadata": {},
   "outputs": [
    {
     "data": {
      "text/plain": [
       "(28904.4144435571, 17662.700134996194, 1070.4307553559763)"
      ]
     },
     "execution_count": 266,
     "metadata": {},
     "output_type": "execute_result"
    }
   ],
   "source": [
    "M1,M2,M3=360*(J2000-t01)/P1 , 360*(J2000-t02)/P2 , 360*(J2000-t03)/P3"
   ]
  },
  {
   "cell_type": "code",
   "execution_count": 37,
   "metadata": {},
   "outputs": [
    {
     "data": {
      "text/plain": [
       "(131.601125535, 102.78555318000001)"
      ]
     },
     "execution_count": 37,
     "metadata": {},
     "output_type": "execute_result"
    }
   ],
   "source": [
    "true_w1 = 131.60246718 - 0.00268329*.5\n",
    "true_w2 = 102.94719 - 0.32327364*.5\n",
    "# true_w3 = 14.72847983 - 0.21252668*.5\n",
    "true_w1,true_w2#,true_w3"
   ]
  },
  {
   "cell_type": "markdown",
   "metadata": {},
   "source": [
    "## Lunar phase offset"
   ]
  },
  {
   "cell_type": "markdown",
   "metadata": {},
   "source": [
    "Calculate lunar phase offset, $\\Delta\\phi= (P_p/P_s - round(P_p/P_s))*2\\pi$ "
   ]
  },
  {
   "cell_type": "code",
   "execution_count": 191,
   "metadata": {},
   "outputs": [
    {
     "data": {
      "text/plain": [
       "calc_dphi (generic function with 1 method)"
      ]
     },
     "execution_count": 191,
     "metadata": {},
     "output_type": "execute_result"
    }
   ],
   "source": [
    "calc_dphi(P_p,P_s) = (P_p/P_s - round(P_p/P_s))*2pi"
   ]
  },
  {
   "cell_type": "code",
   "execution_count": 192,
   "metadata": {},
   "outputs": [
    {
     "name": "stdout",
     "output_type": "stream",
     "text": [
      "2.315859255328402 rad or 132.68896127662714 degrees\n"
     ]
    }
   ],
   "source": [
    "dphi=calc_dphi(365.256355,27.322)\n",
    "println(dphi,\" rad or \",calc_deg(dphi),\" degrees\")"
   ]
  },
  {
   "cell_type": "markdown",
   "metadata": {},
   "source": [
    "To calculate moon amplitude, use $t_{max} = \\frac{M_s a_s P_p}{(M_s + M_p) 2\\pi a_p}$ based on velocity of EMB about Sun"
   ]
  },
  {
   "cell_type": "markdown",
   "metadata": {
    "jp-MarkdownHeadingCollapsed": true,
    "tags": []
   },
   "source": [
    "## Saturn Search"
   ]
  },
  {
   "cell_type": "markdown",
   "metadata": {},
   "source": [
    "how large is Saturn signal on Earth? less than 10 seconds"
   ]
  },
  {
   "cell_type": "code",
   "execution_count": 2,
   "metadata": {},
   "outputs": [],
   "source": [
    "if !@isdefined(TTVFaster)\n",
    "    include(\"TTVFaster/src/TTVFaster.jl\")\n",
    "  using Main.TTVFaster\n",
    "end\n",
    "import Main.TTVFaster.ttv_wrapper\n",
    "import Main.TTVFaster.chisquare"
   ]
  },
  {
   "cell_type": "code",
   "execution_count": 5,
   "metadata": {},
   "outputs": [
    {
     "name": "stdout",
     "output_type": "stream",
     "text": [
      "Initial parameters: [3.0444959103088e-6, 365.25, 2.433503765751229e6, 0.01, 0.01, 0.0002853553687428353, 10793.1375, 2.433624402577811e6, 0.01, 0.01]\n"
     ]
    }
   ],
   "source": [
    "per1=365.25;per2=29.55*365.25\n",
    "t01=2.433503765751229e6;t02=2.433624402577811e6\n",
    "init_param = [3.0444959103088e-6,per1,t01,0.01,0.01,\n",
    "            0.0002853553687428353,per2,t02,0.01,0.01] \n",
    "println(\"Initial parameters: \",init_param)\n",
    "# Set up data structure to hold planet properties,passed to TTVFaster\n",
    "nt1=29; nt2=2\n",
    "jmax = 5\n",
    "data=init_param\n",
    "p1=TTVFaster.Planet_plane_hk(data[1],data[2],data[3],data[4],data[ 5])\n",
    "p2=TTVFaster.Planet_plane_hk(data[6],data[7],data[8],data[9],data[10])\n",
    "time1 = collect(p1.trans0 .+ range(0,stop=nt1-1,length=nt1) .* p1.period)\n",
    "time2 = collect(p2.trans0 .+ range(0,stop=nt2-1,length=nt2) .* p2.period)\n",
    "# Initialize the computation of the Laplace coefficients:\n",
    "ttv1 = zeros(nt1)\n",
    "ttv2 = zeros(nt2)\n",
    "# Need first call to TTVFaster,without optimizing\n",
    "dummy=TTVFaster.compute_ttv!(jmax,p1,p2,time1,time2,ttv1,ttv2)"
   ]
  },
  {
   "cell_type": "code",
   "execution_count": 13,
   "metadata": {},
   "outputs": [
    {
     "data": {
      "image/png": "[encoded data removed]",
      "text/plain": [
       "Figure(PyObject <Figure size 640x480 with 1 Axes>)"
      ]
     },
     "metadata": {},
     "output_type": "display_data"
    },
    {
     "data": {
      "text/plain": [
       "1-element Array{PyCall.PyObject,1}:\n",
       " PyObject <matplotlib.lines.Line2D object at 0x13f5a05c0>"
      ]
     },
     "execution_count": 13,
     "metadata": {},
     "output_type": "execute_result"
    }
   ],
   "source": [
    "plot(time1,ttv1.*3600*24,\".\")"
   ]
  },
  {
   "cell_type": "code",
   "execution_count": null,
   "metadata": {},
   "outputs": [],
   "source": []
  },
  {
   "cell_type": "markdown",
   "metadata": {},
   "source": [
    "## Reference angle"
   ]
  },
  {
   "cell_type": "code",
   "execution_count": null,
   "metadata": {},
   "outputs": [],
   "source": [
    "f = extract_data(\"OUTPUTS/moon_fitmtry2params.jld2\")"
   ]
  },
  {
   "cell_type": "code",
   "execution_count": null,
   "metadata": {},
   "outputs": [],
   "source": [
    "@load(\"mcmc_mtryresults.jld2\")"
   ]
  },
  {
   "cell_type": "code",
   "execution_count": null,
   "metadata": {},
   "outputs": [],
   "source": [
    "mu_1,P_1,t01,e1cosw1,e1sinw1,\n",
    "mu_2,P_2,t02,e2cosw2,e2sinw2,\n",
    "mu_3,P_3,t03,e3cosw3,e3sinw3,\n",
    "tmaxsinphi0,tmaxcosphi0,deltaphi = f[\"pbest_global\"]"
   ]
  },
  {
   "cell_type": "code",
   "execution_count": null,
   "metadata": {},
   "outputs": [],
   "source": [
    "w1 = calc_deg(atan(e1sinw1,e1cosw1))\n",
    "w2 = calc_deg(atan(e2sinw2,e2cosw2))\n",
    "w3 = calc_deg(atan(e3sinw3,e3cosw3))\n",
    "w1,w2,w3"
   ]
  },
  {
   "cell_type": "code",
   "execution_count": null,
   "metadata": {},
   "outputs": [],
   "source": [
    "L_1 = calc_L(tt1,tt01,P_1,e1sinw1)\n",
    "L_2 = calc_L(tt2,tt02,P_2,e2sinw2)\n",
    "L_1,L_2"
   ]
  },
  {
   "cell_type": "code",
   "execution_count": 228,
   "metadata": {
    "collapsed": true,
    "jupyter": {
     "outputs_hidden": true
    },
    "tags": []
   },
   "outputs": [
    {
     "data": {
      "text/plain": [
       "49-element Array{Float64,1}:\n",
       " -27642.43014947823 \n",
       " -27282.430158204912\n",
       " -26922.43016693159 \n",
       " -26562.430175659018\n",
       " -26202.430184385696\n",
       " -25842.430193112374\n",
       " -25482.430201839055\n",
       " -25122.43021056648 \n",
       " -24762.43021929316 \n",
       " -24402.43022801984 \n",
       " -24042.43023674652 \n",
       " -23682.430245473945\n",
       " -23322.430254200626\n",
       "      ⋮             \n",
       " -14322.430472371347\n",
       " -13962.430481098772\n",
       " -13602.430489825452\n",
       " -13242.430498552132\n",
       " -12882.430507278812\n",
       " -12522.430516006238\n",
       " -12162.430524732918\n",
       " -11802.430533459597\n",
       " -11442.430542186275\n",
       " -11082.430550913703\n",
       " -10722.430559640381\n",
       " -10362.430568367061"
      ]
     },
     "execution_count": 228,
     "metadata": {},
     "output_type": "execute_result"
    }
   ],
   "source": [
    "(((360/P1) .* (tt01 .- J2000)) .+ 181.97909950) "
   ]
  },
  {
   "cell_type": "code",
   "execution_count": null,
   "metadata": {
    "collapsed": true,
    "jupyter": {
     "outputs_hidden": true
    }
   },
   "outputs": [],
   "source": [
    "((360/P_2) .* (tt02 .- J2000) .+ 100.46457166)"
   ]
  },
  {
   "cell_type": "code",
   "execution_count": null,
   "metadata": {},
   "outputs": [],
   "source": [
    "[(360/P_3) .* (t03 .- J2000) .+ 34.39644051,\n",
    "(360/P_3) .* (t03 .- J2000) .+ 34.39644051 + 360*1,\n",
    "(360/P_3) .* (t03 .- J2000) .+ 34.39644051 + 360*2]"
   ]
  },
  {
   "cell_type": "markdown",
   "metadata": {},
   "source": [
    "[Can't recall how i found this]"
   ]
  },
  {
   "cell_type": "code",
   "execution_count": null,
   "metadata": {},
   "outputs": [],
   "source": [
    "77.56936298207381+w1,77.76976911511983+w2,77.91649744476126+w3"
   ]
  },
  {
   "cell_type": "code",
   "execution_count": null,
   "metadata": {},
   "outputs": [],
   "source": [
    "xvalue = calc_deg.(atan.(vec(par_mcmc[:,iburn:nsteps,5]),vec(par_mcmc[:,iburn:nsteps,4]))) .+ 77.6\n",
    "yvalue = calc_deg.(atan.(vec(par_mcmc[:,iburn:nsteps,10]),vec(par_mcmc[:,iburn:nsteps,9]))) .+ 77.8\n",
    "optx = calc_deg(atan(e1sinw1,e1cosw1)) + 77.6\n",
    "opty = calc_deg(atan(e2sinw2,e2cosw2)) + 77.8\n",
    "truex = 131.601125535\n",
    "truey = 102.78555318000001\n",
    "meanx=mean(xvalue);sigmax=std(xvalue)\n",
    "meany=mean(yvalue);sigmay=std(yvalue)\n",
    "nbins=50\n",
    "corner_plot(xvalue,yvalue,nbins,optx,opty,truex,truey)\n",
    "xlabel(L\"Longitude $\\varpi$ of Venus [$deg$]\")\n",
    "ylabel(L\"Longitude $\\varpi$ of Earth [$deg$]\")"
   ]
  },
  {
   "cell_type": "code",
   "execution_count": null,
   "metadata": {},
   "outputs": [],
   "source": [
    "xvalue = calc_deg.(atan.(vec(par_mcmc[:,iburn:nsteps,15]),vec(par_mcmc[:,iburn:nsteps,14]))) .+ 77.9\n",
    "yvalue = calc_deg.(atan.(vec(par_mcmc[:,iburn:nsteps,10]),vec(par_mcmc[:,iburn:nsteps,9]))) .+ 77.8\n",
    "optx = calc_deg(atan(e3sinw3,e3cosw3)) + 77.9\n",
    "opty = calc_deg(atan(e2sinw2,e2cosw2)) + 77.8\n",
    "truex = 14.62221649\n",
    "truey = 102.78555318000001\n",
    "nbins=50\n",
    "corner_plot(xvalue,yvalue,nbins,optx,opty,truex,truey)\n",
    "xlabel(L\"Longitude $\\varpi$ of Jupiter [$deg$]\")\n",
    "ylabel(L\"Longitude $\\varpi$ of Earth [$deg$]\")"
   ]
  },
  {
   "cell_type": "code",
   "execution_count": null,
   "metadata": {},
   "outputs": [],
   "source": [
    "(360/P_3 * (t03 - J2000) - 34.39644051)"
   ]
  },
  {
   "cell_type": "code",
   "execution_count": null,
   "metadata": {},
   "outputs": [],
   "source": [
    "corner_planet(vec(par_mcmc[:,iburn:nsteps,6]).* CGS.MSUN/CGS.MEARTH,\n",
    "    vec(par_mcmc[:,iburn:nsteps,9]),\n",
    "    vec(par_mcmc[:,iburn:nsteps,10]),\n",
    "    vec(par_mcmc[:,iburn:nsteps,7]),\n",
    "0.815,-0.004,-0.002,224.5)"
   ]
  },
  {
   "cell_type": "code",
   "execution_count": null,
   "metadata": {},
   "outputs": [],
   "source": [
    "corner_planet(vec(par_mcmc[:,iburn:nsteps,11]).* CGS.MSUN/CGS.MEARTH,\n",
    "    vec(par_mcmc[:,iburn:nsteps,14]),\n",
    "    vec(par_mcmc[:,iburn:nsteps,15]),\n",
    "    vec(par_mcmc[:,iburn:nsteps,12])\n",
    "318,-0.004,-0.002,224.5)"
   ]
  },
  {
   "cell_type": "markdown",
   "metadata": {},
   "source": [
    "## Testing"
   ]
  },
  {
   "cell_type": "code",
   "execution_count": null,
   "metadata": {},
   "outputs": [],
   "source": []
  }
 ],
 "metadata": {
  "anaconda-cloud": {},
  "kernelspec": {
   "display_name": "Julia 1.3.0",
   "language": "julia",
   "name": "julia-1.3"
  },
  "language_info": {
   "file_extension": ".jl",
   "mimetype": "application/julia",
   "name": "julia",
   "version": "1.3.0"
  },
  "toc-autonumbering": false,
  "toc-showmarkdowntxt": false,
  "toc-showtags": false
 },
 "nbformat": 4,
 "nbformat_minor": 4
}
