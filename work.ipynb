{
 "cells": [
  {
   "cell_type": "code",
   "execution_count": 4,
   "metadata": {},
   "outputs": [
    {
     "name": "stdout",
     "output_type": "stream",
     "text": [
      "Step: 130 Walker: 50 Trial Log Prob: 958.6877878690897 Prob: 0.005322931119450049 Frac: 0.36646153846153845\n",
      "Step: "
     ]
    },
    {
     "name": "stderr",
     "output_type": "stream",
     "text": [
      "WARNING: replacing module TTVFaster.\n",
      "WARNING: replacing module TTVFaster.\n",
      "WARNING: replacing module TTVFaster.\n",
      "WARNING: replacing module TTVFaster.\n"
     ]
    },
    {
     "name": "stdout",
     "output_type": "stream",
     "text": [
      "624 Walker: 31 Trial Log Prob: 1008.5246096001837 Prob: 0.032432161320078166 Frac: 0.3330553862929348\n",
      "Step: 960 Walker: 28 Trial Log Prob: 1001.5544785539711 Prob: 0.19147319309112334 Frac: 0.3227937804827212\n",
      "Number of steps: 1000 Acceptance Rate: 0.32244\n",
      "Step: 1062 Walker: 27 Trial Log Prob: 1004.551631712245 Prob: 0.22045176400311664 Frac: 0.2947676308092298\n",
      "Step: 1313 Walker: 20 Trial Log Prob: 1006.4950358011348 Prob: 0.0056261032719581595 Frac: 0.299359795134443\n",
      "Step: 1536 Walker: 37 Trial Log Prob: 994.0854316857753 Prob: 0.033104869579339814 Frac: 0.29913764139321314\n",
      "Step: 1796 Walker: 39 Trial Log Prob: 984.2393077999412 Prob: 6.604651483389002e-5 Frac: 0.2986252481841715\n",
      "Number of steps: 2000 Acceptance Rate: 0.29932\n",
      "Step: 2160 Walker: 41 Trial Log Prob: 1004.9647703367268 Prob: 1.5561382220988473 Frac: 0.3060943561506695\n",
      "Step: 2161 Walker: 1 Trial Log Prob: 1009.8660507845007 Prob: 0.6793023827282205 Frac: 0.3064616922884639\n",
      "Step: 2229 Walker: 31 Trial Log Prob: 1011.063445270137 Prob: 0.1743316183388706 Frac: 0.3074971568541685\n",
      "Step: 2515 Walker: 34 Trial Log Prob: 988.4631888442182 Prob: 0.0009052711542111307 Frac: 0.3044610243257947\n",
      "Step: 2525 Walker: 21 Trial Log Prob: 1009.3627510970431 Prob: 0.026931103576118758 Frac: 0.30403112009458066\n",
      "Step: 2799 Walker: 37 Trial Log Prob: 986.1006327591076 Prob: 0.004866169196137293 Frac: 0.3069584595738288\n",
      "Step: 2997 Walker: 21 Trial Log Prob: 996.7114162168657 Prob: 0.0005456082692982532 Frac: 0.3057345296160254\n",
      "Number of steps: 3000 Acceptance Rate: 0.30562\n",
      "Burn-in Number (ends): 1438\n",
      "454.064644 seconds (10.22 G allocations: 155.471 GiB, 4.44% gc time)\n"
     ]
    },
    {
     "data": {
      "text/plain": [
       "([2.65305e-6 2.65305e-6 … 2.42847e-6 2.42847e-6; 2.60459e-6 2.60459e-6 … 2.28677e-6 2.09489e-6; … ; 2.26057e-6 2.26057e-6 … 2.23624e-6 2.23617e-6; 2.59066e-6 2.59066e-6 … 2.57919e-6 2.56717e-6]\n",
       "\n",
       "[224.701 224.701 … 224.701 224.701; 224.701 224.701 … 224.701 224.701; … ; 224.701 224.701 … 224.701 224.701; 224.701 224.701 … 224.701 224.701]\n",
       "\n",
       "[2.4335e6 2.4335e6 … 2.4335e6 2.4335e6; 2.4335e6 2.4335e6 … 2.4335e6 2.4335e6; … ; 2.4335e6 2.4335e6 … 2.4335e6 2.4335e6; 2.4335e6 2.4335e6 … 2.4335e6 2.4335e6]\n",
       "\n",
       "...\n",
       "\n",
       "[0.00221552 0.00221552 … 0.0016006 0.0016006; 0.000790701 0.000790701 … 0.0017027 0.00177971; … ; 0.00236056 0.00236056 … 0.00167398 0.00167399; 0.00143563 0.00143563 … 0.00153762 0.00153774]\n",
       "\n",
       "[3.96925 3.96925 … 3.96956 3.96956; 3.96923 3.96923 … 3.96996 3.97024; … ; 3.96923 3.96923 … 3.96599 3.96599; 3.96925 3.96925 … 3.96862 3.96833]\n",
       "\n",
       "[3.91743e-9 3.91743e-9 … 1.00715e-7 1.00715e-7; 9.65762e-9 9.65762e-9 … 1.07477e-7 1.1308e-7; … ; 5.82627e-9 5.82627e-9 … 1.3923e-7 1.39232e-7; 9.95046e-9 9.95046e-9 … 1.27646e-7 1.30014e-7], [-933.688 -933.688 … 1005.95 1005.95; -729.194 -729.194 … 1010.8 1004.12; … ; 215.392 215.392 … 1007.4 1007.41; 29.9304 29.9304 … 1007.05 1006.34])"
      ]
     },
     "execution_count": 4,
     "metadata": {},
     "output_type": "execute_result"
    }
   ],
   "source": [
    "include(\"full_moonrun.jl\")"
   ]
  },
  {
   "cell_type": "code",
   "execution_count": null,
   "metadata": {},
   "outputs": [],
   "source": []
  }
 ],
 "metadata": {
  "anaconda-cloud": {},
  "kernelspec": {
   "display_name": "Julia 1.1.0",
   "language": "julia",
   "name": "julia-1.1"
  },
  "language_info": {
   "file_extension": ".jl",
   "mimetype": "application/julia",
   "name": "julia",
   "version": "1.1.0"
  }
 },
 "nbformat": 4,
 "nbformat_minor": 4
}
