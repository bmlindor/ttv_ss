{
 "cells": [
  {
   "cell_type": "code",
   "execution_count": 1,
   "id": "c4e79833-b353-44dd-b783-47e50e1b6c5d",
   "metadata": {},
   "outputs": [],
   "source": [
    "using DelimitedFiles"
   ]
  },
  {
   "cell_type": "markdown",
   "id": "f59eac1a-3af3-4e30-8e95-093b0eb74e5d",
   "metadata": {},
   "source": [
    "Load .txt datafile with following columns: \n",
    "body_number (n), initial time of transit (tt0), actual transit times (tt), measurement error (sigtt)"
   ]
  },
  {
   "cell_type": "code",
   "execution_count": 2,
   "id": "4976675d-dc8e-4447-b305-0d416ac95a52",
   "metadata": {},
   "outputs": [
    {
     "data": {
      "text/plain": [
       "41×4 Array{Float64,2}:\n",
       " 1.0  2.4335e6   2.4335e6   0.000347222\n",
       " 1.0  2.43373e6  2.43373e6  0.000347222\n",
       " 1.0  2.43395e6  2.43395e6  0.000347222\n",
       " 1.0  2.43418e6  2.43418e6  0.000347222\n",
       " 1.0  2.4344e6   2.4344e6   0.000347222\n",
       " 1.0  2.43463e6  2.43463e6  0.000347222\n",
       " 1.0  2.43485e6  2.43485e6  0.000347222\n",
       " 1.0  2.43508e6  2.43508e6  0.000347222\n",
       " 1.0  2.4353e6   2.4353e6   0.000347222\n",
       " 1.0  2.43553e6  2.43553e6  0.000347222\n",
       " 1.0  2.43575e6  2.43575e6  0.000347222\n",
       " 1.0  2.43598e6  2.43598e6  0.000347222\n",
       " 1.0  2.4362e6   2.4362e6   0.000347222\n",
       " ⋮                                     \n",
       " 2.0  2.43509e6  2.43509e6  0.000347222\n",
       " 2.0  2.43545e6  2.43545e6  0.000347222\n",
       " 2.0  2.43582e6  2.43582e6  0.000347222\n",
       " 2.0  2.43618e6  2.43618e6  0.000347222\n",
       " 2.0  2.43655e6  2.43655e6  0.000347222\n",
       " 2.0  2.43691e6  2.43691e6  0.000347222\n",
       " 2.0  2.43728e6  2.43728e6  0.000347222\n",
       " 2.0  2.43764e6  2.43764e6  0.000347222\n",
       " 2.0  2.43801e6  2.43801e6  0.000347222\n",
       " 2.0  2.43837e6  2.43837e6  0.000347222\n",
       " 2.0  2.43874e6  2.43874e6  0.000347222\n",
       " 2.0  2.4391e6   2.4391e6   0.000347222"
      ]
     },
     "execution_count": 2,
     "metadata": {},
     "output_type": "execute_result"
    }
   ],
   "source": [
    "# Example file\n",
    "data_file = readdlm(\"INPUTS/tt_30.0sEMB15.0yrs.txt\",Float64)"
   ]
  },
  {
   "cell_type": "markdown",
   "id": "64018ad1-1159-4570-b772-86d225f1d33c",
   "metadata": {},
   "source": [
    "NB: code assumes that planet 1 is labelled 1 and planet 2 is labeled 2. the number of transit times is sum of rows with that label."
   ]
  },
  {
   "cell_type": "code",
   "execution_count": 27,
   "id": "c0699ebe-747f-4204-9fe8-802795d81a30",
   "metadata": {},
   "outputs": [
    {
     "data": {
      "text/plain": [
       "fit_planet2 (generic function with 4 methods)"
      ]
     },
     "execution_count": 27,
     "metadata": {},
     "output_type": "execute_result"
    }
   ],
   "source": [
    "# Do a 2 planet fit, given a jmax integer value\n",
    "include(\"fit_planet2.jl\") \n",
    "# fit_planet2(data_file::Array, jmax::Int64)"
   ]
  },
  {
   "cell_type": "code",
   "execution_count": 28,
   "id": "03ae3190-bd70-4a74-bfdd-dfd87ff17d1d",
   "metadata": {},
   "outputs": [
    {
     "name": "stdout",
     "output_type": "stream",
     "text": [
      "Initial parameters: [3.0e-6, 224.70080389651207, 2.4335037651999705e6, 0.01, 0.01, 3.0e-6, 365.2564292603536, 2.433624402733597e6, 0.01, 0.01]\n",
      "Initial chi-square: 439.38561533067036\n",
      "Finished 2-planet fit: [2.2610626786587246e-6, 224.70079555498467, 2.433503765230647e6, 0.004109555274707563, 0.01255650221794087, 2.8614052559261195e-6, 365.2564364564502, 2.4336244026959217e6, 0.014737934579355369, 0.008014549358868547]\n",
      "New 2-planet chi-square: 316.71592975552954\n",
      "Output file in Fitfromdatafile.jld2\n"
     ]
    }
   ],
   "source": [
    "fit_planet2(data_file, 5)"
   ]
  }
 ],
 "metadata": {
  "kernelspec": {
   "display_name": "Julia 1.3.0",
   "language": "julia",
   "name": "julia-1.3"
  },
  "language_info": {
   "file_extension": ".jl",
   "mimetype": "application/julia",
   "name": "julia",
   "version": "1.3.0"
  }
 },
 "nbformat": 4,
 "nbformat_minor": 5
}
