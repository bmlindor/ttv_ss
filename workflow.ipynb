{
 "cells": [
  {
   "cell_type": "code",
   "execution_count": 1,
   "id": "c4e79833-b353-44dd-b783-47e50e1b6c5d",
   "metadata": {},
   "outputs": [],
   "source": [
    "using DelimitedFiles"
   ]
  },
  {
   "cell_type": "markdown",
   "id": "f59eac1a-3af3-4e30-8e95-093b0eb74e5d",
   "metadata": {},
   "source": [
    "Load .txt datafile with following columns: \n",
    "body_number (n), initial time of transit (tt0), actual transit times (tt), measurement error (sigtt)"
   ]
  },
  {
   "cell_type": "code",
   "execution_count": 2,
   "id": "4976675d-dc8e-4447-b305-0d416ac95a52",
   "metadata": {},
   "outputs": [
    {
     "data": {
      "text/plain": [
       "80×4 Array{Float64,2}:\n",
       " 1.0  2.4335e6   2.4335e6   0.000347222\n",
       " 1.0  2.43373e6  2.43373e6  0.000347222\n",
       " 1.0  2.43395e6  2.43395e6  0.000347222\n",
       " 1.0  2.43418e6  2.43418e6  0.000347222\n",
       " 1.0  2.4344e6   2.4344e6   0.000347222\n",
       " 1.0  2.43463e6  2.43463e6  0.000347222\n",
       " 1.0  2.43485e6  2.43485e6  0.000347222\n",
       " 1.0  2.43508e6  2.43508e6  0.000347222\n",
       " 1.0  2.4353e6   2.4353e6   0.000347222\n",
       " 1.0  2.43553e6  2.43553e6  0.000347222\n",
       " 1.0  2.43575e6  2.43575e6  0.000347222\n",
       " 1.0  2.43598e6  2.43598e6  0.000347222\n",
       " 1.0  2.4362e6   2.4362e6   0.000347222\n",
       " ⋮                                     \n",
       " 2.0  2.44056e6  2.44056e6  0.000347222\n",
       " 2.0  2.44093e6  2.44093e6  0.000347222\n",
       " 2.0  2.44129e6  2.44129e6  0.000347222\n",
       " 2.0  2.44166e6  2.44166e6  0.000347222\n",
       " 2.0  2.44203e6  2.44203e6  0.000347222\n",
       " 2.0  2.44239e6  2.44239e6  0.000347222\n",
       " 2.0  2.44276e6  2.44276e6  0.000347222\n",
       " 2.0  2.44312e6  2.44312e6  0.000347222\n",
       " 2.0  2.44349e6  2.44349e6  0.000347222\n",
       " 2.0  2.44385e6  2.44385e6  0.000347222\n",
       " 2.0  2.44422e6  2.44422e6  0.000347222\n",
       " 2.0  2.44458e6  2.44458e6  0.000347222"
      ]
     },
     "execution_count": 2,
     "metadata": {},
     "output_type": "execute_result"
    }
   ],
   "source": [
    "# Example file\n",
    "data_file = readdlm(\"INPUTS/tt_30.0sEMB30.0yrs.txt\",Float64)"
   ]
  },
  {
   "cell_type": "markdown",
   "id": "64018ad1-1159-4570-b772-86d225f1d33c",
   "metadata": {},
   "source": [
    "NB: code assumes that planet 1 is labelled 1 and planet 2 is labeled 2. the number of transit times is sum of rows with that label."
   ]
  },
  {
   "cell_type": "code",
   "execution_count": 10,
   "id": "c0699ebe-747f-4204-9fe8-802795d81a30",
   "metadata": {},
   "outputs": [
    {
     "data": {
      "text/plain": [
       "fit_planet2 (generic function with 3 methods)"
      ]
     },
     "execution_count": 10,
     "metadata": {},
     "output_type": "execute_result"
    }
   ],
   "source": [
    "# Do a 2 planet fit, given a jmax integer value\n",
    "include(\"fit_planet2.jl\") "
   ]
  },
  {
   "cell_type": "markdown",
   "id": "fad20993-730c-4f85-85bb-3ae3b50532f9",
   "metadata": {},
   "source": [
    "### without reference t0"
   ]
  },
  {
   "cell_type": "code",
   "execution_count": 11,
   "id": "03ae3190-bd70-4a74-bfdd-dfd87ff17d1d",
   "metadata": {},
   "outputs": [
    {
     "name": "stdout",
     "output_type": "stream",
     "text": [
      "[2.4335037654852555e6, 224.70077409577533]\n",
      "1.3135433825266147e-8\n",
      "[2.433624402638408e6, 365.2564266571264]\n",
      "8.682191471190402e-11\n",
      "Initial parameters: [3.0e-6, 224.70077409577533, 2.4335037654852555e6, 0.01, 0.01, 3.0e-6, 365.2564266571264, 2.433624402638408e6, 0.01, 0.01]\n",
      "Initial chi-square: 812.3590456907988\n",
      "Finished 2-planet fit: [2.647523303887924e-6, 224.70077626828143, 2.433503765488956e6, 0.002578811344086398, 0.010378328486752, 3.06449639023031e-6, 365.2564294664862, 2.4336244026185255e6, 0.01588865786247525, 0.009693381753353264] 29\n",
      "New 2-planet chi-square: 585.5675125529058\n",
      "Output file in Fitfromdatafile.jld2\n",
      "  1.884048 seconds (2.22 M allocations: 115.287 MiB, 2.10% gc time)\n"
     ]
    }
   ],
   "source": [
    "@time fit_planet2(data_file, 5, 0.0, 1e-5)"
   ]
  },
  {
   "cell_type": "markdown",
   "id": "ff513b33-371e-490e-8480-823d5e50bec8",
   "metadata": {},
   "source": [
    "### with reference t0"
   ]
  },
  {
   "cell_type": "code",
   "execution_count": 12,
   "id": "80b87159-e3da-4c40-8c8a-26ac107a5554",
   "metadata": {},
   "outputs": [
    {
     "name": "stdout",
     "output_type": "stream",
     "text": [
      "[3503.7654852567784, 224.70077409575646]\n",
      "9.172523094539269e-16\n",
      "[3624.4026384093218, 365.25642665702384]\n",
      "3.355873101703838e-14\n",
      "Initial parameters: [3.0e-6, 224.70077409575646, 3503.7654852567784, 0.01, 0.01, 3.0e-6, 365.25642665702384, 3624.4026384093218, 0.01, 0.01]\n",
      "Initial chi-square: 812.3590569057454\n",
      "Finished 2-planet fit: [2.9380153697129402e-6, 224.70077831626037, 3503.765429099878, 0.03081019305418419, 0.011457500858907978, 3.2595689949612584e-6, 365.25643295059126, 3624.402560434307, 0.038440262285722275, 0.010409974573520126] 2\n",
      "New 2-planet chi-square: 582.8973442491646\n",
      "Output file in Fitfromdatafile.jld2\n",
      "  0.570554 seconds (858.28 k allocations: 40.525 MiB)\n"
     ]
    }
   ],
   "source": [
    "@time fit_planet2(data_file, 5, 2430000, 1e-5)"
   ]
  },
  {
   "cell_type": "markdown",
   "id": "b594a230-291c-47c8-97fd-d613aa943b13",
   "metadata": {},
   "source": [
    "from Venus + Earth data"
   ]
  },
  {
   "cell_type": "code",
   "execution_count": 26,
   "id": "c6371891-6778-4784-af24-39b40fb05c60",
   "metadata": {},
   "outputs": [
    {
     "data": {
      "text/plain": [
       "80×4 Array{Float64,2}:\n",
       " 1.0  2.4335e6   2.4335e6   0.000347222\n",
       " 1.0  2.43373e6  2.43373e6  0.000347222\n",
       " 1.0  2.43395e6  2.43395e6  0.000347222\n",
       " 1.0  2.43418e6  2.43418e6  0.000347222\n",
       " 1.0  2.4344e6   2.4344e6   0.000347222\n",
       " 1.0  2.43463e6  2.43463e6  0.000347222\n",
       " 1.0  2.43485e6  2.43485e6  0.000347222\n",
       " 1.0  2.43508e6  2.43508e6  0.000347222\n",
       " 1.0  2.4353e6   2.4353e6   0.000347222\n",
       " 1.0  2.43553e6  2.43553e6  0.000347222\n",
       " 1.0  2.43575e6  2.43575e6  0.000347222\n",
       " 1.0  2.43598e6  2.43598e6  0.000347222\n",
       " 1.0  2.4362e6   2.4362e6   0.000347222\n",
       " ⋮                                     \n",
       " 2.0  2.44056e6  2.44056e6  0.000347222\n",
       " 2.0  2.44093e6  2.44093e6  0.000347222\n",
       " 2.0  2.44129e6  2.44129e6  0.000347222\n",
       " 2.0  2.44166e6  2.44166e6  0.000347222\n",
       " 2.0  2.44203e6  2.44203e6  0.000347222\n",
       " 2.0  2.44239e6  2.44239e6  0.000347222\n",
       " 2.0  2.44276e6  2.44276e6  0.000347222\n",
       " 2.0  2.44312e6  2.44312e6  0.000347222\n",
       " 2.0  2.44349e6  2.44349e6  0.000347222\n",
       " 2.0  2.44385e6  2.44385e6  0.000347222\n",
       " 2.0  2.44422e6  2.44422e6  0.000347222\n",
       " 2.0  2.44458e6  2.44458e6  0.000347222"
      ]
     },
     "execution_count": 26,
     "metadata": {},
     "output_type": "execute_result"
    }
   ],
   "source": [
    "EVdata_file = readdlm(\"INPUTS/tt_30.0snoEMB30.0yrs.txt\",Float64)"
   ]
  },
  {
   "cell_type": "markdown",
   "id": "bfb88e72-a479-4656-ab88-19af20143cad",
   "metadata": {},
   "source": [
    "### without reference t0"
   ]
  },
  {
   "cell_type": "code",
   "execution_count": 14,
   "id": "555c11f8-d56e-4c45-a748-669e46f248fe",
   "metadata": {},
   "outputs": [
    {
     "name": "stdout",
     "output_type": "stream",
     "text": [
      "[2.4335038532321756e6, 224.70030244576117]\n",
      "2.5404363185319427e-9\n",
      "[2.4336244853840605e6, 365.2577282914466]\n",
      "9.129537088439601e-10\n",
      "Initial parameters: [3.0e-6, 224.70030244576117, 2.4335038532321756e6, 0.01, 0.01, 3.0e-6, 365.2577282914466, 2.4336244853840605e6, 0.01, 0.01]\n",
      "Initial chi-square: 2.716503269010148e7\n",
      "Finished 2-planet fit: [-3.3004978522901815e-6, 224.7002043573421, 2.4335038541247873e6, 0.8798346351100548, 0.03910533652620045, 7.345041144357513e-6, 365.25771547220285, 2.4336244847786454e6, 0.8552007515124023, -0.12473551192665419] 6608\n",
      "New 2-planet chi-square: 2.69225504814796e7\n",
      "Output file in Fitfromdatafile.jld2\n",
      " 51.595160 seconds (4.99 M allocations: 2.016 GiB, 0.54% gc time)\n"
     ]
    }
   ],
   "source": [
    "@time fit_planet2(EVdata_file, 5, 0.0, 1e-5)"
   ]
  },
  {
   "cell_type": "markdown",
   "id": "c29e497a-0441-42ae-98ee-a4b94c72b648",
   "metadata": {},
   "source": [
    "### with reference t0"
   ]
  },
  {
   "cell_type": "code",
   "execution_count": 15,
   "id": "b1887e56-0d60-41f8-8168-a275fa88da22",
   "metadata": {},
   "outputs": [
    {
     "name": "stdout",
     "output_type": "stream",
     "text": [
      "[3503.8532321729535, 224.70030244585558]\n",
      "6.252297268669018e-15\n",
      "[3624.4853840606884, 365.25772829145905]\n",
      "1.1498149658538231e-14\n",
      "Initial parameters: [3.0e-6, 224.70030244585558, 3503.8532321729535, 0.01, 0.01, 3.0e-6, 365.25772829145905, 3624.4853840606884, 0.01, 0.01]\n",
      "Initial chi-square: 2.7165032689376578e7\n",
      "Finished 2-planet fit: [-3.1479972618256325e-6, 224.7002033410568, 3503.8541397009603, 0.9434504530003683, 0.07593675947080761, 7.090174518438679e-6, 365.2577159157465, 3624.4847919316367, 0.9197385240387567, -0.08916848208698598] 2\n",
      "New 2-planet chi-square: 2.6922437476042956e7\n",
      "Output file in Fitfromdatafile.jld2\n",
      "  0.199994 seconds (21.22 k allocations: 7.530 MiB)\n"
     ]
    }
   ],
   "source": [
    "@time fit_planet2(EVdata_file, 5, 2430000, 1e-5)"
   ]
  },
  {
   "cell_type": "code",
   "execution_count": 27,
   "id": "88dae58b-663b-4ef6-aa41-5e815575ad39",
   "metadata": {},
   "outputs": [
    {
     "data": {
      "text/plain": [
       "49"
      ]
     },
     "execution_count": 27,
     "metadata": {},
     "output_type": "execute_result"
    }
   ],
   "source": [
    "nt1 = sum(EVdata_file[:,1] .== 1.0)"
   ]
  },
  {
   "cell_type": "code",
   "execution_count": 28,
   "id": "f63e5b1d-cfdc-46db-be4d-047fe7dd9a98",
   "metadata": {},
   "outputs": [
    {
     "data": {
      "text/plain": [
       "31"
      ]
     },
     "execution_count": 28,
     "metadata": {},
     "output_type": "execute_result"
    }
   ],
   "source": [
    "nt2 = sum(EVdata_file[:,1] .== 2.0)"
   ]
  },
  {
   "cell_type": "code",
   "execution_count": 30,
   "id": "09ca5823-1c06-436e-920c-896f05a91f09",
   "metadata": {},
   "outputs": [
    {
     "data": {
      "text/plain": [
       "31-element Array{Float64,1}:\n",
       " 0.00034722222222222224\n",
       " 0.00034722222222222224\n",
       " 0.00034722222222222224\n",
       " 0.00034722222222222224\n",
       " 0.00034722222222222224\n",
       " 0.00034722222222222224\n",
       " 0.00034722222222222224\n",
       " 0.00034722222222222224\n",
       " 0.00034722222222222224\n",
       " 0.00034722222222222224\n",
       " 0.00034722222222222224\n",
       " 0.00034722222222222224\n",
       " 0.00034722222222222224\n",
       " ⋮                     \n",
       " 0.00034722222222222224\n",
       " 0.00034722222222222224\n",
       " 0.00034722222222222224\n",
       " 0.00034722222222222224\n",
       " 0.00034722222222222224\n",
       " 0.00034722222222222224\n",
       " 0.00034722222222222224\n",
       " 0.00034722222222222224\n",
       " 0.00034722222222222224\n",
       " 0.00034722222222222224\n",
       " 0.00034722222222222224\n",
       " 0.00034722222222222224"
      ]
     },
     "execution_count": 30,
     "metadata": {},
     "output_type": "execute_result"
    }
   ],
   "source": [
    "tref=0.0\n",
    "tt1 = vec(EVdata_file[1:nt1,3]) .- tref\n",
    "tt2 = vec(EVdata_file[nt1+1:nt1+nt2,3]) .- tref\n",
    "sigtt1 = EVdata_file[1:nt1,4]\n",
    "sigtt2 = EVdata_file[nt1+1:nt1+nt2,4]"
   ]
  },
  {
   "cell_type": "code",
   "execution_count": 36,
   "id": "69427e53-f297-4bf6-a847-0ac28e0dc36e",
   "metadata": {},
   "outputs": [
    {
     "name": "stdout",
     "output_type": "stream",
     "text": [
      "[2.4335038532321756e6, 224.70030244576117]\n",
      "2.5404363185319427e-9\n",
      "[2.4336244853840605e6, 365.2577282914466]\n",
      "9.129537088439601e-10\n",
      "Initial parameters: [3.0e-6, 224.70030244576117, 2.4335038532321756e6, 0.01, 0.01, 3.0e-6, 365.2577282914466, 2.4336244853840605e6, 0.01, 0.01]\n"
     ]
    }
   ],
   "source": [
    "  function find_coeffs(tt,period,sigtt)\n",
    "    nt = length(tt)\n",
    "    x = zeros(2,nt)\n",
    "    x[1,1:nt] .= 1.0\n",
    "    x[2,1] = 0.0 \n",
    "    for i=2:nt\n",
    "      x[2,i] = x[2,i-1] + round((tt[i]-tt[i-1])/period) \n",
    "    end\n",
    "    coeff,covcoeff = regress(x,tt,sigtt)\n",
    "    # println(tt,sigtt,std(sigtt))\n",
    "    println(coeff)\n",
    "    println(sum((tt .- coeff[1].-coeff[2].*x[2,:])./sigtt).^2)\n",
    "    return coeff,covcoeff\n",
    "  end\n",
    "  # Guess the planets' period by finding median of transit times\n",
    "  p1_est = median(tt1[2:end] - tt1[1:end-1])\n",
    "  p2_est = median(tt2[2:end] - tt2[1:end-1])\n",
    "  # Do fit to find linear ephemeris (t0, per)\n",
    "  coeff1,covcoeff1 = find_coeffs(tt1,p1_est,sigtt1)\n",
    "  coeff2,covcoeff2 = find_coeffs(tt2,p2_est,sigtt2)\n",
    "  t01 = coeff1[1]; per1 = coeff1[2]\n",
    "  t02 = coeff2[1]; per2 = coeff2[2]\n",
    "  t1  = collect(t01 .+ per1 .* range(0,stop=nt1-1,length=nt1)) \n",
    "  t2  = collect(t02 .+ per2 .* range(0,stop=nt2-1,length=nt2))\n",
    "  # Best-fit linear transit times:\n",
    "  tt0 = [t1;t2]\n",
    "  # Actual transit times:\n",
    "  tt=[tt1;tt2]\n",
    "  sigtt=[sigtt1;sigtt2] \n",
    "  weight = ones(nt1+nt2)./ sigtt.^2 #assigns each data point stat weight d.t. noise = 1/σ^2\n",
    "\n",
    "  # Okay,now let's do a 2-planet fit:\n",
    "  # param_names = mass ratio,period,initial transit time,e*cos(omega),e*sin(omega)\n",
    "  init_param = [3e-6,per1,t01,0.01,0.01,\n",
    "                3e-6,per2,t02,0.01,0.01] \n",
    "  println(\"Initial parameters: \",init_param)"
   ]
  },
  {
   "cell_type": "code",
   "execution_count": 42,
   "id": "17108aeb-cbee-4096-a56b-1f3cdc31c157",
   "metadata": {},
   "outputs": [
    {
     "data": {
      "text/plain": [
       "2-element Array{Int64,1}:\n",
       " 49\n",
       " 31"
      ]
     },
     "execution_count": 42,
     "metadata": {},
     "output_type": "execute_result"
    }
   ],
   "source": [
    "  ntrans = [nt1,nt2]"
   ]
  },
  {
   "cell_type": "code",
   "execution_count": 50,
   "id": "a01c9c9e-b918-49c7-95fb-663f4f72a085",
   "metadata": {},
   "outputs": [
    {
     "data": {
      "text/plain": [
       "49"
      ]
     },
     "execution_count": 50,
     "metadata": {},
     "output_type": "execute_result"
    }
   ],
   "source": [
    "n1,n2=ntrans[1:2]\n",
    "n1"
   ]
  },
  {
   "cell_type": "code",
   "execution_count": 47,
   "id": "943306be-a5ed-4444-b62c-b56da6b9b54a",
   "metadata": {},
   "outputs": [],
   "source": [
    "include(\"TTVFaster/src/ttv_wrapper.jl\")  \n",
    "chisq = 0.0  #check memory allocation >>>>>>>>>>>>\n",
    "  # println(params,tt[1],sigtt[1])\n",
    "  tt_model = ttv_wrapper(tt0,2,ntrans,init_param,5,false) #,fixp3,p3_cur)\n",
    "  for j=1:length(tt)\n",
    "    chisq += (tt[j]-tt_model[j])^2/sigtt[j]^2\n",
    "  end"
   ]
  },
  {
   "cell_type": "code",
   "execution_count": 48,
   "id": "6e287a18-d4eb-4b03-ab90-21445a6d6fa8",
   "metadata": {},
   "outputs": [
    {
     "data": {
      "text/plain": [
       "1.4772477637816468e21"
      ]
     },
     "execution_count": 48,
     "metadata": {},
     "output_type": "execute_result"
    }
   ],
   "source": [
    "chisq"
   ]
  },
  {
   "cell_type": "code",
   "execution_count": null,
   "id": "6af0c964-7f2a-459c-a771-c70e15dba691",
   "metadata": {},
   "outputs": [],
   "source": []
  }
 ],
 "metadata": {
  "kernelspec": {
   "display_name": "Julia 1.3.0",
   "language": "julia",
   "name": "julia-1.3"
  },
  "language_info": {
   "file_extension": ".jl",
   "mimetype": "application/julia",
   "name": "julia",
   "version": "1.3.0"
  }
 },
 "nbformat": 4,
 "nbformat_minor": 5
}
