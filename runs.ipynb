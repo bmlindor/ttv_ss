{
 "cells": [
  {
   "cell_type": "code",
   "execution_count": 11,
   "metadata": {},
   "outputs": [],
   "source": [
    "using PyPlot,JLD2,LsqFit"
   ]
  },
  {
   "cell_type": "code",
   "execution_count": 8,
   "metadata": {},
   "outputs": [],
   "source": [
    "import Main.TTVFaster.ttv_wrapper"
   ]
  },
  {
   "cell_type": "code",
   "execution_count": 2,
   "metadata": {},
   "outputs": [
    {
     "data": {
      "text/plain": [
       "Main.CGS"
      ]
     },
     "execution_count": 2,
     "metadata": {},
     "output_type": "execute_result"
    }
   ],
   "source": [
    "include(\"decompose_ttvs.jl\")\n",
    "include(\"plot_ttvs.jl\")\n",
    "include(\"plot_likelihood.jl\")\n",
    "include(\"CGS.jl\")"
   ]
  },
  {
   "cell_type": "markdown",
   "metadata": {},
   "source": [
    "### BIC calculation from fit routine"
   ]
  },
  {
   "cell_type": "code",
   "execution_count": 6,
   "metadata": {},
   "outputs": [
    {
     "data": {
      "text/plain": [
       "BIC (generic function with 1 method)"
      ]
     },
     "execution_count": 6,
     "metadata": {},
     "output_type": "execute_result"
    }
   ],
   "source": [
    "BIC(chi2,k,Nobs) = chi2 + k*log(Nobs)"
   ]
  },
  {
   "cell_type": "code",
   "execution_count": 12,
   "metadata": {
    "collapsed": true
   },
   "outputs": [
    {
     "name": "stdout",
     "output_type": "stream",
     "text": [
      "BIC for p2 fits from EMB+V sims.\n",
      "BIC for 10s15 = 2582.135720667043\n",
      "BIC for 10s20 = 3098.889840465643\n",
      "BIC for 10s25 = 4741.04692619391\n",
      "BIC for 10s30 = 4984.820266346739\n",
      "BIC for 30s15 = 353.1357206670431\n",
      "BIC for 30s20 = 396.88984046564275\n",
      "BIC for 30s25 = 632.0469261939097\n",
      "BIC for 30s30 = 628.8202663467388\n",
      "BIC for 60s15 = 145.13572066704307\n",
      "BIC for 60s20 = 158.88984046564275\n",
      "BIC for 60s25 = 243.04692619390966\n",
      "BIC for 60s30 = 234.8202663467388\n",
      "BIC for 90s15 = 107.13572066704307\n",
      "BIC for 90s20 = 118.88984046564275\n",
      "BIC for 90s25 = 169.04692619390966\n",
      "BIC for 90s30 = 164.8202663467388\n",
      "BIC for 120s15 = 93.13572066704307\n",
      "BIC for 120s20 = 105.88984046564275\n",
      "BIC for 120s25 = 143.04692619390966\n",
      "BIC for 120s30 = 140.8202663467388\n"
     ]
    }
   ],
   "source": [
    "println(\"BIC for p2 fits from EMB+V sims.\")\n",
    "println(\"BIC for 10s15 = \",BIC(2545,10,41))\n",
    "println(\"BIC for 10s20 = \",BIC(3059,10,54))\n",
    "println(\"BIC for 10s25 = \",BIC(4699,10,67))\n",
    "println(\"BIC for 10s30 = \",BIC(4941,10,80))\n",
    "println(\"BIC for 30s15 = \",BIC(316,10,41))\n",
    "println(\"BIC for 30s20 = \",BIC(357,10,54))\n",
    "println(\"BIC for 30s25 = \",BIC(590,10,67))\n",
    "println(\"BIC for 30s30 = \",BIC(585,10,80))\n",
    "println(\"BIC for 60s15 = \",BIC(108,10,41))\n",
    "println(\"BIC for 60s20 = \",BIC(119,10,54))\n",
    "println(\"BIC for 60s25 = \",BIC(201,10,67))\n",
    "println(\"BIC for 60s30 = \",BIC(191,10,80))\n",
    "println(\"BIC for 90s15 = \",BIC(70,10,41))\n",
    "println(\"BIC for 90s20 = \",BIC(79,10,54))\n",
    "println(\"BIC for 90s25 = \",BIC(127,10,67))\n",
    "println(\"BIC for 90s30 = \",BIC(121,10,80))\n",
    "println(\"BIC for 120s15 = \",BIC(56,10,41))\n",
    "println(\"BIC for 120s20 = \",BIC(66,10,54))\n",
    "println(\"BIC for 120s25 = \",BIC(101,10,67))\n",
    "println(\"BIC for 120s30 = \",BIC(97,10,80))"
   ]
  },
  {
   "cell_type": "code",
   "execution_count": 14,
   "metadata": {},
   "outputs": [
    {
     "name": "stdout",
     "output_type": "stream",
     "text": [
      "BIC for p3 fits from EMB+V sims.\n",
      "BIC for 10s15 = 192.7035810005646\n",
      "BIC for 10s20 = 297.8347606984641\n",
      "BIC for 10s25 = 413.07038929086445\n",
      "BIC for 10s30 = 537.7303995201082\n",
      "BIC for 30s15 = 107.70358100056461\n",
      "BIC for 30s20 = 128.83476069846412\n",
      "BIC for 30s25 = 154.07038929086448\n",
      "BIC for 30s30 = 174.73039952010822\n",
      "BIC for 60s15 = 96.70358100056461\n",
      "BIC for 60s20 = 111.83476069846412\n",
      "BIC for 60s25 = 131.07038929086448\n",
      "BIC for 60s30 = 141.73039952010822\n",
      "BIC for 90s15 = 94.70358100056461\n",
      "BIC for 90s20 = 107.83476069846412\n",
      "BIC for 90s25 = 127.07038929086448\n",
      "BIC for 90s30 = 133.73039952010822\n",
      "BIC for 120s15 = 92.70358100056461\n",
      "BIC for 120s20 = 106.83476069846412\n",
      "BIC for 120s25 = 125.07038929086448\n",
      "BIC for 120s30 = 131.73039952010822\n"
     ]
    }
   ],
   "source": [
    "println(\"BIC for p3 fits from EMB+V sims.\")\n",
    "println(\"BIC for 10s15 = \",BIC(137,15,41))\n",
    "println(\"BIC for 10s20 = \",BIC(238,15,54))\n",
    "println(\"BIC for 10s25 = \",BIC(350,15,67))\n",
    "println(\"BIC for 10s30 = \",BIC(472,15,80))\n",
    "println(\"BIC for 30s15 = \",BIC(52,15,41))\n",
    "println(\"BIC for 30s20 = \",BIC(69,15,54))\n",
    "println(\"BIC for 30s25 = \",BIC(91,15,67))\n",
    "println(\"BIC for 30s30 = \",BIC(109,15,80))\n",
    "println(\"BIC for 60s15 = \",BIC(41,15,41))\n",
    "println(\"BIC for 60s20 = \",BIC(52,15,54))\n",
    "println(\"BIC for 60s25 = \",BIC(68,15,67))\n",
    "println(\"BIC for 60s30 = \",BIC(76,15,80))\n",
    "println(\"BIC for 90s15 = \",BIC(39,15,41))\n",
    "println(\"BIC for 90s20 = \",BIC(48,15,54))\n",
    "println(\"BIC for 90s25 = \",BIC(64,15,67))\n",
    "println(\"BIC for 90s30 = \",BIC(68,15,80))\n",
    "println(\"BIC for 120s15 = \",BIC(37,15,41))\n",
    "println(\"BIC for 120s20 = \",BIC(47,15,54))\n",
    "println(\"BIC for 120s25 = \",BIC(62,15,67))\n",
    "println(\"BIC for 120s30 = \",BIC(66,15,80))"
   ]
  },
  {
   "cell_type": "code",
   "execution_count": 9,
   "metadata": {
    "collapsed": true
   },
   "outputs": [
    {
     "name": "stdout",
     "output_type": "stream",
     "text": [
      "BIC for p2 fits from E+V sims.\n",
      "BIC for 10s15 = 2934.135720667043\n",
      "BIC for 10s20 = 3672.889840465643\n",
      "BIC for 10s25 = 5294.04692619391\n",
      "BIC for 10s30 = 5720.820266346739\n",
      "BIC for 30s15 = 396.1357206670431\n",
      "BIC for 30s20 = 456.88984046564275\n",
      "BIC for 30s25 = 691.0469261939097\n",
      "BIC for 30s30 = 710.8202663467388\n",
      "BIC for 60s15 = 156.13572066704307\n",
      "BIC for 60s20 = 172.88984046564275\n",
      "BIC for 60s25 = 256.04692619390966\n",
      "BIC for 60s30 = 254.8202663467388\n",
      "BIC for 90s15 = 112.13572066704307\n",
      "BIC for 90s20 = 123.88984046564275\n",
      "BIC for 90s25 = 175.04692619390966\n",
      "BIC for 90s30 = 172.8202663467388\n",
      "BIC for 120s15 = 96.13572066704307\n",
      "BIC for 120s20 = 108.88984046564275\n",
      "BIC for 120s25 = 146.04692619390966\n",
      "BIC for 120s30 = 145.8202663467388\n"
     ]
    }
   ],
   "source": [
    "println(\"BIC for p2 fits from E+V sims.\")\n",
    "println(\"BIC for 10s15 = \",BIC(2897,10,41))\n",
    "println(\"BIC for 10s20 = \",BIC(3633,10,54))\n",
    "println(\"BIC for 10s25 = \",BIC(5252,10,67))\n",
    "println(\"BIC for 10s30 = \",BIC(5677,10,80))\n",
    "println(\"BIC for 30s15 = \",BIC(359,10,41))\n",
    "println(\"BIC for 30s20 = \",BIC(417,10,54))\n",
    "println(\"BIC for 30s25 = \",BIC(649,10,67))\n",
    "println(\"BIC for 30s30 = \",BIC(667,10,80))\n",
    "println(\"BIC for 60s15 = \",BIC(119,10,41))\n",
    "println(\"BIC for 60s20 = \",BIC(133,10,54))\n",
    "println(\"BIC for 60s25 = \",BIC(214,10,67))\n",
    "println(\"BIC for 60s30 = \",BIC(211,10,80))\n",
    "println(\"BIC for 90s15 = \",BIC(75,10,41))\n",
    "println(\"BIC for 90s20 = \",BIC(84,10,54))\n",
    "println(\"BIC for 90s25 = \",BIC(133,10,67))\n",
    "println(\"BIC for 90s30 = \",BIC(129,10,80))\n",
    "println(\"BIC for 120s15 = \",BIC(59,10,41))\n",
    "println(\"BIC for 120s20 = \",BIC(69,10,54))\n",
    "println(\"BIC for 120s25 = \",BIC(104,10,67))\n",
    "println(\"BIC for 120s30 = \",BIC(102,10,80))"
   ]
  },
  {
   "cell_type": "code",
   "execution_count": 10,
   "metadata": {
    "collapsed": true
   },
   "outputs": [
    {
     "name": "stdout",
     "output_type": "stream",
     "text": [
      "BIC for p3 fits from E+V sims.\n",
      "BIC for 10s15 = 449.7035810005646\n",
      "BIC for 10s20 = 734.8347606984642\n",
      "BIC for 10s25 = 1277.0703892908646\n",
      "BIC for 10s30 = 1479.7303995201082\n",
      "BIC for 30s15 = 131.7035810005646\n",
      "BIC for 30s20 = 163.83476069846412\n",
      "BIC for 30s25 = 246.07038929086448\n",
      "BIC for 30s30 = 281.7303995201082\n",
      "BIC for 60s15 = 104.70358100056461\n",
      "BIC for 60s20 = 113.83476069846412\n",
      "BIC for 60s25 = 150.07038929086448\n",
      "BIC for 60s30 = 167.73039952010822\n",
      "BIC for 90s15 = 95.70358100056461\n",
      "BIC for 90s20 = 105.83476069846412\n",
      "BIC for 90s25 = 134.07038929086448\n",
      "BIC for 90s30 = 144.73039952010822\n",
      "BIC for 120s15 = 91.70358100056461\n",
      "BIC for 120s20 = 104.83476069846412\n",
      "BIC for 120s25 = 129.07038929086448\n",
      "BIC for 120s30 = 135.73039952010822\n"
     ]
    }
   ],
   "source": [
    "println(\"BIC for p3 fits from E+V sims.\")\n",
    "println(\"BIC for 10s15 = \",BIC(394,15,41))\n",
    "println(\"BIC for 10s20 = \",BIC(675,15,54))\n",
    "println(\"BIC for 10s25 = \",BIC(1214,15,67))\n",
    "println(\"BIC for 10s30 = \",BIC(1414,15,80))\n",
    "println(\"BIC for 30s15 = \",BIC(76,15,41))\n",
    "println(\"BIC for 30s20 = \",BIC(104,15,54))\n",
    "println(\"BIC for 30s25 = \",BIC(183,15,67))\n",
    "println(\"BIC for 30s30 = \",BIC(216,15,80))\n",
    "println(\"BIC for 60s15 = \",BIC(49,15,41))\n",
    "println(\"BIC for 60s20 = \",BIC(54,15,54))\n",
    "println(\"BIC for 60s25 = \",BIC(87,15,67))\n",
    "println(\"BIC for 60s30 = \",BIC(102,15,80))\n",
    "println(\"BIC for 90s15 = \",BIC(40,15,41))\n",
    "println(\"BIC for 90s20 = \",BIC(46,15,54))\n",
    "println(\"BIC for 90s25 = \",BIC(71,15,67))\n",
    "println(\"BIC for 90s30 = \",BIC(79,15,80))\n",
    "println(\"BIC for 120s15 = \",BIC(36,15,41))\n",
    "println(\"BIC for 120s20 = \",BIC(45,15,54))\n",
    "println(\"BIC for 120s25 = \",BIC(66,15,67))\n",
    "println(\"BIC for 120s30 = \",BIC(70,15,80))"
   ]
  },
  {
   "cell_type": "code",
   "execution_count": 11,
   "metadata": {
    "collapsed": true
   },
   "outputs": [
    {
     "name": "stdout",
     "output_type": "stream",
     "text": [
      "BIC for lunar fits from E+V sims.\n",
      "BIC for 10s15 = 350.84429720067754\n",
      "BIC for 10s20 = 471.80171283815696\n",
      "BIC for 10s25 = 425.6844671490374\n",
      "BIC for 10s30 = 542.8764794241299\n",
      "BIC for 30s15 = 118.84429720067754\n",
      "BIC for 30s20 = 137.80171283815696\n",
      "BIC for 30s25 = 163.6844671490374\n",
      "BIC for 30s30 = 186.87647942412985\n",
      "BIC for 60s15 = 107.84429720067754\n",
      "BIC for 60s20 = 121.80171283815694\n",
      "BIC for 60s25 = 141.6844671490374\n",
      "BIC for 60s30 = 154.87647942412985\n",
      "BIC for 90s15 = 100.84429720067754\n",
      "BIC for 90s20 = 116.80171283815694\n",
      "BIC for 90s25 = 137.6844671490374\n",
      "BIC for 90s30 = 146.87647942412985\n",
      "BIC for 120s15 = 98.84429720067754\n",
      "BIC for 120s20 = 115.80171283815694\n",
      "BIC for 120s25 = 135.6844671490374\n",
      "BIC for 120s30 = 145.87647942412985\n"
     ]
    }
   ],
   "source": [
    "println(\"BIC for lunar fits from E+V sims.\")\n",
    "println(\"BIC for 10s15 = \",BIC(284,18,41))\n",
    "println(\"BIC for 10s20 = \",BIC(400,18,54))\n",
    "println(\"BIC for 10s25 = \",BIC(350,18,67))\n",
    "println(\"BIC for 10s30 = \",BIC(464,18,80))\n",
    "println(\"BIC for 30s15 = \",BIC(52,18,41))\n",
    "println(\"BIC for 30s20 = \",BIC(66,18,54))\n",
    "println(\"BIC for 30s25 = \",BIC(88,18,67))\n",
    "println(\"BIC for 30s30 = \",BIC(108,18,80))\n",
    "println(\"BIC for 60s15 = \",BIC(41,18,41))\n",
    "println(\"BIC for 60s20 = \",BIC(50,18,54))\n",
    "println(\"BIC for 60s25 = \",BIC(66,18,67))\n",
    "println(\"BIC for 60s30 = \",BIC(76,18,80))\n",
    "println(\"BIC for 90s15 = \",BIC(34,18,41))\n",
    "println(\"BIC for 90s20 = \",BIC(45,18,54))\n",
    "println(\"BIC for 90s25 = \",BIC(62,18,67))\n",
    "println(\"BIC for 90s30 = \",BIC(68,18,80))\n",
    "println(\"BIC for 120s15 = \",BIC(32,18,41))\n",
    "println(\"BIC for 120s20 = \",BIC(44,18,54))\n",
    "println(\"BIC for 120s25 = \",BIC(60,18,67))\n",
    "println(\"BIC for 120s30 = \",BIC(67,18,80))"
   ]
  },
  {
   "cell_type": "code",
   "execution_count": 15,
   "metadata": {
    "collapsed": true
   },
   "outputs": [
    {
     "name": "stdout",
     "output_type": "stream",
     "text": [
      "BIC for p4 fits from E+V sims.\n",
      "BIC for 10s15 = 162.27144133408615\n",
      "BIC for 10s20 = 269.7796809312855\n",
      "BIC for 10s25 = 430.0938523878193\n",
      "BIC for 10s30 = 537.6405326934777\n",
      "BIC for 30s15 = 109.27144133408616\n",
      "BIC for 30s20 = 138.7796809312855\n",
      "BIC for 30s25 = 164.0938523878193\n",
      "BIC for 30s30 = 185.6405326934776\n"
     ]
    }
   ],
   "source": [
    "println(\"BIC for p4 fits from E+V sims.\")\n",
    "println(\"BIC for 10s15 = \",BIC(88,20,41))\n",
    "println(\"BIC for 10s20 = \",BIC(190,20,54))\n",
    "println(\"BIC for 10s25 = \",BIC(346,20,67))\n",
    "println(\"BIC for 10s30 = \",BIC(450,20,80))\n",
    "println(\"BIC for 30s15 = \",BIC(35,20,41))\n",
    "println(\"BIC for 30s20 = \",BIC(59,20,54))\n",
    "println(\"BIC for 30s25 = \",BIC(80,20,67))\n",
    "println(\"BIC for 30s30 = \",BIC(98,20,80))\n",
    "# println(\"BIC for 60s15 = \",BIC(,20,41))\n",
    "# println(\"BIC for 60s20 = \",BIC(,20,54))\n",
    "# println(\"BIC for 60s25 = \",BIC(,20,67))\n",
    "# println(\"BIC for 60s30 = \",BIC(,20,80))\n",
    "# println(\"BIC for 90s15 = \",BIC(,20,41))\n",
    "# println(\"BIC for 90s20 = \",BIC(,20,54))\n",
    "# println(\"BIC for 90s25 = \",BIC(,20,67))\n",
    "# println(\"BIC for 90s30 = \",BIC(,20,80))\n",
    "# println(\"BIC for 120s15 = \",BIC(,20,41))\n",
    "# println(\"BIC for 120s20 = \",BIC(,20,54))\n",
    "# println(\"BIC for 120s25 = \",BIC(,20,67))\n",
    "# println(\"BIC for 120s30 = \",BIC(,20,80))"
   ]
  },
  {
   "cell_type": "markdown",
   "metadata": {},
   "source": [
    "### MCMC results"
   ]
  },
  {
   "cell_type": "code",
   "execution_count": 15,
   "metadata": {},
   "outputs": [
    {
     "data": {
      "text/plain": [
       "print_vals (generic function with 2 methods)"
      ]
     },
     "execution_count": 15,
     "metadata": {},
     "output_type": "execute_result"
    }
   ],
   "source": [
    "function print_vals(sigma,nyear,sim,model)\n",
    "if String(sim)==\"EMB\" && isfile(string(\"MCMC/fromEMB/\",model,\"_mcmc\",sigma,\"s\",nyear,\"yrs.jld2\"))\n",
    "    mcfile = string(\"MCMC/fromEMB/\",model,\"_mcmc\",sigma,\"s\",nyear,\"yrs.jld2\")\n",
    "elseif isfile(string(\"MCMC/\",model,\"_mcmc\",sigma,\"s\",nyear,\"yrs.jld2\"))\n",
    "    mcfile = string(\"MCMC/\",model,\"_mcmc\",sigma,\"s\",nyear,\"yrs.jld2\")\n",
    "else\n",
    "    return println(\"MCMC file for \",sim,\" with \",model,\" model at \",sigma,\" secs and \",nyear,\" yrs doesn't exist!!!!\")\n",
    "end\n",
    "jldmc = jldopen(String(mcfile),\"r\")\n",
    "par_mcmc,lprob_mcmc = jldmc[\"par_mcmc\"],jldmc[\"lprob_mcmc\"]\n",
    "iburn,samples = jldmc[\"iburn\"], jldmc[\"indepsamples\"]\n",
    "nwalkers,nsteps = jldmc[\"nwalkers\"],jldmc[\"nsteps\"]\n",
    "param = jldmc[\"param\"]\n",
    "pname = [\"mu_1\",\"P_1\",\"t01\",\"ecos1\",\"esin1\",\n",
    "      \"mu_2\",\"P_2\",\"t02\",\"ecos2\",\"esin2\",\n",
    "      \"mu_3\",\"P_3\",\"t03\",\"ecos3\",\"esin3\", \n",
    "        \"tcosϕ\",\"tsinϕ\",\"Δϕ\",\"σ_sys\"]\n",
    "    if model==\"p4\"\n",
    "        pname=[pname[1:15];\"mu_4\";\"P_4\";\"t04\";\"ecos4\";\"esin4\";pname[end]]\n",
    "    end\n",
    "# open(output,\"w\") do io\n",
    "println(\"           Fitted posterior params from \",mcfile)\n",
    "for i=1:length(param)\n",
    "println(pname[i],\" : \",mean(vec(par_mcmc[:,iburn:nsteps,i])),\" ± \",std(vec(par_mcmc[:,iburn:nsteps,i]))) # writedlm(results,pbest_global)\n",
    "end\n",
    "println(pname[end],\" : \",mean(vec(par_mcmc[:,iburn:nsteps,end])),\" ± \",std(vec(par_mcmc[:,iburn:nsteps,end])))\n",
    "println(\"Derived Parameters\")\n",
    "for i=1:length(param)\n",
    "    if i%5 == 0\n",
    "        println(\"M_p : \",mean(vec(par_mcmc[:,iburn:nsteps,i-4])).* CGS.MSUN/CGS.MEARTH,\" ± \",std(vec(par_mcmc[:,iburn:nsteps,i-4])).* CGS.MSUN/CGS.MEARTH)\n",
    "    end     \n",
    "end\n",
    "println(\" lprob: \",mean(vec(lprob_mcmc[iburn:nsteps])),\" ± \",std(vec(lprob_mcmc[iburn:nsteps])))\n",
    "end\n",
    "# end"
   ]
  },
  {
   "cell_type": "code",
   "execution_count": 37,
   "metadata": {},
   "outputs": [
    {
     "data": {
      "text/plain": [
       "print_fits (generic function with 2 methods)"
      ]
     },
     "execution_count": 37,
     "metadata": {},
     "output_type": "execute_result"
    }
   ],
   "source": [
    "function print_fits(sigma,nyear,sim,model)\n",
    "if String(sim)==\"EMB\" && isfile(string(\"FITS/fromEMB/\",model,\"_fit\",sigma,\"s\",nyear,\"yrs.jld2\"))\n",
    "    mcfile = string(\"FITS/fromEMB/\",model,\"_fit\",sigma,\"s\",nyear,\"yrs.jld2\")\n",
    "elseif isfile(string(\"FITS/\",model,\"_fit\",sigma,\"s\",nyear,\"yrs.jld2\"))\n",
    "    mcfile = string(\"FITS/\",model,\"_fit\",sigma,\"s\",nyear,\"yrs.jld2\")\n",
    "else\n",
    "    return println(\"FITS file for \",sim,\" with \",model,\" model at \",sigma,\" secs and \",nyear,\" yrs doesn't exist!!!!\")\n",
    "end\n",
    "jldfit = jldopen(String(mcfile),\"r\")\n",
    "param = jldfit[\"best_p3\"]\n",
    "lprob = jldfit[\"lprob_best_p3\"]\n",
    "pname = [\"mu_1\",\"P_1\",\"t01\",\"ecos1\",\"esin1\",\n",
    "      \"mu_2\",\"P_2\",\"t02\",\"ecos2\",\"esin2\",\n",
    "      \"mu_3\",\"P_3\",\"t03\",\"ecos3\",\"esin3\", \n",
    "        \"tcosϕ\",\"tsinϕ\",\"Δϕ\",\"σ_sys\"]\n",
    "tt0,tt,ttmodel,sigtt=jldfit[\"tt0\"],jldfit[\"tt\"],jldfit[\"ttmodel\"],jldfit[\"sigtt\"]\n",
    "nplanet,ntrans = jldfit[\"nplanet\"],jldfit[\"ntrans\"]\n",
    "nt1,nt2 = jldfit[\"ntrans\"][1],jldfit[\"ntrans\"][2]\n",
    "# p3,lprob_p3=jldfit[\"p3\"],jldfit[\"lprob_p3\"]\n",
    "# best_p3,lprob_best_p3=jldfit[\"best_p3\"],jldfit[\"lprob_best_p3\"]\n",
    "Nobs = sum([nt1,nt2])\n",
    "jmax=5\n",
    "weight = ones(nt1+nt2)./ sigtt.^2 #assigns each data point stat weight d.t. noise = 1/σ^2\n",
    "    if model==\"p4\"\n",
    "        param = jldfit[\"best_p4\"]\n",
    "        lprob = jldfit[\"lprob_best_p4\"]\n",
    "        pname=[pname[1:15];\"mu_4\";\"P_4\";\"t04\";\"ecos4\";\"esin4\";pname[end]]\n",
    "    end\n",
    "\n",
    "    if sim==\"nomoon\" && model==\"moon\"\n",
    "            param = jldfit[\"best_p3\"]\n",
    "            lprob = jldfit[\"lprob_best_p3\"]\n",
    "    elseif model==\"moon\" \n",
    "            param = jldfit[\"best_dp\"]\n",
    "            lprob = jldfit[\"lprob_best_dp\"]\n",
    "    end\n",
    "# println(param)\n",
    "fit = curve_fit((tt0,params) -> ttv_wrapper(tt0,nplanet,ntrans,params,jmax,true),tt0,tt,weight,param)\n",
    "cov = estimate_covar(fit)\n",
    "pm=zeros(length(param))\n",
    "    for i=1:length(param)\n",
    "        for j=1:length(param)\n",
    "            if i==j        \n",
    "    #             println(sqrt(cov[i,j]))\n",
    "                pm[i]=sqrt(cov[i,j])\n",
    "            end\n",
    "        end\n",
    "    end\n",
    "println(\"           Fitted params from \",mcfile)\n",
    "    for i=1:length(param)\n",
    "        println(pname[i],\" : \",param[i],\" pm \",pm[i])\n",
    "    end\n",
    "println(\"Derived Parameters\")\n",
    "    for i=1:length(param)\n",
    "        if i%5 == 0\n",
    "            println(\"M_p : \",param[i-4].* CGS.MSUN/CGS.MEARTH)\n",
    "        end\n",
    "    end\n",
    "println(\" lprob: \",lprob)\n",
    "\n",
    "return param\n",
    "end"
   ]
  },
  {
   "cell_type": "code",
   "execution_count": 40,
   "metadata": {
    "collapsed": true
   },
   "outputs": [
    {
     "name": "stdout",
     "output_type": "stream",
     "text": [
      "           Fitted params from FITS/moon_fit10.0s30.0yrs.jld2\n",
      "mu_1 : 3.7289123126215386e-6 pm 6.88454846716977e-8\n",
      "P_1 : 224.70077616301975 pm 1.2012124471272766e-6\n",
      "t01 : 2.4335037687782003e6 pm 3.324200269231798e-5\n",
      "ecos1 : -0.07694204392322318 pm 0.006023748273358285\n",
      "esin1 : -0.06265537975523863 pm 0.002869633970172444\n",
      "mu_2 : 2.608664024845969e-6 pm 3.9335490327345635e-8\n",
      "P_2 : 365.25645891552847 pm 2.6309581280707264e-6\n",
      "t02 : 2.433624407437844e6 pm 4.484492638476281e-5\n",
      "ecos2 : -0.04511816215660164 pm 0.004759829176096333\n",
      "esin2 : -0.04818773972024614 pm 0.0022222890524764348\n",
      "mu_3 : 0.0003907609176202404 pm 2.4821392194020046e-5\n",
      "P_3 : 4222.098360512293 pm 14.581979294558312\n",
      "t03 : 2.4398926368598826e6 pm 38.350411999085416\n",
      "ecos3 : -0.09007320902956864 pm 0.013989894583269831\n",
      "esin3 : 0.12030673455053578 pm 0.012666682028115425\n",
      "Derived Parameters\n",
      "M_p : 1.2414228309764035\n",
      "M_p : 0.868471770663293\n",
      "M_p : 130.09142718242583\n",
      " lprob: -282.91566426044045\n",
      "           Fitted params from FITS/moon_fit10.0s25.0yrs.jld2\n",
      "mu_1 : 3.798750174325365e-6 pm 7.371423858846764e-8\n",
      "P_1 : 224.7007785600636 pm 1.5637453811102775e-6\n",
      "t01 : 2.433503768751644e6 pm 3.630987221434438e-5\n",
      "ecos1 : -0.07885114648337191 pm 0.006146894321383937\n",
      "esin1 : -0.05486839975883027 pm 0.003046867140788536\n",
      "mu_2 : 2.6115477067446275e-6 pm 4.11930100656101e-8\n",
      "P_2 : 365.256460488537 pm 3.239789163769756e-6\n",
      "t02 : 2.433624407462059e6 pm 4.784026570222931e-5\n",
      "ecos2 : -0.0470151456157111 pm 0.004858348839698317\n",
      "esin2 : -0.042173855013525156 pm 0.0023523443482361237\n",
      "mu_3 : 0.0004929243938188293 pm 3.391580194329149e-5\n",
      "P_3 : 4227.113521463378 pm 16.15799022060212\n",
      "t03 : 2.4398698414015677e6 pm 34.66862325722356\n",
      "ecos3 : -0.0517192252271837 pm 0.012515549507190095\n",
      "esin3 : 0.0931020447657462 pm 0.010382701752301571\n",
      "Derived Parameters\n",
      "M_p : 1.2646731272336387\n",
      "M_p : 0.8694318008935965\n",
      "M_p : 164.10350931574868\n",
      " lprob: -230.81081892432616\n",
      "           Fitted params from FITS/moon_fit10.0s20.0yrs.jld2\n",
      "mu_1 : 3.7573121558718995e-6 pm 6.151605352672516e-8\n",
      "P_1 : 224.70077683507287 pm 2.3329909965084268e-6\n",
      "t01 : 2.4335037688503615e6 pm 4.219775838381311e-5\n",
      "ecos1 : -0.06890118186701293 pm 0.003664270053546971\n",
      "esin1 : -0.03200282378385743 pm 0.0025552203071219524\n",
      "mu_2 : 2.6481105107430443e-6 pm 3.800572636492515e-8\n",
      "P_2 : 365.25639005913615 pm 6.0305073201639004e-6\n",
      "t02 : 2.433624408124549e6 pm 6.442577980988928e-5\n",
      "ecos2 : -0.04011568250742065 pm 0.0028308859176445233\n",
      "esin2 : -0.024345828924138013 pm 0.002021604285070326\n",
      "mu_3 : 0.001102984497792815 pm 7.58368993592733e-5\n",
      "P_3 : 4805.042326959485 pm 40.690101073950494\n",
      "t03 : 2.4403853215500177e6 pm 38.08796434005915\n",
      "ecos3 : 0.03894261496661924 pm 0.005476719761776726\n",
      "esin3 : 0.06429227740176204 pm 0.00557009481194747\n",
      "Derived Parameters\n",
      "M_p : 1.2508776560973416\n",
      "M_p : 0.88160422433582\n",
      "M_p : 367.2036301680703\n",
      " lprob: -169.38328021161948\n",
      "           Fitted params from FITS/moon_fit10.0s15.0yrs.jld2\n",
      "mu_1 : 3.5570649588471375e-6 pm 8.463149304642866e-8\n",
      "P_1 : 224.7007882410954 pm 3.428283803774233e-6\n",
      "t01 : 2.4335037687251186e6 pm 4.851883102860424e-5\n",
      "ecos1 : -0.0993800700330937 pm 0.007067376951152703\n",
      "esin1 : -0.026176797571235155 pm 0.003489607320064337\n",
      "mu_2 : 2.4615711465491734e-6 pm 4.6065773158770503e-8\n",
      "P_2 : 365.2564097799468 pm 7.577338936924641e-6\n",
      "t02 : 2.4336244079164844e6 pm 6.948916410340355e-5\n",
      "ecos2 : -0.06340202179242006 pm 0.00543119566044467\n",
      "esin2 : -0.019241537729368784 pm 0.00275088586340297\n",
      "mu_3 : 0.0008606261374934168 pm 7.683838548695204e-5\n",
      "P_3 : 4638.555399069516 pm 40.873704098646186\n",
      "t03 : 2.440367068225719e6 pm 45.44162846375916\n",
      "ecos3 : 0.0156161270857787 pm 0.009441096707870128\n",
      "esin3 : 0.08906256914917095 pm 0.00934938354074713\n",
      "Derived Parameters\n",
      "M_p : 1.1842117167068809\n",
      "M_p : 0.8195018721828163\n",
      "M_p : 286.51811746901785\n",
      " lprob: -116.56946091960744\n",
      "           Fitted params from FITS/moon_fit30.0s30.0yrs.jld2\n",
      "mu_1 : 3.9052084682319525e-6 pm 2.1400218067418664e-7\n",
      "P_1 : 224.70078010073505 pm 3.6016616923310193e-6\n",
      "t01 : 2.4335037686755448e6 pm 9.9640913770794e-5\n",
      "ecos1 : -0.06714885495691195 pm 0.017429891004782597\n",
      "esin1 : -0.057485549802320436 pm 0.008314383781820122\n",
      "mu_2 : 2.6455519533342297e-6 pm 1.1831153918756665e-7\n",
      "P_2 : 365.25646170695285 pm 7.846532553387896e-6\n",
      "t02 : 2.4336244073416074e6 pm 0.0001337922425620427\n",
      "ecos2 : -0.036770398489665825 pm 0.013742762302921504\n",
      "esin2 : -0.04375306194714992 pm 0.0064491819833601485\n",
      "mu_3 : 0.0003487776992314608 pm 7.45186600620672e-5\n",
      "P_3 : 4186.419394121827 pm 46.597914193296916\n",
      "t03 : 2.4398727574292216e6 pm 131.54204487543237\n",
      "ecos3 : -0.11407000739133775 pm 0.05549856380704889\n",
      "esin3 : 0.12718803379813465 pm 0.043378539848740606\n",
      "Derived Parameters\n",
      "M_p : 1.3001150324120208\n",
      "M_p : 0.880752433970325\n",
      "M_p : 116.11444905685063\n",
      " lprob: -209.80833197792825\n",
      "           Fitted params from FITS/moon_fit30.0s25.0yrs.jld2\n",
      "mu_1 : 4.6774122826200745e-6 pm 1.6323569632986354e-7\n",
      "P_1 : 224.70078532126618 pm 4.632055678091401e-6\n",
      "t01 : 2.4335037685926966e6 pm 0.0001073975787934018\n",
      "ecos1 : -0.00911778007587906 pm 0.0047741895755364725\n",
      "esin1 : 0.0001293295884565054 pm 0.0047567834099165335\n",
      "mu_2 : 2.9738387297715873e-6 pm 1.0800173270694747e-7\n",
      "P_2 : 365.2564470546298 pm 9.779247291711272e-6\n",
      "t02 : 2.433624407612893e6 pm 0.00014417551580988246\n",
      "ecos2 : 0.00872731366974316 pm 0.0038169244526895774\n",
      "esin2 : 0.002742112073815068 pm 0.0036906408094166555\n",
      "mu_3 : 0.0011517460047133546 pm 0.00016347637033438912\n",
      "P_3 : 4226.196373283741 pm 39.675079983342016\n",
      "t03 : 2.438882942391882e6 pm 52.69437728035939\n",
      "ecos3 : 0.060695837514061886 pm 0.011945491108648489\n",
      "esin3 : -0.04973606558141257 pm 0.008692999321970547\n",
      "Derived Parameters\n",
      "M_p : 1.5571957479074552\n",
      "M_p : 0.9900450815870417\n",
      "M_p : 383.4372240123339\n",
      " lprob: -169.3614997124945\n",
      "           Fitted params from FITS/moon_fit30.0s20.0yrs.jld2\n",
      "mu_1 : 5.140798716627655e-6 pm 2.892718478921596e-7\n",
      "P_1 : 224.7007738123177 pm 6.585245683008979e-6\n",
      "t01 : 2.433503768796242e6 pm 0.00012141015862858334\n",
      "ecos1 : 0.017541371928186698 pm 0.010163115343561624\n",
      "esin1 : -0.006941429527669074 pm 0.007332830382964243\n",
      "mu_2 : 3.0246452618232216e-6 pm 1.3138043882614464e-7\n",
      "P_2 : 365.25633162715076 pm 1.5632421424765434e-5\n",
      "t02 : 2.433624408799177e6 pm 0.00017058956739833718\n",
      "ecos2 : 0.03218627738005216 pm 0.008032983915076442\n",
      "esin2 : -0.005332318612149095 pm 0.005812004070078824\n",
      "mu_3 : 0.0013623744477012638 pm 0.00021951093390705693\n",
      "P_3 : 5253.868346429046 pm 90.91633479025285\n",
      "t03 : 2.439678215440574e6 pm 80.79192611210898\n",
      "ecos3 : 0.020836226249685764 pm 0.015203037444430063\n",
      "esin3 : -0.01971759373077881 pm 0.008282778300461592\n",
      "Derived Parameters\n",
      "M_p : 1.711465532368363\n",
      "M_p : 1.0069595015475614\n",
      "M_p : 453.55926927822935\n",
      " lprob: -120.75899449054715\n",
      "           Fitted params from FITS/moon_fit30.0s15.0yrs.jld2\n",
      "mu_1 : 5.133473378124709e-6 pm 2.5831764585759363e-7\n",
      "P_1 : 224.7007924811584 pm 1.0184250309827013e-5\n",
      "t01 : 2.433503768550308e6 pm 0.0001409484688503424\n",
      "ecos1 : 0.005504594841802188 pm 0.0077597694871505505\n",
      "esin1 : 0.0025194605777925333 pm 0.006511454690807346\n",
      "mu_2 : 2.9470250724432636e-6 pm 1.418729477036143e-7\n",
      "P_2 : 365.2563870411673 pm 2.4827599461095466e-5\n",
      "t02 : 2.433624408226788e6 pm 0.00022304559311375877\n",
      "ecos2 : 0.023617821049114498 pm 0.006060559411597004\n",
      "esin2 : 0.0035088900889041525 pm 0.005072602569511653\n",
      "mu_3 : 0.0015705641867914092 pm 0.0002568963955347011\n",
      "P_3 : 4725.586409960894 pm 93.91963213420274\n",
      "t03 : 2.4391843579641203e6 pm 81.95212979429287\n",
      "ecos3 : 0.05469273527743869 pm 0.012953859170415848\n",
      "esin3 : -0.043525386682042456 pm 0.0090859977075313\n",
      "Derived Parameters\n",
      "M_p : 1.7090267937497567\n",
      "M_p : 0.9811183266519123\n",
      "M_p : 522.8694255955893\n",
      " lprob: -84.59538547808391\n",
      "           Fitted params from FITS/moon_fit60.0s30.0yrs.jld2\n",
      "mu_1 : 3.945235953517605e-6 pm 4.442092015986612e-7\n",
      "P_1 : 224.7007874955763 pm 7.087679940245371e-6\n",
      "t01 : 2.433503768487781e6 pm 0.00019658800479423896\n",
      "ecos1 : -0.07301296697828154 pm 0.03659439462765282\n",
      "esin1 : -0.05189083034196308 pm 0.01664289500835646\n",
      "mu_2 : 2.603916513416459e-6 pm 2.3643551954971508e-7\n",
      "P_2 : 365.25647087198735 pm 1.4602927041846042e-5\n",
      "t02 : 2.4336244071286125e6 pm 0.00025187803483210284\n",
      "ecos2 : -0.04050904411856772 pm 0.02861766708335562\n",
      "esin2 : -0.038509638597194196 pm 0.013046405430446755\n",
      "mu_3 : 0.00023284316821510617 pm 0.00013280225058728858\n",
      "P_3 : 4012.300516800379 pm 69.70358549325606\n",
      "t03 : 2.4401632761917133e6 pm 285.9177327213981\n",
      "ecos3 : -0.14851870078783677 pm 0.19195311631487594\n",
      "esin3 : 0.25872768841925486 pm 0.16171874832146435\n",
      "Derived Parameters\n",
      "M_p : 1.3134409113639038\n",
      "M_p : 0.8668912376325304\n",
      "M_p : 77.51773193505221\n",
      " lprob: -180.73653793674742\n",
      "           Fitted params from FITS/moon_fit60.0s25.0yrs.jld2\n",
      "mu_1 : 4.7731515609843835e-6 pm 3.0948865326120684e-7\n",
      "P_1 : 224.70078903290604 pm 9.263841809384879e-6\n",
      "t01 : 2.433503768482955e6 pm 0.00021479208845519458\n",
      "ecos1 : -0.010904772524676656 pm 0.008517642426789821\n",
      "esin1 : 0.00882554253987026 pm 0.00847940355586673\n",
      "mu_2 : 2.9122482784350694e-6 pm 2.1423609078666054e-7\n",
      "P_2 : 365.2564321600832 pm 1.96446322351408e-5\n",
      "t02 : 2.4336244077705e6 pm 0.0002888450086889413\n",
      "ecos2 : 0.007116481737472728 pm 0.007043075350933042\n",
      "esin2 : 0.010249871560765157 pm 0.006297228683113479\n",
      "mu_3 : 0.0013439854350511934 pm 0.00032895696025005014\n",
      "P_3 : 4222.256549771791 pm 67.61024773906604\n",
      "t03 : 2.4430407572722635e6 pm 112.56348817766694\n",
      "ecos3 : 0.07578981309529197 pm 0.01709220848622729\n",
      "esin3 : -0.04301042893073135 pm 0.013328669508372207\n",
      "Derived Parameters\n",
      "M_p : 1.5890690975650397\n",
      "M_p : 0.9695404984675903\n",
      "M_p : 447.4372320113186\n",
      " lprob: -145.34745556017427\n",
      "           Fitted params from FITS/moon_fit60.0s20.0yrs.jld2\n",
      "mu_1 : 5.068805340145062e-6 pm 4.6556196307969603e-7\n",
      "P_1 : 224.70077331989097 pm 1.307071722952592e-5\n",
      "t01 : 2.433503768741161e6 pm 0.00024188788839809287\n",
      "ecos1 : 0.00590294304840679 pm 0.013250277996529428\n",
      "esin1 : 0.0025812426531203136 pm 0.011038722510567226\n",
      "mu_2 : 2.8487073022202882e-6 pm 2.434387342595951e-7\n",
      "P_2 : 365.256321228461 pm 2.9659386551825967e-5\n",
      "t02 : 2.4336244090148383e6 pm 0.0003306309949539\n",
      "ecos2 : 0.02406392758337808 pm 0.010379544704973778\n",
      "esin2 : 0.0022579459305583937 pm 0.008830472760216259\n",
      "mu_3 : 0.0018888335764504624 pm 0.0004967472782518436\n",
      "P_3 : 5234.503373576927 pm 143.67116450747153\n",
      "t03 : 2.439642419271686e6 pm 130.89134129493164\n",
      "ecos3 : 0.051719638176655584 pm 0.017037204615127314\n",
      "esin3 : -0.012701499131314666 pm 0.009988823343751011\n",
      "Derived Parameters\n",
      "M_p : 1.6874976259785939\n",
      "M_p : 0.9483865500873716\n",
      "M_p : 628.8271026871972\n",
      " lprob: -103.78165995338782\n",
      "           Fitted params from FITS/moon_fit60.0s15.0yrs.jld2\n",
      "mu_1 : 4.838770122026878e-6 pm 3.940490584719908e-7\n",
      "P_1 : 224.70076849045026 pm 1.962547231328287e-5\n",
      "t01 : 2.4335037686916958e6 pm 0.00027496814325537675\n",
      "ecos1 : -0.03697583872757068 pm 0.009530722528711722\n",
      "esin1 : 0.004341184181887157 pm 0.00833330485591685\n",
      "mu_2 : 2.510177135300131e-6 pm 2.5314481856064625e-7\n",
      "P_2 : 365.25645863163027 pm 4.0311322914669756e-5\n",
      "t02 : 2.433624407401598e6 pm 0.0003512372434178338\n",
      "ecos2 : -0.007487462230391866 pm 0.006979610834972204\n",
      "esin2 : -0.0037243671591389352 pm 0.006564253185739851\n",
      "mu_3 : 0.0009933689658020843 pm 0.00023516954272360054\n",
      "P_3 : 3492.6611840221776 pm 105.56895284138652\n",
      "t03 : 2.4386011789245377e6 pm 98.59466745709649\n",
      "ecos3 : 0.037455041033720896 pm 0.025897655576254862\n",
      "esin3 : -0.030354097941756628 pm 0.016874645470487927\n",
      "Derived Parameters\n",
      "M_p : 1.6109147117775933\n",
      "M_p : 0.8356836911956642\n",
      "M_p : 330.7106229224132\n",
      " lprob: -75.90074564625748\n",
      "           Fitted params from FITS/moon_fit90.0s30.0yrs.jld2\n",
      "mu_1 : 4.098218099361015e-6 pm 5.585111938320343e-7\n",
      "P_1 : 224.70079292626613 pm 1.0598419888295334e-5\n",
      "t01 : 2.433503768349234e6 pm 0.00029453317181227055\n",
      "ecos1 : -0.07056540798626633 pm 0.04229083379831397\n",
      "esin1 : -0.043816195887723376 pm 0.023318496852233226\n",
      "mu_2 : 2.595505719428682e-6 pm 3.1825779213411764e-7\n",
      "P_2 : 365.2564702141451 pm 2.1719305515624216e-5\n",
      "t02 : 2.433624407074692e6 pm 0.0003771861510996909\n",
      "ecos2 : -0.03766819541812261 pm 0.03290600586765922\n",
      "esin2 : -0.03150908029524235 pm 0.018384306252361777\n",
      "mu_3 : 0.00033365888113978415 pm 0.00022887809736894357\n",
      "P_3 : 3919.5996916037197 pm 80.63560087596929\n",
      "t03 : 2.4403223153211162e6 pm 269.2903433149184\n",
      "ecos3 : 0.03053996337060734 pm 0.10958993938632819\n",
      "esin3 : 0.22159617158737338 pm 0.16547226111378127\n",
      "Derived Parameters\n",
      "M_p : 1.3643714542836045\n",
      "M_p : 0.8640911311114616\n",
      "M_p : 111.08111912499405\n",
      " lprob: -170.7204577125748\n"
     ]
    },
    {
     "name": "stdout",
     "output_type": "stream",
     "text": [
      "           Fitted params from FITS/moon_fit90.0s25.0yrs.jld2\n",
      "mu_1 : 4.87149883144098e-6 pm 4.579473250656372e-7\n",
      "P_1 : 224.70079265880892 pm 1.3900087880417867e-5\n",
      "t01 : 2.4335037683760053e6 pm 0.0003222825809037822\n",
      "ecos1 : -0.0116374670487805 pm 0.012611663964444\n",
      "esin1 : 0.015024979344864357 pm 0.012617055110863792\n",
      "mu_2 : 2.862079579868194e-6 pm 3.2034436956450314e-7\n",
      "P_2 : 365.2564167325452 pm 2.9549179878973205e-5\n",
      "t02 : 2.4336244079349153e6 pm 0.0004337901608397463\n",
      "ecos2 : 0.006545331399762003 pm 0.010550727067720984\n",
      "esin2 : 0.015564847461289142 pm 0.00921330293597858\n",
      "mu_3 : 0.0014413028391457364 pm 0.0004888722827245582\n",
      "P_3 : 4219.676880445539 pm 90.39337127898638\n",
      "t03 : 2.438782230720801e6 pm 111.68040679182931\n",
      "ecos3 : 0.0820516765670908 pm 0.021624416975872748\n",
      "esin3 : -0.03857291045890092 pm 0.017467552086984937\n",
      "Derived Parameters\n",
      "M_p : 1.6218106952946993\n",
      "M_p : 0.9528384248922782\n",
      "M_p : 479.8359684700442\n",
      " lprob: -138.66528433222715\n",
      "           Fitted params from FITS/moon_fit90.0s20.0yrs.jld2\n",
      "mu_1 : 5.0057100686571806e-6 pm 6.103811209346137e-7\n",
      "P_1 : 224.70077354117117 pm 1.9541701372409784e-5\n",
      "t01 : 2.433503768675182e6 pm 0.00036223240301091076\n",
      "ecos1 : -0.0037932539142889114 pm 0.013126315317219093\n",
      "esin1 : 0.007417533778362087 pm 0.011510728028154758\n",
      "mu_2 : 2.6952482923353445e-6 pm 3.5228476210547894e-7\n",
      "P_2 : 365.2563136158419 pm 4.31133815241641e-5\n",
      "t02 : 2.4336244092101105e6 pm 0.00048778354939353147\n",
      "ecos2 : 0.017451060415789477 pm 0.010211468955315538\n",
      "esin2 : 0.0062637231878275084 pm 0.009403570263368214\n",
      "mu_3 : 0.002514415939931909 pm 0.0007701153977684712\n",
      "P_3 : 5196.445576055131 pm 172.49961985820542\n",
      "t03 : 2.4396092480123783e6 pm 150.65187796083134\n",
      "ecos3 : 0.07108757022697845 pm 0.014848517093463152\n",
      "esin3 : -0.0071477627284725325 pm 0.009961129425902309\n",
      "Derived Parameters\n",
      "M_p : 1.6664920608204679\n",
      "M_p : 0.8972972504421701\n",
      "M_p : 837.0948664673717\n",
      " lprob: -100.06030660960684\n",
      "           Fitted params from FITS/moon_fit90.0s15.0yrs.jld2\n",
      "mu_1 : 5.069336622497968e-6 pm 6.207652787151239e-7\n",
      "P_1 : 224.70075354990507 pm 2.956877115419534e-5\n",
      "t01 : 2.4335037688088855e6 pm 0.0004131271939479269\n",
      "ecos1 : -0.03795504202367187 pm 0.01220672024847384\n",
      "esin1 : 0.010237358223686262 pm 0.009898100885111998\n",
      "mu_2 : 2.3252100423120397e-6 pm 3.753518133126779e-7\n",
      "P_2 : 365.2564679715716 pm 6.126243649453817e-5\n",
      "t02 : 2.433624407429314e6 pm 0.000528909996149327\n",
      "ecos2 : -0.006453771402446054 pm 0.008469106977655984\n",
      "esin2 : -0.0035085775724907845 pm 0.00750866116365663\n",
      "mu_3 : 0.0012831975553162967 pm 0.0003207667634806684\n",
      "P_3 : 3379.6322873444224 pm 120.60166094461006\n",
      "t03 : 2.4385785464834077e6 pm 96.48979640662098\n",
      "ecos3 : 0.06284487895640752 pm 0.022482772134591513\n",
      "esin3 : -0.012213626907515231 pm 0.015383047271459064\n",
      "Derived Parameters\n",
      "M_p : 1.6876744995511797\n",
      "M_p : 0.7741047767659706\n",
      "M_p : 427.19983959688136\n",
      " lprob: -72.13221460618179\n"
     ]
    }
   ],
   "source": [
    "sigs=[10.0,30.0,60.0,90.0]#,120.0]\n",
    "years=[30.0,25.0,20.0,15.0]\n",
    "for i=1:length(sigs)\n",
    "    for j=1:length(years)\n",
    "        print_fits(sigs[i],years[j],\"nomoon\",\"moon\")\n",
    "    end\n",
    "end"
   ]
  },
  {
   "cell_type": "code",
   "execution_count": 159,
   "metadata": {},
   "outputs": [
    {
     "data": {
      "image/png": "[encoded data removed]",
      "text/plain": [
       "Figure(PyObject <Figure size 500x500 with 1 Axes>)"
      ]
     },
     "metadata": {},
     "output_type": "display_data"
    }
   ],
   "source": [
    "figure(figsize=(5,5)) #planet 3 detections\n",
    "title(\"Giant Planet Search Results\")\n",
    "ax1=gca()\n",
    "ax1.scatter(1,1,marker=\"o\",color=\"green\",label=L\"$\\geq3\\sigma$ EMB Detection\")\n",
    "# ax1.scatter(1+0.1,1,marker=\"o\",color=\"green\")\n",
    "ax1.scatter(2,1,marker=\"o\",color=\"green\")\n",
    "ax1.scatter(3,1,marker=\"o\",color=\"green\")\n",
    "ax1.scatter(4,1,marker=\"o\",color=\"green\")\n",
    "ax1.scatter(1,2,marker=\"+\",color=\"orange\")#,label=L\"$< 3\\sigma$ Detection\")\n",
    "ax1.scatter(2,2,marker=\"o\",color=\"green\")\n",
    "ax1.scatter(3,2,marker=\"o\",color=\"green\")\n",
    "ax1.scatter(4,2,marker=\"o\",color=\"green\")\n",
    "ax1.scatter(1,3,marker=\"+\",color=\"orange\")\n",
    "ax1.scatter(2,3,marker=\"+\",color=\"orange\")\n",
    "ax1.scatter(3,3,marker=\"o\",color=\"green\")\n",
    "ax1.scatter(4,3,marker=\"o\",color=\"green\")\n",
    "ax1.scatter(1,4,marker=\"x\",color=\"red\")#label=\"No detection/ not enough steps\"\n",
    "ax1.scatter(2,4,marker=\"x\",color=\"red\")\n",
    "ax1.scatter(3,4,marker=\"x\",color=\"red\")\n",
    "ax1.scatter(4,4,marker=\"+\",color=\"orange\")\n",
    "ax1.scatter(1,5,marker=\"x\",color=\"red\")\n",
    "ax1.scatter(2,5,marker=\"x\",color=\"red\")\n",
    "ax1.scatter(3,5,marker=\"x\",color=\"red\")\n",
    "ax1.scatter(4,5,marker=\"x\",color=\"red\")\n",
    "# ax1.scatter(1.25,5,marker=\"+\",label=\"Additional\",color=\"red\")\n",
    "ax1.set_xticks([1,2,3,4])\n",
    "ax1.set_xticklabels([\"15.0\",\"20.0\",\"25.0\",\"30.0\"])\n",
    "ax1.set_xlabel(\"Simulation Time Length [years]\")\n",
    "ax1.set_yticks([1,2,3,4,5])\n",
    "ax1.set_yticklabels([\"10.0\",\"30.0\",\"60.0\",\"90.0\",\"120.0\"])\n",
    "ax1.set_ylabel(L\"Transit Timing Noise, $σ_{i,j}$ [secs]\")\n",
    "ax1.set_ylim(0,6)\n",
    "ax1.set_xlim(0,5)\n",
    "ax1.legend()#handles=[\"D\",\"N\"],labels=[\"Detection\"])\n",
    "show()"
   ]
  },
  {
   "cell_type": "code",
   "execution_count": 160,
   "metadata": {},
   "outputs": [
    {
     "data": {
      "image/png": "[encoded data removed]",
      "text/plain": [
       "Figure(PyObject <Figure size 500x500 with 1 Axes>)"
      ]
     },
     "metadata": {},
     "output_type": "display_data"
    }
   ],
   "source": [
    "figure(figsize=(5,5)) #Moon detections from EV times\n",
    "title(\"ExoMoon Search Results\")\n",
    "ax1=gca()\n",
    "ax1.scatter(1,1,marker=\".\",color=\"green\",label=L\"$\\geq3\\sigma$ Detection\")\n",
    "ax1.scatter(2,1,marker=\".\",color=\"green\")\n",
    "ax1.scatter(3,1,marker=\".\",color=\"green\")\n",
    "ax1.scatter(4,1,marker=\".\",color=\"green\")\n",
    "ax1.scatter(1,2,marker=\"+\",color=\"orange\",label=L\"$< 3\\sigma$ Detection\")\n",
    "ax1.scatter(2,2,marker=\".\",color=\"green\")\n",
    "ax1.scatter(3,2,marker=\".\",color=\"green\")\n",
    "ax1.scatter(4,2,marker=\".\",color=\"green\")\n",
    "ax1.scatter(1,3,marker=\"x\",color=\"red\")\n",
    "ax1.scatter(2,3,marker=\"+\",color=\"orange\")\n",
    "ax1.scatter(3,3,marker=\".\",color=\"green\")\n",
    "ax1.scatter(4,3,marker=\".\",color=\"green\")\n",
    "ax1.scatter(1,4,marker=\"x\",color=\"red\")#label=\"No detection/ not enough steps\"\n",
    "ax1.scatter(2,4,marker=\"x\",color=\"red\")\n",
    "ax1.scatter(3,4,marker=\"+\",color=\"orange\")\n",
    "ax1.scatter(4,4,marker=\"+\",color=\"orange\")\n",
    "ax1.scatter(1,5,marker=\"x\",color=\"red\")\n",
    "ax1.scatter(2,5,marker=\"x\",color=\"red\")\n",
    "ax1.scatter(3,5,marker=\"x\",color=\"red\")\n",
    "ax1.scatter(4,5,marker=\"x\",color=\"red\")\n",
    "# ax1.scatter(1.25,5,marker=\"+\",label=\"Additional\",color=\"red\")\n",
    "ax1.set_xticks([1,2,3,4])\n",
    "ax1.set_xticklabels([\"15.0\",\"20.0\",\"25.0\",\"30.0\"])\n",
    "ax1.set_xlabel(\"Simulation Time Length [years]\")\n",
    "ax1.set_yticks([1,2,3,4,5])\n",
    "ax1.set_yticklabels([\"10.0\",\"30.0\",\"60.0\",\"90.0\",\"120.0\"])\n",
    "ax1.set_ylabel(L\"Transit Timing Noise, $σ_{i,j}$ [secs]\")\n",
    "ax1.set_ylim(0,6)\n",
    "ax1.set_xlim(0,5)\n",
    "ax1.legend()#handles=[\"D\",\"N\"],labels=[\"Detection\"])\n",
    "show()"
   ]
  },
  {
   "cell_type": "code",
   "execution_count": 167,
   "metadata": {
    "collapsed": true
   },
   "outputs": [
    {
     "ename": "PyCall.PyError",
     "evalue": "\u001b[91mPyError ($(Expr(:escape, :(ccall(#= /Users/bethleelindor/.julia/packages/PyCall/BcTLp/src/pyfncall.jl:43 =# @pysym(:PyObject_Call), PyPtr, (PyPtr, PyPtr, PyPtr), o, pyargsptr, kw))))) <class 'FileNotFoundError'>\u001b[39m\n\u001b[91mFileNotFoundError(2, 'No such file or directory')\u001b[39m\n\u001b[91m  File \"/Users/bethleelindor/.julia/conda/3/lib/python3.7/site-packages/matplotlib/pyplot.py\", line 689, in savefig\u001b[39m\n\u001b[91m    res = fig.savefig(*args, **kwargs)\u001b[39m\n\u001b[91m  File \"/Users/bethleelindor/.julia/conda/3/lib/python3.7/site-packages/matplotlib/figure.py\", line 2094, in savefig\u001b[39m\n\u001b[91m    self.canvas.print_figure(fname, **kwargs)\u001b[39m\n\u001b[91m  File \"/Users/bethleelindor/.julia/conda/3/lib/python3.7/site-packages/matplotlib/backend_bases.py\", line 2075, in print_figure\u001b[39m\n\u001b[91m    **kwargs)\u001b[39m\n\u001b[91m  File \"/Users/bethleelindor/.julia/conda/3/lib/python3.7/site-packages/matplotlib/backends/backend_agg.py\", line 521, in print_png\u001b[39m\n\u001b[91m    cbook.open_file_cm(filename_or_obj, \"wb\") as fh:\u001b[39m\n\u001b[91m  File \"/Users/bethleelindor/.julia/conda/3/lib/python3.7/contextlib.py\", line 112, in __enter__\u001b[39m\n\u001b[91m    return next(self.gen)\u001b[39m\n\u001b[91m  File \"/Users/bethleelindor/.julia/conda/3/lib/python3.7/site-packages/matplotlib/cbook/__init__.py\", line 407, in open_file_cm\u001b[39m\n\u001b[91m    fh, opened = to_filehandle(path_or_file, mode, True, encoding)\u001b[39m\n\u001b[91m  File \"/Users/bethleelindor/.julia/conda/3/lib/python3.7/site-packages/matplotlib/cbook/__init__.py\", line 392, in to_filehandle\u001b[39m\n\u001b[91m    fh = open(fname, flag, encoding=encoding)\u001b[39m\n",
     "output_type": "error",
     "traceback": [
      "\u001b[91mPyError ($(Expr(:escape, :(ccall(#= /Users/bethleelindor/.julia/packages/PyCall/BcTLp/src/pyfncall.jl:43 =# @pysym(:PyObject_Call), PyPtr, (PyPtr, PyPtr, PyPtr), o, pyargsptr, kw))))) <class 'FileNotFoundError'>\u001b[39m\n\u001b[91mFileNotFoundError(2, 'No such file or directory')\u001b[39m\n\u001b[91m  File \"/Users/bethleelindor/.julia/conda/3/lib/python3.7/site-packages/matplotlib/pyplot.py\", line 689, in savefig\u001b[39m\n\u001b[91m    res = fig.savefig(*args, **kwargs)\u001b[39m\n\u001b[91m  File \"/Users/bethleelindor/.julia/conda/3/lib/python3.7/site-packages/matplotlib/figure.py\", line 2094, in savefig\u001b[39m\n\u001b[91m    self.canvas.print_figure(fname, **kwargs)\u001b[39m\n\u001b[91m  File \"/Users/bethleelindor/.julia/conda/3/lib/python3.7/site-packages/matplotlib/backend_bases.py\", line 2075, in print_figure\u001b[39m\n\u001b[91m    **kwargs)\u001b[39m\n\u001b[91m  File \"/Users/bethleelindor/.julia/conda/3/lib/python3.7/site-packages/matplotlib/backends/backend_agg.py\", line 521, in print_png\u001b[39m\n\u001b[91m    cbook.open_file_cm(filename_or_obj, \"wb\") as fh:\u001b[39m\n\u001b[91m  File \"/Users/bethleelindor/.julia/conda/3/lib/python3.7/contextlib.py\", line 112, in __enter__\u001b[39m\n\u001b[91m    return next(self.gen)\u001b[39m\n\u001b[91m  File \"/Users/bethleelindor/.julia/conda/3/lib/python3.7/site-packages/matplotlib/cbook/__init__.py\", line 407, in open_file_cm\u001b[39m\n\u001b[91m    fh, opened = to_filehandle(path_or_file, mode, True, encoding)\u001b[39m\n\u001b[91m  File \"/Users/bethleelindor/.julia/conda/3/lib/python3.7/site-packages/matplotlib/cbook/__init__.py\", line 392, in to_filehandle\u001b[39m\n\u001b[91m    fh = open(fname, flag, encoding=encoding)\u001b[39m\n",
      "",
      "Stacktrace:",
      " [1] pyerr_check at /Users/bethleelindor/.julia/packages/PyCall/BcTLp/src/exception.jl:62 [inlined]",
      " [2] pyerr_check at /Users/bethleelindor/.julia/packages/PyCall/BcTLp/src/exception.jl:66 [inlined]",
      " [3] _handle_error(::String) at /Users/bethleelindor/.julia/packages/PyCall/BcTLp/src/exception.jl:83",
      " [4] macro expansion at /Users/bethleelindor/.julia/packages/PyCall/BcTLp/src/exception.jl:97 [inlined]",
      " [5] #110 at /Users/bethleelindor/.julia/packages/PyCall/BcTLp/src/pyfncall.jl:43 [inlined]",
      " [6] disable_sigint at ./c.jl:446 [inlined]",
      " [7] __pycall! at /Users/bethleelindor/.julia/packages/PyCall/BcTLp/src/pyfncall.jl:42 [inlined]",
      " [8] _pycall!(::PyCall.PyObject, ::PyCall.PyObject, ::Tuple{String}, ::Int64, ::Ptr{Nothing}) at /Users/bethleelindor/.julia/packages/PyCall/BcTLp/src/pyfncall.jl:29",
      " [9] #pycall#116 at /Users/bethleelindor/.julia/packages/PyCall/BcTLp/src/pyfncall.jl:11 [inlined]",
      " [10] pycall at /Users/bethleelindor/.julia/packages/PyCall/BcTLp/src/pyfncall.jl:83 [inlined]",
      " [11] #savefig#97(::Base.Iterators.Pairs{Union{},Union{},Tuple{},NamedTuple{(),Tuple{}}}, ::typeof(savefig), ::String) at /Users/bethleelindor/.julia/packages/PyPlot/XHEG0/src/PyPlot.jl:177",
      " [12] savefig at /Users/bethleelindor/.julia/packages/PyPlot/XHEG0/src/PyPlot.jl:174 [inlined]",
      " [13] plot_ttvs(::Float64, ::Float64, ::String, ::String, ::Bool) at /Users/bethleelindor/work/washington/ttv_project/ttv_ss/plot_ttvs.jl:171",
      " [14] top-level scope at ./In[167]:12"
     ]
    }
   ],
   "source": [
    "# include(\"plot_emcee.jl\")\n",
    "# include(\"corner_plot.jl\")\n",
    "# include(\"plot_likelihood.jl\")\n",
    "include(\"plot_ttvs.jl\")\n",
    "sigs=[10.0,30.0,60.0,90.0]#,120.0]\n",
    "years=[30.0,25.0,20.0,15.0]\n",
    "for i=1:length(sigs)\n",
    "    for j=1:length(years)\n",
    "# plot_emcee(sigs[i],years[j],\"noEMB\",\"moon\",true)\n",
    "# corner_plot(sigs[i],years[j],\"noEMB\",\"moon\",50,true) #still need to run moon true\n",
    "# plot_likelihood(sigs[i],years[j],\"noEMB\",\"moon\",\"moon\",30,true) \n",
    "# plot_ttvs(sigs[i],years[i],\"EMB\",\"p3\",false) \n",
    "    end\n",
    "end"
   ]
  },
  {
   "cell_type": "raw",
   "metadata": {
    "collapsed": true
   },
   "source": [
    "# p_11=jldopen(\"FITS/p3_fit10.0s10.0yrs.jld2\");p_mc11 = jldopen(\"MCMC/p3_mcmc10.0s10.0yrs.jld2\");\n",
    "p_115=jldopen(\"FITS/fromEMB/p3_fit10.0s15.0yrs.jld2\",\"r\");\n",
    "p_mc115 = jldopen(\"MCMC/fromEMB/p3_mcmc10.0s15.0yrs.jld2\",\"r\");\n",
    "p_12=jldopen(\"FITS/fromEMB/p3_fit10.0s20.0yrs.jld2\",\"r\");\n",
    "p_mc12 = jldopen(\"MCMC/fromEMB/p3_mcmc10.0s20.0yrs.jld2\",\"r\");\n",
    "p_125=jldopen(\"FITS/fromEMB/p3_fit10.0s25.0yrs.jld2\",\"r\");\n",
    "p_mc125 = jldopen(\"MCMC/fromEMB/p3_mcmc10.0s25.0yrs.jld2\",\"r\");\n",
    "p_13=jldopen(\"FITS/fromEMB/p3_fit10.0s30.0yrs.jld2\",\"r\")\n",
    "p_mc13 = jldopen(\"MCMC/fromEMB/p3_mcmc10.0s30.0yrs.jld2\",\"r\")"
   ]
  },
  {
   "cell_type": "raw",
   "metadata": {},
   "source": [
    "p_315=jldopen(\"FITS/fromEMB/p3_fit30.0s15.0yrs.jld2\",\"r\")\n",
    "p_32=jldopen(\"FITS/fromEMB/p3_fit30.0s20.0yrs.jld2\",\"r\")\n",
    "p_325=jldopen(\"FITS/fromEMB/p3_fit30.0s25.0yrs.jld2\",\"r\")\n",
    "p_33=jldopen(\"FITS/fromEMB/p3_fit30.0s30.0yrs.jld2\",\"r\")\n",
    "p_615=jldopen(\"FITS/fromEMB/p3_fit60.0s15.0yrs.jld2\",\"r\")\n",
    "# p_62=jldopen(\"FITS/fromEMB/p3_fit60.0s2.0yrs.jld2\",\"r\") #doesnt exist atm\n",
    "p_625=jldopen(\"FITS/fromEMB/p3_fit60.0s25.0yrs.jld2\",\"r\")\n",
    "p_63=jldopen(\"FITS/fromEMB/p3_fit60.0s30.0yrs.jld2\",\"r\")\n",
    "p_915=jldopen(\"FITS/fromEMB/p3_fit90.0s15.0yrs.jld2\",\"r\")\n",
    "p_92=jldopen(\"FITS/fromEMB/p3_fit90.0s20.0yrs.jld2\",\"r\") \n",
    "p_925=jldopen(\"FITS/fromEMB/p3_fit90.0s25.0yrs.jld2\",\"r\")\n",
    "p_93=jldopen(\"FITS/fromEMB/p3_fit90.0s30.0yrs.jld2\",\"r\")\n",
    "p_1215=jldopen(\"FITS/fromEMB/p3_fit120.0s15.0yrs.jld2\",\"r\")\n",
    "p_122=jldopen(\"FITS/fromEMB/p3_fit120.0s20.0yrs.jld2\",\"r\")\n",
    "p_1225=jldopen(\"FITS/fromEMB/p3_fit120.0s25.0yrs.jld2\",\"r\")\n",
    "p_123=jldopen(\"FITS/fromEMB/p3_fit120.0s30.0yrs.jld2\",\"r\")"
   ]
  },
  {
   "cell_type": "raw",
   "metadata": {},
   "source": [
    "m_315=jldopen(\"FITS/moon_fit30.0s15.0yrs.jld2\",\"r\")\n",
    "m_325=jldopen(\"FITS/moon_fit30.0s25.0yrs.jld2\",\"r\")\n",
    "# m_32=jldopen(\"FITS/moon_fit30.0s20.0yrs.jld2\",\"r\") # wrong file atm\n",
    "m_33=jldopen(\"FITS/moon_fit30.0s30.0yrs.jld2\",\"r\") \n",
    "m_615=jldopen(\"FITS/moon_fit60.0s15.0yrs.jld2\",\"r\")\n",
    "m_625=jldopen(\"FITS/moon_fit60.0s25.0yrs.jld2\",\"r\")\n",
    "m_62=jldopen(\"FITS/moon_fit60.0s20.0yrs.jld2\",\"r\")\n",
    "m_63=jldopen(\"FITS/moon_fit60.0s30.0yrs.jld2\",\"r\")\n",
    "m_915=jldopen(\"FITS/moon_fit90.0s15.0yrs.jld2\",\"r\")\n",
    "m_925=jldopen(\"FITS/moon_fit90.0s25.0yrs.jld2\",\"r\")\n",
    "m_92=jldopen(\"FITS/moon_fit90.0s20.0yrs.jld2\",\"r\")\n",
    "m_93=jldopen(\"FITS/moon_fit90.0s30.0yrs.jld2\",\"r\")\n",
    "m_1215=jldopen(\"FITS/moon_fit120.0s15.0yrs.jld2\",\"r\")\n",
    "m_1225=jldopen(\"FITS/moon_fit120.0s25.0yrs.jld2\",\"r\")\n",
    "m_122=jldopen(\"FITS/moon_fit120.0s20.0yrs.jld2\",\"r\")\n",
    "m_123=jldopen(\"FITS/moon_fit120.0s30.0yrs.jld2\",\"r\")"
   ]
  },
  {
   "cell_type": "code",
   "execution_count": 164,
   "metadata": {},
   "outputs": [
    {
     "data": {
      "text/plain": [
       "([10.0, 30.0, 60.0, 90.0], [30.0, 25.0, 20.0, 15.0])"
      ]
     },
     "execution_count": 164,
     "metadata": {},
     "output_type": "execute_result"
    }
   ],
   "source": [
    "sigs,years"
   ]
  },
  {
   "cell_type": "raw",
   "metadata": {},
   "source": [
    "p4_33=jldopen(\"FITS/p4_fit30.0s30.0yrs.jld2\",\"r\") \n",
    "p4_32=jldopen(\"FITS/p4_fit30.0s20.0yrs.jld2\",\"r\") #no pins and pouts\n",
    "# p4_315=jldopen(\"FITS/p4_fit30.0s15.0yrs.jld2\",\"r\") \n",
    "# p4_325=jldopen(\"FITS/p4_fit30.0s25.0yrs.jld2\",\"r\") \n",
    "# p4_63=jldopen(\"FITS/p4_fit60.0s30.0yrs.jld2\",\"r\") #no pins and pouts\n",
    "# p4_62=jldopen(\"FITS/p4_fit60.0s20.0yrs.jld2\",\"r\") #no pins and pouts\n",
    "# #p4_625=jldopen(\"FITS/p4_fit60.0s25.0yrs.jld2\",\"r\") # doesn't exist\n",
    "# p4_615=jldopen(\"FITS/p4_fit60.0s15.0yrs.jld2\",\"r\") #no pins and pouts\n",
    "# p4_93=jldopen(\"FITS/p4_fit90.0s30.0yrs.jld2\",\"r\") #no pins and pouts\n",
    "# p4_92=jldopen(\"FITS/p4_fit90.0s20.0yrs.jld2\",\"r\") #no pins and pouts\n",
    "# p4_915=jldopen(\"FITS/p4_fit90.0s15.0yrs.jld2\",\"r\") #no pins and pouts\n",
    "# p4_925=jldopen(\"FITS/p4_fit90.0s25.0yrs.jld2\",\"r\") #no pins and pouts\n",
    "#     # p4_123=jldopen(\"FITS/p4_fit120.0s30.0yrs.jld2\",\"r\") # doesnt exist\n",
    "    # p4_122=jldopen(\"FITS/p4_fit120.0s20.0yrs.jld2\",\"r\") # doesnt exist\n",
    "    # p4_1215=jldopen(\"FITS/p4_fit120.0s15.0yrs.jld2\",\"r\") # doesnt exist\n",
    "    # p4_1225=jldopen(\"FITS/p4_fit120.0s25.0yrs.jld2\",\"r\") # doesnt exist"
   ]
  },
  {
   "cell_type": "markdown",
   "metadata": {},
   "source": [
    "### Linear Fit to Posterior mean and/or std"
   ]
  },
  {
   "cell_type": "code",
   "execution_count": 152,
   "metadata": {},
   "outputs": [
    {
     "data": {
      "image/png": "[encoded data removed]",
      "text/plain": [
       "Figure(PyObject <Figure size 640x480 with 1 Axes>)"
      ]
     },
     "metadata": {},
     "output_type": "display_data"
    },
    {
     "data": {
      "text/plain": [
       "PyObject Text(0.5, 24.0, 'Observation Time Span [yrs]')"
      ]
     },
     "execution_count": 152,
     "metadata": {},
     "output_type": "execute_result"
    }
   ],
   "source": [
    "function plot_col(col_num)\n",
    "errorbar(30,mean(p_mc33[\"par_mcmc\"][:,p_mc33[\"iburn\"]:p_mc33[\"nsteps\"],col_num]),std(p_mc33[\"par_mcmc\"][:,p_mc33[\"iburn\"]:p_mc33[\"nsteps\"],col_num]),fmt=\"s\")#,color=\"black\",mec=\"black\",mfc=\"white\")\n",
    "errorbar(25,mean(p_mc325[\"par_mcmc\"][:,p_mc325[\"iburn\"]:p_mc325[\"nsteps\"],col_num]),std(p_mc325[\"par_mcmc\"][:,p_mc325[\"iburn\"]:p_mc325[\"nsteps\"],col_num]),fmt=\".\")#,color=\"black\",mec=\"black\",mfc=\"white\")\n",
    "errorbar(20,mean(p_mc32[\"par_mcmc\"][:,p_mc32[\"iburn\"]:p_mc32[\"nsteps\"],col_num]),std(p_mc32[\"par_mcmc\"][:,p_mc32[\"iburn\"]:p_mc32[\"nsteps\"],col_num]),fmt=\"o\")#,color=\"black\",mec=\"black\",mfc=\"white\")\n",
    "# errorbar(15,mean(p_mc115[\"par_mcmc\"][:,p_mc115[\"iburn\"]:p_mc115[\"nsteps\"],col_num]),std(p_mc115[\"par_mcmc\"][:,p_mc115[\"iburn\"]:p_mc115[\"nsteps\"],col_num]),fmt=\".\")#,color=\"black\",mec=\"black\",mfc=\"white\")\n",
    "# errorbar(10,mean(p_mc31[\"par_mcmc\"][:,p_mc31[\"iburn\"]:p_mc31[\"nsteps\"],col_num]),std(p_mc31[\"par_mcmc\"][:,p_mc31[\"iburn\"]:p_mc31[\"nsteps\"],col_num]),fmt=\"o\")#,color=\"black\",mec=\"black\",mfc=\"white\")\n",
    "    xlabel(\"Observation Time Span [yrs]\")\n",
    "end\n",
    "    ylabel(\"Jupiter Period [days]\")\n",
    "plot_col(12)"
   ]
  },
  {
   "cell_type": "code",
   "execution_count": 151,
   "metadata": {},
   "outputs": [
    {
     "data": {
      "image/png": "[encoded data removed]",
      "text/plain": [
       "Figure(PyObject <Figure size 640x480 with 1 Axes>)"
      ]
     },
     "metadata": {},
     "output_type": "display_data"
    },
    {
     "data": {
      "text/plain": [
       "PyObject Text(0.5, 24.0, 'Observation Time Span [yrs]')"
      ]
     },
     "execution_count": 151,
     "metadata": {},
     "output_type": "execute_result"
    }
   ],
   "source": [
    "function plot_col(col_num,f1,f2,f3,f4)\n",
    "errorbar(30,mean(m_mc33[\"par_mcmc\"][:,m_mc33[\"iburn\"]:m_mc33[\"nsteps\"],col_num]),std(m_mc33[\"par_mcmc\"][:,m_mc33[\"iburn\"]:m_mc33[\"nsteps\"],col_num]),fmt=\"s\")#,color=\"black\",mec=\"black\",mfc=\"white\")\n",
    "errorbar(25,mean(m_mc325[\"par_mcmc\"][:,m_mc325[\"iburn\"]:m_mc325[\"nsteps\"],col_num]),std(m_mc325[\"par_mcmc\"][:,m_mc325[\"iburn\"]:m_mc325[\"nsteps\"],col_num]),fmt=\".\")#,color=\"black\",mec=\"black\",mfc=\"white\")\n",
    "errorbar(20,mean(m_mc32[\"par_mcmc\"][:,m_mc32[\"iburn\"]:m_mc32[\"nsteps\"],col_num]),std(m_mc32[\"par_mcmc\"][:,m_mc32[\"iburn\"]:m_mc32[\"nsteps\"],col_num]),fmt=\"o\")#,color=\"black\",mec=\"black\",mfc=\"white\")\n",
    "# errorbar(15,mean(p_mc115[\"par_mcmc\"][:,p_mc115[\"iburn\"]:p_mc115[\"nsteps\"],col_num]),std(p_mc115[\"par_mcmc\"][:,p_mc115[\"iburn\"]:p_mc115[\"nsteps\"],col_num]),fmt=\".\")#,color=\"black\",mec=\"black\",mfc=\"white\")\n",
    "# errorbar(10,mean(p_mc31[\"par_mcmc\"][:,p_mc31[\"iburn\"]:p_mc31[\"nsteps\"],col_num]),std(p_mc31[\"par_mcmc\"][:,p_mc31[\"iburn\"]:p_mc31[\"nsteps\"],col_num]),fmt=\"o\")#,color=\"black\",mec=\"black\",mfc=\"white\")\n",
    "    xlabel(\"Observation Time Span [yrs]\")\n",
    "end\n",
    "    ylabel(\"DeltaPhi [rad]\")\n",
    "plot_col(18)"
   ]
  },
  {
   "cell_type": "code",
   "execution_count": 32,
   "metadata": {},
   "outputs": [
    {
     "data": {
      "image/png": "[encoded data removed]",
      "text/plain": [
       "Figure(PyObject <Figure size 640x480 with 1 Axes>)"
      ]
     },
     "metadata": {},
     "output_type": "display_data"
    },
    {
     "data": {
      "text/plain": [
       "PyObject Text(24.000000000000014, 0.5, 'Jupiter Mass [Solar Masses]')"
      ]
     },
     "execution_count": 32,
     "metadata": {},
     "output_type": "execute_result"
    }
   ],
   "source": [
    "plot_col(11)\n",
    "ylabel(\"Jupiter Mass [Solar Masses]\")"
   ]
  },
  {
   "cell_type": "markdown",
   "metadata": {},
   "source": [
    "### 2-planet MCMC"
   ]
  },
  {
   "cell_type": "code",
   "execution_count": 20,
   "metadata": {},
   "outputs": [
    {
     "data": {
      "text/plain": [
       "MCMC (generic function with 1 method)"
      ]
     },
     "execution_count": 20,
     "metadata": {},
     "output_type": "execute_result"
    }
   ],
   "source": [
    "include(\"MCMC.jl\")"
   ]
  },
  {
   "cell_type": "code",
   "execution_count": 21,
   "metadata": {},
   "outputs": [
    {
     "data": {
      "text/plain": [
       "-259.1624205684809"
      ]
     },
     "execution_count": 21,
     "metadata": {},
     "output_type": "execute_result"
    }
   ],
   "source": [
    "1-sum(m_33[\"ntrans\"][1:2] )/2 * log(667.8479408806473)\n",
    "# Nobs = sum()"
   ]
  },
  {
   "cell_type": "code",
   "execution_count": 23,
   "metadata": {
    "collapsed": true
   },
   "outputs": [
    {
     "name": "stdout",
     "output_type": "stream",
     "text": [
      "Parameters from fit: [4.513519229108455e-6, 224.70077801541302, 2.4335037687537777e6, -0.0175050266179791, -0.025801638584714393, 2.964754129377914e-6, 365.25643897142635, 2.4336244077652446e6, 0.003030566580559538, -0.01953468392084722]\n",
      "Maximum log Prob from fit: -259.1624205684809\n",
      "Step: 193 Walker: 42 Trial Log Prob: 426.49314303794404 Prob: 1.2710845222989337e-7 Frac: 0.4260526861646961\n",
      "Step: 293 Walker: 34 Trial Log Prob: 473.82203892999183 Prob: 1.005490785208814 Frac: 0.4230558972256389\n",
      "Step: 370 Walker: 49 Trial Log Prob: 493.2463334225217 Prob: 0.25319213944931385 Frac: 0.4233201794691605\n",
      "Step: 572 Walker: 36 Trial Log Prob: 517.5322863903355 Prob: 0.001594701592098923 Frac: 0.40918631497936053\n",
      "Step: 584 Walker: 35 Trial Log Prob: 513.5953264857309 Prob: 0.4843221013987992 Frac: 0.4091485352064417\n",
      "Step: 608 Walker: 46 Trial Log Prob: 518.8336758842289 Prob: 0.07254184825454627 Frac: 0.4077839189367022\n",
      "Number of steps: 1000 Acceptance Rate: 0.39362\n",
      "Step: 1001 Walker: 10 Trial Log Prob: 518.6968660666466 Prob: 0.004814825808213383 Frac: 0.4\n",
      "Step: 1195 Walker: 4 Trial Log Prob: 516.8216001186195 Prob: 38.31627663323177 Frac: 0.37695795548227534\n",
      "Step: 1517 Walker: 11 Trial Log Prob: 507.7936241191012 Prob: 0.003374750725575669 Frac: 0.3709271240943784\n",
      "Step: 1672 Walker: 38 Trial Log Prob: 500.43480884974247 Prob: 0.0008887371551155558 Frac: 0.371739907109682\n",
      "Step: 1778 Walker: 40 Trial Log Prob: 515.0212026605025 Prob: 1.007940302867536 Frac: 0.37012085368989456\n",
      "Step: 1819 Walker: 28 Trial Log Prob: 517.7444362518205 Prob: 2.8165124461550075 Frac: 0.3702599687255668\n",
      "Number of steps: 2000 Acceptance Rate: 0.37158\n",
      "Step: 2053 Walker: 32 Trial Log Prob: 505.66302890900346 Prob: 0.02387777984741569 Frac: 0.3738601823708207\n",
      "Step: 2104 Walker: 18 Trial Log Prob: 504.1785517237645 Prob: 0.32819845970397626 Frac: 0.3705495356037152\n",
      "Step: 2195 Walker: 16 Trial Log Prob: 514.6568849193654 Prob: 0.8757792431820868 Frac: 0.36136270069987647\n",
      "Step: 2209 Walker: 42 Trial Log Prob: 512.3971330812174 Prob: 0.26342890399304114 Frac: 0.360850411798506\n",
      "Step: 2368 Walker: 24 Trial Log Prob: 514.2988049668493 Prob: 1.0225867706459344 Frac: 0.3649178186567976\n",
      "Step: 2826 Walker: 20 Trial Log Prob: 506.4160500220154 Prob: 0.017836038674969974 Frac: 0.36883935061788226\n",
      "Number of steps: 3000 Acceptance Rate: 0.36684\n",
      "Step: 3023 Walker: 43 Trial Log Prob: 467.2290942850234 Prob: 1.428726069888482e-17 Frac: 0.3674540682414698\n",
      "Step: 3516 Walker: 45 Trial Log Prob: 510.34598327998646 Prob: 1.692309927069768 Frac: 0.37406474122892036\n",
      "Step: 3858 Walker: 47 Trial Log Prob: 501.7699282241542 Prob: 0.0004343646096088327 Frac: 0.37193743152201786\n",
      "Step: 3889 Walker: 27 Trial Log Prob: 487.1192896099798 Prob: 1.1668758426825025e-8 Frac: 0.3721160555518041\n",
      "Number of steps: 4000 Acceptance Rate: 0.37234\n",
      "Step: 4066 Walker: 17 Trial Log Prob: 504.27865713592263 Prob: 0.028214699044573497 Frac: 0.3936333027242118\n",
      "Step: 4117 Walker: 11 Trial Log Prob: 444.3648926727569 Prob: 9.06273815355975e-29 Frac: 0.38478747203579416\n",
      "Step: 4461 Walker: 18 Trial Log Prob: 484.15847618386 Prob: 6.596711636422315e-13 Frac: 0.37514119384829264\n",
      "Step: 4776 Walker: 47 Trial Log Prob: 519.7241972126366 Prob: 1.1178755944533223 Frac: 0.37453926850014174\n",
      "Number of steps: 5000 Acceptance Rate: 0.37246\n",
      "Step: 5249 Walker: 15 Trial Log Prob: 516.0112960131505 Prob: 1.130618368887189 Frac: 0.37414418042690295\n",
      "Step: 5382 Walker: 2 Trial Log Prob: 517.4947530320883 Prob: 0.11036158150477343 Frac: 0.3713520890195255\n",
      "Step: 5648 Walker: 28 Trial Log Prob: 517.3918101485951 Prob: 0.042692313239969824 Frac: 0.3727222187905368\n",
      "Step: 5659 Walker: 30 Trial Log Prob: 506.1060024928379 Prob: 0.16534845183294453 Frac: 0.37266929851199515\n",
      "Step: 5928 Walker: 29 Trial Log Prob: 508.9930546185824 Prob: 0.64801132495626 Frac: 0.3715905905690075\n",
      "Number of steps: 6000 Acceptance Rate: 0.37082\n",
      "Step: 6063 Walker: 14 Trial Log Prob: 511.19425305698934 Prob: 0.1842058894896728 Frac: 0.3448940269749518\n",
      "Step: 6303 Walker: 21 Trial Log Prob: 508.606286789796 Prob: 0.06323603784957857 Frac: 0.36254215991005884\n",
      "Step: 6423 Walker: 20 Trial Log Prob: 463.32424284162613 Prob: 7.710187058722293e-20 Frac: 0.3637310606060606\n",
      "Step: 6435 Walker: 49 Trial Log Prob: 498.4717461491882 Prob: 0.000396370158757664 Frac: 0.3632810703940411\n",
      "Step: 6568 Walker: 26 Trial Log Prob: 501.19519045740975 Prob: 0.001340989683141795 Frac: 0.36284183817310406\n",
      "Step: 6661 Walker: 17 Trial Log Prob: 516.4506271268925 Prob: 0.017760715663987497 Frac: 0.36390344368052824\n",
      "Step: 6712 Walker: 12 Trial Log Prob: 518.8084060748794 Prob: 0.08663494309444043 Frac: 0.3650525842191103\n",
      "Step: 6923 Walker: 8 Trial Log Prob: 516.7486723539224 Prob: 0.07014623957084813 Frac: 0.3664223128307452\n",
      "Number of steps: 7000 Acceptance Rate: 0.36724\n",
      "Step: 7329 Walker: 33 Trial Log Prob: 517.2619383110664 Prob: 1.1657391954620282 Frac: 0.3722996409663482\n",
      "Step: 7681 Walker: 33 Trial Log Prob: 514.023072641139 Prob: 0.48210712016371987 Frac: 0.37087532688860814\n",
      "Step: 7800 Walker: 12 Trial Log Prob: 512.5323278113277 Prob: 0.5431786840343443 Frac: 0.3709023572393774\n",
      "Number of steps: 8000 Acceptance Rate: 0.36998\n",
      "Step: 8118 Walker: 43 Trial Log Prob: 514.2477924247939 Prob: 0.33381239968579324 Frac: 0.376718140166299\n",
      "Step: 8372 Walker: 41 Trial Log Prob: 460.71189036777537 Prob: 4.3873210130006343e-20 Frac: 0.3696412242482922\n",
      "Step: 8622 Walker: 14 Trial Log Prob: 505.84780359902976 Prob: 0.06557093752840257 Frac: 0.3665014164305949\n",
      "Number of steps: 9000 Acceptance Rate: 0.36996\n",
      "Step: 9007 Walker: 19 Trial Log Prob: 514.2942837380797 Prob: 0.22760291012482478 Frac: 0.335423197492163\n",
      "Step: 9121 Walker: 44 Trial Log Prob: 515.6415646221445 Prob: 0.5953879919163426 Frac: 0.37888815354070154\n",
      "Step: 9427 Walker: 10 Trial Log Prob: 507.7951088188424 Prob: 0.13225380950288967 Frac: 0.3713749413420929\n",
      "Step: 9650 Walker: 43 Trial Log Prob: 516.2643848085067 Prob: 2.38138101075791 Frac: 0.3704490197888776\n",
      "Step: 9667 Walker: 27 Trial Log Prob: 479.3597930535313 Prob: 7.854367962156801e-13 Frac: 0.3703603684700093\n",
      "Step: 9889 Walker: 39 Trial Log Prob: 486.4340051459593 Prob: 2.973829388506483e-10 Frac: 0.371002947861113\n",
      "Number of steps: 10000 Acceptance Rate: 0.36986\n",
      "Burn-in Number (ends): 895\n",
      "Independent Sample Size: 2619.1036749879518\n"
     ]
    },
    {
     "data": {
      "text/plain": [
       "([75.28769233479389 219.3594460186767 … 516.4881994945473 516.4881994945473; -444.65886672058883 -179.91995136093811 … 518.9664783752439 518.9664783752439; … ; -6.207035479125622 8.101604707805357 … 515.0457994095664 516.7171326214575; -590.5867961707044 -590.5867961707044 … 516.3621801274104 514.7776681213268], [4.445630411721898e-6 4.415787023431983e-6 … 4.206582338987755e-6 4.206582338987755e-6; 4.422629575203517e-6 4.434748781693544e-6 … 4.668535978959624e-6 4.668535978959624e-6; … ; 4.421228165235299e-6 4.487950235042027e-6 … 5.371583333236327e-6 5.212825825179325e-6; 4.358749104252416e-6 4.358749104252416e-6 … 4.278023225622351e-6 4.2086541016973845e-6]\n",
       "\n",
       "[224.700772340187 224.7007758152718 … 224.70077643355427 224.70077643355427; 224.7007664603429 224.700765708711 … 224.70077526896767 224.70077526896767; … ; 224.7007948253631 224.7007858316187 … 224.70077304449623 224.70077747636677; 224.70077991916642 224.70077991916642 … 224.70078876795066 224.70079300411328]\n",
       "\n",
       "[2.433503768755709e6 2.4335037687580893e6 … 2.43350376867727e6 2.43350376867727e6; 2.4335037687639194e6 2.433503768763301e6 … 2.4335037687888737e6 2.4335037687888737e6; … ; 2.433503768746745e6 2.433503768749028e6 … 2.433503768737991e6 2.433503768687294e6; 2.4335037687559933e6 2.4335037687559933e6 … 2.4335037685591113e6 2.433503768462229e6]\n",
       "\n",
       "...\n",
       "\n",
       "[0.011870366157737327 0.012620709018171423 … -0.026185310235215385 -0.026185310235215385; 0.009073542877753868 0.006885445841241723 … 0.010618876638824248 0.010618876638824248; … ; -0.00220154624697662 -0.006458734848579563 … 0.011393548351758138 0.00843983014319419; 0.011853451005731638 0.011853451005731638 … 0.014053244683682232 0.016557457974399906]\n",
       "\n",
       "[-0.023376295383234328 -0.024546421123991934 … -0.06055942915477165 -0.06055942915477165; -0.011568359413443766 -0.01353608943839794 … -0.023842134613043416 -0.023842134613043416; … ; -0.023029871601485216 -0.024391714886429397 … -0.011716984281562573 -0.01245768529505982; -0.035549707765854296 -0.035549707765854296 … -0.03147878285543124 -0.032179995545169496]\n",
       "\n",
       "[7.044219944005645e-9 6.4404360926808885e-9 … 9.944120742263985e-7 9.944120742263985e-7; 2.454472385867768e-8 2.2448841778042716e-8 … 8.583863827491164e-7 8.583863827491164e-7; … ; 4.242739387689333e-9 4.186902894788932e-9 … 1.0465827445584263e-6 1.0299882634349052e-6; 1.014326897584734e-8 1.014326897584734e-8 … 1.0814679859398059e-6 1.1371759912519696e-6])"
      ]
     },
     "execution_count": 23,
     "metadata": {},
     "output_type": "execute_result"
    }
   ],
   "source": [
    "MCMC(\"MCMC/p2_mcmc30.0s30.0yrs.jld2\",[4.513519229108455e-6, 224.70077801541302, 2.4335037687537777e6, -0.0175050266179791, -0.025801638584714393, 2.964754129377914e-6, 365.25643897142635, 2.4336244077652446e6, 0.003030566580559538, -0.01953468392084722],\n",
    "    -259.1624205684809,10000,50,2,m_33[\"ntrans\"][1:2],m_33[\"tt0\"],m_33[\"tt\"],m_33[\"sigtt\"],true,true)"
   ]
  },
  {
   "cell_type": "raw",
   "metadata": {},
   "source": [
    "grid = zeros(1)\n",
    "prob = zeros(1)\n",
    "for val=1:length(con)\n",
    "    if con[val] > maximum(xgrid)\n",
    "#         println(grid_wide[val])\n",
    "        append!(grid,grid_wide[val])\n",
    "        append!(prob,lprob_wide[val])\n",
    "    end\n",
    "    if con[val] < minimum(xgrid)\n",
    "        #println(grid_wide[val])\n",
    "        append!(grid,grid_wide[val])\n",
    "        append!(prob,lprob_wide[val])\n",
    "    end\n",
    "#     if grid_wide[val] > minimum(xgrid) && grid_wide[val]< maximum(xgrid)\n",
    "#         append!(grid,xgrid[val])\n",
    "#     end\n",
    "end"
   ]
  },
  {
   "cell_type": "raw",
   "metadata": {
    "collapsed": true
   },
   "source": [
    "con = [grid_wide;xgrid]\n",
    "cat = [lprob_wide;xprob]\n",
    "v = sortperm(con)\n",
    "con_perm = con[v]\n",
    "cat_perm = cat[v]"
   ]
  },
  {
   "cell_type": "raw",
   "metadata": {
    "collapsed": true
   },
   "source": [
    "mask = p_mc315[\"lprob_mcmc\"][:,iburn:nsteps] .> 275\n",
    "newp3 = p_mc315[\"par_mcmc\"][:,iburn:nsteps,12][mask]\n",
    "\n",
    "for i=1:nwalkers \n",
    "    for j=iburn:nsteps\n",
    "        if p_mc315[\"lprob_mcmc\"][i,j]<275 \n",
    "            println(p_mc315[\"par_mcmc\"][i,j,12])\n",
    "        end \n",
    "    end\n",
    "end\n"
   ]
  }
 ],
 "metadata": {
  "anaconda-cloud": {},
  "kernelspec": {
   "display_name": "Julia 1.3.0",
   "language": "julia",
   "name": "julia-1.3"
  },
  "language_info": {
   "file_extension": ".jl",
   "mimetype": "application/julia",
   "name": "julia",
   "version": "1.3.0"
  }
 },
 "nbformat": 4,
 "nbformat_minor": 2
}
