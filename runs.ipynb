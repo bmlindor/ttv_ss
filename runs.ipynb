{
 "cells": [
  {
   "cell_type": "code",
   "execution_count": 1,
   "metadata": {},
   "outputs": [],
   "source": [
    "using PyPlot,JLD2"
   ]
  },
  {
   "cell_type": "code",
   "execution_count": 2,
   "metadata": {},
   "outputs": [
    {
     "data": {
      "text/plain": [
       "Main.CGS"
      ]
     },
     "execution_count": 2,
     "metadata": {},
     "output_type": "execute_result"
    }
   ],
   "source": [
    "include(\"decompose_ttvs.jl\")\n",
    "include(\"plot_ttvs.jl\")\n",
    "include(\"plot_likelihood.jl\")\n",
    "include(\"CGS.jl\")"
   ]
  },
  {
   "cell_type": "markdown",
   "metadata": {},
   "source": [
    "### BIC calculation from fit routine"
   ]
  },
  {
   "cell_type": "code",
   "execution_count": 6,
   "metadata": {},
   "outputs": [
    {
     "data": {
      "text/plain": [
       "BIC (generic function with 1 method)"
      ]
     },
     "execution_count": 6,
     "metadata": {},
     "output_type": "execute_result"
    }
   ],
   "source": [
    "BIC(chi2,k,Nobs) = chi2 + k*log(Nobs)"
   ]
  },
  {
   "cell_type": "code",
   "execution_count": 12,
   "metadata": {
    "collapsed": true
   },
   "outputs": [
    {
     "name": "stdout",
     "output_type": "stream",
     "text": [
      "BIC for p2 fits from EMB+V sims.\n",
      "BIC for 10s15 = 2582.135720667043\n",
      "BIC for 10s20 = 3098.889840465643\n",
      "BIC for 10s25 = 4741.04692619391\n",
      "BIC for 10s30 = 4984.820266346739\n",
      "BIC for 30s15 = 353.1357206670431\n",
      "BIC for 30s20 = 396.88984046564275\n",
      "BIC for 30s25 = 632.0469261939097\n",
      "BIC for 30s30 = 628.8202663467388\n",
      "BIC for 60s15 = 145.13572066704307\n",
      "BIC for 60s20 = 158.88984046564275\n",
      "BIC for 60s25 = 243.04692619390966\n",
      "BIC for 60s30 = 234.8202663467388\n",
      "BIC for 90s15 = 107.13572066704307\n",
      "BIC for 90s20 = 118.88984046564275\n",
      "BIC for 90s25 = 169.04692619390966\n",
      "BIC for 90s30 = 164.8202663467388\n",
      "BIC for 120s15 = 93.13572066704307\n",
      "BIC for 120s20 = 105.88984046564275\n",
      "BIC for 120s25 = 143.04692619390966\n",
      "BIC for 120s30 = 140.8202663467388\n"
     ]
    }
   ],
   "source": [
    "println(\"BIC for p2 fits from EMB+V sims.\")\n",
    "println(\"BIC for 10s15 = \",BIC(2545,10,41))\n",
    "println(\"BIC for 10s20 = \",BIC(3059,10,54))\n",
    "println(\"BIC for 10s25 = \",BIC(4699,10,67))\n",
    "println(\"BIC for 10s30 = \",BIC(4941,10,80))\n",
    "println(\"BIC for 30s15 = \",BIC(316,10,41))\n",
    "println(\"BIC for 30s20 = \",BIC(357,10,54))\n",
    "println(\"BIC for 30s25 = \",BIC(590,10,67))\n",
    "println(\"BIC for 30s30 = \",BIC(585,10,80))\n",
    "println(\"BIC for 60s15 = \",BIC(108,10,41))\n",
    "println(\"BIC for 60s20 = \",BIC(119,10,54))\n",
    "println(\"BIC for 60s25 = \",BIC(201,10,67))\n",
    "println(\"BIC for 60s30 = \",BIC(191,10,80))\n",
    "println(\"BIC for 90s15 = \",BIC(70,10,41))\n",
    "println(\"BIC for 90s20 = \",BIC(79,10,54))\n",
    "println(\"BIC for 90s25 = \",BIC(127,10,67))\n",
    "println(\"BIC for 90s30 = \",BIC(121,10,80))\n",
    "println(\"BIC for 120s15 = \",BIC(56,10,41))\n",
    "println(\"BIC for 120s20 = \",BIC(66,10,54))\n",
    "println(\"BIC for 120s25 = \",BIC(101,10,67))\n",
    "println(\"BIC for 120s30 = \",BIC(97,10,80))"
   ]
  },
  {
   "cell_type": "code",
   "execution_count": 14,
   "metadata": {
    "collapsed": true
   },
   "outputs": [
    {
     "name": "stdout",
     "output_type": "stream",
     "text": [
      "BIC for p3 fits from EMB+V sims.\n",
      "BIC for 10s15 = 192.7035810005646\n",
      "BIC for 10s20 = 297.8347606984641\n",
      "BIC for 10s25 = 413.07038929086445\n",
      "BIC for 10s30 = 537.7303995201082\n",
      "BIC for 30s15 = 107.70358100056461\n",
      "BIC for 30s20 = 128.83476069846412\n",
      "BIC for 30s25 = 154.07038929086448\n",
      "BIC for 30s30 = 174.73039952010822\n",
      "BIC for 60s15 = 96.70358100056461\n",
      "BIC for 60s20 = 111.83476069846412\n",
      "BIC for 60s25 = 131.07038929086448\n",
      "BIC for 60s30 = 141.73039952010822\n",
      "BIC for 90s15 = 94.70358100056461\n",
      "BIC for 90s20 = 107.83476069846412\n",
      "BIC for 90s25 = 127.07038929086448\n",
      "BIC for 90s30 = 133.73039952010822\n",
      "BIC for 120s15 = 92.70358100056461\n",
      "BIC for 120s20 = 106.83476069846412\n",
      "BIC for 120s25 = 125.07038929086448\n",
      "BIC for 120s30 = 131.73039952010822\n"
     ]
    }
   ],
   "source": [
    "println(\"BIC for p3 fits from EMB+V sims.\")\n",
    "println(\"BIC for 10s15 = \",BIC(137,15,41))\n",
    "println(\"BIC for 10s20 = \",BIC(238,15,54))\n",
    "println(\"BIC for 10s25 = \",BIC(350,15,67))\n",
    "println(\"BIC for 10s30 = \",BIC(472,15,80))\n",
    "println(\"BIC for 30s15 = \",BIC(52,15,41))\n",
    "println(\"BIC for 30s20 = \",BIC(69,15,54))\n",
    "println(\"BIC for 30s25 = \",BIC(91,15,67))\n",
    "println(\"BIC for 30s30 = \",BIC(109,15,80))\n",
    "println(\"BIC for 60s15 = \",BIC(41,15,41))\n",
    "println(\"BIC for 60s20 = \",BIC(52,15,54))\n",
    "println(\"BIC for 60s25 = \",BIC(68,15,67))\n",
    "println(\"BIC for 60s30 = \",BIC(76,15,80))\n",
    "println(\"BIC for 90s15 = \",BIC(39,15,41))\n",
    "println(\"BIC for 90s20 = \",BIC(48,15,54))\n",
    "println(\"BIC for 90s25 = \",BIC(64,15,67))\n",
    "println(\"BIC for 90s30 = \",BIC(68,15,80))\n",
    "println(\"BIC for 120s15 = \",BIC(37,15,41))\n",
    "println(\"BIC for 120s20 = \",BIC(47,15,54))\n",
    "println(\"BIC for 120s25 = \",BIC(62,15,67))\n",
    "println(\"BIC for 120s30 = \",BIC(66,15,80))"
   ]
  },
  {
   "cell_type": "code",
   "execution_count": 9,
   "metadata": {
    "collapsed": true
   },
   "outputs": [
    {
     "name": "stdout",
     "output_type": "stream",
     "text": [
      "BIC for p2 fits from E+V sims.\n",
      "BIC for 10s15 = 2934.135720667043\n",
      "BIC for 10s20 = 3672.889840465643\n",
      "BIC for 10s25 = 5294.04692619391\n",
      "BIC for 10s30 = 5720.820266346739\n",
      "BIC for 30s15 = 396.1357206670431\n",
      "BIC for 30s20 = 456.88984046564275\n",
      "BIC for 30s25 = 691.0469261939097\n",
      "BIC for 30s30 = 710.8202663467388\n",
      "BIC for 60s15 = 156.13572066704307\n",
      "BIC for 60s20 = 172.88984046564275\n",
      "BIC for 60s25 = 256.04692619390966\n",
      "BIC for 60s30 = 254.8202663467388\n",
      "BIC for 90s15 = 112.13572066704307\n",
      "BIC for 90s20 = 123.88984046564275\n",
      "BIC for 90s25 = 175.04692619390966\n",
      "BIC for 90s30 = 172.8202663467388\n",
      "BIC for 120s15 = 96.13572066704307\n",
      "BIC for 120s20 = 108.88984046564275\n",
      "BIC for 120s25 = 146.04692619390966\n",
      "BIC for 120s30 = 145.8202663467388\n"
     ]
    }
   ],
   "source": [
    "println(\"BIC for p2 fits from E+V sims.\")\n",
    "println(\"BIC for 10s15 = \",BIC(2897,10,41))\n",
    "println(\"BIC for 10s20 = \",BIC(3633,10,54))\n",
    "println(\"BIC for 10s25 = \",BIC(5252,10,67))\n",
    "println(\"BIC for 10s30 = \",BIC(5677,10,80))\n",
    "println(\"BIC for 30s15 = \",BIC(359,10,41))\n",
    "println(\"BIC for 30s20 = \",BIC(417,10,54))\n",
    "println(\"BIC for 30s25 = \",BIC(649,10,67))\n",
    "println(\"BIC for 30s30 = \",BIC(667,10,80))\n",
    "println(\"BIC for 60s15 = \",BIC(119,10,41))\n",
    "println(\"BIC for 60s20 = \",BIC(133,10,54))\n",
    "println(\"BIC for 60s25 = \",BIC(214,10,67))\n",
    "println(\"BIC for 60s30 = \",BIC(211,10,80))\n",
    "println(\"BIC for 90s15 = \",BIC(75,10,41))\n",
    "println(\"BIC for 90s20 = \",BIC(84,10,54))\n",
    "println(\"BIC for 90s25 = \",BIC(133,10,67))\n",
    "println(\"BIC for 90s30 = \",BIC(129,10,80))\n",
    "println(\"BIC for 120s15 = \",BIC(59,10,41))\n",
    "println(\"BIC for 120s20 = \",BIC(69,10,54))\n",
    "println(\"BIC for 120s25 = \",BIC(104,10,67))\n",
    "println(\"BIC for 120s30 = \",BIC(102,10,80))"
   ]
  },
  {
   "cell_type": "code",
   "execution_count": 10,
   "metadata": {
    "collapsed": true
   },
   "outputs": [
    {
     "name": "stdout",
     "output_type": "stream",
     "text": [
      "BIC for p3 fits from E+V sims.\n",
      "BIC for 10s15 = 449.7035810005646\n",
      "BIC for 10s20 = 734.8347606984642\n",
      "BIC for 10s25 = 1277.0703892908646\n",
      "BIC for 10s30 = 1479.7303995201082\n",
      "BIC for 30s15 = 131.7035810005646\n",
      "BIC for 30s20 = 163.83476069846412\n",
      "BIC for 30s25 = 246.07038929086448\n",
      "BIC for 30s30 = 281.7303995201082\n",
      "BIC for 60s15 = 104.70358100056461\n",
      "BIC for 60s20 = 113.83476069846412\n",
      "BIC for 60s25 = 150.07038929086448\n",
      "BIC for 60s30 = 167.73039952010822\n",
      "BIC for 90s15 = 95.70358100056461\n",
      "BIC for 90s20 = 105.83476069846412\n",
      "BIC for 90s25 = 134.07038929086448\n",
      "BIC for 90s30 = 144.73039952010822\n",
      "BIC for 120s15 = 91.70358100056461\n",
      "BIC for 120s20 = 104.83476069846412\n",
      "BIC for 120s25 = 129.07038929086448\n",
      "BIC for 120s30 = 135.73039952010822\n"
     ]
    }
   ],
   "source": [
    "println(\"BIC for p3 fits from E+V sims.\")\n",
    "println(\"BIC for 10s15 = \",BIC(394,15,41))\n",
    "println(\"BIC for 10s20 = \",BIC(675,15,54))\n",
    "println(\"BIC for 10s25 = \",BIC(1214,15,67))\n",
    "println(\"BIC for 10s30 = \",BIC(1414,15,80))\n",
    "println(\"BIC for 30s15 = \",BIC(76,15,41))\n",
    "println(\"BIC for 30s20 = \",BIC(104,15,54))\n",
    "println(\"BIC for 30s25 = \",BIC(183,15,67))\n",
    "println(\"BIC for 30s30 = \",BIC(216,15,80))\n",
    "println(\"BIC for 60s15 = \",BIC(49,15,41))\n",
    "println(\"BIC for 60s20 = \",BIC(54,15,54))\n",
    "println(\"BIC for 60s25 = \",BIC(87,15,67))\n",
    "println(\"BIC for 60s30 = \",BIC(102,15,80))\n",
    "println(\"BIC for 90s15 = \",BIC(40,15,41))\n",
    "println(\"BIC for 90s20 = \",BIC(46,15,54))\n",
    "println(\"BIC for 90s25 = \",BIC(71,15,67))\n",
    "println(\"BIC for 90s30 = \",BIC(79,15,80))\n",
    "println(\"BIC for 120s15 = \",BIC(36,15,41))\n",
    "println(\"BIC for 120s20 = \",BIC(45,15,54))\n",
    "println(\"BIC for 120s25 = \",BIC(66,15,67))\n",
    "println(\"BIC for 120s30 = \",BIC(70,15,80))"
   ]
  },
  {
   "cell_type": "code",
   "execution_count": 11,
   "metadata": {
    "collapsed": true
   },
   "outputs": [
    {
     "name": "stdout",
     "output_type": "stream",
     "text": [
      "BIC for lunar fits from E+V sims.\n",
      "BIC for 10s15 = 350.84429720067754\n",
      "BIC for 10s20 = 471.80171283815696\n",
      "BIC for 10s25 = 425.6844671490374\n",
      "BIC for 10s30 = 542.8764794241299\n",
      "BIC for 30s15 = 118.84429720067754\n",
      "BIC for 30s20 = 137.80171283815696\n",
      "BIC for 30s25 = 163.6844671490374\n",
      "BIC for 30s30 = 186.87647942412985\n",
      "BIC for 60s15 = 107.84429720067754\n",
      "BIC for 60s20 = 121.80171283815694\n",
      "BIC for 60s25 = 141.6844671490374\n",
      "BIC for 60s30 = 154.87647942412985\n",
      "BIC for 90s15 = 100.84429720067754\n",
      "BIC for 90s20 = 116.80171283815694\n",
      "BIC for 90s25 = 137.6844671490374\n",
      "BIC for 90s30 = 146.87647942412985\n",
      "BIC for 120s15 = 98.84429720067754\n",
      "BIC for 120s20 = 115.80171283815694\n",
      "BIC for 120s25 = 135.6844671490374\n",
      "BIC for 120s30 = 145.87647942412985\n"
     ]
    }
   ],
   "source": [
    "println(\"BIC for lunar fits from E+V sims.\")\n",
    "println(\"BIC for 10s15 = \",BIC(284,18,41))\n",
    "println(\"BIC for 10s20 = \",BIC(400,18,54))\n",
    "println(\"BIC for 10s25 = \",BIC(350,18,67))\n",
    "println(\"BIC for 10s30 = \",BIC(464,18,80))\n",
    "println(\"BIC for 30s15 = \",BIC(52,18,41))\n",
    "println(\"BIC for 30s20 = \",BIC(66,18,54))\n",
    "println(\"BIC for 30s25 = \",BIC(88,18,67))\n",
    "println(\"BIC for 30s30 = \",BIC(108,18,80))\n",
    "println(\"BIC for 60s15 = \",BIC(41,18,41))\n",
    "println(\"BIC for 60s20 = \",BIC(50,18,54))\n",
    "println(\"BIC for 60s25 = \",BIC(66,18,67))\n",
    "println(\"BIC for 60s30 = \",BIC(76,18,80))\n",
    "println(\"BIC for 90s15 = \",BIC(34,18,41))\n",
    "println(\"BIC for 90s20 = \",BIC(45,18,54))\n",
    "println(\"BIC for 90s25 = \",BIC(62,18,67))\n",
    "println(\"BIC for 90s30 = \",BIC(68,18,80))\n",
    "println(\"BIC for 120s15 = \",BIC(32,18,41))\n",
    "println(\"BIC for 120s20 = \",BIC(44,18,54))\n",
    "println(\"BIC for 120s25 = \",BIC(60,18,67))\n",
    "println(\"BIC for 120s30 = \",BIC(67,18,80))"
   ]
  },
  {
   "cell_type": "code",
   "execution_count": 15,
   "metadata": {
    "collapsed": true
   },
   "outputs": [
    {
     "name": "stdout",
     "output_type": "stream",
     "text": [
      "BIC for p4 fits from E+V sims.\n",
      "BIC for 10s15 = 162.27144133408615\n",
      "BIC for 10s20 = 269.7796809312855\n",
      "BIC for 10s25 = 430.0938523878193\n",
      "BIC for 10s30 = 537.6405326934777\n",
      "BIC for 30s15 = 109.27144133408616\n",
      "BIC for 30s20 = 138.7796809312855\n",
      "BIC for 30s25 = 164.0938523878193\n",
      "BIC for 30s30 = 185.6405326934776\n"
     ]
    }
   ],
   "source": [
    "println(\"BIC for p4 fits from E+V sims.\")\n",
    "println(\"BIC for 10s15 = \",BIC(88,20,41))\n",
    "println(\"BIC for 10s20 = \",BIC(190,20,54))\n",
    "println(\"BIC for 10s25 = \",BIC(346,20,67))\n",
    "println(\"BIC for 10s30 = \",BIC(450,20,80))\n",
    "println(\"BIC for 30s15 = \",BIC(35,20,41))\n",
    "println(\"BIC for 30s20 = \",BIC(59,20,54))\n",
    "println(\"BIC for 30s25 = \",BIC(80,20,67))\n",
    "println(\"BIC for 30s30 = \",BIC(98,20,80))\n",
    "# println(\"BIC for 60s15 = \",BIC(,20,41))\n",
    "# println(\"BIC for 60s20 = \",BIC(,20,54))\n",
    "# println(\"BIC for 60s25 = \",BIC(,20,67))\n",
    "# println(\"BIC for 60s30 = \",BIC(,20,80))\n",
    "# println(\"BIC for 90s15 = \",BIC(,20,41))\n",
    "# println(\"BIC for 90s20 = \",BIC(,20,54))\n",
    "# println(\"BIC for 90s25 = \",BIC(,20,67))\n",
    "# println(\"BIC for 90s30 = \",BIC(,20,80))\n",
    "# println(\"BIC for 120s15 = \",BIC(,20,41))\n",
    "# println(\"BIC for 120s20 = \",BIC(,20,54))\n",
    "# println(\"BIC for 120s25 = \",BIC(,20,67))\n",
    "# println(\"BIC for 120s30 = \",BIC(,20,80))"
   ]
  },
  {
   "cell_type": "markdown",
   "metadata": {},
   "source": [
    "### MCMC results"
   ]
  },
  {
   "cell_type": "code",
   "execution_count": 15,
   "metadata": {},
   "outputs": [
    {
     "data": {
      "text/plain": [
       "print_vals (generic function with 2 methods)"
      ]
     },
     "execution_count": 15,
     "metadata": {},
     "output_type": "execute_result"
    }
   ],
   "source": [
    "function print_vals(sigma,nyear,sim,model)\n",
    "if String(sim)==\"EMB\" && isfile(string(\"MCMC/fromEMB/\",model,\"_mcmc\",sigma,\"s\",nyear,\"yrs.jld2\"))\n",
    "    mcfile = string(\"MCMC/fromEMB/\",model,\"_mcmc\",sigma,\"s\",nyear,\"yrs.jld2\")\n",
    "elseif isfile(string(\"MCMC/\",model,\"_mcmc\",sigma,\"s\",nyear,\"yrs.jld2\"))\n",
    "    mcfile = string(\"MCMC/\",model,\"_mcmc\",sigma,\"s\",nyear,\"yrs.jld2\")\n",
    "else\n",
    "    return println(\"MCMC file for \",sim,\" with \",model,\" model at \",sigma,\" secs and \",nyear,\" yrs doesn't exist!!!!\")\n",
    "end\n",
    "jldmc = jldopen(String(mcfile),\"r\")\n",
    "par_mcmc,lprob_mcmc = jldmc[\"par_mcmc\"],jldmc[\"lprob_mcmc\"]\n",
    "iburn,samples = jldmc[\"iburn\"], jldmc[\"indepsamples\"]\n",
    "nwalkers,nsteps = jldmc[\"nwalkers\"],jldmc[\"nsteps\"]\n",
    "param = jldmc[\"param\"]\n",
    "pname = [\"mu_1\",\"P_1\",\"t01\",\"ecos1\",\"esin1\",\n",
    "      \"mu_2\",\"P_2\",\"t02\",\"ecos2\",\"esin2\",\n",
    "      \"mu_3\",\"P_3\",\"t03\",\"ecos3\",\"esin3\", \n",
    "        \"tcosϕ\",\"tsinϕ\",\"Δϕ\",\"σ_sys\"]\n",
    "    if model==\"p4\"\n",
    "        pname=[pname[1:15];\"mu_4\";\"P_4\";\"t04\";\"ecos4\";\"esin4\";pname[end]]\n",
    "    end\n",
    "# open(output,\"w\") do io\n",
    "println(\"           Fitted posterior params from \",mcfile)\n",
    "for i=1:length(param)\n",
    "println(pname[i],\" : \",mean(vec(par_mcmc[:,iburn:nsteps,i])),\" ± \",std(vec(par_mcmc[:,iburn:nsteps,i]))) # writedlm(results,pbest_global)\n",
    "end\n",
    "println(pname[end],\" : \",mean(vec(par_mcmc[:,iburn:nsteps,end])),\" ± \",std(vec(par_mcmc[:,iburn:nsteps,end])))\n",
    "println(\"Derived Parameters\")\n",
    "for i=1:length(param)\n",
    "    if i%5 == 0\n",
    "        println(\"M_p : \",mean(vec(par_mcmc[:,iburn:nsteps,i-4])).* CGS.MSUN/CGS.MEARTH,\" ± \",std(vec(par_mcmc[:,iburn:nsteps,i-4])).* CGS.MSUN/CGS.MEARTH)\n",
    "    end     \n",
    "end\n",
    "println(\" lprob: \",mean(vec(lprob_mcmc[iburn:nsteps])),\" ± \",std(vec(lprob_mcmc[iburn:nsteps])))\n",
    "end\n",
    "# end"
   ]
  },
  {
   "cell_type": "code",
   "execution_count": 43,
   "metadata": {},
   "outputs": [
    {
     "data": {
      "text/plain": [
       "print_fits (generic function with 1 method)"
      ]
     },
     "execution_count": 43,
     "metadata": {},
     "output_type": "execute_result"
    }
   ],
   "source": [
    "function print_fits(sigma,nyear,sim,model)\n",
    "if String(sim)==\"EMB\" && isfile(string(\"FITS/fromEMB/\",model,\"_fit\",sigma,\"s\",nyear,\"yrs.jld2\"))\n",
    "    mcfile = string(\"FITS/fromEMB/\",model,\"_fit\",sigma,\"s\",nyear,\"yrs.jld2\")\n",
    "elseif isfile(string(\"FITS/\",model,\"_fit\",sigma,\"s\",nyear,\"yrs.jld2\"))\n",
    "    mcfile = string(\"FITS/\",model,\"_fit\",sigma,\"s\",nyear,\"yrs.jld2\")\n",
    "else\n",
    "    return println(\"FITS file for \",sim,\" with \",model,\" model at \",sigma,\" secs and \",nyear,\" yrs doesn't exist!!!!\")\n",
    "end\n",
    "jldfit = jldopen(String(mcfile),\"r\")\n",
    "param = jldfit[\"best_p3\"]\n",
    "lprob = jldfit[\"lprob_best_p3\"]\n",
    "pname = [\"mu_1\",\"P_1\",\"t01\",\"ecos1\",\"esin1\",\n",
    "      \"mu_2\",\"P_2\",\"t02\",\"ecos2\",\"esin2\",\n",
    "      \"mu_3\",\"P_3\",\"t03\",\"ecos3\",\"esin3\", \n",
    "        \"tcosϕ\",\"tsinϕ\",\"Δϕ\",\"σ_sys\"]\n",
    "if model==\"p4\"\n",
    "        param = jldfit[\"best_p4\"]\n",
    "        lprob = jldfit[\"lprob_best_p4\"]\n",
    "        pname=[pname[1:15];\"mu_4\";\"P_4\";\"t04\";\"ecos4\";\"esin4\";pname[end]]\n",
    "    end\n",
    "\n",
    "if sim==\"nomoon\" && model==\"moon\"\n",
    "        param = jldfit[\"best_p3\"]\n",
    "        lprob = jldfit[\"lprob_best_p3\"]\n",
    "    elseif model==\"moon\" \n",
    "        param = jldfit[\"best_dp\"]\n",
    "        lprob = jldfit[\"lprob_best_dp\"]\n",
    "end\n",
    "# println(\"           Fitted params from \",mcfile)\n",
    "# for i=1:length(param)\n",
    "#     println(pname[i],\" : \",param[i])\n",
    "#     end\n",
    "# println(\"Derived Parameters\")\n",
    "# for i=1:length(param)\n",
    "#     if i%5 == 0\n",
    "#         println(\"M_p : \",param[i-4].* CGS.MSUN/CGS.MEARTH)\n",
    "#         end\n",
    "# # end\n",
    "# println(\" lprob: \",lprob)\n",
    "return param\n",
    "end"
   ]
  },
  {
   "cell_type": "code",
   "execution_count": 110,
   "metadata": {},
   "outputs": [
    {
     "data": {
      "text/plain": [
       "4×2 Array{Float64,2}:\n",
       " 269.869  38.7803\n",
       " 236.052  49.322 \n",
       " 202.899  63.3204\n",
       " 187.751  71.2152"
      ]
     },
     "execution_count": 110,
     "metadata": {},
     "output_type": "execute_result"
    }
   ],
   "source": [
    "sigs = [10.0,30.0,60.0,90.0] ./ (3600 *24)\n",
    "years = [30.0,25.0,20.0,15.0] \n",
    "M10=[269.8687043482864 38.78034735184125;308.9012847385663 41.65155221979512; 258.1013421938211 53.674484877388;265.52999284710415 58.76046546543657]\n",
    "P10=[]\n",
    "# M30=[236.05157683856774 49.32203000483943;306.646167648616 63.29944058635372;]\n",
    "M03=[269.8687043482864  38.78034735184125;236.05157683856774  49.32203000483943;202.89944419683977  63.32042498534476;187.75053574997204 71.21518676444603]\n",
    "#1.759665847807534e15  7.357958349600916e17]\n",
    "s03=[8.898475627882412e-8 1.8717875887632705e-8;9.364261795690401e-8 3.897024074198955e-8;\n",
    "1.3891749992447194e-7 9.813385730119545e-8; 2.3685715858756926e-7 1.844798263128857e-7]\n",
    "M03"
   ]
  },
  {
   "cell_type": "code",
   "execution_count": 112,
   "metadata": {
    "scrolled": true
   },
   "outputs": [
    {
     "data": {
      "text/plain": [
       "4-element Array{Float64,1}:\n",
       " 0.0003199698038034831\n",
       " 0.0004628238212990363\n",
       " 0.0007881437599475269\n",
       " 0.001149750669941972 "
      ]
     },
     "execution_count": 112,
     "metadata": {},
     "output_type": "execute_result"
    }
   ],
   "source": [
    "totalsig=sqrt.((sigs.^2 + s03[:,1]))"
   ]
  },
  {
   "cell_type": "code",
   "execution_count": 115,
   "metadata": {},
   "outputs": [
    {
     "data": {
      "text/plain": [
       "4-element Array{Float64,1}:\n",
       " 27.64539104862094 \n",
       " 39.987978160236736\n",
       " 68.09562085946632 \n",
       " 99.33845788298638 "
      ]
     },
     "execution_count": 115,
     "metadata": {},
     "output_type": "execute_result"
    }
   ],
   "source": [
    "totalsig .* 3600 * 24"
   ]
  },
  {
   "cell_type": "code",
   "execution_count": 118,
   "metadata": {},
   "outputs": [
    {
     "data": {
      "text/plain": [
       "1.2830362381037918e-5"
      ]
     },
     "execution_count": 118,
     "metadata": {},
     "output_type": "execute_result"
    }
   ],
   "source": [
    "M03[:,2] \\ totalsig"
   ]
  },
  {
   "cell_type": "code",
   "execution_count": 132,
   "metadata": {},
   "outputs": [
    {
     "data": {
      "image/png": "[encoded data removed]",
      "text/plain": [
       "Figure(PyObject <Figure size 640x480 with 1 Axes>)"
      ]
     },
     "metadata": {},
     "output_type": "display_data"
    },
    {
     "data": {
      "text/plain": [
       "1-element Array{PyCall.PyObject,1}:\n",
       " PyObject <matplotlib.lines.Line2D object at 0x16422e978>"
      ]
     },
     "execution_count": 132,
     "metadata": {},
     "output_type": "execute_result"
    }
   ],
   "source": [
    "errorbar(30,M10[:,1][1],M10[:,2][1],fmt=\"o\")\n",
    "errorbar(25,M10[:,1][2],M10[:,2][2],fmt=\"o\")\n",
    "errorbar(20,M10[:,1][3],M10[:,2][3],fmt=\"o\")\n",
    "errorbar(15,M10[:,1][4],M10[:,2][4],fmt=\"o\")\n",
    "# plot(years,M10[:,1],color=\"black\")\n",
    "plot(years,M10[:,1]+M10[:,2],color=\"grey\")\n",
    "plot(years,M10[:,1]-M10[:,2],color=\"grey\")"
   ]
  },
  {
   "cell_type": "code",
   "execution_count": 121,
   "metadata": {},
   "outputs": [
    {
     "data": {
      "image/png": "[encoded data removed]",
      "text/plain": [
       "Figure(PyObject <Figure size 640x480 with 1 Axes>)"
      ]
     },
     "metadata": {},
     "output_type": "display_data"
    },
    {
     "data": {
      "text/plain": [
       "PyObject Text(0.5, 24.0, 'sqrt1/years')"
      ]
     },
     "execution_count": 121,
     "metadata": {},
     "output_type": "execute_result"
    }
   ],
   "source": [
    "plot(sqrt.( 1 ./ years),M10[:,2],\".\")\n",
    "plot(sqrt.( 1 ./ years),sqrt.( 1 ./ years).*225)\n",
    "xlabel(\"sqrt1/years\")"
   ]
  },
  {
   "cell_type": "code",
   "execution_count": 117,
   "metadata": {},
   "outputs": [
    {
     "data": {
      "image/png": "[encoded data removed]",
      "text/plain": [
       "Figure(PyObject <Figure size 640x480 with 1 Axes>)"
      ]
     },
     "metadata": {},
     "output_type": "display_data"
    },
    {
     "data": {
      "text/plain": [
       "PyObject Text(0.5, 24.0, 'days')"
      ]
     },
     "execution_count": 117,
     "metadata": {},
     "output_type": "execute_result"
    }
   ],
   "source": [
    "plot(totalsig,M03[:,2])\n",
    "plot(totalsig,totalsig.*10^5)\n",
    "xlabel(\"days\")"
   ]
  },
  {
   "cell_type": "code",
   "execution_count": 167,
   "metadata": {
    "scrolled": false
   },
   "outputs": [
    {
     "ename": "PyCall.PyError",
     "evalue": "\u001b[91mPyError ($(Expr(:escape, :(ccall(#= /Users/bethleelindor/.julia/packages/PyCall/BcTLp/src/pyfncall.jl:43 =# @pysym(:PyObject_Call), PyPtr, (PyPtr, PyPtr, PyPtr), o, pyargsptr, kw))))) <class 'FileNotFoundError'>\u001b[39m\n\u001b[91mFileNotFoundError(2, 'No such file or directory')\u001b[39m\n\u001b[91m  File \"/Users/bethleelindor/.julia/conda/3/lib/python3.7/site-packages/matplotlib/pyplot.py\", line 689, in savefig\u001b[39m\n\u001b[91m    res = fig.savefig(*args, **kwargs)\u001b[39m\n\u001b[91m  File \"/Users/bethleelindor/.julia/conda/3/lib/python3.7/site-packages/matplotlib/figure.py\", line 2094, in savefig\u001b[39m\n\u001b[91m    self.canvas.print_figure(fname, **kwargs)\u001b[39m\n\u001b[91m  File \"/Users/bethleelindor/.julia/conda/3/lib/python3.7/site-packages/matplotlib/backend_bases.py\", line 2075, in print_figure\u001b[39m\n\u001b[91m    **kwargs)\u001b[39m\n\u001b[91m  File \"/Users/bethleelindor/.julia/conda/3/lib/python3.7/site-packages/matplotlib/backends/backend_agg.py\", line 521, in print_png\u001b[39m\n\u001b[91m    cbook.open_file_cm(filename_or_obj, \"wb\") as fh:\u001b[39m\n\u001b[91m  File \"/Users/bethleelindor/.julia/conda/3/lib/python3.7/contextlib.py\", line 112, in __enter__\u001b[39m\n\u001b[91m    return next(self.gen)\u001b[39m\n\u001b[91m  File \"/Users/bethleelindor/.julia/conda/3/lib/python3.7/site-packages/matplotlib/cbook/__init__.py\", line 407, in open_file_cm\u001b[39m\n\u001b[91m    fh, opened = to_filehandle(path_or_file, mode, True, encoding)\u001b[39m\n\u001b[91m  File \"/Users/bethleelindor/.julia/conda/3/lib/python3.7/site-packages/matplotlib/cbook/__init__.py\", line 392, in to_filehandle\u001b[39m\n\u001b[91m    fh = open(fname, flag, encoding=encoding)\u001b[39m\n",
     "output_type": "error",
     "traceback": [
      "\u001b[91mPyError ($(Expr(:escape, :(ccall(#= /Users/bethleelindor/.julia/packages/PyCall/BcTLp/src/pyfncall.jl:43 =# @pysym(:PyObject_Call), PyPtr, (PyPtr, PyPtr, PyPtr), o, pyargsptr, kw))))) <class 'FileNotFoundError'>\u001b[39m\n\u001b[91mFileNotFoundError(2, 'No such file or directory')\u001b[39m\n\u001b[91m  File \"/Users/bethleelindor/.julia/conda/3/lib/python3.7/site-packages/matplotlib/pyplot.py\", line 689, in savefig\u001b[39m\n\u001b[91m    res = fig.savefig(*args, **kwargs)\u001b[39m\n\u001b[91m  File \"/Users/bethleelindor/.julia/conda/3/lib/python3.7/site-packages/matplotlib/figure.py\", line 2094, in savefig\u001b[39m\n\u001b[91m    self.canvas.print_figure(fname, **kwargs)\u001b[39m\n\u001b[91m  File \"/Users/bethleelindor/.julia/conda/3/lib/python3.7/site-packages/matplotlib/backend_bases.py\", line 2075, in print_figure\u001b[39m\n\u001b[91m    **kwargs)\u001b[39m\n\u001b[91m  File \"/Users/bethleelindor/.julia/conda/3/lib/python3.7/site-packages/matplotlib/backends/backend_agg.py\", line 521, in print_png\u001b[39m\n\u001b[91m    cbook.open_file_cm(filename_or_obj, \"wb\") as fh:\u001b[39m\n\u001b[91m  File \"/Users/bethleelindor/.julia/conda/3/lib/python3.7/contextlib.py\", line 112, in __enter__\u001b[39m\n\u001b[91m    return next(self.gen)\u001b[39m\n\u001b[91m  File \"/Users/bethleelindor/.julia/conda/3/lib/python3.7/site-packages/matplotlib/cbook/__init__.py\", line 407, in open_file_cm\u001b[39m\n\u001b[91m    fh, opened = to_filehandle(path_or_file, mode, True, encoding)\u001b[39m\n\u001b[91m  File \"/Users/bethleelindor/.julia/conda/3/lib/python3.7/site-packages/matplotlib/cbook/__init__.py\", line 392, in to_filehandle\u001b[39m\n\u001b[91m    fh = open(fname, flag, encoding=encoding)\u001b[39m\n",
      "",
      "Stacktrace:",
      " [1] pyerr_check at /Users/bethleelindor/.julia/packages/PyCall/BcTLp/src/exception.jl:62 [inlined]",
      " [2] pyerr_check at /Users/bethleelindor/.julia/packages/PyCall/BcTLp/src/exception.jl:66 [inlined]",
      " [3] _handle_error(::String) at /Users/bethleelindor/.julia/packages/PyCall/BcTLp/src/exception.jl:83",
      " [4] macro expansion at /Users/bethleelindor/.julia/packages/PyCall/BcTLp/src/exception.jl:97 [inlined]",
      " [5] #110 at /Users/bethleelindor/.julia/packages/PyCall/BcTLp/src/pyfncall.jl:43 [inlined]",
      " [6] disable_sigint at ./c.jl:446 [inlined]",
      " [7] __pycall! at /Users/bethleelindor/.julia/packages/PyCall/BcTLp/src/pyfncall.jl:42 [inlined]",
      " [8] _pycall!(::PyCall.PyObject, ::PyCall.PyObject, ::Tuple{String}, ::Int64, ::Ptr{Nothing}) at /Users/bethleelindor/.julia/packages/PyCall/BcTLp/src/pyfncall.jl:29",
      " [9] #pycall#116 at /Users/bethleelindor/.julia/packages/PyCall/BcTLp/src/pyfncall.jl:11 [inlined]",
      " [10] pycall at /Users/bethleelindor/.julia/packages/PyCall/BcTLp/src/pyfncall.jl:83 [inlined]",
      " [11] #savefig#97(::Base.Iterators.Pairs{Union{},Union{},Tuple{},NamedTuple{(),Tuple{}}}, ::typeof(savefig), ::String) at /Users/bethleelindor/.julia/packages/PyPlot/XHEG0/src/PyPlot.jl:177",
      " [12] savefig at /Users/bethleelindor/.julia/packages/PyPlot/XHEG0/src/PyPlot.jl:174 [inlined]",
      " [13] plot_ttvs(::Float64, ::Float64, ::String, ::String, ::Bool) at /Users/bethleelindor/work/washington/ttv_project/ttv_ss/plot_ttvs.jl:171",
      " [14] top-level scope at ./In[167]:12"
     ]
    }
   ],
   "source": [
    "# include(\"plot_emcee.jl\")\n",
    "# include(\"corner_plot.jl\")\n",
    "# include(\"plot_likelihood.jl\")\n",
    "include(\"plot_ttvs.jl\")\n",
    "sigs=[10.0,30.0,60.0,90.0]#,120.0]\n",
    "years=[30.0,25.0,20.0,15.0]\n",
    "for i=1:length(sigs)\n",
    "    for j=1:length(years)\n",
    "# plot_emcee(sigs[i],years[j],\"noEMB\",\"moon\",true)\n",
    "# corner_plot(sigs[i],years[j],\"noEMB\",\"moon\",50,true) #still need to run moon true\n",
    "# plot_likelihood(sigs[i],years[j],\"noEMB\",\"moon\",\"moon\",30,true) \n",
    "# plot_ttvs(sigs[i],years[i],\"EMB\",\"p3\",false) \n",
    "    end\n",
    "end"
   ]
  },
  {
   "cell_type": "raw",
   "metadata": {
    "collapsed": true
   },
   "source": [
    "# p_11=jldopen(\"FITS/p3_fit10.0s10.0yrs.jld2\");p_mc11 = jldopen(\"MCMC/p3_mcmc10.0s10.0yrs.jld2\");\n",
    "p_115=jldopen(\"FITS/fromEMB/p3_fit10.0s15.0yrs.jld2\",\"r\");\n",
    "p_mc115 = jldopen(\"MCMC/fromEMB/p3_mcmc10.0s15.0yrs.jld2\",\"r\");\n",
    "p_12=jldopen(\"FITS/fromEMB/p3_fit10.0s20.0yrs.jld2\",\"r\");\n",
    "p_mc12 = jldopen(\"MCMC/fromEMB/p3_mcmc10.0s20.0yrs.jld2\",\"r\");\n",
    "p_125=jldopen(\"FITS/fromEMB/p3_fit10.0s25.0yrs.jld2\",\"r\");\n",
    "p_mc125 = jldopen(\"MCMC/fromEMB/p3_mcmc10.0s25.0yrs.jld2\",\"r\");\n",
    "p_13=jldopen(\"FITS/fromEMB/p3_fit10.0s30.0yrs.jld2\",\"r\")\n",
    "p_mc13 = jldopen(\"MCMC/fromEMB/p3_mcmc10.0s30.0yrs.jld2\",\"r\")"
   ]
  },
  {
   "cell_type": "raw",
   "metadata": {},
   "source": [
    "p_315=jldopen(\"FITS/fromEMB/p3_fit30.0s15.0yrs.jld2\",\"r\")\n",
    "p_32=jldopen(\"FITS/fromEMB/p3_fit30.0s20.0yrs.jld2\",\"r\")\n",
    "p_325=jldopen(\"FITS/fromEMB/p3_fit30.0s25.0yrs.jld2\",\"r\")\n",
    "p_33=jldopen(\"FITS/fromEMB/p3_fit30.0s30.0yrs.jld2\",\"r\")\n",
    "p_615=jldopen(\"FITS/fromEMB/p3_fit60.0s15.0yrs.jld2\",\"r\")\n",
    "# p_62=jldopen(\"FITS/fromEMB/p3_fit60.0s2.0yrs.jld2\",\"r\") #doesnt exist atm\n",
    "p_625=jldopen(\"FITS/fromEMB/p3_fit60.0s25.0yrs.jld2\",\"r\")\n",
    "p_63=jldopen(\"FITS/fromEMB/p3_fit60.0s30.0yrs.jld2\",\"r\")\n",
    "p_915=jldopen(\"FITS/fromEMB/p3_fit90.0s15.0yrs.jld2\",\"r\")\n",
    "p_92=jldopen(\"FITS/fromEMB/p3_fit90.0s20.0yrs.jld2\",\"r\") \n",
    "p_925=jldopen(\"FITS/fromEMB/p3_fit90.0s25.0yrs.jld2\",\"r\")\n",
    "p_93=jldopen(\"FITS/fromEMB/p3_fit90.0s30.0yrs.jld2\",\"r\")\n",
    "p_1215=jldopen(\"FITS/fromEMB/p3_fit120.0s15.0yrs.jld2\",\"r\")\n",
    "p_122=jldopen(\"FITS/fromEMB/p3_fit120.0s20.0yrs.jld2\",\"r\")\n",
    "p_1225=jldopen(\"FITS/fromEMB/p3_fit120.0s25.0yrs.jld2\",\"r\")\n",
    "p_123=jldopen(\"FITS/fromEMB/p3_fit120.0s30.0yrs.jld2\",\"r\")"
   ]
  },
  {
   "cell_type": "raw",
   "metadata": {},
   "source": [
    "m_315=jldopen(\"FITS/moon_fit30.0s15.0yrs.jld2\",\"r\")\n",
    "m_325=jldopen(\"FITS/moon_fit30.0s25.0yrs.jld2\",\"r\")\n",
    "# m_32=jldopen(\"FITS/moon_fit30.0s20.0yrs.jld2\",\"r\") # wrong file atm\n",
    "m_33=jldopen(\"FITS/moon_fit30.0s30.0yrs.jld2\",\"r\") \n",
    "m_615=jldopen(\"FITS/moon_fit60.0s15.0yrs.jld2\",\"r\")\n",
    "m_625=jldopen(\"FITS/moon_fit60.0s25.0yrs.jld2\",\"r\")\n",
    "m_62=jldopen(\"FITS/moon_fit60.0s20.0yrs.jld2\",\"r\")\n",
    "m_63=jldopen(\"FITS/moon_fit60.0s30.0yrs.jld2\",\"r\")\n",
    "m_915=jldopen(\"FITS/moon_fit90.0s15.0yrs.jld2\",\"r\")\n",
    "m_925=jldopen(\"FITS/moon_fit90.0s25.0yrs.jld2\",\"r\")\n",
    "m_92=jldopen(\"FITS/moon_fit90.0s20.0yrs.jld2\",\"r\")\n",
    "m_93=jldopen(\"FITS/moon_fit90.0s30.0yrs.jld2\",\"r\")\n",
    "m_1215=jldopen(\"FITS/moon_fit120.0s15.0yrs.jld2\",\"r\")\n",
    "m_1225=jldopen(\"FITS/moon_fit120.0s25.0yrs.jld2\",\"r\")\n",
    "m_122=jldopen(\"FITS/moon_fit120.0s20.0yrs.jld2\",\"r\")\n",
    "m_123=jldopen(\"FITS/moon_fit120.0s30.0yrs.jld2\",\"r\")"
   ]
  },
  {
   "cell_type": "code",
   "execution_count": 164,
   "metadata": {},
   "outputs": [
    {
     "data": {
      "text/plain": [
       "([10.0, 30.0, 60.0, 90.0], [30.0, 25.0, 20.0, 15.0])"
      ]
     },
     "execution_count": 164,
     "metadata": {},
     "output_type": "execute_result"
    }
   ],
   "source": [
    "sigs,years"
   ]
  },
  {
   "cell_type": "raw",
   "metadata": {},
   "source": [
    "p4_33=jldopen(\"FITS/p4_fit30.0s30.0yrs.jld2\",\"r\") \n",
    "p4_32=jldopen(\"FITS/p4_fit30.0s20.0yrs.jld2\",\"r\") #no pins and pouts\n",
    "# p4_315=jldopen(\"FITS/p4_fit30.0s15.0yrs.jld2\",\"r\") \n",
    "# p4_325=jldopen(\"FITS/p4_fit30.0s25.0yrs.jld2\",\"r\") \n",
    "# p4_63=jldopen(\"FITS/p4_fit60.0s30.0yrs.jld2\",\"r\") #no pins and pouts\n",
    "# p4_62=jldopen(\"FITS/p4_fit60.0s20.0yrs.jld2\",\"r\") #no pins and pouts\n",
    "# #p4_625=jldopen(\"FITS/p4_fit60.0s25.0yrs.jld2\",\"r\") # doesn't exist\n",
    "# p4_615=jldopen(\"FITS/p4_fit60.0s15.0yrs.jld2\",\"r\") #no pins and pouts\n",
    "# p4_93=jldopen(\"FITS/p4_fit90.0s30.0yrs.jld2\",\"r\") #no pins and pouts\n",
    "# p4_92=jldopen(\"FITS/p4_fit90.0s20.0yrs.jld2\",\"r\") #no pins and pouts\n",
    "# p4_915=jldopen(\"FITS/p4_fit90.0s15.0yrs.jld2\",\"r\") #no pins and pouts\n",
    "# p4_925=jldopen(\"FITS/p4_fit90.0s25.0yrs.jld2\",\"r\") #no pins and pouts\n",
    "#     # p4_123=jldopen(\"FITS/p4_fit120.0s30.0yrs.jld2\",\"r\") # doesnt exist\n",
    "    # p4_122=jldopen(\"FITS/p4_fit120.0s20.0yrs.jld2\",\"r\") # doesnt exist\n",
    "    # p4_1215=jldopen(\"FITS/p4_fit120.0s15.0yrs.jld2\",\"r\") # doesnt exist\n",
    "    # p4_1225=jldopen(\"FITS/p4_fit120.0s25.0yrs.jld2\",\"r\") # doesnt exist"
   ]
  },
  {
   "cell_type": "markdown",
   "metadata": {},
   "source": [
    "### Linear Fit to Posterior mean and/or std"
   ]
  },
  {
   "cell_type": "code",
   "execution_count": 152,
   "metadata": {},
   "outputs": [
    {
     "data": {
      "image/png": "[encoded data removed]",
      "text/plain": [
       "Figure(PyObject <Figure size 640x480 with 1 Axes>)"
      ]
     },
     "metadata": {},
     "output_type": "display_data"
    },
    {
     "data": {
      "text/plain": [
       "PyObject Text(0.5, 24.0, 'Observation Time Span [yrs]')"
      ]
     },
     "execution_count": 152,
     "metadata": {},
     "output_type": "execute_result"
    }
   ],
   "source": [
    "function plot_col(col_num)\n",
    "errorbar(30,mean(p_mc33[\"par_mcmc\"][:,p_mc33[\"iburn\"]:p_mc33[\"nsteps\"],col_num]),std(p_mc33[\"par_mcmc\"][:,p_mc33[\"iburn\"]:p_mc33[\"nsteps\"],col_num]),fmt=\"s\")#,color=\"black\",mec=\"black\",mfc=\"white\")\n",
    "errorbar(25,mean(p_mc325[\"par_mcmc\"][:,p_mc325[\"iburn\"]:p_mc325[\"nsteps\"],col_num]),std(p_mc325[\"par_mcmc\"][:,p_mc325[\"iburn\"]:p_mc325[\"nsteps\"],col_num]),fmt=\".\")#,color=\"black\",mec=\"black\",mfc=\"white\")\n",
    "errorbar(20,mean(p_mc32[\"par_mcmc\"][:,p_mc32[\"iburn\"]:p_mc32[\"nsteps\"],col_num]),std(p_mc32[\"par_mcmc\"][:,p_mc32[\"iburn\"]:p_mc32[\"nsteps\"],col_num]),fmt=\"o\")#,color=\"black\",mec=\"black\",mfc=\"white\")\n",
    "# errorbar(15,mean(p_mc115[\"par_mcmc\"][:,p_mc115[\"iburn\"]:p_mc115[\"nsteps\"],col_num]),std(p_mc115[\"par_mcmc\"][:,p_mc115[\"iburn\"]:p_mc115[\"nsteps\"],col_num]),fmt=\".\")#,color=\"black\",mec=\"black\",mfc=\"white\")\n",
    "# errorbar(10,mean(p_mc31[\"par_mcmc\"][:,p_mc31[\"iburn\"]:p_mc31[\"nsteps\"],col_num]),std(p_mc31[\"par_mcmc\"][:,p_mc31[\"iburn\"]:p_mc31[\"nsteps\"],col_num]),fmt=\"o\")#,color=\"black\",mec=\"black\",mfc=\"white\")\n",
    "    xlabel(\"Observation Time Span [yrs]\")\n",
    "end\n",
    "    ylabel(\"Jupiter Period [days]\")\n",
    "plot_col(12)"
   ]
  },
  {
   "cell_type": "code",
   "execution_count": 151,
   "metadata": {},
   "outputs": [
    {
     "data": {
      "image/png": "[encoded data removed]",
      "text/plain": [
       "Figure(PyObject <Figure size 640x480 with 1 Axes>)"
      ]
     },
     "metadata": {},
     "output_type": "display_data"
    },
    {
     "data": {
      "text/plain": [
       "PyObject Text(0.5, 24.0, 'Observation Time Span [yrs]')"
      ]
     },
     "execution_count": 151,
     "metadata": {},
     "output_type": "execute_result"
    }
   ],
   "source": [
    "function plot_col(col_num,f1,f2,f3,f4)\n",
    "errorbar(30,mean(m_mc33[\"par_mcmc\"][:,m_mc33[\"iburn\"]:m_mc33[\"nsteps\"],col_num]),std(m_mc33[\"par_mcmc\"][:,m_mc33[\"iburn\"]:m_mc33[\"nsteps\"],col_num]),fmt=\"s\")#,color=\"black\",mec=\"black\",mfc=\"white\")\n",
    "errorbar(25,mean(m_mc325[\"par_mcmc\"][:,m_mc325[\"iburn\"]:m_mc325[\"nsteps\"],col_num]),std(m_mc325[\"par_mcmc\"][:,m_mc325[\"iburn\"]:m_mc325[\"nsteps\"],col_num]),fmt=\".\")#,color=\"black\",mec=\"black\",mfc=\"white\")\n",
    "errorbar(20,mean(m_mc32[\"par_mcmc\"][:,m_mc32[\"iburn\"]:m_mc32[\"nsteps\"],col_num]),std(m_mc32[\"par_mcmc\"][:,m_mc32[\"iburn\"]:m_mc32[\"nsteps\"],col_num]),fmt=\"o\")#,color=\"black\",mec=\"black\",mfc=\"white\")\n",
    "# errorbar(15,mean(p_mc115[\"par_mcmc\"][:,p_mc115[\"iburn\"]:p_mc115[\"nsteps\"],col_num]),std(p_mc115[\"par_mcmc\"][:,p_mc115[\"iburn\"]:p_mc115[\"nsteps\"],col_num]),fmt=\".\")#,color=\"black\",mec=\"black\",mfc=\"white\")\n",
    "# errorbar(10,mean(p_mc31[\"par_mcmc\"][:,p_mc31[\"iburn\"]:p_mc31[\"nsteps\"],col_num]),std(p_mc31[\"par_mcmc\"][:,p_mc31[\"iburn\"]:p_mc31[\"nsteps\"],col_num]),fmt=\"o\")#,color=\"black\",mec=\"black\",mfc=\"white\")\n",
    "    xlabel(\"Observation Time Span [yrs]\")\n",
    "end\n",
    "    ylabel(\"DeltaPhi [rad]\")\n",
    "plot_col(18)"
   ]
  },
  {
   "cell_type": "code",
   "execution_count": 32,
   "metadata": {},
   "outputs": [
    {
     "data": {
      "image/png": "[encoded data removed]",
      "text/plain": [
       "Figure(PyObject <Figure size 640x480 with 1 Axes>)"
      ]
     },
     "metadata": {},
     "output_type": "display_data"
    },
    {
     "data": {
      "text/plain": [
       "PyObject Text(24.000000000000014, 0.5, 'Jupiter Mass [Solar Masses]')"
      ]
     },
     "execution_count": 32,
     "metadata": {},
     "output_type": "execute_result"
    }
   ],
   "source": [
    "plot_col(11)\n",
    "ylabel(\"Jupiter Mass [Solar Masses]\")"
   ]
  },
  {
   "cell_type": "markdown",
   "metadata": {},
   "source": [
    "### 2-planet MCMC"
   ]
  },
  {
   "cell_type": "code",
   "execution_count": 20,
   "metadata": {},
   "outputs": [
    {
     "data": {
      "text/plain": [
       "MCMC (generic function with 1 method)"
      ]
     },
     "execution_count": 20,
     "metadata": {},
     "output_type": "execute_result"
    }
   ],
   "source": [
    "include(\"MCMC.jl\")"
   ]
  },
  {
   "cell_type": "code",
   "execution_count": 21,
   "metadata": {},
   "outputs": [
    {
     "data": {
      "text/plain": [
       "-259.1624205684809"
      ]
     },
     "execution_count": 21,
     "metadata": {},
     "output_type": "execute_result"
    }
   ],
   "source": [
    "1-sum(m_33[\"ntrans\"][1:2] )/2 * log(667.8479408806473)\n",
    "# Nobs = sum()"
   ]
  },
  {
   "cell_type": "code",
   "execution_count": 23,
   "metadata": {
    "collapsed": true
   },
   "outputs": [
    {
     "name": "stdout",
     "output_type": "stream",
     "text": [
      "Parameters from fit: [4.513519229108455e-6, 224.70077801541302, 2.4335037687537777e6, -0.0175050266179791, -0.025801638584714393, 2.964754129377914e-6, 365.25643897142635, 2.4336244077652446e6, 0.003030566580559538, -0.01953468392084722]\n",
      "Maximum log Prob from fit: -259.1624205684809\n",
      "Step: 193 Walker: 42 Trial Log Prob: 426.49314303794404 Prob: 1.2710845222989337e-7 Frac: 0.4260526861646961\n",
      "Step: 293 Walker: 34 Trial Log Prob: 473.82203892999183 Prob: 1.005490785208814 Frac: 0.4230558972256389\n",
      "Step: 370 Walker: 49 Trial Log Prob: 493.2463334225217 Prob: 0.25319213944931385 Frac: 0.4233201794691605\n",
      "Step: 572 Walker: 36 Trial Log Prob: 517.5322863903355 Prob: 0.001594701592098923 Frac: 0.40918631497936053\n",
      "Step: 584 Walker: 35 Trial Log Prob: 513.5953264857309 Prob: 0.4843221013987992 Frac: 0.4091485352064417\n",
      "Step: 608 Walker: 46 Trial Log Prob: 518.8336758842289 Prob: 0.07254184825454627 Frac: 0.4077839189367022\n",
      "Number of steps: 1000 Acceptance Rate: 0.39362\n",
      "Step: 1001 Walker: 10 Trial Log Prob: 518.6968660666466 Prob: 0.004814825808213383 Frac: 0.4\n",
      "Step: 1195 Walker: 4 Trial Log Prob: 516.8216001186195 Prob: 38.31627663323177 Frac: 0.37695795548227534\n",
      "Step: 1517 Walker: 11 Trial Log Prob: 507.7936241191012 Prob: 0.003374750725575669 Frac: 0.3709271240943784\n",
      "Step: 1672 Walker: 38 Trial Log Prob: 500.43480884974247 Prob: 0.0008887371551155558 Frac: 0.371739907109682\n",
      "Step: 1778 Walker: 40 Trial Log Prob: 515.0212026605025 Prob: 1.007940302867536 Frac: 0.37012085368989456\n",
      "Step: 1819 Walker: 28 Trial Log Prob: 517.7444362518205 Prob: 2.8165124461550075 Frac: 0.3702599687255668\n",
      "Number of steps: 2000 Acceptance Rate: 0.37158\n",
      "Step: 2053 Walker: 32 Trial Log Prob: 505.66302890900346 Prob: 0.02387777984741569 Frac: 0.3738601823708207\n",
      "Step: 2104 Walker: 18 Trial Log Prob: 504.1785517237645 Prob: 0.32819845970397626 Frac: 0.3705495356037152\n",
      "Step: 2195 Walker: 16 Trial Log Prob: 514.6568849193654 Prob: 0.8757792431820868 Frac: 0.36136270069987647\n",
      "Step: 2209 Walker: 42 Trial Log Prob: 512.3971330812174 Prob: 0.26342890399304114 Frac: 0.360850411798506\n",
      "Step: 2368 Walker: 24 Trial Log Prob: 514.2988049668493 Prob: 1.0225867706459344 Frac: 0.3649178186567976\n",
      "Step: 2826 Walker: 20 Trial Log Prob: 506.4160500220154 Prob: 0.017836038674969974 Frac: 0.36883935061788226\n",
      "Number of steps: 3000 Acceptance Rate: 0.36684\n",
      "Step: 3023 Walker: 43 Trial Log Prob: 467.2290942850234 Prob: 1.428726069888482e-17 Frac: 0.3674540682414698\n",
      "Step: 3516 Walker: 45 Trial Log Prob: 510.34598327998646 Prob: 1.692309927069768 Frac: 0.37406474122892036\n",
      "Step: 3858 Walker: 47 Trial Log Prob: 501.7699282241542 Prob: 0.0004343646096088327 Frac: 0.37193743152201786\n",
      "Step: 3889 Walker: 27 Trial Log Prob: 487.1192896099798 Prob: 1.1668758426825025e-8 Frac: 0.3721160555518041\n",
      "Number of steps: 4000 Acceptance Rate: 0.37234\n",
      "Step: 4066 Walker: 17 Trial Log Prob: 504.27865713592263 Prob: 0.028214699044573497 Frac: 0.3936333027242118\n",
      "Step: 4117 Walker: 11 Trial Log Prob: 444.3648926727569 Prob: 9.06273815355975e-29 Frac: 0.38478747203579416\n",
      "Step: 4461 Walker: 18 Trial Log Prob: 484.15847618386 Prob: 6.596711636422315e-13 Frac: 0.37514119384829264\n",
      "Step: 4776 Walker: 47 Trial Log Prob: 519.7241972126366 Prob: 1.1178755944533223 Frac: 0.37453926850014174\n",
      "Number of steps: 5000 Acceptance Rate: 0.37246\n",
      "Step: 5249 Walker: 15 Trial Log Prob: 516.0112960131505 Prob: 1.130618368887189 Frac: 0.37414418042690295\n",
      "Step: 5382 Walker: 2 Trial Log Prob: 517.4947530320883 Prob: 0.11036158150477343 Frac: 0.3713520890195255\n",
      "Step: 5648 Walker: 28 Trial Log Prob: 517.3918101485951 Prob: 0.042692313239969824 Frac: 0.3727222187905368\n",
      "Step: 5659 Walker: 30 Trial Log Prob: 506.1060024928379 Prob: 0.16534845183294453 Frac: 0.37266929851199515\n",
      "Step: 5928 Walker: 29 Trial Log Prob: 508.9930546185824 Prob: 0.64801132495626 Frac: 0.3715905905690075\n",
      "Number of steps: 6000 Acceptance Rate: 0.37082\n",
      "Step: 6063 Walker: 14 Trial Log Prob: 511.19425305698934 Prob: 0.1842058894896728 Frac: 0.3448940269749518\n",
      "Step: 6303 Walker: 21 Trial Log Prob: 508.606286789796 Prob: 0.06323603784957857 Frac: 0.36254215991005884\n",
      "Step: 6423 Walker: 20 Trial Log Prob: 463.32424284162613 Prob: 7.710187058722293e-20 Frac: 0.3637310606060606\n",
      "Step: 6435 Walker: 49 Trial Log Prob: 498.4717461491882 Prob: 0.000396370158757664 Frac: 0.3632810703940411\n",
      "Step: 6568 Walker: 26 Trial Log Prob: 501.19519045740975 Prob: 0.001340989683141795 Frac: 0.36284183817310406\n",
      "Step: 6661 Walker: 17 Trial Log Prob: 516.4506271268925 Prob: 0.017760715663987497 Frac: 0.36390344368052824\n",
      "Step: 6712 Walker: 12 Trial Log Prob: 518.8084060748794 Prob: 0.08663494309444043 Frac: 0.3650525842191103\n",
      "Step: 6923 Walker: 8 Trial Log Prob: 516.7486723539224 Prob: 0.07014623957084813 Frac: 0.3664223128307452\n",
      "Number of steps: 7000 Acceptance Rate: 0.36724\n",
      "Step: 7329 Walker: 33 Trial Log Prob: 517.2619383110664 Prob: 1.1657391954620282 Frac: 0.3722996409663482\n",
      "Step: 7681 Walker: 33 Trial Log Prob: 514.023072641139 Prob: 0.48210712016371987 Frac: 0.37087532688860814\n",
      "Step: 7800 Walker: 12 Trial Log Prob: 512.5323278113277 Prob: 0.5431786840343443 Frac: 0.3709023572393774\n",
      "Number of steps: 8000 Acceptance Rate: 0.36998\n",
      "Step: 8118 Walker: 43 Trial Log Prob: 514.2477924247939 Prob: 0.33381239968579324 Frac: 0.376718140166299\n",
      "Step: 8372 Walker: 41 Trial Log Prob: 460.71189036777537 Prob: 4.3873210130006343e-20 Frac: 0.3696412242482922\n",
      "Step: 8622 Walker: 14 Trial Log Prob: 505.84780359902976 Prob: 0.06557093752840257 Frac: 0.3665014164305949\n",
      "Number of steps: 9000 Acceptance Rate: 0.36996\n",
      "Step: 9007 Walker: 19 Trial Log Prob: 514.2942837380797 Prob: 0.22760291012482478 Frac: 0.335423197492163\n",
      "Step: 9121 Walker: 44 Trial Log Prob: 515.6415646221445 Prob: 0.5953879919163426 Frac: 0.37888815354070154\n",
      "Step: 9427 Walker: 10 Trial Log Prob: 507.7951088188424 Prob: 0.13225380950288967 Frac: 0.3713749413420929\n",
      "Step: 9650 Walker: 43 Trial Log Prob: 516.2643848085067 Prob: 2.38138101075791 Frac: 0.3704490197888776\n",
      "Step: 9667 Walker: 27 Trial Log Prob: 479.3597930535313 Prob: 7.854367962156801e-13 Frac: 0.3703603684700093\n",
      "Step: 9889 Walker: 39 Trial Log Prob: 486.4340051459593 Prob: 2.973829388506483e-10 Frac: 0.371002947861113\n",
      "Number of steps: 10000 Acceptance Rate: 0.36986\n",
      "Burn-in Number (ends): 895\n",
      "Independent Sample Size: 2619.1036749879518\n"
     ]
    },
    {
     "data": {
      "text/plain": [
       "([75.28769233479389 219.3594460186767 … 516.4881994945473 516.4881994945473; -444.65886672058883 -179.91995136093811 … 518.9664783752439 518.9664783752439; … ; -6.207035479125622 8.101604707805357 … 515.0457994095664 516.7171326214575; -590.5867961707044 -590.5867961707044 … 516.3621801274104 514.7776681213268], [4.445630411721898e-6 4.415787023431983e-6 … 4.206582338987755e-6 4.206582338987755e-6; 4.422629575203517e-6 4.434748781693544e-6 … 4.668535978959624e-6 4.668535978959624e-6; … ; 4.421228165235299e-6 4.487950235042027e-6 … 5.371583333236327e-6 5.212825825179325e-6; 4.358749104252416e-6 4.358749104252416e-6 … 4.278023225622351e-6 4.2086541016973845e-6]\n",
       "\n",
       "[224.700772340187 224.7007758152718 … 224.70077643355427 224.70077643355427; 224.7007664603429 224.700765708711 … 224.70077526896767 224.70077526896767; … ; 224.7007948253631 224.7007858316187 … 224.70077304449623 224.70077747636677; 224.70077991916642 224.70077991916642 … 224.70078876795066 224.70079300411328]\n",
       "\n",
       "[2.433503768755709e6 2.4335037687580893e6 … 2.43350376867727e6 2.43350376867727e6; 2.4335037687639194e6 2.433503768763301e6 … 2.4335037687888737e6 2.4335037687888737e6; … ; 2.433503768746745e6 2.433503768749028e6 … 2.433503768737991e6 2.433503768687294e6; 2.4335037687559933e6 2.4335037687559933e6 … 2.4335037685591113e6 2.433503768462229e6]\n",
       "\n",
       "...\n",
       "\n",
       "[0.011870366157737327 0.012620709018171423 … -0.026185310235215385 -0.026185310235215385; 0.009073542877753868 0.006885445841241723 … 0.010618876638824248 0.010618876638824248; … ; -0.00220154624697662 -0.006458734848579563 … 0.011393548351758138 0.00843983014319419; 0.011853451005731638 0.011853451005731638 … 0.014053244683682232 0.016557457974399906]\n",
       "\n",
       "[-0.023376295383234328 -0.024546421123991934 … -0.06055942915477165 -0.06055942915477165; -0.011568359413443766 -0.01353608943839794 … -0.023842134613043416 -0.023842134613043416; … ; -0.023029871601485216 -0.024391714886429397 … -0.011716984281562573 -0.01245768529505982; -0.035549707765854296 -0.035549707765854296 … -0.03147878285543124 -0.032179995545169496]\n",
       "\n",
       "[7.044219944005645e-9 6.4404360926808885e-9 … 9.944120742263985e-7 9.944120742263985e-7; 2.454472385867768e-8 2.2448841778042716e-8 … 8.583863827491164e-7 8.583863827491164e-7; … ; 4.242739387689333e-9 4.186902894788932e-9 … 1.0465827445584263e-6 1.0299882634349052e-6; 1.014326897584734e-8 1.014326897584734e-8 … 1.0814679859398059e-6 1.1371759912519696e-6])"
      ]
     },
     "execution_count": 23,
     "metadata": {},
     "output_type": "execute_result"
    }
   ],
   "source": [
    "MCMC(\"MCMC/p2_mcmc30.0s30.0yrs.jld2\",[4.513519229108455e-6, 224.70077801541302, 2.4335037687537777e6, -0.0175050266179791, -0.025801638584714393, 2.964754129377914e-6, 365.25643897142635, 2.4336244077652446e6, 0.003030566580559538, -0.01953468392084722],\n",
    "    -259.1624205684809,10000,50,2,m_33[\"ntrans\"][1:2],m_33[\"tt0\"],m_33[\"tt\"],m_33[\"sigtt\"],true,true)"
   ]
  },
  {
   "cell_type": "raw",
   "metadata": {},
   "source": [
    "grid = zeros(1)\n",
    "prob = zeros(1)\n",
    "for val=1:length(con)\n",
    "    if con[val] > maximum(xgrid)\n",
    "#         println(grid_wide[val])\n",
    "        append!(grid,grid_wide[val])\n",
    "        append!(prob,lprob_wide[val])\n",
    "    end\n",
    "    if con[val] < minimum(xgrid)\n",
    "        #println(grid_wide[val])\n",
    "        append!(grid,grid_wide[val])\n",
    "        append!(prob,lprob_wide[val])\n",
    "    end\n",
    "#     if grid_wide[val] > minimum(xgrid) && grid_wide[val]< maximum(xgrid)\n",
    "#         append!(grid,xgrid[val])\n",
    "#     end\n",
    "end"
   ]
  },
  {
   "cell_type": "raw",
   "metadata": {
    "collapsed": true
   },
   "source": [
    "con = [grid_wide;xgrid]\n",
    "cat = [lprob_wide;xprob]\n",
    "v = sortperm(con)\n",
    "con_perm = con[v]\n",
    "cat_perm = cat[v]"
   ]
  },
  {
   "cell_type": "raw",
   "metadata": {
    "collapsed": true
   },
   "source": [
    "mask = p_mc315[\"lprob_mcmc\"][:,iburn:nsteps] .> 275\n",
    "newp3 = p_mc315[\"par_mcmc\"][:,iburn:nsteps,12][mask]\n",
    "\n",
    "for i=1:nwalkers \n",
    "    for j=iburn:nsteps\n",
    "        if p_mc315[\"lprob_mcmc\"][i,j]<275 \n",
    "            println(p_mc315[\"par_mcmc\"][i,j,12])\n",
    "        end \n",
    "    end\n",
    "end\n"
   ]
  }
 ],
 "metadata": {
  "anaconda-cloud": {},
  "kernelspec": {
   "display_name": "Julia 1.3.0",
   "language": "julia",
   "name": "julia-1.3"
  },
  "language_info": {
   "file_extension": ".jl",
   "mimetype": "application/julia",
   "name": "julia",
   "version": "1.3.0"
  }
 },
 "nbformat": 4,
 "nbformat_minor": 2
}
