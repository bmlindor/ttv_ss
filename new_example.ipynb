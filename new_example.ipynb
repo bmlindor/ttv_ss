{
 "cells": [
  {
   "cell_type": "markdown",
   "metadata": {},
   "source": [
    "# Transit Timing Example"
   ]
  },
  {
   "cell_type": "code",
   "execution_count": 5,
   "metadata": {
    "collapsed": false,
    "jupyter": {
     "outputs_hidden": false
    }
   },
   "outputs": [
    {
     "name": "stderr",
     "output_type": "stream",
     "text": [
      "WARNING: replacing module NbodyGradient.\n"
     ]
    },
    {
     "data": {
      "text/plain": [
       "Main.NbodyGradient"
      ]
     },
     "execution_count": 5,
     "metadata": {},
     "output_type": "execute_result"
    }
   ],
   "source": [
    "include(\"NbodyGradient/src/NbodyGradient.jl\")"
   ]
  },
  {
   "cell_type": "code",
   "execution_count": 8,
   "metadata": {
    "collapsed": false,
    "jupyter": {
     "outputs_hidden": false
    }
   },
   "outputs": [
    {
     "ename": "UndefVarError",
     "evalue": "UndefVarError: Elements not defined",
     "output_type": "error",
     "traceback": [
      "UndefVarError: Elements not defined",
      "",
      "Stacktrace:",
      " [1] getproperty(::Module, ::Symbol) at ./Base.jl:13",
      " [2] top-level scope at In[8]:1"
     ]
    }
   ],
   "source": [
    "# Specify the initial conditions:\n",
    "\n",
    "# Fill in system body parameters (m,P,t0,e,ϖ,i,Ω)\n",
    "# Default values are zeros\n",
    "# First, the star \n",
    "a = Elements(\n",
    "        m = 0.82\n",
    ")\n",
    "# Next, the planets\n",
    "b = Elements(\n",
    "        m = 3.18e-4,\n",
    "        P = 221.717,\n",
    "        ecosϖ = 0.0069,\n",
    "        I = pi/2,\n",
    ")\n",
    "c = Elements(\n",
    "        m = 3e-6,\n",
    "        P = 228.774,\n",
    "        t0 = -228.774/6, # < We want mean anomaly to be +60 deg, so its\n",
    "        ecosϖ  = 0.0054, #   transit should have about occurred 1/6 of an orbit \n",
    "        I = pi/2         #   prior to the initial time.\n",
    ")\n",
    "\n",
    "H = [3,1,1]\n",
    "# Generate the initial conditions\n",
    "ic = NbodyGradient.ElementsIC(0.0,H,a,b,c)"
   ]
  },
  {
   "cell_type": "code",
   "execution_count": 28,
   "metadata": {
    "collapsed": false,
    "jupyter": {
     "outputs_hidden": false
    }
   },
   "outputs": [
    {
     "data": {
      "text/plain": [
       "3×3 Array{Float64,2}:\n",
       " -2.16714e-6   -2.16714e-6   0.592581\n",
       "  1.60063e-20  -4.1079e-17  -2.06854e-17\n",
       "  0.000261403  -0.670871    -0.337818"
      ]
     },
     "execution_count": 28,
     "metadata": {},
     "output_type": "execute_result"
    }
   ],
   "source": [
    "# Now, pass the ICs to the State struct, which keeps track of the current state of the system\n",
    "state = State(ic)\n",
    "state.x # positions "
   ]
  },
  {
   "cell_type": "code",
   "execution_count": 29,
   "metadata": {
    "collapsed": false,
    "jupyter": {
     "outputs_hidden": false
    }
   },
   "outputs": [
    {
     "data": {
      "text/plain": [
       "Integrator{Float64}(NbodyGradient.ah18!, 1.0, 0.0, 9837.282)"
      ]
     },
     "execution_count": 29,
     "metadata": {},
     "output_type": "execute_result"
    }
   ],
   "source": [
    "# Set up the integrator.\n",
    "t0 = 0.0 # Initial time\n",
    "h = 1.0 # Time step\n",
    "tmax = 9837.282 # Time to integrate to.\n",
    "\n",
    "intr = Integrator(h, t0, tmax)"
   ]
  },
  {
   "cell_type": "code",
   "execution_count": 30,
   "metadata": {
    "collapsed": true,
    "jupyter": {
     "outputs_hidden": true
    }
   },
   "outputs": [],
   "source": [
    "# If we want to calculate transit times,\n",
    "# simply pass a TransitTiming structure to\n",
    "# the integrator.\n",
    "\n",
    "# Pass the initial conditions and tmax. \n",
    "# This allocates arrays to hold the transit times\n",
    "# and derivatives.\n",
    "tt = TransitTiming(tmax,ic);"
   ]
  },
  {
   "cell_type": "code",
   "execution_count": 31,
   "metadata": {
    "collapsed": true,
    "jupyter": {
     "outputs_hidden": true
    }
   },
   "outputs": [],
   "source": [
    "# Now, run the integrator!\n",
    "intr(state,tt)"
   ]
  },
  {
   "cell_type": "code",
   "execution_count": 22,
   "metadata": {
    "collapsed": false,
    "jupyter": {
     "outputs_hidden": false
    }
   },
   "outputs": [
    {
     "data": {
      "image/png": "[encoded data removed]",
      "text/plain": [
       "Figure(PyObject <Figure size 640x480 with 1 Axes>)"
      ]
     },
     "metadata": {},
     "output_type": "display_data"
    },
    {
     "name": "stdout",
     "output_type": "stream",
     "text": [
      "221.80266718923252\n",
      "221.78389784838888\n",
      "221.78392439692527\n"
     ]
    }
   ],
   "source": [
    "using PyPlot, Statistics\n",
    "#pyplot()\n",
    "\n",
    "# plot the transit timing variations\n",
    "t1 = tt.tt[2,1:tt.count[2]]\n",
    "nplot = [8,22,43]\n",
    "for iplot=1:3\n",
    "  pavg = mean(t1[2:nplot[iplot]] - t1[1:nplot[iplot]-1])\n",
    "  it = collect(0:1:nplot[iplot]-1)\n",
    "  ttv1 = t1[1:nplot[iplot]] .- it .* pavg .- t1[1]\n",
    "  if iplot == 2\n",
    "    scatter(it,ttv1)\n",
    "  else\n",
    "    plot(it,ttv1)\n",
    "  end\n",
    "  println(pavg)\n",
    "end"
   ]
  },
  {
   "cell_type": "code",
   "execution_count": null,
   "metadata": {
    "collapsed": true,
    "jupyter": {
     "outputs_hidden": true
    }
   },
   "outputs": [],
   "source": []
  },
  {
   "cell_type": "code",
   "execution_count": null,
   "metadata": {
    "collapsed": true,
    "jupyter": {
     "outputs_hidden": true
    }
   },
   "outputs": [],
   "source": []
  },
  {
   "cell_type": "code",
   "execution_count": null,
   "metadata": {
    "collapsed": true,
    "jupyter": {
     "outputs_hidden": true
    }
   },
   "outputs": [],
   "source": []
  },
  {
   "cell_type": "code",
   "execution_count": 6,
   "metadata": {
    "collapsed": false,
    "jupyter": {
     "outputs_hidden": false
    }
   },
   "outputs": [
    {
     "data": {
      "text/plain": [
       "3.581765952745082e-6"
      ]
     },
     "execution_count": 6,
     "metadata": {},
     "output_type": "execute_result"
    }
   ],
   "source": [
    "mu_2 = 3.4272862326902173e-6\n",
    "mu_3 = 3.581765952745082e-6"
   ]
  },
  {
   "cell_type": "code",
   "execution_count": 12,
   "metadata": {
    "collapsed": false,
    "jupyter": {
     "outputs_hidden": false
    }
   },
   "outputs": [
    {
     "data": {
      "text/plain": [
       "0.04507348075611621"
      ]
     },
     "execution_count": 12,
     "metadata": {},
     "output_type": "execute_result"
    }
   ],
   "source": [
    "(mu_3 - mu_2)/mu_2"
   ]
  },
  {
   "cell_type": "code",
   "execution_count": null,
   "metadata": {
    "collapsed": true,
    "jupyter": {
     "outputs_hidden": true
    }
   },
   "outputs": [],
   "source": []
  },
  {
   "cell_type": "code",
   "execution_count": null,
   "metadata": {
    "collapsed": true,
    "jupyter": {
     "outputs_hidden": true
    }
   },
   "outputs": [],
   "source": []
  }
 ],
 "metadata": {
  "@webio": {
   "lastCommId": null,
   "lastKernelId": null
  },
  "anaconda-cloud": {},
  "kernelspec": {
   "display_name": "Julia 1.3.0",
   "language": "julia",
   "name": "julia-1.3"
  },
  "language_info": {
   "file_extension": ".jl",
   "mimetype": "application/julia",
   "name": "julia",
   "version": "1.3.0"
  }
 },
 "nbformat": 4,
 "nbformat_minor": 4
}
